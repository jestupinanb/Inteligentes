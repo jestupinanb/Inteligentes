{
 "cells": [
  {
   "cell_type": "markdown",
   "metadata": {
    "id": "cJBvbQRXhQjT"
   },
   "source": [
    "# Importar librerias y el dataset\n",
    "\n"
   ]
  },
  {
   "cell_type": "code",
   "execution_count": 2,
   "metadata": {
    "scrolled": true
   },
   "outputs": [
    {
     "name": "stdout",
     "output_type": "stream",
     "text": [
      "Requirement already satisfied: tensorflow in d:\\sdk\\python\\lib\\site-packages (from -r req.txt (line 1)) (2.3.1)\n",
      "Requirement already satisfied: pandas in d:\\sdk\\python\\lib\\site-packages (from -r req.txt (line 2)) (1.1.4)\n",
      "Requirement already satisfied: sklearn in d:\\sdk\\python\\lib\\site-packages (from -r req.txt (line 3)) (0.0)\n",
      "Requirement already satisfied: matplotlib in d:\\sdk\\python\\lib\\site-packages (from -r req.txt (line 4)) (3.3.3)\n",
      "Requirement already satisfied: keras in d:\\sdk\\python\\lib\\site-packages (from -r req.txt (line 5)) (2.4.3)\n",
      "Requirement already satisfied: seaborn in d:\\sdk\\python\\lib\\site-packages (from -r req.txt (line 7)) (0.11.0)\n",
      "Requirement already satisfied: pyyaml in d:\\sdk\\python\\lib\\site-packages (from keras->-r req.txt (line 5)) (5.3.1)\n",
      "Requirement already satisfied: h5py in d:\\sdk\\python\\lib\\site-packages (from keras->-r req.txt (line 5)) (2.10.0)\n",
      "Requirement already satisfied: numpy>=1.9.1 in d:\\sdk\\python\\lib\\site-packages (from keras->-r req.txt (line 5)) (1.18.5)\n",
      "Requirement already satisfied: scipy>=0.14 in d:\\sdk\\python\\lib\\site-packages (from keras->-r req.txt (line 5)) (1.5.4)\n",
      "Requirement already satisfied: python-dateutil>=2.1 in d:\\sdk\\python\\lib\\site-packages (from matplotlib->-r req.txt (line 4)) (2.8.1)\n",
      "Requirement already satisfied: kiwisolver>=1.0.1 in d:\\sdk\\python\\lib\\site-packages (from matplotlib->-r req.txt (line 4)) (1.3.1)\n",
      "Requirement already satisfied: cycler>=0.10 in d:\\sdk\\python\\lib\\site-packages (from matplotlib->-r req.txt (line 4)) (0.10.0)\n",
      "Requirement already satisfied: pyparsing!=2.0.4,!=2.1.2,!=2.1.6,>=2.0.3 in d:\\sdk\\python\\lib\\site-packages (from matplotlib->-r req.txt (line 4)) (2.4.7)\n",
      "Requirement already satisfied: pillow>=6.2.0 in d:\\sdk\\python\\lib\\site-packages (from matplotlib->-r req.txt (line 4)) (8.0.1)\n",
      "Requirement already satisfied: numpy>=1.9.1 in d:\\sdk\\python\\lib\\site-packages (from keras->-r req.txt (line 5)) (1.18.5)\n",
      "Requirement already satisfied: numpy>=1.9.1 in d:\\sdk\\python\\lib\\site-packages (from keras->-r req.txt (line 5)) (1.18.5)\n",
      "Requirement already satisfied: python-dateutil>=2.1 in d:\\sdk\\python\\lib\\site-packages (from matplotlib->-r req.txt (line 4)) (2.8.1)\n",
      "Requirement already satisfied: pytz>=2017.2 in d:\\sdk\\python\\lib\\site-packages (from pandas->-r req.txt (line 2)) (2020.4)\n",
      "Requirement already satisfied: scipy>=0.14 in d:\\sdk\\python\\lib\\site-packages (from keras->-r req.txt (line 5)) (1.5.4)\n",
      "Requirement already satisfied: numpy>=1.9.1 in d:\\sdk\\python\\lib\\site-packages (from keras->-r req.txt (line 5)) (1.18.5)\n",
      "Requirement already satisfied: matplotlib in d:\\sdk\\python\\lib\\site-packages (from -r req.txt (line 4)) (3.3.3)\n",
      "Requirement already satisfied: pandas in d:\\sdk\\python\\lib\\site-packages (from -r req.txt (line 2)) (1.1.4)\n",
      "Requirement already satisfied: scikit-learn in d:\\sdk\\python\\lib\\site-packages (from sklearn->-r req.txt (line 3)) (0.23.2)\n",
      "Requirement already satisfied: wrapt>=1.11.1 in d:\\sdk\\python\\lib\\site-packages (from tensorflow->-r req.txt (line 1)) (1.12.1)\n",
      "Requirement already satisfied: astunparse==1.6.3 in d:\\sdk\\python\\lib\\site-packages (from tensorflow->-r req.txt (line 1)) (1.6.3)\n",
      "Requirement already satisfied: grpcio>=1.8.6 in d:\\sdk\\python\\lib\\site-packages (from tensorflow->-r req.txt (line 1)) (1.34.0)\n",
      "Requirement already satisfied: google-pasta>=0.1.8 in d:\\sdk\\python\\lib\\site-packages (from tensorflow->-r req.txt (line 1)) (0.2.0)\n",
      "Requirement already satisfied: opt-einsum>=2.3.2 in d:\\sdk\\python\\lib\\site-packages (from tensorflow->-r req.txt (line 1)) (3.3.0)\n",
      "Requirement already satisfied: six>=1.12.0 in d:\\sdk\\python\\lib\\site-packages (from tensorflow->-r req.txt (line 1)) (1.15.0)\n",
      "Requirement already satisfied: h5py in d:\\sdk\\python\\lib\\site-packages (from keras->-r req.txt (line 5)) (2.10.0)\n",
      "Requirement already satisfied: termcolor>=1.1.0 in d:\\sdk\\python\\lib\\site-packages (from tensorflow->-r req.txt (line 1)) (1.1.0)\n",
      "Requirement already satisfied: gast==0.3.3 in d:\\sdk\\python\\lib\\site-packages (from tensorflow->-r req.txt (line 1)) (0.3.3)\n",
      "Requirement already satisfied: wheel>=0.26 in d:\\sdk\\python\\lib\\site-packages (from tensorflow->-r req.txt (line 1)) (0.36.1)\n",
      "Requirement already satisfied: tensorflow-estimator<2.4.0,>=2.3.0 in d:\\sdk\\python\\lib\\site-packages (from tensorflow->-r req.txt (line 1)) (2.3.0)\n",
      "Requirement already satisfied: absl-py>=0.7.0 in d:\\sdk\\python\\lib\\site-packages (from tensorflow->-r req.txt (line 1)) (0.11.0)\n",
      "Requirement already satisfied: protobuf>=3.9.2 in d:\\sdk\\python\\lib\\site-packages (from tensorflow->-r req.txt (line 1)) (3.14.0)\n",
      "Requirement already satisfied: numpy>=1.9.1 in d:\\sdk\\python\\lib\\site-packages (from keras->-r req.txt (line 5)) (1.18.5)\n",
      "Requirement already satisfied: keras-preprocessing<1.2,>=1.1.1 in d:\\sdk\\python\\lib\\site-packages (from tensorflow->-r req.txt (line 1)) (1.1.2)\n",
      "Requirement already satisfied: tensorboard<3,>=2.3.0 in d:\\sdk\\python\\lib\\site-packages (from tensorflow->-r req.txt (line 1)) (2.4.0)\n",
      "Requirement already satisfied: six>=1.12.0 in d:\\sdk\\python\\lib\\site-packages (from tensorflow->-r req.txt (line 1)) (1.15.0)\n",
      "Requirement already satisfied: six>=1.12.0 in d:\\sdk\\python\\lib\\site-packages (from tensorflow->-r req.txt (line 1)) (1.15.0)\n",
      "Requirement already satisfied: wheel>=0.26 in d:\\sdk\\python\\lib\\site-packages (from tensorflow->-r req.txt (line 1)) (0.36.1)\n",
      "Requirement already satisfied: six>=1.12.0 in d:\\sdk\\python\\lib\\site-packages (from tensorflow->-r req.txt (line 1)) (1.15.0)\n",
      "Requirement already satisfied: six>=1.12.0 in d:\\sdk\\python\\lib\\site-packages (from tensorflow->-r req.txt (line 1)) (1.15.0)\n",
      "Requirement already satisfied: six>=1.12.0 in d:\\sdk\\python\\lib\\site-packages (from tensorflow->-r req.txt (line 1)) (1.15.0)\n",
      "Requirement already satisfied: numpy>=1.9.1 in d:\\sdk\\python\\lib\\site-packages (from keras->-r req.txt (line 5)) (1.18.5)\n",
      "Requirement already satisfied: six>=1.12.0 in d:\\sdk\\python\\lib\\site-packages (from tensorflow->-r req.txt (line 1)) (1.15.0)\n",
      "Requirement already satisfied: six>=1.12.0 in d:\\sdk\\python\\lib\\site-packages (from tensorflow->-r req.txt (line 1)) (1.15.0)\n",
      "Requirement already satisfied: numpy>=1.9.1 in d:\\sdk\\python\\lib\\site-packages (from keras->-r req.txt (line 5)) (1.18.5)\n",
      "Requirement already satisfied: numpy>=1.9.1 in d:\\sdk\\python\\lib\\site-packages (from keras->-r req.txt (line 5)) (1.18.5)\n",
      "Requirement already satisfied: six>=1.12.0 in d:\\sdk\\python\\lib\\site-packages (from tensorflow->-r req.txt (line 1)) (1.15.0)\n",
      "Requirement already satisfied: six>=1.12.0 in d:\\sdk\\python\\lib\\site-packages (from tensorflow->-r req.txt (line 1)) (1.15.0)\n",
      "Requirement already satisfied: joblib>=0.11 in d:\\sdk\\python\\lib\\site-packages (from scikit-learn->sklearn->-r req.txt (line 3)) (0.17.0)\n",
      "Requirement already satisfied: threadpoolctl>=2.0.0 in d:\\sdk\\python\\lib\\site-packages (from scikit-learn->sklearn->-r req.txt (line 3)) (2.1.0)\n",
      "Requirement already satisfied: scipy>=0.14 in d:\\sdk\\python\\lib\\site-packages (from keras->-r req.txt (line 5)) (1.5.4)\n",
      "Requirement already satisfied: numpy>=1.9.1 in d:\\sdk\\python\\lib\\site-packages (from keras->-r req.txt (line 5)) (1.18.5)\n",
      "Requirement already satisfied: numpy>=1.9.1 in d:\\sdk\\python\\lib\\site-packages (from keras->-r req.txt (line 5)) (1.18.5)\n",
      "Requirement already satisfied: absl-py>=0.7.0 in d:\\sdk\\python\\lib\\site-packages (from tensorflow->-r req.txt (line 1)) (0.11.0)\n",
      "Requirement already satisfied: grpcio>=1.8.6 in d:\\sdk\\python\\lib\\site-packages (from tensorflow->-r req.txt (line 1)) (1.34.0)\n",
      "Requirement already satisfied: protobuf>=3.9.2 in d:\\sdk\\python\\lib\\site-packages (from tensorflow->-r req.txt (line 1)) (3.14.0)\n",
      "Requirement already satisfied: setuptools>=41.0.0 in d:\\sdk\\python\\lib\\site-packages (from tensorboard<3,>=2.3.0->tensorflow->-r req.txt (line 1)) (49.2.1)\n",
      "Requirement already satisfied: tensorboard-plugin-wit>=1.6.0 in d:\\sdk\\python\\lib\\site-packages (from tensorboard<3,>=2.3.0->tensorflow->-r req.txt (line 1)) (1.7.0)\n",
      "Requirement already satisfied: werkzeug>=0.11.15 in d:\\sdk\\python\\lib\\site-packages (from tensorboard<3,>=2.3.0->tensorflow->-r req.txt (line 1)) (1.0.1)\n",
      "Requirement already satisfied: wheel>=0.26 in d:\\sdk\\python\\lib\\site-packages (from tensorflow->-r req.txt (line 1)) (0.36.1)\n",
      "Requirement already satisfied: google-auth<2,>=1.6.3 in d:\\sdk\\python\\lib\\site-packages (from tensorboard<3,>=2.3.0->tensorflow->-r req.txt (line 1)) (1.23.0)\n",
      "Requirement already satisfied: markdown>=2.6.8 in d:\\sdk\\python\\lib\\site-packages (from tensorboard<3,>=2.3.0->tensorflow->-r req.txt (line 1)) (3.3.3)\n",
      "Requirement already satisfied: google-auth-oauthlib<0.5,>=0.4.1 in d:\\sdk\\python\\lib\\site-packages (from tensorboard<3,>=2.3.0->tensorflow->-r req.txt (line 1)) (0.4.2)\n",
      "Requirement already satisfied: numpy>=1.9.1 in d:\\sdk\\python\\lib\\site-packages (from keras->-r req.txt (line 5)) (1.18.5)\n",
      "Requirement already satisfied: six>=1.12.0 in d:\\sdk\\python\\lib\\site-packages (from tensorflow->-r req.txt (line 1)) (1.15.0)\n",
      "Requirement already satisfied: requests<3,>=2.21.0 in d:\\sdk\\python\\lib\\site-packages (from tensorboard<3,>=2.3.0->tensorflow->-r req.txt (line 1)) (2.25.0)\n",
      "Requirement already satisfied: cachetools<5.0,>=2.0.0 in d:\\sdk\\python\\lib\\site-packages (from google-auth<2,>=1.6.3->tensorboard<3,>=2.3.0->tensorflow->-r req.txt (line 1)) (4.1.1)\n",
      "Requirement already satisfied: pyasn1-modules>=0.2.1 in d:\\sdk\\python\\lib\\site-packages (from google-auth<2,>=1.6.3->tensorboard<3,>=2.3.0->tensorflow->-r req.txt (line 1)) (0.2.8)\n",
      "Requirement already satisfied: rsa<5,>=3.1.4 in d:\\sdk\\python\\lib\\site-packages (from google-auth<2,>=1.6.3->tensorboard<3,>=2.3.0->tensorflow->-r req.txt (line 1)) (4.6)\n",
      "Requirement already satisfied: six>=1.12.0 in d:\\sdk\\python\\lib\\site-packages (from tensorflow->-r req.txt (line 1)) (1.15.0)\n",
      "Requirement already satisfied: setuptools>=41.0.0 in d:\\sdk\\python\\lib\\site-packages (from tensorboard<3,>=2.3.0->tensorflow->-r req.txt (line 1)) (49.2.1)\n",
      "Requirement already satisfied: requests-oauthlib>=0.7.0 in d:\\sdk\\python\\lib\\site-packages (from google-auth-oauthlib<0.5,>=0.4.1->tensorboard<3,>=2.3.0->tensorflow->-r req.txt (line 1)) (1.3.0)\n",
      "Requirement already satisfied: google-auth<2,>=1.6.3 in d:\\sdk\\python\\lib\\site-packages (from tensorboard<3,>=2.3.0->tensorflow->-r req.txt (line 1)) (1.23.0)\n",
      "Requirement already satisfied: pyasn1<0.5.0,>=0.4.6 in d:\\sdk\\python\\lib\\site-packages (from pyasn1-modules>=0.2.1->google-auth<2,>=1.6.3->tensorboard<3,>=2.3.0->tensorflow->-r req.txt (line 1)) (0.4.8)\n",
      "Requirement already satisfied: chardet<4,>=3.0.2 in d:\\sdk\\python\\lib\\site-packages (from requests<3,>=2.21.0->tensorboard<3,>=2.3.0->tensorflow->-r req.txt (line 1)) (3.0.4)\n",
      "Requirement already satisfied: idna<3,>=2.5 in d:\\sdk\\python\\lib\\site-packages (from requests<3,>=2.21.0->tensorboard<3,>=2.3.0->tensorflow->-r req.txt (line 1)) (2.10)\n",
      "Requirement already satisfied: urllib3<1.27,>=1.21.1 in d:\\sdk\\python\\lib\\site-packages (from requests<3,>=2.21.0->tensorboard<3,>=2.3.0->tensorflow->-r req.txt (line 1)) (1.26.2)\n",
      "Requirement already satisfied: certifi>=2017.4.17 in d:\\sdk\\python\\lib\\site-packages (from requests<3,>=2.21.0->tensorboard<3,>=2.3.0->tensorflow->-r req.txt (line 1)) (2020.12.5)\n",
      "Requirement already satisfied: oauthlib>=3.0.0 in d:\\sdk\\python\\lib\\site-packages (from requests-oauthlib>=0.7.0->google-auth-oauthlib<0.5,>=0.4.1->tensorboard<3,>=2.3.0->tensorflow->-r req.txt (line 1)) (3.1.0)\n",
      "Requirement already satisfied: requests<3,>=2.21.0 in d:\\sdk\\python\\lib\\site-packages (from tensorboard<3,>=2.3.0->tensorflow->-r req.txt (line 1)) (2.25.0)\n",
      "Requirement already satisfied: pyasn1<0.5.0,>=0.4.6 in d:\\sdk\\python\\lib\\site-packages (from pyasn1-modules>=0.2.1->google-auth<2,>=1.6.3->tensorboard<3,>=2.3.0->tensorflow->-r req.txt (line 1)) (0.4.8)\n",
      "Note: you may need to restart the kernel to use updated packages.\n"
     ]
    }
   ],
   "source": [
    "pip install -r req.txt"
   ]
  },
  {
   "cell_type": "code",
   "execution_count": 99,
   "metadata": {
    "id": "gPfU3aCwx53L"
   },
   "outputs": [],
   "source": [
    "import numpy as np # linear algebra\n",
    "import pandas as pd # data processing, CSV file I/O (e.g. pd.read_csv)\n",
    "from numpy import genfromtxt\n",
    "import sklearn\n",
    "from sklearn.neural_network import MLPClassifier\n",
    "from sklearn.metrics import accuracy_score\n",
    "from sklearn.naive_bayes import MultinomialNB\n",
    "#from google.colab import files\n",
    "import io\n",
    "from sklearn.tree import DecisionTreeClassifier\n",
    "import matplotlib.pyplot as plt\n",
    "import keras\n",
    "from keras.models import Sequential\n",
    "from keras.layers import Dense, Dropout, Activation,Conv2D\n",
    "from keras.optimizers import SGD\n",
    "from keras import backend as K\n",
    "import tensorflow as tf\n",
    "from tensorflow.keras import optimizers\n",
    "from sklearn.preprocessing import  MinMaxScaler\n",
    "from sklearn.preprocessing import StandardScaler\n",
    "\n",
    "from sklearn.metrics import precision_score\n",
    "from sklearn.metrics import classification_report"
   ]
  },
  {
   "cell_type": "markdown",
   "metadata": {
    "id": "wvZlwujoPbC_"
   },
   "source": [
    "# Funciones adicionales"
   ]
  },
  {
   "cell_type": "markdown",
   "metadata": {
    "id": "Q29yy2Y1NwWt"
   },
   "source": [
    "## Plot confusion matrix multi label"
   ]
  },
  {
   "cell_type": "code",
   "execution_count": 4,
   "metadata": {
    "id": "6N5YFnZ7NTb2"
   },
   "outputs": [],
   "source": [
    "import pandas as pd\n",
    "import matplotlib.pyplot as plt\n",
    "import seaborn as sns\n",
    "\n",
    "\n",
    "def print_confusion_matrix(confusion_matrix, axes, class_label, class_names, fontsize=14):\n",
    "\n",
    "    df_cm = pd.DataFrame(\n",
    "        confusion_matrix, index=class_names, columns=class_names,\n",
    "    )\n",
    "\n",
    "    try:\n",
    "        heatmap = sns.heatmap(df_cm, annot=True, fmt=\"d\", cbar=False, ax=axes)\n",
    "    except ValueError:\n",
    "        raise ValueError(\"Confusion matrix values must be integers.\")\n",
    "    heatmap.yaxis.set_ticklabels(heatmap.yaxis.get_ticklabels(), rotation=0, ha='right', fontsize=fontsize)\n",
    "    heatmap.xaxis.set_ticklabels(heatmap.xaxis.get_ticklabels(), rotation=45, ha='right', fontsize=fontsize)\n",
    "    axes.set_xlabel('Predicted label')\n",
    "    axes.set_ylabel('True label')\n",
    "    axes.set_title(\"CM for the class - \" + class_label)"
   ]
  },
  {
   "cell_type": "code",
   "execution_count": 5,
   "metadata": {
    "id": "kuSVZkgtP8eo"
   },
   "outputs": [],
   "source": [
    "#Test\n",
    "y_b =  [1,1,4,1,1,1]\n",
    "y_b2 = [1,1,3,5,5,5]"
   ]
  },
  {
   "cell_type": "code",
   "execution_count": 6,
   "metadata": {
    "id": "-EoR9Y70N8GN"
   },
   "outputs": [],
   "source": [
    "def graficar_multi(cm,class_names):\n",
    "    fig, ax = plt.subplots(4, 3, figsize=(12, 7))\n",
    "\n",
    "    for axes, cfs_matrix, label in zip(ax.flatten(), cm, class_names):\n",
    "      print_confusion_matrix(cfs_matrix, axes, label, [\"N\", \"Y\"])\n",
    "        \n",
    "    fig.tight_layout()\n",
    "    plt.show()"
   ]
  },
  {
   "cell_type": "markdown",
   "metadata": {
    "id": "6nhHOsPVhZhj"
   },
   "source": [
    "# Importacion de los dataset y muestra de los datos"
   ]
  },
  {
   "cell_type": "markdown",
   "metadata": {
    "id": "s679voQCe0Qm"
   },
   "source": [
    "## Importamos el dataset de la libreria de keras para poder realizar su visualizacion "
   ]
  },
  {
   "cell_type": "code",
   "execution_count": 7,
   "metadata": {
    "id": "DXHH7QD4gU3Y"
   },
   "outputs": [],
   "source": [
    "fashion_mnist = keras.datasets.fashion_mnist\n",
    "(train_images, train_labels), (test_images, test_labels) = fashion_mnist.load_data()"
   ]
  },
  {
   "cell_type": "code",
   "execution_count": 8,
   "metadata": {
    "colab": {
     "base_uri": "https://localhost:8080/",
     "height": 0
    },
    "id": "pHmDZJdje94y",
    "outputId": "e9202c7c-9487-4e80-f4b4-9f6700e752b3"
   },
   "outputs": [
    {
     "data": {
      "image/png": "[encoded data removed]",
      "text/plain": [
       "<Figure size 432x288 with 2 Axes>"
      ]
     },
     "metadata": {
      "needs_background": "light"
     },
     "output_type": "display_data"
    }
   ],
   "source": [
    "plt.figure()\n",
    "plt.imshow(train_images[3], cmap=plt.cm.binary)\n",
    "plt.colorbar()\n",
    "plt.grid(False)\n",
    "plt.show()"
   ]
  },
  {
   "cell_type": "code",
   "execution_count": 9,
   "metadata": {
    "id": "4HWYSuF8h-mA"
   },
   "outputs": [],
   "source": [
    "class_names = ['Camiseta', 'Pantalón', 'Suéter', 'Vestido', 'Abrigo',\n",
    "'Sandalia', 'Camisa', 'Zapatilla deportiva', 'Bolso', 'Botines']"
   ]
  },
  {
   "cell_type": "code",
   "execution_count": 13,
   "metadata": {
    "colab": {
     "base_uri": "https://localhost:8080/",
     "height": 0
    },
    "id": "Upm45Kt0iL36",
    "outputId": "6e746a15-5367-429a-f687-1da15696ccf9"
   },
   "outputs": [
    {
     "data": {
      "image/png": "[encoded data removed]",
      "text/plain": [
       "<Figure size 720x720 with 50 Axes>"
      ]
     },
     "metadata": {},
     "output_type": "display_data"
    }
   ],
   "source": [
    "plt.figure(figsize=(10,10))\n",
    "for i in range(50):\n",
    "  plt.subplot(5,10,i+1)\n",
    "  plt.xticks([])\n",
    "  plt.yticks([])\n",
    "  plt.grid(False)\n",
    "  plt.imshow(train_images[i], cmap=plt.cm.binary)\n",
    "  plt.xlabel(class_names[train_labels[i]])\n",
    "plt.show()"
   ]
  },
  {
   "cell_type": "code",
   "execution_count": 14,
   "metadata": {
    "id": "90q_GTZNmfaA"
   },
   "outputs": [],
   "source": [
    "train_images = train_images / 255"
   ]
  },
  {
   "cell_type": "code",
   "execution_count": 15,
   "metadata": {
    "id": "79sxEh-emiG9"
   },
   "outputs": [],
   "source": [
    "test_images = test_images / 255"
   ]
  },
  {
   "cell_type": "code",
   "execution_count": 16,
   "metadata": {
    "colab": {
     "base_uri": "https://localhost:8080/",
     "height": 0
    },
    "id": "e6547eicmjER",
    "outputId": "ffb49963-cc08-44bc-9a1d-18a2bc89c840"
   },
   "outputs": [
    {
     "data": {
      "image/png": "[encoded data removed]",
      "text/plain": [
       "<Figure size 432x288 with 2 Axes>"
      ]
     },
     "metadata": {
      "needs_background": "light"
     },
     "output_type": "display_data"
    }
   ],
   "source": [
    "plt.figure()\n",
    "plt.imshow(train_images[3], cmap=plt.cm.binary)\n",
    "plt.colorbar()\n",
    "plt.grid(False)\n",
    "plt.show()"
   ]
  },
  {
   "cell_type": "markdown",
   "metadata": {
    "id": "x8SIrW1UhsbM"
   },
   "source": [
    "## Importamos el data set desde los archivos .csv para el entrenamiento del modelo"
   ]
  },
  {
   "cell_type": "markdown",
   "metadata": {
    "id": "y9VeLFKDimF5"
   },
   "source": [
    "### Importamos el conjunto de datos de entrenamieto"
   ]
  },
  {
   "cell_type": "code",
   "execution_count": 17,
   "metadata": {
    "id": "ntJAQ9Nux_2E"
   },
   "outputs": [],
   "source": [
    "my_data_1 = genfromtxt('fashion-mnist_train.csv', delimiter=',')"
   ]
  },
  {
   "cell_type": "code",
   "execution_count": 18,
   "metadata": {
    "id": "msJzMoJIyhX7"
   },
   "outputs": [],
   "source": [
    "my_data_1 = np.delete(my_data_1, 0, 0)"
   ]
  },
  {
   "cell_type": "code",
   "execution_count": 19,
   "metadata": {
    "colab": {
     "base_uri": "https://localhost:8080/"
    },
    "id": "QIU4TJf8yiCh",
    "outputId": "de3bd247-7405-4f69-8030-224758cbb116"
   },
   "outputs": [
    {
     "data": {
      "text/plain": [
       "array([[2., 0., 0., ..., 0., 0., 0.],\n",
       "       [9., 0., 0., ..., 0., 0., 0.],\n",
       "       [6., 0., 0., ..., 0., 0., 0.],\n",
       "       ...,\n",
       "       [8., 0., 0., ..., 0., 0., 0.],\n",
       "       [8., 0., 0., ..., 0., 0., 0.],\n",
       "       [7., 0., 0., ..., 0., 0., 0.]])"
      ]
     },
     "execution_count": 19,
     "metadata": {},
     "output_type": "execute_result"
    }
   ],
   "source": [
    "my_data_1"
   ]
  },
  {
   "cell_type": "code",
   "execution_count": 20,
   "metadata": {
    "colab": {
     "base_uri": "https://localhost:8080/"
    },
    "id": "K1jImFkBynGJ",
    "outputId": "7dd5a520-800d-4027-b733-edc8f621fa24"
   },
   "outputs": [
    {
     "data": {
      "text/plain": [
       "array([[0., 0., 0., ..., 0., 0., 0.],\n",
       "       [0., 0., 0., ..., 0., 0., 0.],\n",
       "       [0., 0., 0., ..., 0., 0., 0.],\n",
       "       ...,\n",
       "       [0., 0., 0., ..., 0., 0., 0.],\n",
       "       [0., 0., 0., ..., 0., 0., 0.],\n",
       "       [0., 0., 0., ..., 0., 0., 0.]])"
      ]
     },
     "execution_count": 20,
     "metadata": {},
     "output_type": "execute_result"
    }
   ],
   "source": [
    "X_train = np.delete(my_data_1, 0, 1)\n",
    "X_train"
   ]
  },
  {
   "cell_type": "code",
   "execution_count": 21,
   "metadata": {
    "colab": {
     "base_uri": "https://localhost:8080/"
    },
    "id": "y24Wqnf6ylqQ",
    "outputId": "f0da5e99-54be-4db8-f9a2-409698d490b3"
   },
   "outputs": [
    {
     "data": {
      "text/plain": [
       "array([2., 9., 6., ..., 8., 8., 7.])"
      ]
     },
     "execution_count": 21,
     "metadata": {},
     "output_type": "execute_result"
    }
   ],
   "source": [
    "y = my_data_1[:,0]\n",
    "y"
   ]
  },
  {
   "cell_type": "code",
   "execution_count": 22,
   "metadata": {
    "colab": {
     "base_uri": "https://localhost:8080/"
    },
    "id": "5KngeaeU71vB",
    "outputId": "5a26de24-0b51-40ca-aa3b-d1034810c6aa"
   },
   "outputs": [
    {
     "data": {
      "text/plain": [
       "array([[0., 0., 1., ..., 0., 0., 0.],\n",
       "       [0., 0., 0., ..., 0., 0., 1.],\n",
       "       [0., 0., 0., ..., 0., 0., 0.],\n",
       "       ...,\n",
       "       [0., 0., 0., ..., 0., 1., 0.],\n",
       "       [0., 0., 0., ..., 0., 1., 0.],\n",
       "       [0., 0., 0., ..., 1., 0., 0.]], dtype=float32)"
      ]
     },
     "execution_count": 22,
     "metadata": {},
     "output_type": "execute_result"
    }
   ],
   "source": [
    "y_train = keras.utils.to_categorical(y,num_classes=10)\n",
    "y_train"
   ]
  },
  {
   "cell_type": "code",
   "execution_count": 23,
   "metadata": {
    "colab": {
     "base_uri": "https://localhost:8080/"
    },
    "id": "cuLgR8BhlZyu",
    "outputId": "b0843094-c1c5-43e4-c463-8e7412238528"
   },
   "outputs": [
    {
     "data": {
      "text/plain": [
       "(60000, 784)"
      ]
     },
     "execution_count": 23,
     "metadata": {},
     "output_type": "execute_result"
    }
   ],
   "source": [
    "X_train.shape"
   ]
  },
  {
   "cell_type": "code",
   "execution_count": 24,
   "metadata": {
    "colab": {
     "base_uri": "https://localhost:8080/"
    },
    "id": "8A7BnuVRmXU2",
    "outputId": "063b0135-73e7-4b0a-e592-dba7afe0a833"
   },
   "outputs": [
    {
     "data": {
      "text/plain": [
       "(60000, 10)"
      ]
     },
     "execution_count": 24,
     "metadata": {},
     "output_type": "execute_result"
    }
   ],
   "source": [
    "y_train.shape"
   ]
  },
  {
   "cell_type": "markdown",
   "metadata": {
    "id": "9R0ueHS3is-R"
   },
   "source": [
    "### Importamos el conjunto de datos de prueba"
   ]
  },
  {
   "cell_type": "code",
   "execution_count": 25,
   "metadata": {
    "id": "Wr8PDFA2EruS"
   },
   "outputs": [],
   "source": [
    "my_data_2 = genfromtxt('fashion-mnist_test.csv', delimiter=',')"
   ]
  },
  {
   "cell_type": "code",
   "execution_count": 26,
   "metadata": {
    "id": "ZDZj7ib-E42w"
   },
   "outputs": [],
   "source": [
    "my_data_2 = np.delete(my_data_2, 0, 0)"
   ]
  },
  {
   "cell_type": "code",
   "execution_count": 27,
   "metadata": {
    "colab": {
     "base_uri": "https://localhost:8080/"
    },
    "id": "SlQ12aPnE1pM",
    "outputId": "870ceb43-e55a-4f49-b520-920d536b74f2"
   },
   "outputs": [
    {
     "data": {
      "text/plain": [
       "array([[0., 0., 0., ..., 0., 0., 0.],\n",
       "       [1., 0., 0., ..., 0., 0., 0.],\n",
       "       [2., 0., 0., ..., 0., 0., 0.],\n",
       "       ...,\n",
       "       [8., 0., 0., ..., 0., 1., 0.],\n",
       "       [8., 0., 1., ..., 0., 0., 0.],\n",
       "       [1., 0., 0., ..., 0., 0., 0.]])"
      ]
     },
     "execution_count": 27,
     "metadata": {},
     "output_type": "execute_result"
    }
   ],
   "source": [
    "my_data_2"
   ]
  },
  {
   "cell_type": "code",
   "execution_count": 28,
   "metadata": {
    "colab": {
     "base_uri": "https://localhost:8080/"
    },
    "id": "87t26L3Mn0Co",
    "outputId": "4539e405-b919-441c-b0a1-faf61c14eb22"
   },
   "outputs": [
    {
     "data": {
      "text/plain": [
       "array([[0., 0., 0., ..., 0., 0., 0.],\n",
       "       [0., 0., 0., ..., 0., 0., 0.],\n",
       "       [0., 0., 0., ..., 0., 0., 0.],\n",
       "       ...,\n",
       "       [0., 0., 0., ..., 0., 1., 0.],\n",
       "       [0., 1., 3., ..., 0., 0., 0.],\n",
       "       [0., 0., 0., ..., 0., 0., 0.]])"
      ]
     },
     "execution_count": 28,
     "metadata": {},
     "output_type": "execute_result"
    }
   ],
   "source": [
    "X_test = np.delete(my_data_2, 0, 1)\n",
    "X_test"
   ]
  },
  {
   "cell_type": "code",
   "execution_count": 29,
   "metadata": {
    "colab": {
     "base_uri": "https://localhost:8080/"
    },
    "id": "GjltP2TWn4tq",
    "outputId": "f0cc4857-bad5-4582-d45a-9153d46cdbc7"
   },
   "outputs": [
    {
     "data": {
      "text/plain": [
       "array([0., 1., 2., ..., 8., 8., 1.])"
      ]
     },
     "execution_count": 29,
     "metadata": {},
     "output_type": "execute_result"
    }
   ],
   "source": [
    "y_2 = my_data_2[:,0]\n",
    "y_2"
   ]
  },
  {
   "cell_type": "code",
   "execution_count": 30,
   "metadata": {
    "colab": {
     "base_uri": "https://localhost:8080/"
    },
    "id": "6G3EAFYPn7jN",
    "outputId": "3e0e6fcb-62bf-4227-8521-cd4c8417e4d6"
   },
   "outputs": [
    {
     "data": {
      "text/plain": [
       "array([[1., 0., 0., ..., 0., 0., 0.],\n",
       "       [0., 1., 0., ..., 0., 0., 0.],\n",
       "       [0., 0., 1., ..., 0., 0., 0.],\n",
       "       ...,\n",
       "       [0., 0., 0., ..., 0., 1., 0.],\n",
       "       [0., 0., 0., ..., 0., 1., 0.],\n",
       "       [0., 1., 0., ..., 0., 0., 0.]], dtype=float32)"
      ]
     },
     "execution_count": 30,
     "metadata": {},
     "output_type": "execute_result"
    }
   ],
   "source": [
    "y_test = keras.utils.to_categorical(y_2,num_classes=10)\n",
    "y_test"
   ]
  },
  {
   "cell_type": "code",
   "execution_count": 31,
   "metadata": {
    "colab": {
     "base_uri": "https://localhost:8080/"
    },
    "id": "42VGD8yupE0B",
    "outputId": "3fdf25a6-8f77-4ef7-9f22-71d767ba5a47"
   },
   "outputs": [
    {
     "data": {
      "text/plain": [
       "(10000, 784)"
      ]
     },
     "execution_count": 31,
     "metadata": {},
     "output_type": "execute_result"
    }
   ],
   "source": [
    "X_test.shape"
   ]
  },
  {
   "cell_type": "code",
   "execution_count": 32,
   "metadata": {
    "colab": {
     "base_uri": "https://localhost:8080/"
    },
    "id": "CdRw7JBapHCt",
    "outputId": "a6b9915d-a3c6-41f5-90b5-56c345bf8c7f"
   },
   "outputs": [
    {
     "data": {
      "text/plain": [
       "(10000, 10)"
      ]
     },
     "execution_count": 32,
     "metadata": {},
     "output_type": "execute_result"
    }
   ],
   "source": [
    "y_test.shape"
   ]
  },
  {
   "cell_type": "code",
   "execution_count": 33,
   "metadata": {},
   "outputs": [],
   "source": [
    "y_train_ori_int = y.astype(int)\n",
    "\n",
    "= y_2.astype(int)"
   ]
  },
  {
   "cell_type": "markdown",
   "metadata": {
    "id": "R3-DyW9Jh1U0"
   },
   "source": [
    "# Modelo inicial"
   ]
  },
  {
   "cell_type": "markdown",
   "metadata": {
    "id": "eIYBDmS5qjwB"
   },
   "source": [
    "## 1. Probando una clasificador con Navie bayes MultinomialNB"
   ]
  },
  {
   "cell_type": "markdown",
   "metadata": {
    "id": "h1shEqJuYfdI"
   },
   "source": [
    "#### Entrenamiento"
   ]
  },
  {
   "cell_type": "code",
   "execution_count": 39,
   "metadata": {
    "id": "c4RbhioVy8yO"
   },
   "outputs": [],
   "source": [
    "clf = MultinomialNB()"
   ]
  },
  {
   "cell_type": "code",
   "execution_count": 40,
   "metadata": {
    "colab": {
     "base_uri": "https://localhost:8080/"
    },
    "id": "bv9pJ9J4ytAq",
    "outputId": "348c29b5-7672-4c81-9251-9c48d727573e"
   },
   "outputs": [
    {
     "data": {
      "text/plain": [
       "MultinomialNB()"
      ]
     },
     "execution_count": 40,
     "metadata": {},
     "output_type": "execute_result"
    }
   ],
   "source": [
    "clf.fit(X_train, y)"
   ]
  },
  {
   "cell_type": "markdown",
   "metadata": {
    "id": "dihYGtnHYdTh"
   },
   "source": [
    "#### Resultados"
   ]
  },
  {
   "cell_type": "code",
   "execution_count": 41,
   "metadata": {
    "id": "8iiMzGyIVltW"
   },
   "outputs": [],
   "source": [
    "y_naive_bayes = clf.predict(X_train)\n",
    "y_naive_bayes_test = clf.predict(X_test)"
   ]
  },
  {
   "cell_type": "code",
   "execution_count": 42,
   "metadata": {
    "colab": {
     "base_uri": "https://localhost:8080/"
    },
    "id": "TihzolqEy-Ca",
    "outputId": "ca37e620-666b-4c7f-9236-83c351ccdecd"
   },
   "outputs": [
    {
     "data": {
      "text/plain": [
       "0.6653333333333333"
      ]
     },
     "execution_count": 42,
     "metadata": {},
     "output_type": "execute_result"
    }
   ],
   "source": [
    "clf.score(X_train, y)"
   ]
  },
  {
   "cell_type": "code",
   "execution_count": 43,
   "metadata": {
    "colab": {
     "base_uri": "https://localhost:8080/"
    },
    "id": "ZhV-ldx9XfD1",
    "outputId": "556321a4-dee8-4397-d5fa-07acb2f22476"
   },
   "outputs": [
    {
     "data": {
      "text/plain": [
       "0.6674"
      ]
     },
     "execution_count": 43,
     "metadata": {},
     "output_type": "execute_result"
    }
   ],
   "source": [
    "clf.score(X_test, y_2)"
   ]
  },
  {
   "cell_type": "code",
   "execution_count": 44,
   "metadata": {
    "colab": {
     "base_uri": "https://localhost:8080/"
    },
    "id": "FH23j96-UrBz",
    "outputId": "95927fa2-085d-4450-ca21-0e85d8d911b1"
   },
   "outputs": [
    {
     "name": "stdout",
     "output_type": "stream",
     "text": [
      "Naive Bayes\n",
      "\n",
      "Train:\n",
      "\n",
      "Orden de las etiquetas: \n",
      "['Camiseta', 'Pantalón', 'Suéter', 'Vestido', 'Abrigo', 'Sandalia', 'Camisa', 'Zapatilla deportiva', 'Bolso', 'Botines']\n",
      "Precision por clase: \n",
      "[0.73621252 0.98050037 0.6224794  0.65457921 0.46304935 0.66151582\n",
      " 0.33917309 0.59234162 0.88755459 0.69354839]\n",
      "Precisión micro: \n",
      "0.6653333333333333\n",
      "Precisión macro: \n",
      "0.663095434206207\n",
      "Precisión pesada: \n",
      "0.663095434206207\n",
      "\n",
      "\n",
      "Test:\n",
      "\n",
      "Orden de las etiquetas: \n",
      "['Camiseta', 'Pantalón', 'Suéter', 'Vestido', 'Abrigo', 'Sandalia', 'Camisa', 'Zapatilla deportiva', 'Bolso', 'Botines']\n",
      "Precision por clase: \n",
      "[0.73759542 0.97408207 0.62603306 0.65860806 0.46656649 0.70562771\n",
      " 0.32599119 0.58712614 0.88677249 0.68760469]\n",
      "Precisión micro: \n",
      "0.6674\n",
      "Precisión macro: \n",
      "0.6656007310886742\n",
      "Precisión pesada: \n",
      "0.6656007310886742\n"
     ]
    }
   ],
   "source": [
    "print('Naive Bayes\\n\\nTrain:\\n')\n",
    "print('Orden de las etiquetas: \\n{}'.format(class_names))\n",
    "print('Precision por clase: \\n{}'.format(precision_score(y, y_naive_bayes, average=None)))\n",
    "print('Precisión micro: \\n{}'.format(precision_score(y, y_naive_bayes, average='micro')))\n",
    "print('Precisión macro: \\n{}'.format(precision_score(y, y_naive_bayes, average='macro')))\n",
    "print('Precisión pesada: \\n{}'.format(precision_score(y, y_naive_bayes, average='weighted')))\n",
    "print('\\n\\nTest:\\n')\n",
    "print('Orden de las etiquetas: \\n{}'.format(class_names))\n",
    "print('Precision por clase: \\n{}'.format(precision_score(y_2, y_naive_bayes_test, average=None)))\n",
    "print('Precisión micro: \\n{}'.format(precision_score(y_2, y_naive_bayes_test, average='micro')))\n",
    "print('Precisión macro: \\n{}'.format(precision_score(y_2, y_naive_bayes_test, average='macro')))\n",
    "print('Precisión pesada: \\n{}'.format(precision_score(y_2, y_naive_bayes_test, average='weighted')))"
   ]
  },
  {
   "cell_type": "code",
   "execution_count": 45,
   "metadata": {
    "colab": {
     "base_uri": "https://localhost:8080/"
    },
    "id": "528K54vPZaKJ",
    "outputId": "f2b272a5-5bb4-4d00-bd2b-c9c53743b11c"
   },
   "outputs": [
    {
     "name": "stdout",
     "output_type": "stream",
     "text": [
      "Naive Bayes\n",
      "\n",
      "Train:\n",
      "\n",
      "                     precision    recall  f1-score   support\n",
      "\n",
      "           Camiseta       0.74      0.79      0.76      6000\n",
      "           Pantalón       0.98      0.89      0.93      6000\n",
      "             Suéter       0.62      0.59      0.61      6000\n",
      "            Vestido       0.65      0.88      0.75      6000\n",
      "             Abrigo       0.46      0.63      0.53      6000\n",
      "           Sandalia       0.66      0.15      0.24      6000\n",
      "             Camisa       0.34      0.16      0.22      6000\n",
      "Zapatilla deportiva       0.59      0.92      0.72      6000\n",
      "              Bolso       0.89      0.81      0.85      6000\n",
      "            Botines       0.69      0.83      0.76      6000\n",
      "\n",
      "           accuracy                           0.67     60000\n",
      "          macro avg       0.66      0.67      0.64     60000\n",
      "       weighted avg       0.66      0.67      0.64     60000\n",
      "\n",
      "\n",
      "\n",
      "Test:\n",
      "\n",
      "                     precision    recall  f1-score   support\n",
      "\n",
      "           Camiseta       0.74      0.77      0.75      1000\n",
      "           Pantalón       0.97      0.90      0.94      1000\n",
      "             Suéter       0.63      0.61      0.62      1000\n",
      "            Vestido       0.66      0.90      0.76      1000\n",
      "             Abrigo       0.47      0.62      0.53      1000\n",
      "           Sandalia       0.71      0.16      0.26      1000\n",
      "             Camisa       0.33      0.15      0.20      1000\n",
      "Zapatilla deportiva       0.59      0.90      0.71      1000\n",
      "              Bolso       0.89      0.84      0.86      1000\n",
      "            Botines       0.69      0.82      0.75      1000\n",
      "\n",
      "           accuracy                           0.67     10000\n",
      "          macro avg       0.67      0.67      0.64     10000\n",
      "       weighted avg       0.67      0.67      0.64     10000\n",
      "\n"
     ]
    }
   ],
   "source": [
    "print('Naive Bayes\\n\\nTrain:\\n')\n",
    "print(classification_report(y_true=y_train_ori_int,y_pred=y_naive_bayes,target_names=class_names))\n",
    "print('\\n\\nTest:\\n')\n",
    "print(classification_report(y_true=y_test_ori_int, y_pred=y_naive_bayes_test,target_names=class_names))"
   ]
  },
  {
   "cell_type": "code",
   "execution_count": 47,
   "metadata": {},
   "outputs": [
    {
     "data": {
      "image/png": "[encoded data removed]",
      "text/plain": [
       "<Figure size 864x504 with 12 Axes>"
      ]
     },
     "metadata": {
      "needs_background": "light"
     },
     "output_type": "display_data"
    }
   ],
   "source": [
    "cm = sklearn.metrics.multilabel_confusion_matrix(y_true=y_test_ori_int,y_pred=y_naive_bayes_test,labels=[0,1,2,3,4,5,6,7,8,9])\n",
    "graficar_multi(cm,class_names)"
   ]
  },
  {
   "cell_type": "markdown",
   "metadata": {
    "id": "ViZ9Vs6Pq1Bn"
   },
   "source": [
    "## 2. Probando utilizando un arbol de desicion"
   ]
  },
  {
   "cell_type": "markdown",
   "metadata": {
    "id": "wgaAKvK4bi0q"
   },
   "source": [
    "#### Entrenando"
   ]
  },
  {
   "cell_type": "code",
   "execution_count": null,
   "metadata": {
    "id": "p2KzXzid2CKH"
   },
   "outputs": [],
   "source": [
    "dtree_model = DecisionTreeClassifier(max_depth = 10).fit(X_train, y)"
   ]
  },
  {
   "cell_type": "code",
   "execution_count": null,
   "metadata": {
    "colab": {
     "base_uri": "https://localhost:8080/"
    },
    "id": "gh2YUxOF2U40",
    "outputId": "e14603a6-000d-477f-f6b3-d814148921a6"
   },
   "outputs": [],
   "source": [
    "dtree_model.score(X_train, y)"
   ]
  },
  {
   "cell_type": "markdown",
   "metadata": {
    "id": "tx2xtLnjbuEC"
   },
   "source": [
    "#### Resultados"
   ]
  },
  {
   "cell_type": "code",
   "execution_count": null,
   "metadata": {
    "id": "tx3rCo95cVui"
   },
   "outputs": [],
   "source": [
    "y_dtree_train = dtree_model.predict(X_train)\n",
    "y_dtree_test = dtree_model.predict(X_test)"
   ]
  },
  {
   "cell_type": "code",
   "execution_count": null,
   "metadata": {
    "colab": {
     "base_uri": "https://localhost:8080/"
    },
    "id": "TvGd0hFjZL3t",
    "outputId": "848b1598-e69f-4104-b7aa-5cf754739ec2"
   },
   "outputs": [],
   "source": [
    "print('Arbol de decision\\n\\nTrain:\\n')\n",
    "print(classification_report(y_pred=y_dtree_train,y_true=y_train_ori_int,target_names=class_names))\n",
    "print('\\n\\nTest:\\n')\n",
    "print(classification_report(y_pred=y_dtree_test,y_true=y_test_ori_int,target_names=class_names))"
   ]
  },
  {
   "cell_type": "code",
   "execution_count": null,
   "metadata": {
    "colab": {
     "base_uri": "https://localhost:8080/",
     "height": 513
    },
    "id": "IK0AXUgL5D8C",
    "outputId": "6e6d37cb-4daf-4025-93fa-827a9c772538"
   },
   "outputs": [],
   "source": [
    "cm = sklearn.metrics.multilabel_confusion_matrix(y_true=y_2.astype(int),y_pred=y_dtree_test,labels=[0,1,2,3,4,5,6,7,8,9])\n",
    "graficar_multi(cm,class_names)"
   ]
  },
  {
   "cell_type": "markdown",
   "metadata": {
    "id": "NC43G4_Fz_Zi"
   },
   "source": [
    "## 3. Red neuronal"
   ]
  },
  {
   "cell_type": "markdown",
   "metadata": {
    "id": "n-SUTwMmduGO"
   },
   "source": [
    "### Entrenamineto"
   ]
  },
  {
   "cell_type": "code",
   "execution_count": 34,
   "metadata": {
    "id": "gNv2ANZo7qQh"
   },
   "outputs": [],
   "source": [
    "keras.backend.clear_session()\n",
    "model_keras = Sequential()"
   ]
  },
  {
   "cell_type": "code",
   "execution_count": 35,
   "metadata": {
    "id": "KPPaJyBS8hwt"
   },
   "outputs": [],
   "source": [
    "model_keras.add(Dense(units=100,activation='relu',input_dim=784))\n",
    "model_keras.add(Dense(units=10,activation='softmax'))"
   ]
  },
  {
   "cell_type": "code",
   "execution_count": 36,
   "metadata": {
    "id": "3zeq2rmv9Pnj"
   },
   "outputs": [],
   "source": [
    "model_keras.compile(optimizer=keras.optimizers.SGD(learning_rate=0.001),loss='categorical_crossentropy',metrics=['accuracy'])"
   ]
  },
  {
   "cell_type": "code",
   "execution_count": 37,
   "metadata": {
    "id": "HLcLeUbOzBfj"
   },
   "outputs": [],
   "source": [
    "scaler = MinMaxScaler()\n",
    "X_train_norm = X_train/255"
   ]
  },
  {
   "cell_type": "code",
   "execution_count": 38,
   "metadata": {
    "colab": {
     "base_uri": "https://localhost:8080/"
    },
    "id": "knq-Yjm49jgo",
    "outputId": "1403f2c5-c7d3-4989-b42f-91420f69cd88"
   },
   "outputs": [
    {
     "name": "stdout",
     "output_type": "stream",
     "text": [
      "Epoch 1/100\n",
      "59/59 [==============================] - 0s 7ms/step - loss: 2.2936 - accuracy: 0.1227\n",
      "Epoch 2/100\n",
      "59/59 [==============================] - 0s 5ms/step - loss: 2.1426 - accuracy: 0.2547\n",
      "Epoch 3/100\n",
      "59/59 [==============================] - 0s 5ms/step - loss: 2.0295 - accuracy: 0.3589\n",
      "Epoch 4/100\n",
      "59/59 [==============================] - 0s 5ms/step - loss: 1.9374 - accuracy: 0.4166\n",
      "Epoch 5/100\n",
      "59/59 [==============================] - 0s 5ms/step - loss: 1.8573 - accuracy: 0.4574\n",
      "Epoch 6/100\n",
      "59/59 [==============================] - 0s 5ms/step - loss: 1.7853 - accuracy: 0.4931\n",
      "Epoch 7/100\n",
      "59/59 [==============================] - 0s 5ms/step - loss: 1.7196 - accuracy: 0.5245\n",
      "Epoch 8/100\n",
      "59/59 [==============================] - 0s 5ms/step - loss: 1.6596 - accuracy: 0.5517\n",
      "Epoch 9/100\n",
      "59/59 [==============================] - 0s 5ms/step - loss: 1.6050 - accuracy: 0.5746\n",
      "Epoch 10/100\n",
      "59/59 [==============================] - 0s 5ms/step - loss: 1.5551 - accuracy: 0.5928\n",
      "Epoch 11/100\n",
      "59/59 [==============================] - 0s 5ms/step - loss: 1.5093 - accuracy: 0.6073\n",
      "Epoch 12/100\n",
      "59/59 [==============================] - 0s 5ms/step - loss: 1.4672 - accuracy: 0.6186\n",
      "Epoch 13/100\n",
      "59/59 [==============================] - 0s 5ms/step - loss: 1.4284 - accuracy: 0.6275\n",
      "Epoch 14/100\n",
      "59/59 [==============================] - 0s 5ms/step - loss: 1.3924 - accuracy: 0.6348\n",
      "Epoch 15/100\n",
      "59/59 [==============================] - 0s 5ms/step - loss: 1.3590 - accuracy: 0.6410\n",
      "Epoch 16/100\n",
      "59/59 [==============================] - 0s 6ms/step - loss: 1.3280 - accuracy: 0.6453\n",
      "Epoch 17/100\n",
      "59/59 [==============================] - 0s 6ms/step - loss: 1.2991 - accuracy: 0.6503\n",
      "Epoch 18/100\n",
      "59/59 [==============================] - 0s 6ms/step - loss: 1.2722 - accuracy: 0.6540\n",
      "Epoch 19/100\n",
      "59/59 [==============================] - 0s 6ms/step - loss: 1.2471 - accuracy: 0.6574\n",
      "Epoch 20/100\n",
      "59/59 [==============================] - 0s 6ms/step - loss: 1.2236 - accuracy: 0.6604\n",
      "Epoch 21/100\n",
      "59/59 [==============================] - 0s 6ms/step - loss: 1.2015 - accuracy: 0.6639\n",
      "Epoch 22/100\n",
      "59/59 [==============================] - 0s 6ms/step - loss: 1.1808 - accuracy: 0.6659\n",
      "Epoch 23/100\n",
      "59/59 [==============================] - 0s 6ms/step - loss: 1.1614 - accuracy: 0.6688\n",
      "Epoch 24/100\n",
      "59/59 [==============================] - 0s 6ms/step - loss: 1.1431 - accuracy: 0.6712\n",
      "Epoch 25/100\n",
      "59/59 [==============================] - 0s 6ms/step - loss: 1.1259 - accuracy: 0.6735\n",
      "Epoch 26/100\n",
      "59/59 [==============================] - 0s 6ms/step - loss: 1.1096 - accuracy: 0.6760\n",
      "Epoch 27/100\n",
      "59/59 [==============================] - 0s 5ms/step - loss: 1.0942 - accuracy: 0.6787\n",
      "Epoch 28/100\n",
      "59/59 [==============================] - 0s 6ms/step - loss: 1.0796 - accuracy: 0.6809\n",
      "Epoch 29/100\n",
      "59/59 [==============================] - 0s 6ms/step - loss: 1.0658 - accuracy: 0.6830\n",
      "Epoch 30/100\n",
      "59/59 [==============================] - 0s 6ms/step - loss: 1.0527 - accuracy: 0.6850\n",
      "Epoch 31/100\n",
      "59/59 [==============================] - 0s 6ms/step - loss: 1.0402 - accuracy: 0.6870\n",
      "Epoch 32/100\n",
      "59/59 [==============================] - 0s 6ms/step - loss: 1.0283 - accuracy: 0.6889\n",
      "Epoch 33/100\n",
      "59/59 [==============================] - 0s 6ms/step - loss: 1.0170 - accuracy: 0.6905\n",
      "Epoch 34/100\n",
      "59/59 [==============================] - 0s 5ms/step - loss: 1.0062 - accuracy: 0.6925\n",
      "Epoch 35/100\n",
      "59/59 [==============================] - 0s 5ms/step - loss: 0.9959 - accuracy: 0.6946\n",
      "Epoch 36/100\n",
      "59/59 [==============================] - 0s 5ms/step - loss: 0.9861 - accuracy: 0.6962\n",
      "Epoch 37/100\n",
      "59/59 [==============================] - 0s 5ms/step - loss: 0.9767 - accuracy: 0.6981\n",
      "Epoch 38/100\n",
      "59/59 [==============================] - 0s 5ms/step - loss: 0.9677 - accuracy: 0.7002\n",
      "Epoch 39/100\n",
      "59/59 [==============================] - 0s 6ms/step - loss: 0.9590 - accuracy: 0.7023\n",
      "Epoch 40/100\n",
      "59/59 [==============================] - 0s 5ms/step - loss: 0.9507 - accuracy: 0.7041\n",
      "Epoch 41/100\n",
      "59/59 [==============================] - 0s 5ms/step - loss: 0.9428 - accuracy: 0.7063\n",
      "Epoch 42/100\n",
      "59/59 [==============================] - 0s 5ms/step - loss: 0.9351 - accuracy: 0.7083\n",
      "Epoch 43/100\n",
      "59/59 [==============================] - 0s 5ms/step - loss: 0.9278 - accuracy: 0.7093\n",
      "Epoch 44/100\n",
      "59/59 [==============================] - 0s 6ms/step - loss: 0.9207 - accuracy: 0.7113\n",
      "Epoch 45/100\n",
      "59/59 [==============================] - 0s 5ms/step - loss: 0.9139 - accuracy: 0.7126\n",
      "Epoch 46/100\n",
      "59/59 [==============================] - 0s 5ms/step - loss: 0.9073 - accuracy: 0.7145\n",
      "Epoch 47/100\n",
      "59/59 [==============================] - 0s 5ms/step - loss: 0.9010 - accuracy: 0.7159\n",
      "Epoch 48/100\n",
      "59/59 [==============================] - 0s 6ms/step - loss: 0.8948 - accuracy: 0.7175\n",
      "Epoch 49/100\n",
      "59/59 [==============================] - 0s 5ms/step - loss: 0.8889 - accuracy: 0.7190\n",
      "Epoch 50/100\n",
      "59/59 [==============================] - 0s 5ms/step - loss: 0.8832 - accuracy: 0.7202\n",
      "Epoch 51/100\n",
      "59/59 [==============================] - 0s 6ms/step - loss: 0.8777 - accuracy: 0.7216\n",
      "Epoch 52/100\n",
      "59/59 [==============================] - 0s 5ms/step - loss: 0.8723 - accuracy: 0.7229\n",
      "Epoch 53/100\n",
      "59/59 [==============================] - 0s 5ms/step - loss: 0.8671 - accuracy: 0.7244\n",
      "Epoch 54/100\n",
      "59/59 [==============================] - 0s 5ms/step - loss: 0.8621 - accuracy: 0.7255\n",
      "Epoch 55/100\n",
      "59/59 [==============================] - 0s 5ms/step - loss: 0.8572 - accuracy: 0.7271\n",
      "Epoch 56/100\n",
      "59/59 [==============================] - 0s 5ms/step - loss: 0.8524 - accuracy: 0.7283\n",
      "Epoch 57/100\n",
      "59/59 [==============================] - 0s 5ms/step - loss: 0.8478 - accuracy: 0.7295\n",
      "Epoch 58/100\n",
      "59/59 [==============================] - 0s 5ms/step - loss: 0.8433 - accuracy: 0.7305\n",
      "Epoch 59/100\n",
      "59/59 [==============================] - 0s 5ms/step - loss: 0.8390 - accuracy: 0.7319\n",
      "Epoch 60/100\n",
      "59/59 [==============================] - 0s 5ms/step - loss: 0.8347 - accuracy: 0.7328\n",
      "Epoch 61/100\n",
      "59/59 [==============================] - 0s 6ms/step - loss: 0.8306 - accuracy: 0.7340\n",
      "Epoch 62/100\n",
      "59/59 [==============================] - 0s 6ms/step - loss: 0.8266 - accuracy: 0.7349\n",
      "Epoch 63/100\n",
      "59/59 [==============================] - 0s 6ms/step - loss: 0.8227 - accuracy: 0.7365\n",
      "Epoch 64/100\n",
      "59/59 [==============================] - 0s 6ms/step - loss: 0.8188 - accuracy: 0.7375\n",
      "Epoch 65/100\n",
      "59/59 [==============================] - 0s 6ms/step - loss: 0.8151 - accuracy: 0.7385\n",
      "Epoch 66/100\n",
      "59/59 [==============================] - 0s 6ms/step - loss: 0.8115 - accuracy: 0.7395\n",
      "Epoch 67/100\n",
      "59/59 [==============================] - 0s 6ms/step - loss: 0.8079 - accuracy: 0.7407\n",
      "Epoch 68/100\n",
      "59/59 [==============================] - 0s 5ms/step - loss: 0.8044 - accuracy: 0.7419\n",
      "Epoch 69/100\n",
      "59/59 [==============================] - 0s 5ms/step - loss: 0.8010 - accuracy: 0.7429\n",
      "Epoch 70/100\n",
      "59/59 [==============================] - 0s 5ms/step - loss: 0.7977 - accuracy: 0.7436\n",
      "Epoch 71/100\n",
      "59/59 [==============================] - 0s 5ms/step - loss: 0.7945 - accuracy: 0.7445\n",
      "Epoch 72/100\n",
      "59/59 [==============================] - 0s 5ms/step - loss: 0.7913 - accuracy: 0.7453\n",
      "Epoch 73/100\n",
      "59/59 [==============================] - 0s 5ms/step - loss: 0.7882 - accuracy: 0.7462\n",
      "Epoch 74/100\n",
      "59/59 [==============================] - 0s 5ms/step - loss: 0.7851 - accuracy: 0.7467\n",
      "Epoch 75/100\n",
      "59/59 [==============================] - 0s 5ms/step - loss: 0.7822 - accuracy: 0.7478\n",
      "Epoch 76/100\n",
      "59/59 [==============================] - 0s 5ms/step - loss: 0.7792 - accuracy: 0.7487\n",
      "Epoch 77/100\n",
      "59/59 [==============================] - 0s 5ms/step - loss: 0.7764 - accuracy: 0.7495\n",
      "Epoch 78/100\n",
      "59/59 [==============================] - 0s 6ms/step - loss: 0.7736 - accuracy: 0.7504\n",
      "Epoch 79/100\n",
      "59/59 [==============================] - 0s 6ms/step - loss: 0.7708 - accuracy: 0.7513\n",
      "Epoch 80/100\n",
      "59/59 [==============================] - 0s 5ms/step - loss: 0.7681 - accuracy: 0.7522\n",
      "Epoch 81/100\n",
      "59/59 [==============================] - 0s 5ms/step - loss: 0.7655 - accuracy: 0.7530\n",
      "Epoch 82/100\n",
      "59/59 [==============================] - 0s 5ms/step - loss: 0.7628 - accuracy: 0.7535\n",
      "Epoch 83/100\n"
     ]
    },
    {
     "name": "stdout",
     "output_type": "stream",
     "text": [
      "59/59 [==============================] - 0s 5ms/step - loss: 0.7603 - accuracy: 0.7545\n",
      "Epoch 84/100\n",
      "59/59 [==============================] - 0s 5ms/step - loss: 0.7578 - accuracy: 0.7550\n",
      "Epoch 85/100\n",
      "59/59 [==============================] - 0s 5ms/step - loss: 0.7553 - accuracy: 0.7559\n",
      "Epoch 86/100\n",
      "59/59 [==============================] - 0s 5ms/step - loss: 0.7529 - accuracy: 0.7566\n",
      "Epoch 87/100\n",
      "59/59 [==============================] - 0s 5ms/step - loss: 0.7505 - accuracy: 0.7575\n",
      "Epoch 88/100\n",
      "59/59 [==============================] - 0s 5ms/step - loss: 0.7482 - accuracy: 0.7582\n",
      "Epoch 89/100\n",
      "59/59 [==============================] - 0s 5ms/step - loss: 0.7458 - accuracy: 0.7591\n",
      "Epoch 90/100\n",
      "59/59 [==============================] - 0s 6ms/step - loss: 0.7436 - accuracy: 0.7598\n",
      "Epoch 91/100\n",
      "59/59 [==============================] - 0s 5ms/step - loss: 0.7414 - accuracy: 0.7606\n",
      "Epoch 92/100\n",
      "59/59 [==============================] - 0s 5ms/step - loss: 0.7392 - accuracy: 0.7613\n",
      "Epoch 93/100\n",
      "59/59 [==============================] - 0s 5ms/step - loss: 0.7370 - accuracy: 0.7618\n",
      "Epoch 94/100\n",
      "59/59 [==============================] - 0s 5ms/step - loss: 0.7349 - accuracy: 0.7625\n",
      "Epoch 95/100\n",
      "59/59 [==============================] - 0s 5ms/step - loss: 0.7328 - accuracy: 0.7631\n",
      "Epoch 96/100\n",
      "59/59 [==============================] - 0s 6ms/step - loss: 0.7307 - accuracy: 0.7636\n",
      "Epoch 97/100\n",
      "59/59 [==============================] - 0s 5ms/step - loss: 0.7287 - accuracy: 0.7643\n",
      "Epoch 98/100\n",
      "59/59 [==============================] - 0s 5ms/step - loss: 0.7267 - accuracy: 0.7650\n",
      "Epoch 99/100\n",
      "59/59 [==============================] - 0s 6ms/step - loss: 0.7247 - accuracy: 0.7656\n",
      "Epoch 100/100\n",
      "59/59 [==============================] - 0s 5ms/step - loss: 0.7228 - accuracy: 0.7662\n"
     ]
    },
    {
     "data": {
      "text/plain": [
       "<tensorflow.python.keras.callbacks.History at 0x2b4fd0d2ca0>"
      ]
     },
     "execution_count": 38,
     "metadata": {},
     "output_type": "execute_result"
    }
   ],
   "source": [
    "model_keras.fit(X_train_norm, y_train, epochs=100, batch_size=1024)"
   ]
  },
  {
   "cell_type": "markdown",
   "metadata": {
    "id": "jtiY2UmIdw7a"
   },
   "source": [
    "### Resultados"
   ]
  },
  {
   "cell_type": "code",
   "execution_count": 39,
   "metadata": {
    "colab": {
     "base_uri": "https://localhost:8080/"
    },
    "id": "y5y9Ua7_yQy8",
    "outputId": "c9c9b328-5318-427d-ed3b-22477cc336ff"
   },
   "outputs": [],
   "source": [
    "model_keras.summary()"
   ]
  },
  {
   "cell_type": "code",
   "execution_count": 40,
   "metadata": {
    "id": "BBe-rI8ZdcF5"
   },
   "outputs": [],
   "source": [
    "y_keras_train_one_hot = model_keras.predict(X_train)\n",
    "y_keras_test_one_hot = model_keras.predict(X_test)"
   ]
  },
  {
   "cell_type": "code",
   "execution_count": 41,
   "metadata": {
    "colab": {
     "base_uri": "https://localhost:8080/"
    },
    "id": "qX6zqsN3iZDJ",
    "outputId": "13815c0e-6484-47a1-f034-05653c2bd9c9"
   },
   "outputs": [],
   "source": [
    "y_keras_train = np.argmax(y_keras_train_one_hot,axis=1)\n",
    "y_keras_test = np.argmax(y_keras_test_one_hot,axis=1)"
   ]
  },
  {
   "cell_type": "code",
   "execution_count": 42,
   "metadata": {
    "colab": {
     "base_uri": "https://localhost:8080/"
    },
    "id": "JwV8lKjniI2g",
    "outputId": "2664da5b-43e4-490a-dfa9-71933bf6bcdf"
   },
   "outputs": [
    {
     "name": "stdout",
     "output_type": "stream",
     "text": [
      "Red neuronal\n",
      "\n",
      "Train:\n",
      "\n",
      "                     precision    recall  f1-score   support\n",
      "\n",
      "           Camiseta       0.74      0.80      0.77      6000\n",
      "           Pantalón       0.96      0.92      0.94      6000\n",
      "             Suéter       0.68      0.63      0.66      6000\n",
      "            Vestido       0.75      0.86      0.80      6000\n",
      "             Abrigo       0.58      0.76      0.66      6000\n",
      "           Sandalia       0.97      0.44      0.61      6000\n",
      "             Camisa       0.55      0.31      0.40      6000\n",
      "Zapatilla deportiva       0.69      0.88      0.77      6000\n",
      "              Bolso       0.89      0.93      0.91      6000\n",
      "            Botines       0.74      0.94      0.83      6000\n",
      "\n",
      "           accuracy                           0.75     60000\n",
      "          macro avg       0.76      0.75      0.73     60000\n",
      "       weighted avg       0.76      0.75      0.73     60000\n",
      "\n",
      "\n",
      "\n",
      "Test:\n",
      "\n",
      "                     precision    recall  f1-score   support\n",
      "\n",
      "           Camiseta       0.73      0.78      0.75      1000\n",
      "           Pantalón       0.94      0.92      0.93      1000\n",
      "             Suéter       0.70      0.64      0.67      1000\n",
      "            Vestido       0.77      0.87      0.81      1000\n",
      "             Abrigo       0.59      0.80      0.68      1000\n",
      "           Sandalia       0.97      0.44      0.60      1000\n",
      "             Camisa       0.55      0.30      0.39      1000\n",
      "Zapatilla deportiva       0.68      0.86      0.76      1000\n",
      "              Bolso       0.89      0.92      0.91      1000\n",
      "            Botines       0.73      0.93      0.81      1000\n",
      "\n",
      "           accuracy                           0.74     10000\n",
      "          macro avg       0.75      0.74      0.73     10000\n",
      "       weighted avg       0.75      0.74      0.73     10000\n",
      "\n"
     ]
    }
   ],
   "source": [
    "print('Red neuronal\\n\\nTrain:\\n')\n",
    "print(classification_report(y_pred=y_keras_train,y_true=y_train_ori_int,target_names=class_names))\n",
    "print('\\n\\nTest:\\n')\n",
    "print(classification_report(y_pred=y_keras_test,y_true=y_test_ori_int,target_names=class_names))"
   ]
  },
  {
   "cell_type": "code",
   "execution_count": null,
   "metadata": {
    "colab": {
     "base_uri": "https://localhost:8080/",
     "height": 0
    },
    "id": "vgOqRu-DIDVi",
    "outputId": "05ecc9ce-8643-44d7-b057-a3bbd8cc7a96",
    "scrolled": false
   },
   "outputs": [],
   "source": [
    "cm = sklearn.metrics.multilabel_confusion_matrix(y_true=y_2.astype(int),y_pred=y_keras_test,labels=[0,1,2,3,4,5,6,7,8,9])\n",
    "graficar_multi(cm,class_names)"
   ]
  },
  {
   "cell_type": "markdown",
   "metadata": {
    "id": "6c3wZn7wiGFU"
   },
   "source": [
    "## Evaluacion del Desempeño"
   ]
  },
  {
   "cell_type": "markdown",
   "metadata": {
    "id": "E8qTpw2WiREB"
   },
   "source": [
    "### Resultados de los modelos"
   ]
  },
  {
   "cell_type": "markdown",
   "metadata": {
    "id": "gRqYCxgnkt7P"
   },
   "source": [
    "#### 1. Naive Bayes Multinomial"
   ]
  },
  {
   "cell_type": "code",
   "execution_count": null,
   "metadata": {
    "colab": {
     "base_uri": "https://localhost:8080/"
    },
    "id": "528K54vPZaKJ",
    "outputId": "f2b272a5-5bb4-4d00-bd2b-c9c53743b11c"
   },
   "outputs": [],
   "source": [
    "print('Naive Bayes\\n\\nTrain:\\n')\n",
    "print(classification_report(y_true=y_train_ori_int,y_pred=y_naive_bayes,target_names=class_names))\n",
    "print('\\n\\nTest:\\n')\n",
    "print(classification_report(y_true=y_test_ori_int, y_pred=y_naive_bayes_test,target_names=class_names))"
   ]
  },
  {
   "cell_type": "code",
   "execution_count": null,
   "metadata": {},
   "outputs": [],
   "source": [
    "cm = sklearn.metrics.multilabel_confusion_matrix(y_true=y_2.astype(int),y_pred=y_naive_bayes_test,labels=[0,1,2,3,4,5,6,7,8,9])\n",
    "graficar_multi(cm,class_names)"
   ]
  },
  {
   "cell_type": "markdown",
   "metadata": {
    "id": "gRqYCxgnkt7P"
   },
   "source": [
    "#### 2.  Arbol de decision"
   ]
  },
  {
   "cell_type": "code",
   "execution_count": null,
   "metadata": {
    "colab": {
     "base_uri": "https://localhost:8080/"
    },
    "id": "TvGd0hFjZL3t",
    "outputId": "848b1598-e69f-4104-b7aa-5cf754739ec2"
   },
   "outputs": [],
   "source": [
    "print('Arbol de decision\\n\\nTrain:\\n')\n",
    "print(classification_report(y_pred=y_dtree_train,y_true=y_train_ori_int,target_names=class_names))\n",
    "print('\\n\\nTest:\\n')\n",
    "print(classification_report(y_pred=y_dtree_test,y_true=y_test_ori_int,target_names=class_names))"
   ]
  },
  {
   "cell_type": "code",
   "execution_count": null,
   "metadata": {
    "colab": {
     "base_uri": "https://localhost:8080/",
     "height": 513
    },
    "id": "IK0AXUgL5D8C",
    "outputId": "6e6d37cb-4daf-4025-93fa-827a9c772538"
   },
   "outputs": [],
   "source": [
    "cm = sklearn.metrics.multilabel_confusion_matrix(y_true=y_2.astype(int),y_pred=y_dtree_test,labels=[0,1,2,3,4,5,6,7,8,9])\n",
    "graficar_multi(cm,class_names)"
   ]
  },
  {
   "cell_type": "markdown",
   "metadata": {
    "id": "gRqYCxgnkt7P"
   },
   "source": [
    "#### 3. Red neuronal"
   ]
  },
  {
   "cell_type": "code",
   "execution_count": null,
   "metadata": {
    "colab": {
     "base_uri": "https://localhost:8080/"
    },
    "id": "JwV8lKjniI2g",
    "outputId": "2664da5b-43e4-490a-dfa9-71933bf6bcdf"
   },
   "outputs": [],
   "source": [
    "print('Red neuronal\\n\\nTrain:\\n')\n",
    "print(classification_report(y_pred=y_keras_train,y_true=y_train_ori_int,target_names=class_names))\n",
    "print('\\n\\nTest:\\n')\n",
    "print(classification_report(y_pred=y_keras_test,y_true=y_test_ori_int,target_names=class_names))"
   ]
  },
  {
   "cell_type": "code",
   "execution_count": null,
   "metadata": {
    "colab": {
     "base_uri": "https://localhost:8080/",
     "height": 0
    },
    "id": "vgOqRu-DIDVi",
    "outputId": "05ecc9ce-8643-44d7-b057-a3bbd8cc7a96"
   },
   "outputs": [],
   "source": [
    "cm = sklearn.metrics.multilabel_confusion_matrix(y_true=y_2.astype(int),y_pred=y_keras_test,labels=[0,1,2,3,4,5,6,7,8,9])\n",
    "graficar_multi(cm,class_names)"
   ]
  },
  {
   "cell_type": "markdown",
   "metadata": {
    "id": "gRqYCxgnkt7P"
   },
   "source": [
    "#### graficar curva de error"
   ]
  },
  {
   "cell_type": "markdown",
   "metadata": {
    "id": "PPiH0_FwkxCj"
   },
   "source": [
    "## ver bias y varianza"
   ]
  },
  {
   "cell_type": "markdown",
   "metadata": {
    "id": "l8Vsk6bbpP0I"
   },
   "source": [
    "# Optimizacion"
   ]
  },
  {
   "cell_type": "markdown",
   "metadata": {
    "id": "iWOfg6WOsKUz"
   },
   "source": [
    "## 1. Normalizacion"
   ]
  },
  {
   "cell_type": "markdown",
   "metadata": {},
   "source": [
    "### 1.1 Creando el modelo inical pero con datos normalizados"
   ]
  },
  {
   "cell_type": "code",
   "execution_count": 88,
   "metadata": {
    "id": "HLcLeUbOzBfj"
   },
   "outputs": [],
   "source": [
    "scaler = MinMaxScaler()\n",
    "X_train_norm = scaler.fit_transform(X_train)\n",
    "X_test_norm = scaler.fit_transform(X_test)"
   ]
  },
  {
   "cell_type": "code",
   "execution_count": 100,
   "metadata": {
    "colab": {
     "base_uri": "https://localhost:8080/"
    },
    "id": "Y_nXBbZZsKCD",
    "outputId": "fdc71dfd-30ef-4bff-e6d3-499aaa662df3"
   },
   "outputs": [
    {
     "data": {
      "text/plain": [
       "<tensorflow.python.keras.callbacks.History at 0x2b4ac87d1f0>"
      ]
     },
     "execution_count": 100,
     "metadata": {},
     "output_type": "execute_result"
    }
   ],
   "source": [
    "keras.backend.clear_session()\n",
    "model_norm = Sequential()\n",
    "model_norm.add(Dense(10,activation='relu',input_dim=784))\n",
    "model_norm.add(Dense(10,activation='softmax'))\n",
    "model_norm.compile(loss='categorical_crossentropy',metrics=['accuracy'])\n",
    "model_norm.fit(X_train_norm, y_train, epochs=25, verbose=0)"
   ]
  },
  {
   "cell_type": "markdown",
   "metadata": {},
   "source": [
    "### 1.2 Evaluacion del modelo Normalizado"
   ]
  },
  {
   "cell_type": "code",
   "execution_count": 101,
   "metadata": {},
   "outputs": [
    {
     "name": "stdout",
     "output_type": "stream",
     "text": [
      "1875/1875 [==============================] - 1s 434us/step - loss: 0.3485 - accuracy: 0.8784\n"
     ]
    },
    {
     "data": {
      "text/plain": [
       "[0.3485167920589447, 0.878350019454956]"
      ]
     },
     "execution_count": 101,
     "metadata": {},
     "output_type": "execute_result"
    }
   ],
   "source": [
    "model_norm.evaluate(X_train_norm, y_train)"
   ]
  },
  {
   "cell_type": "code",
   "execution_count": 102,
   "metadata": {
    "scrolled": true
   },
   "outputs": [
    {
     "name": "stdout",
     "output_type": "stream",
     "text": [
      "313/313 [==============================] - 0s 665us/step - loss: 0.4205 - accuracy: 0.8604\n"
     ]
    },
    {
     "data": {
      "text/plain": [
       "[0.42047807574272156, 0.8604000210762024]"
      ]
     },
     "execution_count": 102,
     "metadata": {},
     "output_type": "execute_result"
    }
   ],
   "source": [
    "model_norm.evaluate(X_test_norm, y_test)"
   ]
  },
  {
   "cell_type": "code",
   "execution_count": 103,
   "metadata": {},
   "outputs": [],
   "source": [
    "y_keras_train_one_hot = model_norm.predict(X_train_norm)\n",
    "y_keras_test_one_hot = model_norm.predict(X_test_norm)"
   ]
  },
  {
   "cell_type": "code",
   "execution_count": 104,
   "metadata": {},
   "outputs": [],
   "source": [
    "y_keras_train = np.argmax(y_keras_train_one_hot,axis=1)\n",
    "y_keras_test = np.argmax(y_keras_test_one_hot,axis=1)"
   ]
  },
  {
   "cell_type": "code",
   "execution_count": 105,
   "metadata": {},
   "outputs": [
    {
     "name": "stdout",
     "output_type": "stream",
     "text": [
      "Red neuronal\n",
      "\n",
      "Train:\n",
      "\n",
      "                     precision    recall  f1-score   support\n",
      "\n",
      "           Camiseta       0.82      0.85      0.84      6000\n",
      "           Pantalón       0.97      0.98      0.97      6000\n",
      "             Suéter       0.75      0.84      0.79      6000\n",
      "            Vestido       0.85      0.90      0.87      6000\n",
      "             Abrigo       0.82      0.75      0.78      6000\n",
      "           Sandalia       0.96      0.98      0.97      6000\n",
      "             Camisa       0.71      0.64      0.67      6000\n",
      "Zapatilla deportiva       0.95      0.95      0.95      6000\n",
      "              Bolso       0.97      0.95      0.96      6000\n",
      "            Botines       0.97      0.96      0.96      6000\n",
      "\n",
      "           accuracy                           0.88     60000\n",
      "          macro avg       0.88      0.88      0.88     60000\n",
      "       weighted avg       0.88      0.88      0.88     60000\n",
      "\n",
      "\n",
      "\n",
      "Test:\n",
      "\n",
      "                     precision    recall  f1-score   support\n",
      "\n",
      "           Camiseta       0.80      0.83      0.81      1000\n",
      "           Pantalón       0.95      0.98      0.96      1000\n",
      "             Suéter       0.74      0.83      0.78      1000\n",
      "            Vestido       0.85      0.87      0.86      1000\n",
      "             Abrigo       0.83      0.75      0.79      1000\n",
      "           Sandalia       0.93      0.94      0.93      1000\n",
      "             Camisa       0.69      0.61      0.64      1000\n",
      "Zapatilla deportiva       0.92      0.91      0.91      1000\n",
      "              Bolso       0.96      0.95      0.95      1000\n",
      "            Botines       0.93      0.95      0.94      1000\n",
      "\n",
      "           accuracy                           0.86     10000\n",
      "          macro avg       0.86      0.86      0.86     10000\n",
      "       weighted avg       0.86      0.86      0.86     10000\n",
      "\n"
     ]
    }
   ],
   "source": [
    "print('Red neuronal\\n\\nTrain:\\n')\n",
    "print(classification_report(y_pred=y_keras_train,y_true=y_train_ori_int,target_names=class_names))\n",
    "print('\\n\\nTest:\\n')\n",
    "print(classification_report(y_pred=y_keras_test,y_true=y_test_ori_int,target_names=class_names))"
   ]
  },
  {
   "cell_type": "code",
   "execution_count": 106,
   "metadata": {},
   "outputs": [
    {
     "data": {
      "image/png": "[encoded data removed]",
      "text/plain": [
       "<Figure size 864x504 with 12 Axes>"
      ]
     },
     "metadata": {
      "needs_background": "light"
     },
     "output_type": "display_data"
    }
   ],
   "source": [
    "cm = sklearn.metrics.multilabel_confusion_matrix(y_true=y_2.astype(int),y_pred=y_keras_test,labels=[0,1,2,3,4,5,6,7,8,9])\n",
    "graficar_multi(cm,class_names)"
   ]
  },
  {
   "cell_type": "markdown",
   "metadata": {
    "id": "LNBZkAQJ1rXd"
   },
   "source": [
    "## 2. Estandariacion"
   ]
  },
  {
   "cell_type": "markdown",
   "metadata": {},
   "source": [
    "### 2.1 Creacion del modelo inical con datos estandarizados"
   ]
  },
  {
   "cell_type": "code",
   "execution_count": 107,
   "metadata": {
    "id": "BrOQgUz31vAf"
   },
   "outputs": [],
   "source": [
    "scaler_2 = StandardScaler()\n",
    "scaler_2.fit(X_train)\n",
    "X_train_stand = scaler_2.transform(X_train)\n",
    "X_test_stand = scaler_2.transform(X_test)"
   ]
  },
  {
   "cell_type": "code",
   "execution_count": 109,
   "metadata": {
    "colab": {
     "base_uri": "https://localhost:8080/"
    },
    "id": "RYOyN4-h2Ty3",
    "outputId": "a02b5e64-e160-4980-d945-9bbb9dd8976a"
   },
   "outputs": [
    {
     "data": {
      "text/plain": [
       "<tensorflow.python.keras.callbacks.History at 0x2b4adc256a0>"
      ]
     },
     "execution_count": 109,
     "metadata": {},
     "output_type": "execute_result"
    }
   ],
   "source": [
    "keras.backend.clear_session()\n",
    "model_std = Sequential()\n",
    "model_std.add(Dense(10,activation='relu',input_dim=784))\n",
    "model_std.add(Dense(10,activation='softmax'))\n",
    "model_std.compile(loss='categorical_crossentropy',metrics=['accuracy'])\n",
    "model_std.fit(X_train_stand, y_train, epochs=25, verbose=0)"
   ]
  },
  {
   "cell_type": "markdown",
   "metadata": {},
   "source": [
    "### 2.2 Evaluacion del Modelo estandarizado"
   ]
  },
  {
   "cell_type": "code",
   "execution_count": 110,
   "metadata": {},
   "outputs": [
    {
     "name": "stdout",
     "output_type": "stream",
     "text": [
      "1875/1875 [==============================] - 1s 426us/step - loss: 0.3538 - accuracy: 0.8819\n"
     ]
    },
    {
     "data": {
      "text/plain": [
       "[0.35375910997390747, 0.8819166421890259]"
      ]
     },
     "execution_count": 110,
     "metadata": {},
     "output_type": "execute_result"
    }
   ],
   "source": [
    "model_std.evaluate(X_train_stand, y_train)"
   ]
  },
  {
   "cell_type": "code",
   "execution_count": 111,
   "metadata": {},
   "outputs": [
    {
     "name": "stdout",
     "output_type": "stream",
     "text": [
      "313/313 [==============================] - 0s 658us/step - loss: 0.5150 - accuracy: 0.8541\n"
     ]
    },
    {
     "data": {
      "text/plain": [
       "[0.5149636268615723, 0.8540999889373779]"
      ]
     },
     "execution_count": 111,
     "metadata": {},
     "output_type": "execute_result"
    }
   ],
   "source": [
    "model_std.evaluate(X_test_stand, y_test)"
   ]
  },
  {
   "cell_type": "code",
   "execution_count": 112,
   "metadata": {},
   "outputs": [],
   "source": [
    "y_keras_train_one_hot = model_std.predict(X_train_stand)\n",
    "y_keras_test_one_hot = model_std.predict(X_test_stand)"
   ]
  },
  {
   "cell_type": "code",
   "execution_count": 113,
   "metadata": {},
   "outputs": [],
   "source": [
    "y_keras_train = np.argmax(y_keras_train_one_hot,axis=1)\n",
    "y_keras_test = np.argmax(y_keras_test_one_hot,axis=1)"
   ]
  },
  {
   "cell_type": "code",
   "execution_count": 114,
   "metadata": {},
   "outputs": [
    {
     "name": "stdout",
     "output_type": "stream",
     "text": [
      "Red neuronal\n",
      "\n",
      "Train:\n",
      "\n",
      "                     precision    recall  f1-score   support\n",
      "\n",
      "           Camiseta       0.83      0.85      0.84      6000\n",
      "           Pantalón       0.97      0.98      0.97      6000\n",
      "             Suéter       0.81      0.76      0.78      6000\n",
      "            Vestido       0.91      0.87      0.88      6000\n",
      "             Abrigo       0.74      0.87      0.80      6000\n",
      "           Sandalia       0.97      0.96      0.97      6000\n",
      "             Camisa       0.74      0.65      0.69      6000\n",
      "Zapatilla deportiva       0.93      0.96      0.95      6000\n",
      "              Bolso       0.96      0.97      0.97      6000\n",
      "            Botines       0.97      0.95      0.96      6000\n",
      "\n",
      "           accuracy                           0.88     60000\n",
      "          macro avg       0.88      0.88      0.88     60000\n",
      "       weighted avg       0.88      0.88      0.88     60000\n",
      "\n",
      "\n",
      "\n",
      "Test:\n",
      "\n",
      "                     precision    recall  f1-score   support\n",
      "\n",
      "           Camiseta       0.79      0.81      0.80      1000\n",
      "           Pantalón       0.95      0.98      0.96      1000\n",
      "             Suéter       0.80      0.73      0.77      1000\n",
      "            Vestido       0.89      0.83      0.86      1000\n",
      "             Abrigo       0.74      0.87      0.80      1000\n",
      "           Sandalia       0.94      0.91      0.92      1000\n",
      "             Camisa       0.68      0.60      0.64      1000\n",
      "Zapatilla deportiva       0.89      0.93      0.91      1000\n",
      "              Bolso       0.93      0.95      0.94      1000\n",
      "            Botines       0.92      0.94      0.93      1000\n",
      "\n",
      "           accuracy                           0.85     10000\n",
      "          macro avg       0.85      0.85      0.85     10000\n",
      "       weighted avg       0.85      0.85      0.85     10000\n",
      "\n"
     ]
    }
   ],
   "source": [
    "print('Red neuronal\\n\\nTrain:\\n')\n",
    "print(classification_report(y_pred=y_keras_train,y_true=y_train_ori_int,target_names=class_names))\n",
    "print('\\n\\nTest:\\n')\n",
    "print(classification_report(y_pred=y_keras_test,y_true=y_test_ori_int,target_names=class_names))"
   ]
  },
  {
   "cell_type": "code",
   "execution_count": 115,
   "metadata": {},
   "outputs": [
    {
     "data": {
      "image/png": "[encoded data removed]",
      "text/plain": [
       "<Figure size 864x504 with 12 Axes>"
      ]
     },
     "metadata": {
      "needs_background": "light"
     },
     "output_type": "display_data"
    }
   ],
   "source": [
    "cm = sklearn.metrics.multilabel_confusion_matrix(y_true=y_2.astype(int),y_pred=y_keras_test,labels=[0,1,2,3,4,5,6,7,8,9])\n",
    "graficar_multi(cm,class_names)"
   ]
  },
  {
   "cell_type": "markdown",
   "metadata": {},
   "source": [
    "### De lo anterior podemos concluir que para este caso es mejor usar estandarizacion"
   ]
  },
  {
   "cell_type": "markdown",
   "metadata": {
    "id": "yMjJ7YLcpU8P"
   },
   "source": [
    "## 3. Modelo con ADAM"
   ]
  },
  {
   "cell_type": "markdown",
   "metadata": {},
   "source": [
    "### 3.1 Creacion del modelo inicial con ADAM"
   ]
  },
  {
   "cell_type": "code",
   "execution_count": 116,
   "metadata": {
    "colab": {
     "base_uri": "https://localhost:8080/"
    },
    "id": "tgjv9EJjsUDi",
    "outputId": "2ebd05d0-509b-4507-bae8-971549b1e19e"
   },
   "outputs": [
    {
     "data": {
      "text/plain": [
       "<tensorflow.python.keras.callbacks.History at 0x2b4b162e160>"
      ]
     },
     "execution_count": 116,
     "metadata": {},
     "output_type": "execute_result"
    }
   ],
   "source": [
    "keras.backend.clear_session()\n",
    "model_adam = Sequential()\n",
    "model_adam.add(Dense(10,activation='relu',input_dim=784))\n",
    "model_adam.add(Dense(10,activation='softmax'))\n",
    "optimizer = optimizers.Adam()\n",
    "model_adam.compile(loss='categorical_crossentropy', optimizer=optimizer, metrics=['accuracy'])\n",
    "model_adam.fit(X_train_stand, y_train, epochs=25, verbose=0)"
   ]
  },
  {
   "cell_type": "markdown",
   "metadata": {},
   "source": [
    "### 3.2 Evaluacion del modelo con ADAM"
   ]
  },
  {
   "cell_type": "code",
   "execution_count": 117,
   "metadata": {},
   "outputs": [
    {
     "name": "stdout",
     "output_type": "stream",
     "text": [
      "1875/1875 [==============================] - 1s 420us/step - loss: 0.3006 - accuracy: 0.8886\n"
     ]
    },
    {
     "data": {
      "text/plain": [
       "[0.300647497177124, 0.8885999917984009]"
      ]
     },
     "execution_count": 117,
     "metadata": {},
     "output_type": "execute_result"
    }
   ],
   "source": [
    "model_adam.evaluate(X_train_stand, y_train)"
   ]
  },
  {
   "cell_type": "code",
   "execution_count": 118,
   "metadata": {},
   "outputs": [
    {
     "name": "stdout",
     "output_type": "stream",
     "text": [
      "313/313 [==============================] - 0s 661us/step - loss: 0.3905 - accuracy: 0.8667\n"
     ]
    },
    {
     "data": {
      "text/plain": [
       "[0.39054688811302185, 0.8666999936103821]"
      ]
     },
     "execution_count": 118,
     "metadata": {},
     "output_type": "execute_result"
    }
   ],
   "source": [
    "model_adam.evaluate(X_test_stand, y_test)"
   ]
  },
  {
   "cell_type": "code",
   "execution_count": 119,
   "metadata": {},
   "outputs": [],
   "source": [
    "y_keras_train_one_hot = model_adam.predict(X_train_stand)\n",
    "y_keras_test_one_hot = model_adam.predict(X_test_stand)"
   ]
  },
  {
   "cell_type": "code",
   "execution_count": 120,
   "metadata": {},
   "outputs": [],
   "source": [
    "y_keras_train = np.argmax(y_keras_train_one_hot,axis=1)\n",
    "y_keras_test = np.argmax(y_keras_test_one_hot,axis=1)"
   ]
  },
  {
   "cell_type": "code",
   "execution_count": 121,
   "metadata": {},
   "outputs": [
    {
     "name": "stdout",
     "output_type": "stream",
     "text": [
      "Red neuronal\n",
      "\n",
      "Train:\n",
      "\n",
      "                     precision    recall  f1-score   support\n",
      "\n",
      "           Camiseta       0.83      0.84      0.84      6000\n",
      "           Pantalón       0.99      0.97      0.98      6000\n",
      "             Suéter       0.79      0.83      0.81      6000\n",
      "            Vestido       0.85      0.92      0.88      6000\n",
      "             Abrigo       0.80      0.80      0.80      6000\n",
      "           Sandalia       0.99      0.96      0.97      6000\n",
      "             Camisa       0.74      0.65      0.69      6000\n",
      "Zapatilla deportiva       0.95      0.97      0.96      6000\n",
      "              Bolso       0.97      0.98      0.97      6000\n",
      "            Botines       0.98      0.97      0.97      6000\n",
      "\n",
      "           accuracy                           0.89     60000\n",
      "          macro avg       0.89      0.89      0.89     60000\n",
      "       weighted avg       0.89      0.89      0.89     60000\n",
      "\n",
      "\n",
      "\n",
      "Test:\n",
      "\n",
      "                     precision    recall  f1-score   support\n",
      "\n",
      "           Camiseta       0.80      0.82      0.81      1000\n",
      "           Pantalón       0.98      0.98      0.98      1000\n",
      "             Suéter       0.77      0.81      0.79      1000\n",
      "            Vestido       0.86      0.90      0.88      1000\n",
      "             Abrigo       0.79      0.81      0.80      1000\n",
      "           Sandalia       0.97      0.91      0.94      1000\n",
      "             Camisa       0.69      0.60      0.64      1000\n",
      "Zapatilla deportiva       0.91      0.94      0.92      1000\n",
      "              Bolso       0.95      0.96      0.96      1000\n",
      "            Botines       0.94      0.95      0.94      1000\n",
      "\n",
      "           accuracy                           0.87     10000\n",
      "          macro avg       0.87      0.87      0.87     10000\n",
      "       weighted avg       0.87      0.87      0.87     10000\n",
      "\n"
     ]
    }
   ],
   "source": [
    "print('Red neuronal\\n\\nTrain:\\n')\n",
    "print(classification_report(y_pred=y_keras_train,y_true=y_train_ori_int,target_names=class_names))\n",
    "print('\\n\\nTest:\\n')\n",
    "print(classification_report(y_pred=y_keras_test,y_true=y_test_ori_int,target_names=class_names))"
   ]
  },
  {
   "cell_type": "code",
   "execution_count": 122,
   "metadata": {},
   "outputs": [
    {
     "data": {
      "image/png": "[encoded data removed]",
      "text/plain": [
       "<Figure size 864x504 with 12 Axes>"
      ]
     },
     "metadata": {
      "needs_background": "light"
     },
     "output_type": "display_data"
    }
   ],
   "source": [
    "cm = sklearn.metrics.multilabel_confusion_matrix(y_true=y_2.astype(int),y_pred=y_keras_test,labels=[0,1,2,3,4,5,6,7,8,9])\n",
    "graficar_multi(cm,class_names)"
   ]
  },
  {
   "cell_type": "markdown",
   "metadata": {
    "id": "_UyzAFmNk0yT"
   },
   "source": [
    "## 4. Modelo con Minibatch"
   ]
  },
  {
   "cell_type": "markdown",
   "metadata": {},
   "source": [
    "### 4.1 Creamos una funcion que crea modelos un tamaño de mini batch 2^n"
   ]
  },
  {
   "cell_type": "code",
   "execution_count": 123,
   "metadata": {
    "id": "YGvDyx-lTbGt"
   },
   "outputs": [],
   "source": [
    "def correr_modelo_mini_batch(batch_size):\n",
    "    keras.backend.clear_session()\n",
    "    model_mini_batch = Sequential()\n",
    "    model_mini_batch.add(Dense(10,activation='relu',input_dim=784))\n",
    "    model_mini_batch.add(Dense(10,activation='softmax'))\n",
    "    optimizer = optimizers.Adam()\n",
    "    model_mini_batch.compile(loss='categorical_crossentropy',optimizer=optimizer ,metrics=['accuracy'])\n",
    "    model_mini_batch.fit(X_train_stand, y_train, epochs=25, batch_size=batch_size, verbose=0)\n",
    "    return model_mini_batch.evaluate(X_train_stand, y_train)"
   ]
  },
  {
   "cell_type": "markdown",
   "metadata": {},
   "source": [
    "### 4.2 Creamos modelos con distintos tamaños de mini batch y guardamos su presicion"
   ]
  },
  {
   "cell_type": "code",
   "execution_count": 179,
   "metadata": {
    "colab": {
     "base_uri": "https://localhost:8080/",
     "height": 1000
    },
    "id": "ezjNdB1SPtAo",
    "outputId": "e8f1a2a8-c5e6-459a-9581-5943b0ce280f"
   },
   "outputs": [
    {
     "name": "stdout",
     "output_type": "stream",
     "text": [
      "1875/1875 [==============================] - 1s 418us/step - loss: 0.3135 - accuracy: 0.8841\n",
      "1875/1875 [==============================] - 1s 409us/step - loss: 0.3124 - accuracy: 0.8860\n",
      "1875/1875 [==============================] - 1s 439us/step - loss: 0.3049 - accuracy: 0.8893\n",
      "1875/1875 [==============================] - 1s 411us/step - loss: 0.3063 - accuracy: 0.8882\n",
      "1875/1875 [==============================] - 1s 417us/step - loss: 0.3082 - accuracy: 0.8882\n",
      "1875/1875 [==============================] - 1s 449us/step - loss: 0.3230 - accuracy: 0.8855\n",
      "   1/1875 [..............................] - ETA: 0s - loss: 0.2645 - accuracy: 0.9375WARNING:tensorflow:Callbacks method `on_test_batch_end` is slow compared to the batch time (batch time: 0.0000s vs `on_test_batch_end` time: 0.0010s). Check your callbacks.\n",
      "1875/1875 [==============================] - 1s 416us/step - loss: 0.3373 - accuracy: 0.8795\n",
      "1875/1875 [==============================] - 1s 417us/step - loss: 0.3568 - accuracy: 0.8745\n",
      "1875/1875 [==============================] - 1s 413us/step - loss: 0.3823 - accuracy: 0.8640\n",
      "1875/1875 [==============================] - 1s 414us/step - loss: 0.4310 - accuracy: 0.8479\n",
      "1875/1875 [==============================] - 1s 427us/step - loss: 0.5291 - accuracy: 0.8174\n"
     ]
    }
   ],
   "source": [
    "batch_size = []\n",
    "acc_value = []\n",
    "for i in range(3, 14):\n",
    "  batch_size.append(i)\n",
    "  acc_value.append(correr_modelo_mini_batch(2**i)[1])"
   ]
  },
  {
   "cell_type": "markdown",
   "metadata": {},
   "source": [
    "### 4.3 Graficamos la presicion de cada modelo dependiendo del numero de mini batch"
   ]
  },
  {
   "cell_type": "code",
   "execution_count": 180,
   "metadata": {},
   "outputs": [
    {
     "data": {
      "image/png": "[encoded data removed]",
      "text/plain": [
       "<Figure size 432x288 with 1 Axes>"
      ]
     },
     "metadata": {
      "needs_background": "light"
     },
     "output_type": "display_data"
    }
   ],
   "source": [
    "plt.scatter(batch_size,acc_value)\n",
    "plt.show()"
   ]
  },
  {
   "cell_type": "markdown",
   "metadata": {},
   "source": [
    "### 4.4 Dado lo anterior el mejor numeor de minibatch es 2^5"
   ]
  },
  {
   "cell_type": "markdown",
   "metadata": {
    "id": "Yt7CKtaswTI-"
   },
   "source": [
    "## 5. Modelo Inicial Optimizado"
   ]
  },
  {
   "cell_type": "code",
   "execution_count": 126,
   "metadata": {
    "colab": {
     "base_uri": "https://localhost:8080/"
    },
    "id": "9c5Is2b0weq6",
    "outputId": "ae186228-bdb0-4291-bdf2-0f6fc41c7a15"
   },
   "outputs": [
    {
     "name": "stdout",
     "output_type": "stream",
     "text": [
      "Epoch 1/25\n",
      "   1/1875 [..............................] - ETA: 0s - loss: 2.6274 - accuracy: 0.0000e+00WARNING:tensorflow:Callbacks method `on_train_batch_end` is slow compared to the batch time (batch time: 0.0000s vs `on_train_batch_end` time: 0.0010s). Check your callbacks.\n",
      "1875/1875 [==============================] - 1s 628us/step - loss: 0.5795 - accuracy: 0.7950\n",
      "Epoch 2/25\n",
      "1875/1875 [==============================] - 1s 632us/step - loss: 0.4265 - accuracy: 0.8459\n",
      "Epoch 3/25\n",
      "1875/1875 [==============================] - 1s 612us/step - loss: 0.3971 - accuracy: 0.8560\n",
      "Epoch 4/25\n",
      "1875/1875 [==============================] - 1s 598us/step - loss: 0.3816 - accuracy: 0.8617\n",
      "Epoch 5/25\n",
      "1875/1875 [==============================] - 1s 591us/step - loss: 0.3714 - accuracy: 0.8653\n",
      "Epoch 6/25\n",
      "1875/1875 [==============================] - 1s 594us/step - loss: 0.3639 - accuracy: 0.8670\n",
      "Epoch 7/25\n",
      "1875/1875 [==============================] - 1s 594us/step - loss: 0.3570 - accuracy: 0.8694\n",
      "Epoch 8/25\n",
      "1875/1875 [==============================] - 1s 592us/step - loss: 0.3511 - accuracy: 0.8706\n",
      "Epoch 9/25\n",
      "1875/1875 [==============================] - 1s 601us/step - loss: 0.3470 - accuracy: 0.8724\n",
      "Epoch 10/25\n",
      "1875/1875 [==============================] - 1s 591us/step - loss: 0.3429 - accuracy: 0.8733\n",
      "Epoch 11/25\n",
      "1875/1875 [==============================] - 1s 621us/step - loss: 0.3392 - accuracy: 0.8754\n",
      "Epoch 12/25\n",
      "1875/1875 [==============================] - 1s 599us/step - loss: 0.3379 - accuracy: 0.8749\n",
      "Epoch 13/25\n",
      "1875/1875 [==============================] - 1s 595us/step - loss: 0.3333 - accuracy: 0.8758\n",
      "Epoch 14/25\n",
      "1875/1875 [==============================] - 1s 606us/step - loss: 0.3311 - accuracy: 0.8769\n",
      "Epoch 15/25\n",
      "1875/1875 [==============================] - 1s 617us/step - loss: 0.3300 - accuracy: 0.8780\n",
      "Epoch 16/25\n",
      "1875/1875 [==============================] - 1s 627us/step - loss: 0.3268 - accuracy: 0.8792\n",
      "Epoch 17/25\n",
      "1875/1875 [==============================] - 1s 623us/step - loss: 0.3264 - accuracy: 0.8804\n",
      "Epoch 18/25\n",
      "1875/1875 [==============================] - 1s 633us/step - loss: 0.3234 - accuracy: 0.8798\n",
      "Epoch 19/25\n",
      "1875/1875 [==============================] - 1s 627us/step - loss: 0.3221 - accuracy: 0.8813\n",
      "Epoch 20/25\n",
      "1875/1875 [==============================] - 1s 599us/step - loss: 0.3211 - accuracy: 0.8806\n",
      "Epoch 21/25\n",
      "1875/1875 [==============================] - 1s 608us/step - loss: 0.3191 - accuracy: 0.8816\n",
      "Epoch 22/25\n",
      "1875/1875 [==============================] - 1s 620us/step - loss: 0.3172 - accuracy: 0.8813\n",
      "Epoch 23/25\n",
      "1875/1875 [==============================] - 1s 591us/step - loss: 0.3174 - accuracy: 0.8816\n",
      "Epoch 24/25\n",
      "1875/1875 [==============================] - 1s 607us/step - loss: 0.3156 - accuracy: 0.8822\n",
      "Epoch 25/25\n",
      "1875/1875 [==============================] - 1s 626us/step - loss: 0.3142 - accuracy: 0.8827\n"
     ]
    },
    {
     "data": {
      "text/plain": [
       "<tensorflow.python.keras.callbacks.History at 0x2b4aa93d0d0>"
      ]
     },
     "execution_count": 126,
     "metadata": {},
     "output_type": "execute_result"
    }
   ],
   "source": [
    "keras.backend.clear_session()\n",
    "model_opt = Sequential()\n",
    "model_opt.add(Dense(10,activation='relu',input_dim=784))\n",
    "model_opt.add(Dense(10,activation='softmax'))\n",
    "optimizer = optimizers.Adam()\n",
    "model_opt.compile(loss='categorical_crossentropy',optimizer=optimizer ,metrics=['accuracy'])\n",
    "model_opt.fit(X_train_stand, y_train, epochs=25,  batch_size=2**5)"
   ]
  },
  {
   "cell_type": "markdown",
   "metadata": {},
   "source": [
    "### 5.1 Evaluacion del modelo inicial optimizado"
   ]
  },
  {
   "cell_type": "code",
   "execution_count": 127,
   "metadata": {},
   "outputs": [
    {
     "name": "stdout",
     "output_type": "stream",
     "text": [
      "1875/1875 [==============================] - 1s 432us/step - loss: 0.3044 - accuracy: 0.8861\n"
     ]
    },
    {
     "data": {
      "text/plain": [
       "[0.3044440448284149, 0.8860999941825867]"
      ]
     },
     "execution_count": 127,
     "metadata": {},
     "output_type": "execute_result"
    }
   ],
   "source": [
    "model_opt.evaluate(X_train_stand, y_train)"
   ]
  },
  {
   "cell_type": "code",
   "execution_count": 128,
   "metadata": {},
   "outputs": [
    {
     "name": "stdout",
     "output_type": "stream",
     "text": [
      "313/313 [==============================] - 0s 671us/step - loss: 0.4197 - accuracy: 0.8567\n"
     ]
    },
    {
     "data": {
      "text/plain": [
       "[0.41973432898521423, 0.8567000031471252]"
      ]
     },
     "execution_count": 128,
     "metadata": {},
     "output_type": "execute_result"
    }
   ],
   "source": [
    "model_opt.evaluate(X_test_stand, y_test)"
   ]
  },
  {
   "cell_type": "code",
   "execution_count": 129,
   "metadata": {},
   "outputs": [],
   "source": [
    "y_keras_train_one_hot = model_opt.predict(X_train_stand)\n",
    "y_keras_test_one_hot = model_opt.predict(X_test_stand)"
   ]
  },
  {
   "cell_type": "code",
   "execution_count": 130,
   "metadata": {},
   "outputs": [],
   "source": [
    "y_keras_train = np.argmax(y_keras_train_one_hot,axis=1)\n",
    "y_keras_test = np.argmax(y_keras_test_one_hot,axis=1)"
   ]
  },
  {
   "cell_type": "code",
   "execution_count": 131,
   "metadata": {},
   "outputs": [
    {
     "name": "stdout",
     "output_type": "stream",
     "text": [
      "Red neuronal\n",
      "\n",
      "Train:\n",
      "\n",
      "                     precision    recall  f1-score   support\n",
      "\n",
      "           Camiseta       0.83      0.84      0.83      6000\n",
      "           Pantalón       0.98      0.98      0.98      6000\n",
      "             Suéter       0.82      0.77      0.79      6000\n",
      "            Vestido       0.91      0.86      0.89      6000\n",
      "             Abrigo       0.76      0.87      0.81      6000\n",
      "           Sandalia       0.99      0.96      0.98      6000\n",
      "             Camisa       0.71      0.68      0.70      6000\n",
      "Zapatilla deportiva       0.95      0.95      0.95      6000\n",
      "              Bolso       0.97      0.98      0.97      6000\n",
      "            Botines       0.95      0.98      0.96      6000\n",
      "\n",
      "           accuracy                           0.89     60000\n",
      "          macro avg       0.89      0.89      0.89     60000\n",
      "       weighted avg       0.89      0.89      0.89     60000\n",
      "\n",
      "\n",
      "\n",
      "Test:\n",
      "\n",
      "                     precision    recall  f1-score   support\n",
      "\n",
      "           Camiseta       0.79      0.82      0.80      1000\n",
      "           Pantalón       0.96      0.98      0.97      1000\n",
      "             Suéter       0.79      0.74      0.77      1000\n",
      "            Vestido       0.91      0.83      0.87      1000\n",
      "             Abrigo       0.75      0.86      0.80      1000\n",
      "           Sandalia       0.96      0.89      0.92      1000\n",
      "             Camisa       0.67      0.63      0.65      1000\n",
      "Zapatilla deportiva       0.90      0.91      0.91      1000\n",
      "              Bolso       0.93      0.95      0.94      1000\n",
      "            Botines       0.90      0.96      0.93      1000\n",
      "\n",
      "           accuracy                           0.86     10000\n",
      "          macro avg       0.86      0.86      0.86     10000\n",
      "       weighted avg       0.86      0.86      0.86     10000\n",
      "\n"
     ]
    }
   ],
   "source": [
    "print('Red neuronal\\n\\nTrain:\\n')\n",
    "print(classification_report(y_pred=y_keras_train,y_true=y_train_ori_int,target_names=class_names))\n",
    "print('\\n\\nTest:\\n')\n",
    "print(classification_report(y_pred=y_keras_test,y_true=y_test_ori_int,target_names=class_names))"
   ]
  },
  {
   "cell_type": "code",
   "execution_count": 132,
   "metadata": {},
   "outputs": [
    {
     "data": {
      "image/png": "[encoded data removed]",
      "text/plain": [
       "<Figure size 864x504 with 12 Axes>"
      ]
     },
     "metadata": {
      "needs_background": "light"
     },
     "output_type": "display_data"
    }
   ],
   "source": [
    "cm = sklearn.metrics.multilabel_confusion_matrix(y_true=y_2.astype(int),y_pred=y_keras_test,labels=[0,1,2,3,4,5,6,7,8,9])\n",
    "graficar_multi(cm,class_names)"
   ]
  },
  {
   "cell_type": "markdown",
   "metadata": {
    "id": "WcSKvZz1l3kZ"
   },
   "source": [
    "# Iniciar busqueda de hyperparametros\n"
   ]
  },
  {
   "cell_type": "markdown",
   "metadata": {
    "id": "d0saXUcgoieh"
   },
   "source": [
    "## 1. Caso BIAS"
   ]
  },
  {
   "cell_type": "markdown",
   "metadata": {
    "id": "ntg5ukjanXVp"
   },
   "source": [
    "### 1.1 Tasa de aprendizaje"
   ]
  },
  {
   "cell_type": "code",
   "execution_count": 134,
   "metadata": {},
   "outputs": [],
   "source": [
    "def correr_modelo_learing_rate(learning_rate):\n",
    "    keras.backend.clear_session()\n",
    "    model_ta = Sequential()\n",
    "    model_ta.add(Dense(10,activation='relu',input_dim=784))\n",
    "    model_ta.add(Dense(10,activation='softmax'))\n",
    "    optimizer = optimizers.Adam(learning_rate)\n",
    "    model_ta.compile(loss='categorical_crossentropy',optimizer=optimizer ,metrics=['accuracy'])\n",
    "    model_ta.fit(X_train_stand, y_train, epochs=40,  batch_size=2**5, verbose=0)\n",
    "    return model_ta.evaluate(X_train_stand, y_train)"
   ]
  },
  {
   "cell_type": "markdown",
   "metadata": {},
   "source": [
    "#### Codigo que evalua la tasa de aprendizaje con 1/(10^n)"
   ]
  },
  {
   "cell_type": "code",
   "execution_count": 135,
   "metadata": {},
   "outputs": [
    {
     "name": "stdout",
     "output_type": "stream",
     "text": [
      "   1/1875 [..............................] - ETA: 0s - loss: 0.4471 - accuracy: 0.8125WARNING:tensorflow:Callbacks method `on_test_batch_end` is slow compared to the batch time (batch time: 0.0000s vs `on_test_batch_end` time: 0.0010s). Check your callbacks.\n",
      "1875/1875 [==============================] - 1s 420us/step - loss: 0.3950 - accuracy: 0.8665\n",
      "1875/1875 [==============================] - 1s 413us/step - loss: 0.3048 - accuracy: 0.8876\n",
      "1875/1875 [==============================] - 1s 418us/step - loss: 0.3359 - accuracy: 0.8799\n",
      "1875/1875 [==============================] - 1s 413us/step - loss: 0.4614 - accuracy: 0.8411\n",
      "1875/1875 [==============================] - 1s 421us/step - loss: 0.9666 - accuracy: 0.6977\n",
      "1875/1875 [==============================] - 1s 416us/step - loss: 1.9033 - accuracy: 0.3012\n"
     ]
    }
   ],
   "source": [
    "learn_list = []\n",
    "acc_value = []\n",
    "for i in range(2, 8):\n",
    "  learn_list.append(i)\n",
    "  acc_value.append(correr_modelo_learing_rate(1/(10**i))[1])"
   ]
  },
  {
   "cell_type": "markdown",
   "metadata": {},
   "source": [
    "#### Graficamos la presicion dependiendo de la tasa de aprendizaje"
   ]
  },
  {
   "cell_type": "code",
   "execution_count": 136,
   "metadata": {},
   "outputs": [
    {
     "data": {
      "image/png": "[encoded data removed]",
      "text/plain": [
       "<Figure size 432x288 with 1 Axes>"
      ]
     },
     "metadata": {
      "needs_background": "light"
     },
     "output_type": "display_data"
    }
   ],
   "source": [
    "plt.scatter(learn_list,acc_value)\n",
    "plt.show()"
   ]
  },
  {
   "cell_type": "markdown",
   "metadata": {},
   "source": [
    "#### Codigo que evalua la tasa de aprendizaje con n/(10^3)"
   ]
  },
  {
   "cell_type": "code",
   "execution_count": 137,
   "metadata": {},
   "outputs": [
    {
     "name": "stdout",
     "output_type": "stream",
     "text": [
      "1875/1875 [==============================] - 1s 436us/step - loss: 0.2932 - accuracy: 0.8928\n",
      "1875/1875 [==============================] - 1s 434us/step - loss: 0.3053 - accuracy: 0.8868\n",
      "1875/1875 [==============================] - 1s 413us/step - loss: 0.3245 - accuracy: 0.8784\n",
      "1875/1875 [==============================] - 1s 441us/step - loss: 0.3079 - accuracy: 0.8856\n",
      "1875/1875 [==============================] - 1s 427us/step - loss: 0.3328 - accuracy: 0.8763\n",
      "   1/1875 [..............................] - ETA: 0s - loss: 0.2062 - accuracy: 0.8750WARNING:tensorflow:Callbacks method `on_test_batch_begin` is slow compared to the batch time (batch time: 0.0000s vs `on_test_batch_begin` time: 0.0010s). Check your callbacks.\n",
      "1875/1875 [==============================] - 1s 418us/step - loss: 0.3728 - accuracy: 0.8651\n",
      "1875/1875 [==============================] - 1s 421us/step - loss: 0.3515 - accuracy: 0.8733\n",
      "1875/1875 [==============================] - 1s 453us/step - loss: 0.3918 - accuracy: 0.8658\n",
      "1875/1875 [==============================] - 1s 423us/step - loss: 0.3554 - accuracy: 0.8683\n",
      "1875/1875 [==============================] - 1s 415us/step - loss: 0.3863 - accuracy: 0.8704\n",
      "1875/1875 [==============================] - 1s 416us/step - loss: 0.4073 - accuracy: 0.8678\n",
      "1875/1875 [==============================] - 1s 445us/step - loss: 0.4583 - accuracy: 0.8530\n"
     ]
    }
   ],
   "source": [
    "learn_list = []\n",
    "acc_value = []\n",
    "for i in range(1, 13):\n",
    "  learn_list.append(i)\n",
    "  acc_value.append(correr_modelo_learing_rate(i/(10**3))[1])"
   ]
  },
  {
   "cell_type": "markdown",
   "metadata": {},
   "source": [
    "#### Graficamos la presicion dependiendo de la tasa de aprendizaje"
   ]
  },
  {
   "cell_type": "code",
   "execution_count": 138,
   "metadata": {},
   "outputs": [
    {
     "data": {
      "image/png": "[encoded data removed]",
      "text/plain": [
       "<Figure size 432x288 with 1 Axes>"
      ]
     },
     "metadata": {
      "needs_background": "light"
     },
     "output_type": "display_data"
    }
   ],
   "source": [
    "plt.scatter(learn_list,acc_value)\n",
    "plt.show()"
   ]
  },
  {
   "cell_type": "markdown",
   "metadata": {},
   "source": [
    "### Dado lo anterior la mejor tasa de aprendizaje es 0.001"
   ]
  },
  {
   "cell_type": "markdown",
   "metadata": {
    "id": "17AI9tBsnu0h"
   },
   "source": [
    "### 1.2 Numero de capas\n"
   ]
  },
  {
   "cell_type": "markdown",
   "metadata": {},
   "source": [
    "#### Creamos una funcion crear modelos inicales optimiados con n capas"
   ]
  },
  {
   "cell_type": "code",
   "execution_count": 139,
   "metadata": {},
   "outputs": [],
   "source": [
    "def correr_modelo_num_layers(num_layers):\n",
    "    keras.backend.clear_session()\n",
    "    model_lay = Sequential()\n",
    "    model_lay.add(Dense(10,activation='relu',input_dim=784))\n",
    "    for i in range(0,num_layers):\n",
    "         model_lay.add(Dense(10,activation='relu'))\n",
    "    model_lay.add(Dense(10,activation='softmax'))\n",
    "    optimizer = optimizers.Adam(0.001)\n",
    "    model_lay.compile(loss='categorical_crossentropy',optimizer=optimizer ,metrics=['accuracy'])\n",
    "    model_lay.fit(X_train_stand, y_train, epochs=40,  batch_size=2**5, verbose=0)\n",
    "    return model_lay.evaluate(X_train_stand, y_train)"
   ]
  },
  {
   "cell_type": "code",
   "execution_count": 140,
   "metadata": {},
   "outputs": [
    {
     "name": "stdout",
     "output_type": "stream",
     "text": [
      "1875/1875 [==============================] - 1s 419us/step - loss: 0.2883 - accuracy: 0.8950\n",
      "1875/1875 [==============================] - 1s 423us/step - loss: 0.2886 - accuracy: 0.8951\n",
      "1875/1875 [==============================] - 1s 449us/step - loss: 0.2930 - accuracy: 0.8929\n",
      "1875/1875 [==============================] - 1s 457us/step - loss: 0.2875 - accuracy: 0.8971\n",
      "1875/1875 [==============================] - 1s 436us/step - loss: 0.2945 - accuracy: 0.8947\n",
      "1875/1875 [==============================] - 1s 435us/step - loss: 0.2888 - accuracy: 0.8950\n",
      "1875/1875 [==============================] - 1s 444us/step - loss: 0.2954 - accuracy: 0.8943\n",
      "1875/1875 [==============================] - 1s 439us/step - loss: 0.3120 - accuracy: 0.8879\n",
      "1875/1875 [==============================] - 1s 457us/step - loss: 0.3085 - accuracy: 0.8887\n",
      "1875/1875 [==============================] - 1s 466us/step - loss: 0.3054 - accuracy: 0.8908\n",
      "1875/1875 [==============================] - 1s 490us/step - loss: 0.3221 - accuracy: 0.8874\n",
      "1875/1875 [==============================] - 1s 472us/step - loss: 0.3550 - accuracy: 0.8778\n",
      "   1/1875 [..............................] - ETA: 0s - loss: 0.3793 - accuracy: 0.8750WARNING:tensorflow:Callbacks method `on_test_batch_end` is slow compared to the batch time (batch time: 0.0000s vs `on_test_batch_end` time: 0.0010s). Check your callbacks.\n",
      "1875/1875 [==============================] - 1s 479us/step - loss: 0.3277 - accuracy: 0.8863\n"
     ]
    }
   ],
   "source": [
    "learn_list = []\n",
    "acc_value = []\n",
    "for i in range(1, 14):\n",
    "  learn_list.append(i+1)\n",
    "  acc_value.append(correr_modelo_num_layers(i)[1])"
   ]
  },
  {
   "cell_type": "markdown",
   "metadata": {},
   "source": [
    "#### Graficamos la presicion del modelo dependiendo del numero de capas"
   ]
  },
  {
   "cell_type": "code",
   "execution_count": 141,
   "metadata": {},
   "outputs": [
    {
     "data": {
      "image/png": "[encoded data removed]",
      "text/plain": [
       "<Figure size 432x288 with 1 Axes>"
      ]
     },
     "metadata": {
      "needs_background": "light"
     },
     "output_type": "display_data"
    }
   ],
   "source": [
    "plt.scatter(learn_list,acc_value)\n",
    "plt.show()"
   ]
  },
  {
   "cell_type": "markdown",
   "metadata": {},
   "source": [
    "###  Dado lo anterior el mejor numero de capas es 5"
   ]
  },
  {
   "cell_type": "markdown",
   "metadata": {
    "id": "0MFBsMj3nxQN"
   },
   "source": [
    "### 1.3 Numero nodos"
   ]
  },
  {
   "cell_type": "markdown",
   "metadata": {},
   "source": [
    "#### Creamos una funcion para correr modelos con n numeros en todas sus capas"
   ]
  },
  {
   "cell_type": "code",
   "execution_count": 154,
   "metadata": {},
   "outputs": [],
   "source": [
    "def correr_modelo_same_num_nodes(num_nodes):\n",
    "    keras.backend.clear_session()\n",
    "    model_same_node_num = Sequential()\n",
    "    model_same_node_num.add(Dense(num_nodes,activation='relu',input_dim=784))\n",
    "    model_same_node_num.add(Dense(num_nodes,activation='relu'))\n",
    "    model_same_node_num.add(Dense(num_nodes,activation='relu'))\n",
    "    model_same_node_num.add(Dense(num_nodes,activation='relu'))\n",
    "    model_same_node_num.add(Dense(num_nodes,activation='relu'))\n",
    "    model_same_node_num.add(Dense(10,activation='softmax'))\n",
    "    optimizer = optimizers.Adam(0.001)\n",
    "    model_same_node_num.compile(loss='categorical_crossentropy',optimizer=optimizer ,metrics=['accuracy'])\n",
    "    model_same_node_num.fit(X_train_stand, y_train, epochs=15,  batch_size=2**5, verbose=0)\n",
    "    return model_same_node_num.evaluate(X_train_stand, y_train)"
   ]
  },
  {
   "cell_type": "markdown",
   "metadata": {},
   "source": [
    "#### Vamos a crear modelos saltando de a 30 nodos por capa"
   ]
  },
  {
   "cell_type": "code",
   "execution_count": 155,
   "metadata": {},
   "outputs": [
    {
     "name": "stdout",
     "output_type": "stream",
     "text": [
      "1875/1875 [==============================] - 1s 449us/step - loss: 0.3373 - accuracy: 0.8766\n",
      "1875/1875 [==============================] - 1s 476us/step - loss: 0.2159 - accuracy: 0.9190\n",
      "1875/1875 [==============================] - 1s 546us/step - loss: 0.1619 - accuracy: 0.9398\n",
      "1875/1875 [==============================] - 1s 578us/step - loss: 0.1598 - accuracy: 0.9394\n",
      "1875/1875 [==============================] - 1s 592us/step - loss: 0.1496 - accuracy: 0.9434\n",
      "1875/1875 [==============================] - 1s 767us/step - loss: 0.1595 - accuracy: 0.9412\n"
     ]
    }
   ],
   "source": [
    "learn_list = []\n",
    "acc_value = []\n",
    "for i in range(0, 6):\n",
    "  if(i == 0):\n",
    "    learn_list.append(10)\n",
    "    acc_value.append(correr_modelo_same_num_nodes(10)[1])\n",
    "  else:\n",
    "    learn_list.append(30*i)\n",
    "    acc_value.append(correr_modelo_same_num_nodes(30*i)[1])"
   ]
  },
  {
   "cell_type": "markdown",
   "metadata": {},
   "source": [
    "#### Graficamos la presicion de cada modelo dependiendo del numero de nodos"
   ]
  },
  {
   "cell_type": "code",
   "execution_count": 156,
   "metadata": {},
   "outputs": [
    {
     "data": {
      "image/png": "[encoded data removed]",
      "text/plain": [
       "<Figure size 432x288 with 1 Axes>"
      ]
     },
     "metadata": {
      "needs_background": "light"
     },
     "output_type": "display_data"
    }
   ],
   "source": [
    "plt.scatter(learn_list,acc_value)\n",
    "plt.show()"
   ]
  },
  {
   "cell_type": "markdown",
   "metadata": {},
   "source": [
    "#### Creamos una funcion para correr modelos donde el numero de nodos deciende por cada capa"
   ]
  },
  {
   "cell_type": "code",
   "execution_count": 163,
   "metadata": {},
   "outputs": [],
   "source": [
    "def correr_modelo_num_decend(num_nodes):\n",
    "    keras.backend.clear_session()\n",
    "    model_descend = Sequential()\n",
    "    model_descend.add(Dense(num_nodes[0],activation='relu',input_dim=784))\n",
    "    model_descend.add(Dense(num_nodes[1],activation='relu'))\n",
    "    model_descend.add(Dense(num_nodes[2],activation='relu'))\n",
    "    model_descend.add(Dense(num_nodes[3],activation='relu'))\n",
    "    model_descend.add(Dense(num_nodes[4],activation='relu'))\n",
    "    model_descend.add(Dense(10,activation='softmax'))\n",
    "    optimizer = optimizers.Adam(0.001)\n",
    "    model_descend.compile(loss='categorical_crossentropy',optimizer=optimizer ,metrics=['accuracy'])\n",
    "    model_descend.fit(X_train_stand, y_train, epochs=15,  batch_size=2**5, verbose=0)\n",
    "    return model_descend.evaluate(X_train_stand, y_train)"
   ]
  },
  {
   "cell_type": "markdown",
   "metadata": {},
   "source": [
    "#### Se va a hacer pruebas con los siguientes esquemas descendentes"
   ]
  },
  {
   "cell_type": "code",
   "execution_count": 164,
   "metadata": {},
   "outputs": [
    {
     "name": "stdout",
     "output_type": "stream",
     "text": [
      "Numero Nodos por capa\n",
      "[90, 81, 45, 36, 9]\n",
      "Numero Nodos por capa\n",
      "[100, 90, 50, 40, 10]\n",
      "Numero Nodos por capa\n",
      "[110, 99, 55, 44, 11]\n",
      "Numero Nodos por capa\n",
      "[120, 108, 60, 48, 12]\n",
      "Numero Nodos por capa\n",
      "[130, 117, 65, 52, 13]\n",
      "Numero Nodos por capa\n",
      "[140, 126, 70, 56, 14]\n",
      "Numero Nodos por capa\n",
      "[150, 135, 75, 60, 15]\n",
      "Numero Nodos por capa\n",
      "[160, 144, 80, 64, 16]\n"
     ]
    }
   ],
   "source": [
    "for i in range(9, 17):\n",
    "    listnum = []\n",
    "    listnum.append(i*10)\n",
    "    listnum.append((i*10)-i)\n",
    "    listnum.append(i*5)\n",
    "    listnum.append((i*5)-i)\n",
    "    listnum.append(i)\n",
    "    print(\"Numero Nodos por capa\")\n",
    "    print(listnum)"
   ]
  },
  {
   "cell_type": "code",
   "execution_count": 165,
   "metadata": {},
   "outputs": [
    {
     "name": "stdout",
     "output_type": "stream",
     "text": [
      "1875/1875 [==============================] - 1s 532us/step - loss: 0.1500 - accuracy: 0.9433\n",
      "1875/1875 [==============================] - 1s 539us/step - loss: 0.1525 - accuracy: 0.9434\n",
      "1875/1875 [==============================] - 1s 556us/step - loss: 0.1532 - accuracy: 0.9425\n",
      "1875/1875 [==============================] - 1s 550us/step - loss: 0.1522 - accuracy: 0.9426\n",
      "   1/1875 [..............................] - ETA: 0s - loss: 0.2490 - accuracy: 0.9062WARNING:tensorflow:Callbacks method `on_test_batch_end` is slow compared to the batch time (batch time: 0.0000s vs `on_test_batch_end` time: 0.0010s). Check your callbacks.\n",
      "1875/1875 [==============================] - 1s 588us/step - loss: 0.1405 - accuracy: 0.9504\n",
      "1875/1875 [==============================] - 1s 602us/step - loss: 0.1285 - accuracy: 0.9528\n",
      "1875/1875 [==============================] - 1s 611us/step - loss: 0.1357 - accuracy: 0.9509\n",
      "1875/1875 [==============================] - 1s 562us/step - loss: 0.1340 - accuracy: 0.9494\n"
     ]
    }
   ],
   "source": [
    "learn_list = []\n",
    "acc_value = []\n",
    "for i in range(9, 17):\n",
    "    learn_list.append(i*10)\n",
    "    listnum = []\n",
    "    listnum.append(i*10)\n",
    "    listnum.append((i*10)-i)\n",
    "    listnum.append(i*5)\n",
    "    listnum.append((i*5)-i)\n",
    "    listnum.append(i)\n",
    "    acc_value.append(correr_modelo_num_decend(listnum)[1])"
   ]
  },
  {
   "cell_type": "markdown",
   "metadata": {},
   "source": [
    "#### Dependiendo del numero de nodos graficamos la presicion"
   ]
  },
  {
   "cell_type": "code",
   "execution_count": 166,
   "metadata": {},
   "outputs": [
    {
     "data": {
      "image/png": "[encoded data removed]",
      "text/plain": [
       "<Figure size 432x288 with 1 Axes>"
      ]
     },
     "metadata": {
      "needs_background": "light"
     },
     "output_type": "display_data"
    }
   ],
   "source": [
    "plt.scatter(learn_list,acc_value)\n",
    "plt.show()"
   ]
  },
  {
   "cell_type": "markdown",
   "metadata": {},
   "source": [
    "#### Dado lo anterior seleccionamos el modelo con las siguientes caracteristicas"
   ]
  },
  {
   "cell_type": "code",
   "execution_count": 169,
   "metadata": {},
   "outputs": [
    {
     "data": {
      "text/plain": [
       "[140, 126, 70, 56, 14]"
      ]
     },
     "execution_count": 169,
     "metadata": {},
     "output_type": "execute_result"
    }
   ],
   "source": [
    "model = [140, 126, 70, 56, 14]\n",
    "model"
   ]
  },
  {
   "cell_type": "markdown",
   "metadata": {},
   "source": [
    "### 1.4 Evaluacion del modelo con los hyper parametros encontrados anteriormente"
   ]
  },
  {
   "cell_type": "code",
   "execution_count": 172,
   "metadata": {},
   "outputs": [
    {
     "name": "stdout",
     "output_type": "stream",
     "text": [
      "Epoch 1/25\n",
      "1875/1875 [==============================] - 2s 1ms/step - loss: 0.4806 - accuracy: 0.8289\n",
      "Epoch 2/25\n",
      "1875/1875 [==============================] - 2s 1ms/step - loss: 0.3536 - accuracy: 0.8726\n",
      "Epoch 3/25\n",
      "1875/1875 [==============================] - 2s 1ms/step - loss: 0.3161 - accuracy: 0.8853\n",
      "Epoch 4/25\n",
      "1875/1875 [==============================] - 2s 1ms/step - loss: 0.2909 - accuracy: 0.8939\n",
      "Epoch 5/25\n",
      "1875/1875 [==============================] - 2s 1ms/step - loss: 0.2693 - accuracy: 0.9007\n",
      "Epoch 6/25\n",
      "1875/1875 [==============================] - 2s 1ms/step - loss: 0.2549 - accuracy: 0.9072\n",
      "Epoch 7/25\n",
      "1875/1875 [==============================] - 2s 1ms/step - loss: 0.2370 - accuracy: 0.9133\n",
      "Epoch 8/25\n",
      "1875/1875 [==============================] - 2s 1ms/step - loss: 0.2247 - accuracy: 0.9157\n",
      "Epoch 9/25\n",
      "1875/1875 [==============================] - 2s 1ms/step - loss: 0.2120 - accuracy: 0.9219\n",
      "Epoch 10/25\n",
      "1875/1875 [==============================] - 2s 1ms/step - loss: 0.1989 - accuracy: 0.9258\n",
      "Epoch 11/25\n",
      "1875/1875 [==============================] - 2s 1ms/step - loss: 0.1944 - accuracy: 0.9281\n",
      "Epoch 12/25\n",
      "1875/1875 [==============================] - 2s 1ms/step - loss: 0.1819 - accuracy: 0.9335\n",
      "Epoch 13/25\n",
      "1875/1875 [==============================] - 2s 1ms/step - loss: 0.1739 - accuracy: 0.9351\n",
      "Epoch 14/25\n",
      "1875/1875 [==============================] - 2s 1ms/step - loss: 0.1631 - accuracy: 0.9387\n",
      "Epoch 15/25\n",
      "1875/1875 [==============================] - 2s 1ms/step - loss: 0.1574 - accuracy: 0.9426\n",
      "Epoch 16/25\n",
      "1875/1875 [==============================] - 2s 1ms/step - loss: 0.1511 - accuracy: 0.9442\n",
      "Epoch 17/25\n",
      "1875/1875 [==============================] - 2s 1ms/step - loss: 0.1460 - accuracy: 0.9460\n",
      "Epoch 18/25\n",
      "1875/1875 [==============================] - 2s 1ms/step - loss: 0.1376 - accuracy: 0.9492\n",
      "Epoch 19/25\n",
      "1875/1875 [==============================] - 2s 1ms/step - loss: 0.1311 - accuracy: 0.9508\n",
      "Epoch 20/25\n",
      "1875/1875 [==============================] - 2s 1ms/step - loss: 0.1306 - accuracy: 0.9520\n",
      "Epoch 21/25\n",
      "1875/1875 [==============================] - 2s 1ms/step - loss: 0.1203 - accuracy: 0.9557\n",
      "Epoch 22/25\n",
      "1875/1875 [==============================] - 2s 1ms/step - loss: 0.1171 - accuracy: 0.9567\n",
      "Epoch 23/25\n",
      "1875/1875 [==============================] - 2s 1ms/step - loss: 0.1116 - accuracy: 0.9602\n",
      "Epoch 24/25\n",
      "1875/1875 [==============================] - 2s 1ms/step - loss: 0.1111 - accuracy: 0.9597\n",
      "Epoch 25/25\n",
      "1875/1875 [==============================] - 2s 1ms/step - loss: 0.1077 - accuracy: 0.9619\n"
     ]
    },
    {
     "data": {
      "text/plain": [
       "<tensorflow.python.keras.callbacks.History at 0x2b4b12a6a60>"
      ]
     },
     "execution_count": 172,
     "metadata": {},
     "output_type": "execute_result"
    }
   ],
   "source": [
    "keras.backend.clear_session()\n",
    "model_hyperparameters = Sequential()\n",
    "model_hyperparameters.add(Dense(140,activation='relu',input_dim=784))\n",
    "model_hyperparameters.add(Dense(126,activation='relu'))\n",
    "model_hyperparameters.add(Dense(70,activation='relu'))\n",
    "model_hyperparameters.add(Dense(56,activation='relu'))\n",
    "model_hyperparameters.add(Dense(14,activation='relu'))\n",
    "model_hyperparameters.add(Dense(10,activation='softmax'))\n",
    "optimizer = optimizers.Adam(0.001)\n",
    "model_hyperparameters.compile(loss='categorical_crossentropy',optimizer=optimizer ,metrics=['accuracy'])\n",
    "model_hyperparameters.fit(X_train_stand, y_train, epochs=25,  batch_size=2**5)"
   ]
  },
  {
   "cell_type": "code",
   "execution_count": 173,
   "metadata": {},
   "outputs": [
    {
     "name": "stdout",
     "output_type": "stream",
     "text": [
      "   1/1875 [..............................] - ETA: 0s - loss: 0.0490 - accuracy: 1.0000WARNING:tensorflow:Callbacks method `on_test_batch_begin` is slow compared to the batch time (batch time: 0.0000s vs `on_test_batch_begin` time: 0.0010s). Check your callbacks.\n",
      "1875/1875 [==============================] - 1s 634us/step - loss: 0.0826 - accuracy: 0.9713\n"
     ]
    },
    {
     "data": {
      "text/plain": [
       "[0.08258344233036041, 0.9712666869163513]"
      ]
     },
     "execution_count": 173,
     "metadata": {},
     "output_type": "execute_result"
    }
   ],
   "source": [
    "model_hyperparameters.evaluate(X_train_stand, y_train)"
   ]
  },
  {
   "cell_type": "code",
   "execution_count": 174,
   "metadata": {},
   "outputs": [
    {
     "name": "stdout",
     "output_type": "stream",
     "text": [
      "313/313 [==============================] - 0s 892us/step - loss: 0.3945 - accuracy: 0.8995\n"
     ]
    },
    {
     "data": {
      "text/plain": [
       "[0.39451438188552856, 0.8995000123977661]"
      ]
     },
     "execution_count": 174,
     "metadata": {},
     "output_type": "execute_result"
    }
   ],
   "source": [
    "model_hyperparameters.evaluate(X_test_stand, y_test)"
   ]
  },
  {
   "cell_type": "code",
   "execution_count": 175,
   "metadata": {},
   "outputs": [],
   "source": [
    "y_keras_train_one_hot = model_hyperparameters.predict(X_train_stand)\n",
    "y_keras_test_one_hot = model_hyperparameters.predict(X_test_stand)"
   ]
  },
  {
   "cell_type": "code",
   "execution_count": 176,
   "metadata": {},
   "outputs": [],
   "source": [
    "y_keras_train = np.argmax(y_keras_train_one_hot,axis=1)\n",
    "y_keras_test = np.argmax(y_keras_test_one_hot,axis=1)"
   ]
  },
  {
   "cell_type": "code",
   "execution_count": 177,
   "metadata": {},
   "outputs": [
    {
     "name": "stdout",
     "output_type": "stream",
     "text": [
      "Red neuronal\n",
      "\n",
      "Train:\n",
      "\n",
      "                     precision    recall  f1-score   support\n",
      "\n",
      "           Camiseta       0.95      0.96      0.95      6000\n",
      "           Pantalón       1.00      0.99      1.00      6000\n",
      "             Suéter       0.97      0.93      0.95      6000\n",
      "            Vestido       0.97      0.98      0.97      6000\n",
      "             Abrigo       0.94      0.97      0.95      6000\n",
      "           Sandalia       1.00      0.99      0.99      6000\n",
      "             Camisa       0.93      0.92      0.93      6000\n",
      "Zapatilla deportiva       0.98      0.99      0.98      6000\n",
      "              Bolso       0.99      1.00      0.99      6000\n",
      "            Botines       0.99      0.98      0.99      6000\n",
      "\n",
      "           accuracy                           0.97     60000\n",
      "          macro avg       0.97      0.97      0.97     60000\n",
      "       weighted avg       0.97      0.97      0.97     60000\n",
      "\n",
      "\n",
      "\n",
      "Test:\n",
      "\n",
      "                     precision    recall  f1-score   support\n",
      "\n",
      "           Camiseta       0.83      0.85      0.84      1000\n",
      "           Pantalón       0.99      0.98      0.99      1000\n",
      "             Suéter       0.87      0.81      0.84      1000\n",
      "            Vestido       0.90      0.90      0.90      1000\n",
      "             Abrigo       0.84      0.88      0.86      1000\n",
      "           Sandalia       0.98      0.94      0.96      1000\n",
      "             Camisa       0.75      0.75      0.75      1000\n",
      "Zapatilla deportiva       0.92      0.95      0.94      1000\n",
      "              Bolso       0.97      0.98      0.97      1000\n",
      "            Botines       0.95      0.95      0.95      1000\n",
      "\n",
      "           accuracy                           0.90     10000\n",
      "          macro avg       0.90      0.90      0.90     10000\n",
      "       weighted avg       0.90      0.90      0.90     10000\n",
      "\n"
     ]
    }
   ],
   "source": [
    "print('Red neuronal\\n\\nTrain:\\n')\n",
    "print(classification_report(y_pred=y_keras_train,y_true=y_train_ori_int,target_names=class_names))\n",
    "print('\\n\\nTest:\\n')\n",
    "print(classification_report(y_pred=y_keras_test,y_true=y_test_ori_int,target_names=class_names))"
   ]
  },
  {
   "cell_type": "code",
   "execution_count": 178,
   "metadata": {},
   "outputs": [
    {
     "data": {
      "image/png": "[encoded data removed]",
      "text/plain": [
       "<Figure size 864x504 with 12 Axes>"
      ]
     },
     "metadata": {
      "needs_background": "light"
     },
     "output_type": "display_data"
    }
   ],
   "source": [
    "cm = sklearn.metrics.multilabel_confusion_matrix(y_true=y_2.astype(int),y_pred=y_keras_test,labels=[0,1,2,3,4,5,6,7,8,9])\n",
    "graficar_multi(cm,class_names)"
   ]
  },
  {
   "cell_type": "markdown",
   "metadata": {
    "id": "mvQSvgVqonwq"
   },
   "source": [
    "## 2. Caso varianza"
   ]
  },
  {
   "cell_type": "markdown",
   "metadata": {
    "id": "Ch2eWO8WoAGn"
   },
   "source": [
    "### Regularizacion"
   ]
  },
  {
   "cell_type": "markdown",
   "metadata": {},
   "source": [
    "#### Añadimos regularizacion L1_L2 a todas las capas de la red"
   ]
  },
  {
   "cell_type": "code",
   "execution_count": 192,
   "metadata": {},
   "outputs": [
    {
     "data": {
      "text/plain": [
       "<tensorflow.python.keras.callbacks.History at 0x2b4b1102640>"
      ]
     },
     "execution_count": 192,
     "metadata": {},
     "output_type": "execute_result"
    }
   ],
   "source": [
    "keras.backend.clear_session()\n",
    "model_reg = Sequential()\n",
    "model_reg.add(Dense(140,activation='relu',input_dim=784))\n",
    "model_reg.add(Dense(126,activation='relu',kernel_regularizer=keras.regularizers.l1_l2(0.01)))\n",
    "model_reg.add(Dense(70,activation='relu',kernel_regularizer=keras.regularizers.l1_l2(0.01)))\n",
    "model_reg.add(Dense(56,activation='relu',kernel_regularizer=keras.regularizers.l1_l2(0.01)))\n",
    "model_reg.add(Dense(14,activation='relu',kernel_regularizer=keras.regularizers.l1_l2(0.01)))\n",
    "model_reg.add(Dense(10,activation='softmax',kernel_regularizer=keras.regularizers.l1_l2(0.01)))\n",
    "optimizer = optimizers.Adam(0.001)\n",
    "model_reg.compile(loss='categorical_crossentropy',optimizer=optimizer ,metrics=['accuracy'])\n",
    "model_reg.fit(X_train_stand, y_train, epochs=60,  batch_size=2**5, verbose=0)"
   ]
  },
  {
   "cell_type": "code",
   "execution_count": 193,
   "metadata": {},
   "outputs": [
    {
     "name": "stdout",
     "output_type": "stream",
     "text": [
      "1875/1875 [==============================] - 1s 619us/step - loss: 0.6418 - accuracy: 0.9009\n"
     ]
    },
    {
     "data": {
      "text/plain": [
       "[0.6417820453643799, 0.9009000062942505]"
      ]
     },
     "execution_count": 193,
     "metadata": {},
     "output_type": "execute_result"
    }
   ],
   "source": [
    "model_reg.evaluate(X_train_stand, y_train)"
   ]
  },
  {
   "cell_type": "code",
   "execution_count": 194,
   "metadata": {},
   "outputs": [
    {
     "name": "stdout",
     "output_type": "stream",
     "text": [
      "313/313 [==============================] - 0s 879us/step - loss: 0.6917 - accuracy: 0.8835\n"
     ]
    },
    {
     "data": {
      "text/plain": [
       "[0.6917027831077576, 0.8834999799728394]"
      ]
     },
     "execution_count": 194,
     "metadata": {},
     "output_type": "execute_result"
    }
   ],
   "source": [
    "model_reg.evaluate(X_test_stand, y_test)"
   ]
  },
  {
   "cell_type": "markdown",
   "metadata": {},
   "source": [
    "#### Ahora hacemos pruebas con dropout"
   ]
  },
  {
   "cell_type": "code",
   "execution_count": 196,
   "metadata": {},
   "outputs": [
    {
     "data": {
      "text/plain": [
       "<tensorflow.python.keras.callbacks.History at 0x2b49fe99af0>"
      ]
     },
     "execution_count": 196,
     "metadata": {},
     "output_type": "execute_result"
    }
   ],
   "source": [
    "keras.backend.clear_session()\n",
    "model_dropout = Sequential()\n",
    "model_dropout.add(Dense(140,activation='relu',input_dim=784))\n",
    "model_dropout.add(Dropout(0.1))\n",
    "model_dropout.add(Dense(126,activation='relu'))\n",
    "model_dropout.add(Dropout(0.1))\n",
    "model_dropout.add(Dense(70,activation='relu'))\n",
    "model_dropout.add(Dropout(0.1))\n",
    "model_dropout.add(Dense(56,activation='relu'))\n",
    "model_dropout.add(Dropout(0.1))\n",
    "model_dropout.add(Dense(14,activation='relu'))\n",
    "model_dropout.add(Dense(10,activation='softmax'))\n",
    "optimizer = optimizers.Adam(0.001)\n",
    "model_dropout.compile(loss='categorical_crossentropy',optimizer=optimizer ,metrics=['accuracy'])\n",
    "model_dropout.fit(X_train_stand, y_train, epochs=60,  batch_size=2**5, verbose=0)"
   ]
  },
  {
   "cell_type": "code",
   "execution_count": 197,
   "metadata": {},
   "outputs": [
    {
     "name": "stdout",
     "output_type": "stream",
     "text": [
      "1875/1875 [==============================] - 1s 626us/step - loss: 0.6418 - accuracy: 0.9009\n"
     ]
    },
    {
     "data": {
      "text/plain": [
       "[0.6417820453643799, 0.9009000062942505]"
      ]
     },
     "execution_count": 197,
     "metadata": {},
     "output_type": "execute_result"
    }
   ],
   "source": [
    "model_reg.evaluate(X_train_stand, y_train)"
   ]
  },
  {
   "cell_type": "code",
   "execution_count": 198,
   "metadata": {},
   "outputs": [
    {
     "name": "stdout",
     "output_type": "stream",
     "text": [
      "313/313 [==============================] - 0s 872us/step - loss: 0.6917 - accuracy: 0.8835\n"
     ]
    },
    {
     "data": {
      "text/plain": [
       "[0.6917027831077576, 0.8834999799728394]"
      ]
     },
     "execution_count": 198,
     "metadata": {},
     "output_type": "execute_result"
    }
   ],
   "source": [
    "model_reg.evaluate(X_test_stand, y_test)"
   ]
  },
  {
   "cell_type": "markdown",
   "metadata": {
    "id": "p-PYYEOUEJ1I"
   },
   "source": [
    "# Modelo final"
   ]
  },
  {
   "cell_type": "code",
   "execution_count": 167,
   "metadata": {
    "colab": {
     "base_uri": "https://localhost:8080/"
    },
    "id": "O37fgmOn51_0",
    "outputId": "e69378e9-501e-400f-e38b-fc153245dafc"
   },
   "outputs": [
    {
     "name": "stdout",
     "output_type": "stream",
     "text": [
      "Epoch 1/100\n",
      "1875/1875 [==============================] - 2s 1ms/step - loss: 0.4828 - accuracy: 0.8275\n",
      "Epoch 2/100\n",
      "1875/1875 [==============================] - 2s 1ms/step - loss: 0.3541 - accuracy: 0.8714\n",
      "Epoch 3/100\n",
      "1875/1875 [==============================] - 2s 1ms/step - loss: 0.3177 - accuracy: 0.8836\n",
      "Epoch 4/100\n",
      "1875/1875 [==============================] - 2s 1ms/step - loss: 0.2915 - accuracy: 0.8918\n",
      "Epoch 5/100\n",
      "1875/1875 [==============================] - 2s 1ms/step - loss: 0.2711 - accuracy: 0.9000\n",
      "Epoch 6/100\n",
      "1875/1875 [==============================] - 2s 1ms/step - loss: 0.2544 - accuracy: 0.9058\n",
      "Epoch 7/100\n",
      "1875/1875 [==============================] - 2s 1ms/step - loss: 0.2374 - accuracy: 0.9121\n",
      "Epoch 8/100\n",
      "1875/1875 [==============================] - 2s 1ms/step - loss: 0.2261 - accuracy: 0.9164\n",
      "Epoch 9/100\n",
      "1875/1875 [==============================] - 2s 1ms/step - loss: 0.2127 - accuracy: 0.9205\n",
      "Epoch 10/100\n",
      "1875/1875 [==============================] - 2s 1ms/step - loss: 0.2003 - accuracy: 0.9258\n",
      "Epoch 11/100\n",
      "1875/1875 [==============================] - 2s 1ms/step - loss: 0.1912 - accuracy: 0.9285\n",
      "Epoch 12/100\n",
      "1875/1875 [==============================] - 2s 1ms/step - loss: 0.1819 - accuracy: 0.9338\n",
      "Epoch 13/100\n",
      "1875/1875 [==============================] - 2s 1ms/step - loss: 0.1724 - accuracy: 0.9349\n",
      "Epoch 14/100\n",
      "1875/1875 [==============================] - 2s 1ms/step - loss: 0.1609 - accuracy: 0.9398\n",
      "Epoch 15/100\n",
      "1875/1875 [==============================] - 2s 1ms/step - loss: 0.1589 - accuracy: 0.9411\n",
      "Epoch 16/100\n",
      "1875/1875 [==============================] - 2s 1ms/step - loss: 0.1522 - accuracy: 0.9429\n",
      "Epoch 17/100\n",
      "1875/1875 [==============================] - 2s 1ms/step - loss: 0.1451 - accuracy: 0.9468\n",
      "Epoch 18/100\n",
      "1875/1875 [==============================] - 2s 1ms/step - loss: 0.1396 - accuracy: 0.9495\n",
      "Epoch 19/100\n",
      "1875/1875 [==============================] - 2s 1ms/step - loss: 0.1329 - accuracy: 0.9519\n",
      "Epoch 20/100\n",
      "1875/1875 [==============================] - 2s 1ms/step - loss: 0.1285 - accuracy: 0.9523\n",
      "Epoch 21/100\n",
      "1875/1875 [==============================] - 2s 1ms/step - loss: 0.1239 - accuracy: 0.9541\n",
      "Epoch 22/100\n",
      "1875/1875 [==============================] - 2s 1ms/step - loss: 0.1190 - accuracy: 0.9562\n",
      "Epoch 23/100\n",
      "1875/1875 [==============================] - 2s 1ms/step - loss: 0.1142 - accuracy: 0.9584\n",
      "Epoch 24/100\n",
      "1875/1875 [==============================] - 2s 1ms/step - loss: 0.1095 - accuracy: 0.9602\n",
      "Epoch 25/100\n",
      "1875/1875 [==============================] - 2s 1ms/step - loss: 0.1038 - accuracy: 0.9620\n",
      "Epoch 26/100\n",
      "1875/1875 [==============================] - 2s 1ms/step - loss: 0.1049 - accuracy: 0.9629\n",
      "Epoch 27/100\n",
      "1875/1875 [==============================] - 2s 1ms/step - loss: 0.1013 - accuracy: 0.9644\n",
      "Epoch 28/100\n",
      "1875/1875 [==============================] - 2s 1ms/step - loss: 0.0932 - accuracy: 0.9666\n",
      "Epoch 29/100\n",
      "1875/1875 [==============================] - 2s 1ms/step - loss: 0.0977 - accuracy: 0.9650\n",
      "Epoch 30/100\n",
      "1875/1875 [==============================] - 2s 1ms/step - loss: 0.0898 - accuracy: 0.9683\n",
      "Epoch 31/100\n",
      "1875/1875 [==============================] - 2s 1ms/step - loss: 0.0910 - accuracy: 0.9678\n",
      "Epoch 32/100\n",
      "1875/1875 [==============================] - 2s 1ms/step - loss: 0.0842 - accuracy: 0.9703\n",
      "Epoch 33/100\n",
      "1875/1875 [==============================] - 2s 1ms/step - loss: 0.0818 - accuracy: 0.9718\n",
      "Epoch 34/100\n",
      "1875/1875 [==============================] - 2s 1ms/step - loss: 0.0782 - accuracy: 0.9724\n",
      "Epoch 35/100\n",
      "1875/1875 [==============================] - 2s 1ms/step - loss: 0.0789 - accuracy: 0.9715\n",
      "Epoch 36/100\n",
      "1875/1875 [==============================] - 2s 1ms/step - loss: 0.0810 - accuracy: 0.9721\n",
      "Epoch 37/100\n",
      "1875/1875 [==============================] - 2s 1ms/step - loss: 0.0751 - accuracy: 0.9742\n",
      "Epoch 38/100\n",
      "1875/1875 [==============================] - 2s 1ms/step - loss: 0.0702 - accuracy: 0.9754\n",
      "Epoch 39/100\n",
      "1875/1875 [==============================] - 2s 1ms/step - loss: 0.0721 - accuracy: 0.9755\n",
      "Epoch 40/100\n",
      "1875/1875 [==============================] - 2s 1ms/step - loss: 0.0653 - accuracy: 0.9774\n",
      "Epoch 41/100\n",
      "1875/1875 [==============================] - 2s 1ms/step - loss: 0.0711 - accuracy: 0.9759\n",
      "Epoch 42/100\n",
      "1875/1875 [==============================] - 2s 1ms/step - loss: 0.0678 - accuracy: 0.9761\n",
      "Epoch 43/100\n",
      "1875/1875 [==============================] - 2s 1ms/step - loss: 0.0631 - accuracy: 0.9779\n",
      "Epoch 44/100\n",
      "1875/1875 [==============================] - 2s 1ms/step - loss: 0.0623 - accuracy: 0.9781\n",
      "Epoch 45/100\n",
      "1875/1875 [==============================] - 2s 1ms/step - loss: 0.0621 - accuracy: 0.9785\n",
      "Epoch 46/100\n",
      "1875/1875 [==============================] - 2s 1ms/step - loss: 0.0639 - accuracy: 0.9779\n",
      "Epoch 47/100\n",
      "1875/1875 [==============================] - 2s 1ms/step - loss: 0.0559 - accuracy: 0.9812\n",
      "Epoch 48/100\n",
      "1875/1875 [==============================] - 2s 1ms/step - loss: 0.0547 - accuracy: 0.9816\n",
      "Epoch 49/100\n",
      "1875/1875 [==============================] - 2s 1ms/step - loss: 0.0634 - accuracy: 0.9789\n",
      "Epoch 50/100\n",
      "1875/1875 [==============================] - 2s 1ms/step - loss: 0.0545 - accuracy: 0.9814\n",
      "Epoch 51/100\n",
      "1875/1875 [==============================] - 2s 1ms/step - loss: 0.0547 - accuracy: 0.9815\n",
      "Epoch 52/100\n",
      "1875/1875 [==============================] - 2s 1ms/step - loss: 0.0553 - accuracy: 0.9815\n",
      "Epoch 53/100\n",
      "1875/1875 [==============================] - 2s 1ms/step - loss: 0.0563 - accuracy: 0.9813\n",
      "Epoch 54/100\n",
      "1875/1875 [==============================] - 2s 1ms/step - loss: 0.0506 - accuracy: 0.9830\n",
      "Epoch 55/100\n",
      "1875/1875 [==============================] - 2s 1ms/step - loss: 0.0550 - accuracy: 0.9823\n",
      "Epoch 56/100\n",
      "1875/1875 [==============================] - 2s 1ms/step - loss: 0.0465 - accuracy: 0.9843\n",
      "Epoch 57/100\n",
      "1875/1875 [==============================] - 2s 1ms/step - loss: 0.0508 - accuracy: 0.9833\n",
      "Epoch 58/100\n",
      "1875/1875 [==============================] - 2s 1ms/step - loss: 0.0505 - accuracy: 0.9828\n",
      "Epoch 59/100\n",
      "1875/1875 [==============================] - 2s 1ms/step - loss: 0.0460 - accuracy: 0.9843\n",
      "Epoch 60/100\n",
      "1875/1875 [==============================] - 2s 1ms/step - loss: 0.0529 - accuracy: 0.9832\n",
      "Epoch 61/100\n",
      "1875/1875 [==============================] - 2s 1ms/step - loss: 0.0501 - accuracy: 0.9841\n",
      "Epoch 62/100\n",
      "1875/1875 [==============================] - 2s 1ms/step - loss: 0.0503 - accuracy: 0.9843\n",
      "Epoch 63/100\n",
      "1875/1875 [==============================] - 2s 1ms/step - loss: 0.0492 - accuracy: 0.9843\n",
      "Epoch 64/100\n",
      "1875/1875 [==============================] - 2s 1ms/step - loss: 0.0432 - accuracy: 0.9860\n",
      "Epoch 65/100\n",
      "1875/1875 [==============================] - 2s 1ms/step - loss: 0.0484 - accuracy: 0.9844\n",
      "Epoch 66/100\n",
      "1875/1875 [==============================] - 2s 1ms/step - loss: 0.0430 - accuracy: 0.9867\n",
      "Epoch 67/100\n",
      "1875/1875 [==============================] - 2s 1ms/step - loss: 0.0406 - accuracy: 0.9865\n",
      "Epoch 68/100\n",
      "1875/1875 [==============================] - 2s 1ms/step - loss: 0.0406 - accuracy: 0.9874\n",
      "Epoch 69/100\n",
      "1875/1875 [==============================] - 2s 1ms/step - loss: 0.0428 - accuracy: 0.9868\n",
      "Epoch 70/100\n",
      "1875/1875 [==============================] - 2s 1ms/step - loss: 0.0429 - accuracy: 0.9867\n",
      "Epoch 71/100\n",
      "1875/1875 [==============================] - 2s 1ms/step - loss: 0.0393 - accuracy: 0.9873\n",
      "Epoch 72/100\n",
      "1875/1875 [==============================] - 2s 1ms/step - loss: 0.0420 - accuracy: 0.9869\n",
      "Epoch 73/100\n",
      "1875/1875 [==============================] - 2s 1ms/step - loss: 0.0422 - accuracy: 0.9873\n",
      "Epoch 74/100\n",
      "1875/1875 [==============================] - 2s 1ms/step - loss: 0.0371 - accuracy: 0.9883\n",
      "Epoch 75/100\n",
      "1875/1875 [==============================] - 2s 1ms/step - loss: 0.0475 - accuracy: 0.9851\n",
      "Epoch 76/100\n",
      "1875/1875 [==============================] - 2s 1ms/step - loss: 0.0338 - accuracy: 0.9889\n",
      "Epoch 77/100\n",
      "1875/1875 [==============================] - 2s 1ms/step - loss: 0.0360 - accuracy: 0.9888\n",
      "Epoch 78/100\n",
      "1875/1875 [==============================] - 2s 1ms/step - loss: 0.0365 - accuracy: 0.9885\n",
      "Epoch 79/100\n"
     ]
    },
    {
     "name": "stdout",
     "output_type": "stream",
     "text": [
      "1875/1875 [==============================] - 2s 1ms/step - loss: 0.0399 - accuracy: 0.9878\n",
      "Epoch 80/100\n",
      "1875/1875 [==============================] - 2s 1ms/step - loss: 0.0404 - accuracy: 0.9871\n",
      "Epoch 81/100\n",
      "1875/1875 [==============================] - 2s 1ms/step - loss: 0.0302 - accuracy: 0.9902\n",
      "Epoch 82/100\n",
      "1875/1875 [==============================] - 2s 1ms/step - loss: 0.0426 - accuracy: 0.9872\n",
      "Epoch 83/100\n",
      "1875/1875 [==============================] - 2s 1ms/step - loss: 0.0341 - accuracy: 0.9889\n",
      "Epoch 84/100\n",
      "1875/1875 [==============================] - 2s 1ms/step - loss: 0.0385 - accuracy: 0.9885\n",
      "Epoch 85/100\n",
      "1875/1875 [==============================] - 2s 1ms/step - loss: 0.0328 - accuracy: 0.9899\n",
      "Epoch 86/100\n",
      "1875/1875 [==============================] - 2s 1ms/step - loss: 0.0384 - accuracy: 0.9883\n",
      "Epoch 87/100\n",
      "1875/1875 [==============================] - 2s 1ms/step - loss: 0.0301 - accuracy: 0.9903\n",
      "Epoch 88/100\n",
      "1875/1875 [==============================] - 2s 1ms/step - loss: 0.0371 - accuracy: 0.9884\n",
      "Epoch 89/100\n",
      "1875/1875 [==============================] - 2s 1ms/step - loss: 0.0365 - accuracy: 0.9898\n",
      "Epoch 90/100\n",
      "1875/1875 [==============================] - 2s 1ms/step - loss: 0.0363 - accuracy: 0.9890\n",
      "Epoch 91/100\n",
      "1875/1875 [==============================] - 2s 1ms/step - loss: 0.0330 - accuracy: 0.9897\n",
      "Epoch 92/100\n",
      "1875/1875 [==============================] - 2s 1ms/step - loss: 0.0365 - accuracy: 0.9895\n",
      "Epoch 93/100\n",
      "1875/1875 [==============================] - 2s 1ms/step - loss: 0.0324 - accuracy: 0.9901\n",
      "Epoch 94/100\n",
      "1875/1875 [==============================] - 2s 1ms/step - loss: 0.0356 - accuracy: 0.9892\n",
      "Epoch 95/100\n",
      "1875/1875 [==============================] - 2s 1ms/step - loss: 0.0370 - accuracy: 0.9897\n",
      "Epoch 96/100\n",
      "1875/1875 [==============================] - 2s 1ms/step - loss: 0.0305 - accuracy: 0.9905\n",
      "Epoch 97/100\n",
      "1875/1875 [==============================] - 2s 1ms/step - loss: 0.0323 - accuracy: 0.9896\n",
      "Epoch 98/100\n",
      "1875/1875 [==============================] - 2s 1ms/step - loss: 0.0308 - accuracy: 0.9905\n",
      "Epoch 99/100\n",
      "1875/1875 [==============================] - 2s 1ms/step - loss: 0.0364 - accuracy: 0.9895\n",
      "Epoch 100/100\n",
      "1875/1875 [==============================] - 2s 1ms/step - loss: 0.0341 - accuracy: 0.9903\n"
     ]
    },
    {
     "data": {
      "text/plain": [
       "<tensorflow.python.keras.callbacks.History at 0x2b4aaa3a7f0>"
      ]
     },
     "execution_count": 167,
     "metadata": {},
     "output_type": "execute_result"
    }
   ],
   "source": [
    "keras.backend.clear_session()\n",
    "model_final = Sequential()\n",
    "model_final.add(Dense(140,activation='relu',input_dim=784))\n",
    "model_final.add(Dense(126,activation='relu'))\n",
    "model_final.add(Dense(70,activation='relu'))\n",
    "model_final.add(Dense(56,activation='relu'))\n",
    "model_final.add(Dense(14,activation='relu'))\n",
    "model_final.add(Dense(10,activation='softmax'))\n",
    "optimizer = optimizers.Adam(0.001)\n",
    "model_final.compile(loss='categorical_crossentropy',optimizer=optimizer ,metrics=['accuracy'])\n",
    "model_final.fit(X_train_stand, y_train, epochs=100,  batch_size=2**5)"
   ]
  },
  {
   "cell_type": "code",
   "execution_count": 168,
   "metadata": {
    "colab": {
     "base_uri": "https://localhost:8080/"
    },
    "id": "8o6vJoLw9K01",
    "outputId": "52c9129d-4f91-47d7-ed22-79fa066b2e59"
   },
   "outputs": [
    {
     "name": "stdout",
     "output_type": "stream",
     "text": [
      "1875/1875 [==============================] - 1s 602us/step - loss: 0.0277 - accuracy: 0.9918\n"
     ]
    },
    {
     "data": {
      "text/plain": [
       "[0.027696620672941208, 0.9918166399002075]"
      ]
     },
     "execution_count": 168,
     "metadata": {},
     "output_type": "execute_result"
    }
   ],
   "source": [
    "model_final.evaluate(X_train_stand, y_train)"
   ]
  },
  {
   "cell_type": "code",
   "execution_count": 86,
   "metadata": {
    "colab": {
     "base_uri": "https://localhost:8080/"
    },
    "id": "apRSu7GQ9OmG",
    "outputId": "a010a409-c1eb-492b-a0cd-a5006a3c7c25"
   },
   "outputs": [
    {
     "name": "stdout",
     "output_type": "stream",
     "text": [
      "313/313 [==============================] - 0s 850us/step - loss: 0.8718 - accuracy: 0.8999\n"
     ]
    },
    {
     "data": {
      "text/plain": [
       "[0.8718494176864624, 0.8999000191688538]"
      ]
     },
     "execution_count": 86,
     "metadata": {},
     "output_type": "execute_result"
    }
   ],
   "source": [
    "model_final.evaluate(X_test_stand, y_test)"
   ]
  }
 ],
 "metadata": {
  "colab": {
   "collapsed_sections": [
    "wvZlwujoPbC_",
    "Q29yy2Y1NwWt",
    "6nhHOsPVhZhj",
    "s679voQCe0Qm",
    "x8SIrW1UhsbM",
    "y9VeLFKDimF5",
    "9R0ueHS3is-R",
    "NzCaDGvinQfp",
    "eIYBDmS5qjwB",
    "h1shEqJuYfdI",
    "dihYGtnHYdTh",
    "ViZ9Vs6Pq1Bn",
    "wgaAKvK4bi0q",
    "tx2xtLnjbuEC",
    "n-SUTwMmduGO",
    "6c3wZn7wiGFU",
    "l8Vsk6bbpP0I",
    "_UyzAFmNk0yT",
    "InhOT_v-odc3",
    "yMjJ7YLcpU8P",
    "WcSKvZz1l3kZ",
    "d0saXUcgoieh",
    "mvQSvgVqonwq",
    "p-PYYEOUEJ1I"
   ],
   "name": "Proyecto 222.ipynb",
   "provenance": [],
   "toc_visible": true
  },
  "kernelspec": {
   "display_name": "Python 3",
   "language": "python",
   "name": "python3"
  },
  "language_info": {
   "codemirror_mode": {
    "name": "ipython",
    "version": 3
   },
   "file_extension": ".py",
   "mimetype": "text/x-python",
   "name": "python",
   "nbconvert_exporter": "python",
   "pygments_lexer": "ipython3",
   "version": "3.8.6"
  }
 },
 "nbformat": 4,
 "nbformat_minor": 1
}
