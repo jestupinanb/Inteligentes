{
 "cells": [
  {
   "cell_type": "markdown",
   "metadata": {
    "id": "cJBvbQRXhQjT"
   },
   "source": [
    "# Importar librerias y el dataset\n",
    "\n"
   ]
  },
  {
   "cell_type": "code",
   "execution_count": 2,
   "metadata": {},
   "outputs": [
    {
     "name": "stdout",
     "output_type": "stream",
     "text": [
      "Collecting pandas\n",
      "  Downloading pandas-1.1.4-cp37-cp37m-win32.whl (7.8 MB)\n",
      "Requirement already satisfied: numpy>=1.15.4 in c:\\users\\jaime\\appdata\\local\\programs\\python\\python37-32\\lib\\site-packages (from pandas) (1.19.2)\n",
      "Requirement already satisfied: python-dateutil>=2.7.3 in c:\\users\\jaime\\appdata\\local\\programs\\python\\python37-32\\lib\\site-packages (from pandas) (2.8.1)\n",
      "Requirement already satisfied: six>=1.5 in c:\\users\\jaime\\appdata\\local\\programs\\python\\python37-32\\lib\\site-packages (from python-dateutil>=2.7.3->pandas) (1.15.0)\n",
      "Collecting pytz>=2017.2\n",
      "  Downloading pytz-2020.4-py2.py3-none-any.whl (509 kB)\n",
      "Installing collected packages: pytz, pandas\n",
      "Successfully installed pandas-1.1.4 pytz-2020.4\n",
      "Note: you may need to restart the kernel to use updated packages.\n"
     ]
    }
   ],
   "source": [
    "pip install pandas\n",
    "pip install sklearn\n",
    "pip install "
   ]
  },
  {
   "cell_type": "code",
   "execution_count": 3,
   "metadata": {
    "id": "gPfU3aCwx53L"
   },
   "outputs": [
    {
     "ename": "ModuleNotFoundError",
     "evalue": "No module named 'sklearn'",
     "output_type": "error",
     "traceback": [
      "\u001b[1;31m---------------------------------------------------------------------------\u001b[0m",
      "\u001b[1;31mModuleNotFoundError\u001b[0m                       Traceback (most recent call last)",
      "\u001b[1;32m<ipython-input-3-52a401469052>\u001b[0m in \u001b[0;36m<module>\u001b[1;34m\u001b[0m\n\u001b[0;32m      2\u001b[0m \u001b[1;32mimport\u001b[0m \u001b[0mpandas\u001b[0m \u001b[1;32mas\u001b[0m \u001b[0mpd\u001b[0m \u001b[1;31m# data processing, CSV file I/O (e.g. pd.read_csv)\u001b[0m\u001b[1;33m\u001b[0m\u001b[1;33m\u001b[0m\u001b[0m\n\u001b[0;32m      3\u001b[0m \u001b[1;32mfrom\u001b[0m \u001b[0mnumpy\u001b[0m \u001b[1;32mimport\u001b[0m \u001b[0mgenfromtxt\u001b[0m\u001b[1;33m\u001b[0m\u001b[1;33m\u001b[0m\u001b[0m\n\u001b[1;32m----> 4\u001b[1;33m \u001b[1;32mimport\u001b[0m \u001b[0msklearn\u001b[0m\u001b[1;33m\u001b[0m\u001b[1;33m\u001b[0m\u001b[0m\n\u001b[0m\u001b[0;32m      5\u001b[0m \u001b[1;32mfrom\u001b[0m \u001b[0msklearn\u001b[0m\u001b[1;33m.\u001b[0m\u001b[0mneural_network\u001b[0m \u001b[1;32mimport\u001b[0m \u001b[0mMLPClassifier\u001b[0m\u001b[1;33m\u001b[0m\u001b[1;33m\u001b[0m\u001b[0m\n\u001b[0;32m      6\u001b[0m \u001b[1;32mfrom\u001b[0m \u001b[0msklearn\u001b[0m\u001b[1;33m.\u001b[0m\u001b[0mmetrics\u001b[0m \u001b[1;32mimport\u001b[0m \u001b[0maccuracy_score\u001b[0m\u001b[1;33m\u001b[0m\u001b[1;33m\u001b[0m\u001b[0m\n",
      "\u001b[1;31mModuleNotFoundError\u001b[0m: No module named 'sklearn'"
     ]
    }
   ],
   "source": [
    "import numpy as np # linear algebra\n",
    "import pandas as pd # data processing, CSV file I/O (e.g. pd.read_csv)\n",
    "from numpy import genfromtxt\n",
    "import sklearn\n",
    "from sklearn.neural_network import MLPClassifier\n",
    "from sklearn.metrics import accuracy_score\n",
    "from sklearn.naive_bayes import MultinomialNB\n",
    "from google.colab import files\n",
    "import io\n",
    "from sklearn.tree import DecisionTreeClassifier\n",
    "import matplotlib.pyplot as plt\n",
    "import keras\n",
    "from keras.models import Sequential\n",
    "from keras.layers import Dense, Dropout, Activation\n",
    "from keras.optimizers import SGD\n",
    "import tensorflow as tf\n",
    "from tensorflow.keras import optimizers\n",
    "\n",
    "from sklearn.metrics import precision_score\n",
    "from sklearn.metrics import classification_report"
   ]
  },
  {
   "cell_type": "markdown",
   "metadata": {
    "id": "wvZlwujoPbC_"
   },
   "source": [
    "#Funciones adicionales"
   ]
  },
  {
   "cell_type": "markdown",
   "metadata": {
    "id": "Q29yy2Y1NwWt"
   },
   "source": [
    "##Plot confusion matrix multi label"
   ]
  },
  {
   "cell_type": "code",
   "execution_count": null,
   "metadata": {
    "id": "6N5YFnZ7NTb2"
   },
   "outputs": [],
   "source": [
    "import pandas as pd\n",
    "import matplotlib.pyplot as plt\n",
    "import seaborn as sns\n",
    "\n",
    "\n",
    "def print_confusion_matrix(confusion_matrix, axes, class_label, class_names, fontsize=14):\n",
    "\n",
    "    df_cm = pd.DataFrame(\n",
    "        confusion_matrix, index=class_names, columns=class_names,\n",
    "    )\n",
    "\n",
    "    try:\n",
    "        heatmap = sns.heatmap(df_cm, annot=True, fmt=\"d\", cbar=False, ax=axes)\n",
    "    except ValueError:\n",
    "        raise ValueError(\"Confusion matrix values must be integers.\")\n",
    "    heatmap.yaxis.set_ticklabels(heatmap.yaxis.get_ticklabels(), rotation=0, ha='right', fontsize=fontsize)\n",
    "    heatmap.xaxis.set_ticklabels(heatmap.xaxis.get_ticklabels(), rotation=45, ha='right', fontsize=fontsize)\n",
    "    axes.set_xlabel('Predicted label')\n",
    "    axes.set_ylabel('True label')\n",
    "    axes.set_title(\"CM for the class - \" + class_label)"
   ]
  },
  {
   "cell_type": "code",
   "execution_count": null,
   "metadata": {
    "id": "kuSVZkgtP8eo"
   },
   "outputs": [],
   "source": [
    "#Test\n",
    "y_b =  [1,1,4,1,1,1]\n",
    "y_b2 = [1,1,3,5,5,5]"
   ]
  },
  {
   "cell_type": "code",
   "execution_count": null,
   "metadata": {
    "id": "-EoR9Y70N8GN"
   },
   "outputs": [],
   "source": [
    "def graficar_multi(cm,class_names):\n",
    "    fig, ax = plt.subplots(4, 3, figsize=(12, 7))\n",
    "\n",
    "    for axes, cfs_matrix, label in zip(ax.flatten(), cm, class_names):\n",
    "      print_confusion_matrix(cfs_matrix, axes, label, [\"N\", \"Y\"])\n",
    "        \n",
    "    fig.tight_layout()\n",
    "    plt.show()"
   ]
  },
  {
   "cell_type": "markdown",
   "metadata": {
    "id": "6nhHOsPVhZhj"
   },
   "source": [
    "# Importacion de los dataset y muestra de los datos"
   ]
  },
  {
   "cell_type": "markdown",
   "metadata": {
    "id": "s679voQCe0Qm"
   },
   "source": [
    "## Importamos el dataset de la libreria de keras para poder realizar su visualizacion "
   ]
  },
  {
   "cell_type": "code",
   "execution_count": null,
   "metadata": {
    "id": "DXHH7QD4gU3Y"
   },
   "outputs": [],
   "source": [
    "fashion_mnist = keras.datasets.fashion_mnist\n",
    "(train_images, train_labels), (test_images, test_labels) = fashion_mnist.load_data()"
   ]
  },
  {
   "cell_type": "code",
   "execution_count": null,
   "metadata": {
    "colab": {
     "base_uri": "https://localhost:8080/",
     "height": 0
    },
    "id": "pHmDZJdje94y",
    "outputId": "e9202c7c-9487-4e80-f4b4-9f6700e752b3"
   },
   "outputs": [],
   "source": [
    "plt.figure()\n",
    "plt.imshow(train_images[3])\n",
    "plt.colorbar()\n",
    "plt.grid(False)\n",
    "plt.show()"
   ]
  },
  {
   "cell_type": "code",
   "execution_count": null,
   "metadata": {
    "id": "4HWYSuF8h-mA"
   },
   "outputs": [],
   "source": [
    "class_names = ['Camiseta', 'Pantalón', 'Suéter', 'Vestido', 'Abrigo',\n",
    "'Sandalia', 'Camisa', 'Zapatilla deportiva', 'Bolso', 'Botines']"
   ]
  },
  {
   "cell_type": "code",
   "execution_count": null,
   "metadata": {
    "colab": {
     "base_uri": "https://localhost:8080/",
     "height": 0
    },
    "id": "Upm45Kt0iL36",
    "outputId": "6e746a15-5367-429a-f687-1da15696ccf9"
   },
   "outputs": [],
   "source": [
    "plt.figure(figsize=(10,10))\n",
    "for i in range(50):\n",
    "  plt.subplot(5,10,i+1)\n",
    "  plt.xticks([])\n",
    "  plt.yticks([])\n",
    "  plt.grid(False)\n",
    "  plt.imshow(train_images[i], cmap=plt.cm.binary)\n",
    "  plt.xlabel(class_names[train_labels[i]])\n",
    "plt.show()"
   ]
  },
  {
   "cell_type": "code",
   "execution_count": null,
   "metadata": {
    "id": "90q_GTZNmfaA"
   },
   "outputs": [],
   "source": [
    "train_images = train_images / 255"
   ]
  },
  {
   "cell_type": "code",
   "execution_count": null,
   "metadata": {
    "id": "79sxEh-emiG9"
   },
   "outputs": [],
   "source": [
    "test_images = test_images / 255"
   ]
  },
  {
   "cell_type": "code",
   "execution_count": null,
   "metadata": {
    "colab": {
     "base_uri": "https://localhost:8080/",
     "height": 0
    },
    "id": "e6547eicmjER",
    "outputId": "ffb49963-cc08-44bc-9a1d-18a2bc89c840"
   },
   "outputs": [],
   "source": [
    "plt.figure()\n",
    "plt.imshow(train_images[3])\n",
    "plt.colorbar()\n",
    "plt.grid(False)\n",
    "plt.show()"
   ]
  },
  {
   "cell_type": "markdown",
   "metadata": {
    "id": "x8SIrW1UhsbM"
   },
   "source": [
    "## Importamos el data set desde los archivos .csv para el entrenamiento del modelo"
   ]
  },
  {
   "cell_type": "markdown",
   "metadata": {
    "id": "y9VeLFKDimF5"
   },
   "source": [
    "### Importamos el conjunto de datos de entrenamieto"
   ]
  },
  {
   "cell_type": "code",
   "execution_count": null,
   "metadata": {
    "id": "ntJAQ9Nux_2E"
   },
   "outputs": [],
   "source": [
    "my_data_1 = genfromtxt('fashion-mnist_train.csv', delimiter=',')"
   ]
  },
  {
   "cell_type": "code",
   "execution_count": null,
   "metadata": {
    "id": "msJzMoJIyhX7"
   },
   "outputs": [],
   "source": [
    "my_data_1 = np.delete(my_data_1, 0, 0)"
   ]
  },
  {
   "cell_type": "code",
   "execution_count": null,
   "metadata": {
    "colab": {
     "base_uri": "https://localhost:8080/"
    },
    "id": "QIU4TJf8yiCh",
    "outputId": "de3bd247-7405-4f69-8030-224758cbb116"
   },
   "outputs": [],
   "source": [
    "my_data_1"
   ]
  },
  {
   "cell_type": "code",
   "execution_count": null,
   "metadata": {
    "colab": {
     "base_uri": "https://localhost:8080/"
    },
    "id": "K1jImFkBynGJ",
    "outputId": "7dd5a520-800d-4027-b733-edc8f621fa24"
   },
   "outputs": [],
   "source": [
    "X_train = np.delete(my_data_1, 0, 1)\n",
    "X_train"
   ]
  },
  {
   "cell_type": "code",
   "execution_count": null,
   "metadata": {
    "colab": {
     "base_uri": "https://localhost:8080/"
    },
    "id": "y24Wqnf6ylqQ",
    "outputId": "f0da5e99-54be-4db8-f9a2-409698d490b3"
   },
   "outputs": [],
   "source": [
    "y = my_data_1[:,0]\n",
    "y"
   ]
  },
  {
   "cell_type": "code",
   "execution_count": null,
   "metadata": {
    "colab": {
     "base_uri": "https://localhost:8080/"
    },
    "id": "5KngeaeU71vB",
    "outputId": "5a26de24-0b51-40ca-aa3b-d1034810c6aa"
   },
   "outputs": [],
   "source": [
    "y_train = keras.utils.to_categorical(y,num_classes=10)\n",
    "y_train"
   ]
  },
  {
   "cell_type": "code",
   "execution_count": null,
   "metadata": {
    "colab": {
     "base_uri": "https://localhost:8080/"
    },
    "id": "cuLgR8BhlZyu",
    "outputId": "b0843094-c1c5-43e4-c463-8e7412238528"
   },
   "outputs": [],
   "source": [
    "X_train.shape"
   ]
  },
  {
   "cell_type": "code",
   "execution_count": null,
   "metadata": {
    "colab": {
     "base_uri": "https://localhost:8080/"
    },
    "id": "8A7BnuVRmXU2",
    "outputId": "063b0135-73e7-4b0a-e592-dba7afe0a833"
   },
   "outputs": [],
   "source": [
    "y_train.shape"
   ]
  },
  {
   "cell_type": "markdown",
   "metadata": {
    "id": "9R0ueHS3is-R"
   },
   "source": [
    "### Importamos el conjunto de datos de prueba"
   ]
  },
  {
   "cell_type": "code",
   "execution_count": null,
   "metadata": {
    "id": "Wr8PDFA2EruS"
   },
   "outputs": [],
   "source": [
    "my_data_2 = genfromtxt('fashion-mnist_test.csv', delimiter=',')"
   ]
  },
  {
   "cell_type": "code",
   "execution_count": null,
   "metadata": {
    "id": "ZDZj7ib-E42w"
   },
   "outputs": [],
   "source": [
    "my_data_2 = np.delete(my_data_2, 0, 0)"
   ]
  },
  {
   "cell_type": "code",
   "execution_count": null,
   "metadata": {
    "colab": {
     "base_uri": "https://localhost:8080/"
    },
    "id": "SlQ12aPnE1pM",
    "outputId": "870ceb43-e55a-4f49-b520-920d536b74f2"
   },
   "outputs": [],
   "source": [
    "my_data_2"
   ]
  },
  {
   "cell_type": "code",
   "execution_count": null,
   "metadata": {
    "colab": {
     "base_uri": "https://localhost:8080/"
    },
    "id": "87t26L3Mn0Co",
    "outputId": "4539e405-b919-441c-b0a1-faf61c14eb22"
   },
   "outputs": [],
   "source": [
    "X_test = np.delete(my_data_2, 0, 1)\n",
    "X_test"
   ]
  },
  {
   "cell_type": "code",
   "execution_count": null,
   "metadata": {
    "colab": {
     "base_uri": "https://localhost:8080/"
    },
    "id": "GjltP2TWn4tq",
    "outputId": "f0cc4857-bad5-4582-d45a-9153d46cdbc7"
   },
   "outputs": [],
   "source": [
    "y_2 = my_data_2[:,0]\n",
    "y_2"
   ]
  },
  {
   "cell_type": "code",
   "execution_count": null,
   "metadata": {
    "colab": {
     "base_uri": "https://localhost:8080/"
    },
    "id": "6G3EAFYPn7jN",
    "outputId": "3e0e6fcb-62bf-4227-8521-cd4c8417e4d6"
   },
   "outputs": [],
   "source": [
    "y_test = keras.utils.to_categorical(y_2,num_classes=10)\n",
    "y_test"
   ]
  },
  {
   "cell_type": "code",
   "execution_count": null,
   "metadata": {
    "colab": {
     "base_uri": "https://localhost:8080/"
    },
    "id": "42VGD8yupE0B",
    "outputId": "3fdf25a6-8f77-4ef7-9f22-71d767ba5a47"
   },
   "outputs": [],
   "source": [
    "X_test.shape"
   ]
  },
  {
   "cell_type": "code",
   "execution_count": null,
   "metadata": {
    "colab": {
     "base_uri": "https://localhost:8080/"
    },
    "id": "CdRw7JBapHCt",
    "outputId": "a6b9915d-a3c6-41f5-90b5-56c345bf8c7f"
   },
   "outputs": [],
   "source": [
    "y_test.shape"
   ]
  },
  {
   "cell_type": "markdown",
   "metadata": {
    "id": "R3-DyW9Jh1U0"
   },
   "source": [
    "#Modelo inicial"
   ]
  },
  {
   "cell_type": "markdown",
   "metadata": {
    "id": "NzCaDGvinQfp"
   },
   "source": [
    "## Modelos SKlearn"
   ]
  },
  {
   "cell_type": "markdown",
   "metadata": {
    "id": "eIYBDmS5qjwB"
   },
   "source": [
    "###1.Probando una clasificador con Navie bayes MultinomialNB"
   ]
  },
  {
   "cell_type": "markdown",
   "metadata": {
    "id": "h1shEqJuYfdI"
   },
   "source": [
    "####Entrenamiento"
   ]
  },
  {
   "cell_type": "code",
   "execution_count": null,
   "metadata": {
    "id": "c4RbhioVy8yO"
   },
   "outputs": [],
   "source": [
    "clf = MultinomialNB()"
   ]
  },
  {
   "cell_type": "code",
   "execution_count": null,
   "metadata": {
    "colab": {
     "base_uri": "https://localhost:8080/"
    },
    "id": "bv9pJ9J4ytAq",
    "outputId": "348c29b5-7672-4c81-9251-9c48d727573e"
   },
   "outputs": [],
   "source": [
    "clf.fit(X_train, y)"
   ]
  },
  {
   "cell_type": "markdown",
   "metadata": {
    "id": "dihYGtnHYdTh"
   },
   "source": [
    "####Resultados"
   ]
  },
  {
   "cell_type": "code",
   "execution_count": null,
   "metadata": {
    "id": "8iiMzGyIVltW"
   },
   "outputs": [],
   "source": [
    "y_naive_bayes = clf.predict(X_train)\n",
    "y_naive_bayes_test = clf.predict(X_test)"
   ]
  },
  {
   "cell_type": "code",
   "execution_count": null,
   "metadata": {
    "colab": {
     "base_uri": "https://localhost:8080/"
    },
    "id": "TihzolqEy-Ca",
    "outputId": "ca37e620-666b-4c7f-9236-83c351ccdecd"
   },
   "outputs": [],
   "source": [
    "clf.score(X_train, y)"
   ]
  },
  {
   "cell_type": "code",
   "execution_count": null,
   "metadata": {
    "colab": {
     "base_uri": "https://localhost:8080/"
    },
    "id": "ZhV-ldx9XfD1",
    "outputId": "556321a4-dee8-4397-d5fa-07acb2f22476"
   },
   "outputs": [],
   "source": [
    "clf.score(X_test, y_2)"
   ]
  },
  {
   "cell_type": "code",
   "execution_count": null,
   "metadata": {
    "colab": {
     "base_uri": "https://localhost:8080/"
    },
    "id": "FH23j96-UrBz",
    "outputId": "95927fa2-085d-4450-ca21-0e85d8d911b1"
   },
   "outputs": [],
   "source": [
    "print('Naive Bayes\\n\\nTrain:\\n')\n",
    "print('Orden de las etiquetas: \\n{}'.format(class_names))\n",
    "print('Precision por clase: \\n{}'.format(precision_score(y, y_naive_bayes, average=None)))\n",
    "print('Precisión micro: \\n{}'.format(precision_score(y, y_naive_bayes, average='micro')))\n",
    "print('Precisión macro: \\n{}'.format(precision_score(y, y_naive_bayes, average='macro')))\n",
    "print('Precisión pesada: \\n{}'.format(precision_score(y, y_naive_bayes, average='weighted')))\n",
    "print('\\n\\nTest:\\n')\n",
    "print('Orden de las etiquetas: \\n{}'.format(class_names))\n",
    "print('Precision por clase: \\n{}'.format(precision_score(y_2, y_naive_bayes_test, average=None)))\n",
    "print('Precisión micro: \\n{}'.format(precision_score(y_2, y_naive_bayes_test, average='micro')))\n",
    "print('Precisión macro: \\n{}'.format(precision_score(y_2, y_naive_bayes_test, average='macro')))\n",
    "print('Precisión pesada: \\n{}'.format(precision_score(y_2, y_naive_bayes_test, average='weighted')))"
   ]
  },
  {
   "cell_type": "code",
   "execution_count": null,
   "metadata": {
    "colab": {
     "base_uri": "https://localhost:8080/"
    },
    "id": "528K54vPZaKJ",
    "outputId": "f2b272a5-5bb4-4d00-bd2b-c9c53743b11c"
   },
   "outputs": [],
   "source": [
    "print('Naive Bayes\\n\\nTrain:\\n')\n",
    "print(classification_report(y, y_naive_bayes))\n",
    "print('\\n\\nTest:\\n')\n",
    "print(classification_report(y_2, y_naive_bayes_test))"
   ]
  },
  {
   "cell_type": "markdown",
   "metadata": {
    "id": "ViZ9Vs6Pq1Bn"
   },
   "source": [
    "###2.Probando utilizando un arbol de desicion"
   ]
  },
  {
   "cell_type": "markdown",
   "metadata": {
    "id": "wgaAKvK4bi0q"
   },
   "source": [
    "####Entrenando"
   ]
  },
  {
   "cell_type": "code",
   "execution_count": null,
   "metadata": {
    "id": "p2KzXzid2CKH"
   },
   "outputs": [],
   "source": [
    "dtree_model = DecisionTreeClassifier(max_depth = 10).fit(X_train, y)"
   ]
  },
  {
   "cell_type": "code",
   "execution_count": null,
   "metadata": {
    "colab": {
     "base_uri": "https://localhost:8080/"
    },
    "id": "gh2YUxOF2U40",
    "outputId": "e14603a6-000d-477f-f6b3-d814148921a6"
   },
   "outputs": [],
   "source": [
    "dtree_model.score(X_train, y)"
   ]
  },
  {
   "cell_type": "markdown",
   "metadata": {
    "id": "tx2xtLnjbuEC"
   },
   "source": [
    "####Resultados"
   ]
  },
  {
   "cell_type": "code",
   "execution_count": null,
   "metadata": {
    "id": "tx3rCo95cVui"
   },
   "outputs": [],
   "source": [
    "y_dtree_train = dtree_model.predict(X_train)\n",
    "y_dtree_test = dtree_model.predict(X_test)"
   ]
  },
  {
   "cell_type": "code",
   "execution_count": null,
   "metadata": {
    "colab": {
     "base_uri": "https://localhost:8080/"
    },
    "id": "TvGd0hFjZL3t",
    "outputId": "848b1598-e69f-4104-b7aa-5cf754739ec2"
   },
   "outputs": [],
   "source": [
    "print('Arbol de decision\\n\\nTrain:\\n')\n",
    "print(classification_report(y_dtree_train,y))\n",
    "print('\\n\\nTest:\\n')\n",
    "print(classification_report(y_dtree_test,y_2))"
   ]
  },
  {
   "cell_type": "code",
   "execution_count": null,
   "metadata": {
    "colab": {
     "base_uri": "https://localhost:8080/",
     "height": 513
    },
    "id": "IK0AXUgL5D8C",
    "outputId": "6e6d37cb-4daf-4025-93fa-827a9c772538"
   },
   "outputs": [],
   "source": [
    "cm = sklearn.metrics.multilabel_confusion_matrix(y_true=y_2.astype(int),y_pred=y_dtree_test,labels=[0,1,2,3,4,5,6,7,8,9])\n",
    "graficar_multi(cm,class_names)"
   ]
  },
  {
   "cell_type": "markdown",
   "metadata": {
    "id": "NC43G4_Fz_Zi"
   },
   "source": [
    "##3. Red neuronal con Keras"
   ]
  },
  {
   "cell_type": "markdown",
   "metadata": {
    "id": "n-SUTwMmduGO"
   },
   "source": [
    "###Entrenamineto"
   ]
  },
  {
   "cell_type": "code",
   "execution_count": null,
   "metadata": {
    "id": "gNv2ANZo7qQh"
   },
   "outputs": [],
   "source": [
    "keras.backend.clear_session()\n",
    "model_keras = Sequential()"
   ]
  },
  {
   "cell_type": "code",
   "execution_count": null,
   "metadata": {
    "id": "KPPaJyBS8hwt"
   },
   "outputs": [],
   "source": [
    "model_keras.add(Dense(units=10,activation='relu',input_dim=784))\n",
    "model_keras.add(Dense(units=10,activation='softmax'))"
   ]
  },
  {
   "cell_type": "code",
   "execution_count": null,
   "metadata": {
    "id": "3zeq2rmv9Pnj"
   },
   "outputs": [],
   "source": [
    "model_keras.compile(loss='categorical_crossentropy',metrics=['accuracy'])"
   ]
  },
  {
   "cell_type": "code",
   "execution_count": null,
   "metadata": {
    "colab": {
     "base_uri": "https://localhost:8080/"
    },
    "id": "knq-Yjm49jgo",
    "outputId": "1403f2c5-c7d3-4989-b42f-91420f69cd88"
   },
   "outputs": [],
   "source": [
    "model_keras.fit(X_train, y_train, epochs=25, batch_size=1024)"
   ]
  },
  {
   "cell_type": "markdown",
   "metadata": {
    "id": "jtiY2UmIdw7a"
   },
   "source": [
    "###Resultados"
   ]
  },
  {
   "cell_type": "code",
   "execution_count": null,
   "metadata": {
    "colab": {
     "base_uri": "https://localhost:8080/"
    },
    "id": "y5y9Ua7_yQy8",
    "outputId": "c9c9b328-5318-427d-ed3b-22477cc336ff"
   },
   "outputs": [],
   "source": [
    "model_keras.summary()"
   ]
  },
  {
   "cell_type": "code",
   "execution_count": null,
   "metadata": {
    "id": "BBe-rI8ZdcF5"
   },
   "outputs": [],
   "source": [
    "y_keras_train_one_hot = model_keras.predict(X_train)\n",
    "y_keras_test_one_hot = model_keras.predict(X_test)"
   ]
  },
  {
   "cell_type": "code",
   "execution_count": null,
   "metadata": {
    "colab": {
     "base_uri": "https://localhost:8080/"
    },
    "id": "qX6zqsN3iZDJ",
    "outputId": "13815c0e-6484-47a1-f034-05653c2bd9c9"
   },
   "outputs": [],
   "source": [
    "print(y[0])\n",
    "print(y.shape)\n",
    "print(y)\n",
    "print(np.argmax(y_train,axis=1))\n",
    "\n",
    "y_keras_train = np.argmax(y_keras_train_one_hot,axis=1)\n",
    "y_keras_test = np.argmax(y_keras_test_one_hot,axis=1)"
   ]
  },
  {
   "cell_type": "code",
   "execution_count": null,
   "metadata": {
    "colab": {
     "base_uri": "https://localhost:8080/"
    },
    "id": "JwV8lKjniI2g",
    "outputId": "2664da5b-43e4-490a-dfa9-71933bf6bcdf"
   },
   "outputs": [],
   "source": [
    "print('Arbol de decision\\n\\nTrain:\\n')\n",
    "print(classification_report(y_keras_train,y,target_names=class_names))\n",
    "print('\\n\\nTest:\\n')\n",
    "print(classification_report(y_keras_test,y_2,target_names=class_names))"
   ]
  },
  {
   "cell_type": "code",
   "execution_count": null,
   "metadata": {
    "colab": {
     "base_uri": "https://localhost:8080/"
    },
    "id": "0Gcy2wg2LQf7",
    "outputId": "63f1b8d1-5041-48a3-897a-ad1165083ccd"
   },
   "outputs": [],
   "source": [
    "print(y_keras_train)\n",
    "print(y.astype(int))"
   ]
  },
  {
   "cell_type": "code",
   "execution_count": null,
   "metadata": {
    "colab": {
     "base_uri": "https://localhost:8080/",
     "height": 0
    },
    "id": "vgOqRu-DIDVi",
    "outputId": "05ecc9ce-8643-44d7-b057-a3bbd8cc7a96"
   },
   "outputs": [],
   "source": [
    "cm = sklearn.metrics.multilabel_confusion_matrix(y_true=y_2.astype(int),y_pred=y_keras_test,labels=[0,1,2,3,4,5,6,7,8,9])\n",
    "graficar_multi(cm,class_names)"
   ]
  },
  {
   "cell_type": "markdown",
   "metadata": {
    "id": "6c3wZn7wiGFU"
   },
   "source": [
    "## Evaluacion del Desempeño"
   ]
  },
  {
   "cell_type": "markdown",
   "metadata": {
    "id": "E8qTpw2WiREB"
   },
   "source": [
    "probar el modelo con train\n"
   ]
  },
  {
   "cell_type": "markdown",
   "metadata": {
    "id": "v1eKew38kqXq"
   },
   "source": [
    "probar con test\n"
   ]
  },
  {
   "cell_type": "markdown",
   "metadata": {
    "id": "gRqYCxgnkt7P"
   },
   "source": [
    "graficar curva de error"
   ]
  },
  {
   "cell_type": "markdown",
   "metadata": {
    "id": "PPiH0_FwkxCj"
   },
   "source": [
    "ver bias y varianza\n"
   ]
  },
  {
   "cell_type": "markdown",
   "metadata": {
    "id": "KDuH6vSpO899"
   },
   "source": []
  },
  {
   "cell_type": "markdown",
   "metadata": {
    "id": "l8Vsk6bbpP0I"
   },
   "source": [
    "# Optimizacion"
   ]
  },
  {
   "cell_type": "markdown",
   "metadata": {
    "id": "_UyzAFmNk0yT"
   },
   "source": [
    "## Modelo con Minibatch (si se demora)"
   ]
  },
  {
   "cell_type": "markdown",
   "metadata": {
    "id": "InhOT_v-odc3"
   },
   "source": [
    "## Modelo con normalizacion"
   ]
  },
  {
   "cell_type": "markdown",
   "metadata": {
    "id": "yMjJ7YLcpU8P"
   },
   "source": [
    "## Modelo con adam"
   ]
  },
  {
   "cell_type": "markdown",
   "metadata": {
    "id": "WcSKvZz1l3kZ"
   },
   "source": [
    "# Iniciar busqueda de hyperparametros\n"
   ]
  },
  {
   "cell_type": "markdown",
   "metadata": {
    "id": "d0saXUcgoieh"
   },
   "source": [
    "## Caso bias graficar cada mierda"
   ]
  },
  {
   "cell_type": "markdown",
   "metadata": {
    "id": "ntg5ukjanXVp"
   },
   "source": [
    "ver tasa de aprendizaje\n"
   ]
  },
  {
   "cell_type": "markdown",
   "metadata": {
    "id": "17AI9tBsnu0h"
   },
   "source": [
    "numero de capas\n"
   ]
  },
  {
   "cell_type": "markdown",
   "metadata": {
    "id": "0MFBsMj3nxQN"
   },
   "source": [
    "numero nodos"
   ]
  },
  {
   "cell_type": "markdown",
   "metadata": {
    "id": "mvQSvgVqonwq"
   },
   "source": [
    "## Caso varianza"
   ]
  },
  {
   "cell_type": "markdown",
   "metadata": {
    "id": "eWULDWdQqABH"
   },
   "source": [
    "Meterle mas datos"
   ]
  },
  {
   "cell_type": "markdown",
   "metadata": {
    "id": "Ch2eWO8WoAGn"
   },
   "source": [
    "Regularizacion"
   ]
  },
  {
   "cell_type": "markdown",
   "metadata": {
    "id": "p-PYYEOUEJ1I"
   },
   "source": [
    "#Modelo final"
   ]
  }
 ],
 "metadata": {
  "colab": {
   "collapsed_sections": [
    "wvZlwujoPbC_",
    "Q29yy2Y1NwWt",
    "6nhHOsPVhZhj",
    "s679voQCe0Qm",
    "x8SIrW1UhsbM",
    "y9VeLFKDimF5",
    "9R0ueHS3is-R",
    "NzCaDGvinQfp",
    "eIYBDmS5qjwB",
    "h1shEqJuYfdI",
    "dihYGtnHYdTh",
    "ViZ9Vs6Pq1Bn",
    "wgaAKvK4bi0q",
    "tx2xtLnjbuEC",
    "n-SUTwMmduGO",
    "6c3wZn7wiGFU",
    "l8Vsk6bbpP0I",
    "_UyzAFmNk0yT",
    "InhOT_v-odc3",
    "yMjJ7YLcpU8P",
    "WcSKvZz1l3kZ",
    "d0saXUcgoieh",
    "mvQSvgVqonwq",
    "p-PYYEOUEJ1I"
   ],
   "name": "Proyecto 222.ipynb",
   "provenance": [],
   "toc_visible": true
  },
  "kernelspec": {
   "display_name": "Python 3",
   "language": "python",
   "name": "python3"
  },
  "language_info": {
   "codemirror_mode": {
    "name": "ipython",
    "version": 3
   },
   "file_extension": ".py",
   "mimetype": "text/x-python",
   "name": "python",
   "nbconvert_exporter": "python",
   "pygments_lexer": "ipython3",
   "version": "3.7.3"
  }
 },
 "nbformat": 4,
 "nbformat_minor": 1
}
