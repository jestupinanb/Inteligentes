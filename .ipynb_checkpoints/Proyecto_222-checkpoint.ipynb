{
 "cells": [
  {
   "cell_type": "markdown",
   "metadata": {
    "id": "cJBvbQRXhQjT"
   },
   "source": [
    "# Importar librerias y el dataset\n",
    "\n"
   ]
  },
  {
   "cell_type": "code",
   "execution_count": 57,
   "metadata": {},
   "outputs": [
    {
     "name": "stdout",
     "output_type": "stream",
     "text": [
      "Requirement already satisfied: tensorflow in c:\\users\\jaime\\appdata\\local\\programs\\python\\python38\\lib\\site-packages (from -r req.txt (line 1)) (2.3.1)\n",
      "Requirement already satisfied: pandas in c:\\users\\jaime\\appdata\\local\\programs\\python\\python38\\lib\\site-packages (from -r req.txt (line 2)) (1.1.4)\n",
      "Requirement already satisfied: sklearn in c:\\users\\jaime\\appdata\\local\\programs\\python\\python38\\lib\\site-packages (from -r req.txt (line 3)) (0.0)\n",
      "Requirement already satisfied: matplotlib in c:\\users\\jaime\\appdata\\local\\programs\\python\\python38\\lib\\site-packages (from -r req.txt (line 4)) (3.3.3)\n",
      "Requirement already satisfied: keras in c:\\users\\jaime\\appdata\\local\\programs\\python\\python38\\lib\\site-packages (from -r req.txt (line 5)) (2.4.3)\n",
      "Requirement already satisfied: seaborn in c:\\users\\jaime\\appdata\\local\\programs\\python\\python38\\lib\\site-packages (from -r req.txt (line 7)) (0.11.0)\n",
      "Requirement already satisfied: scipy>=0.14 in c:\\users\\jaime\\appdata\\local\\programs\\python\\python38\\lib\\site-packages (from keras->-r req.txt (line 5)) (1.5.4)\n",
      "Requirement already satisfied: h5py in c:\\users\\jaime\\appdata\\local\\programs\\python\\python38\\lib\\site-packages (from keras->-r req.txt (line 5)) (2.10.0)\n",
      "Requirement already satisfied: pyyaml in c:\\users\\jaime\\appdata\\local\\programs\\python\\python38\\lib\\site-packages (from keras->-r req.txt (line 5)) (5.3.1)\n",
      "Requirement already satisfied: numpy>=1.9.1 in c:\\users\\jaime\\appdata\\local\\programs\\python\\python38\\lib\\site-packages (from keras->-r req.txt (line 5)) (1.18.5)\n",
      "Requirement already satisfied: pyparsing!=2.0.4,!=2.1.2,!=2.1.6,>=2.0.3 in c:\\users\\jaime\\appdata\\local\\programs\\python\\python38\\lib\\site-packages (from matplotlib->-r req.txt (line 4)) (2.4.7)\n",
      "Requirement already satisfied: numpy>=1.9.1 in c:\\users\\jaime\\appdata\\local\\programs\\python\\python38\\lib\\site-packages (from keras->-r req.txt (line 5)) (1.18.5)\n",
      "Requirement already satisfied: cycler>=0.10 in c:\\users\\jaime\\appdata\\local\\programs\\python\\python38\\lib\\site-packages (from matplotlib->-r req.txt (line 4)) (0.10.0)\n",
      "Requirement already satisfied: python-dateutil>=2.1 in c:\\users\\jaime\\appdata\\local\\programs\\python\\python38\\lib\\site-packages (from matplotlib->-r req.txt (line 4)) (2.8.1)\n",
      "Requirement already satisfied: pillow>=6.2.0 in c:\\users\\jaime\\appdata\\local\\programs\\python\\python38\\lib\\site-packages (from matplotlib->-r req.txt (line 4)) (8.0.1)\n",
      "Requirement already satisfied: kiwisolver>=1.0.1 in c:\\users\\jaime\\appdata\\local\\programs\\python\\python38\\lib\\site-packages (from matplotlib->-r req.txt (line 4)) (1.3.1)\n",
      "Requirement already satisfied: numpy>=1.9.1 in c:\\users\\jaime\\appdata\\local\\programs\\python\\python38\\lib\\site-packages (from keras->-r req.txt (line 5)) (1.18.5)\n",
      "Requirement already satisfied: python-dateutil>=2.1 in c:\\users\\jaime\\appdata\\local\\programs\\python\\python38\\lib\\site-packages (from matplotlib->-r req.txt (line 4)) (2.8.1)\n",
      "Requirement already satisfied: pytz>=2017.2 in c:\\users\\jaime\\appdata\\local\\programs\\python\\python38\\lib\\site-packages (from pandas->-r req.txt (line 2)) (2020.4)\n",
      "Requirement already satisfied: matplotlib in c:\\users\\jaime\\appdata\\local\\programs\\python\\python38\\lib\\site-packages (from -r req.txt (line 4)) (3.3.3)\n",
      "Requirement already satisfied: pandas in c:\\users\\jaime\\appdata\\local\\programs\\python\\python38\\lib\\site-packages (from -r req.txt (line 2)) (1.1.4)\n",
      "Requirement already satisfied: scipy>=0.14 in c:\\users\\jaime\\appdata\\local\\programs\\python\\python38\\lib\\site-packages (from keras->-r req.txt (line 5)) (1.5.4)\n",
      "Requirement already satisfied: numpy>=1.9.1 in c:\\users\\jaime\\appdata\\local\\programs\\python\\python38\\lib\\site-packages (from keras->-r req.txt (line 5)) (1.18.5)\n",
      "Requirement already satisfied: scikit-learn in c:\\users\\jaime\\appdata\\local\\programs\\python\\python38\\lib\\site-packages (from sklearn->-r req.txt (line 3)) (0.23.2)\n",
      "Requirement already satisfied: astunparse==1.6.3 in c:\\users\\jaime\\appdata\\local\\programs\\python\\python38\\lib\\site-packages (from tensorflow->-r req.txt (line 1)) (1.6.3)\n",
      "Requirement already satisfied: tensorboard<3,>=2.3.0 in c:\\users\\jaime\\appdata\\local\\programs\\python\\python38\\lib\\site-packages (from tensorflow->-r req.txt (line 1)) (2.4.0)\n",
      "Requirement already satisfied: termcolor>=1.1.0 in c:\\users\\jaime\\appdata\\local\\programs\\python\\python38\\lib\\site-packages (from tensorflow->-r req.txt (line 1)) (1.1.0)\n",
      "Requirement already satisfied: tensorflow-estimator<2.4.0,>=2.3.0 in c:\\users\\jaime\\appdata\\local\\programs\\python\\python38\\lib\\site-packages (from tensorflow->-r req.txt (line 1)) (2.3.0)\n",
      "Requirement already satisfied: gast==0.3.3 in c:\\users\\jaime\\appdata\\local\\programs\\python\\python38\\lib\\site-packages (from tensorflow->-r req.txt (line 1)) (0.3.3)\n",
      "Requirement already satisfied: h5py in c:\\users\\jaime\\appdata\\local\\programs\\python\\python38\\lib\\site-packages (from keras->-r req.txt (line 5)) (2.10.0)\n",
      "Requirement already satisfied: absl-py>=0.7.0 in c:\\users\\jaime\\appdata\\local\\programs\\python\\python38\\lib\\site-packages (from tensorflow->-r req.txt (line 1)) (0.11.0)\n",
      "Requirement already satisfied: keras-preprocessing<1.2,>=1.1.1 in c:\\users\\jaime\\appdata\\local\\programs\\python\\python38\\lib\\site-packages (from tensorflow->-r req.txt (line 1)) (1.1.2)\n",
      "Requirement already satisfied: opt-einsum>=2.3.2 in c:\\users\\jaime\\appdata\\local\\programs\\python\\python38\\lib\\site-packages (from tensorflow->-r req.txt (line 1)) (3.3.0)\n",
      "Requirement already satisfied: protobuf>=3.9.2 in c:\\users\\jaime\\appdata\\local\\programs\\python\\python38\\lib\\site-packages (from tensorflow->-r req.txt (line 1)) (3.14.0)\n",
      "Requirement already satisfied: wrapt>=1.11.1 in c:\\users\\jaime\\appdata\\local\\programs\\python\\python38\\lib\\site-packages (from tensorflow->-r req.txt (line 1)) (1.12.1)\n",
      "Requirement already satisfied: wheel>=0.26 in c:\\users\\jaime\\appdata\\local\\programs\\python\\python38\\lib\\site-packages (from tensorflow->-r req.txt (line 1)) (0.36.1)\n",
      "Requirement already satisfied: numpy>=1.9.1 in c:\\users\\jaime\\appdata\\local\\programs\\python\\python38\\lib\\site-packages (from keras->-r req.txt (line 5)) (1.18.5)\n",
      "Requirement already satisfied: six>=1.12.0 in c:\\users\\jaime\\appdata\\local\\programs\\python\\python38\\lib\\site-packages (from tensorflow->-r req.txt (line 1)) (1.15.0)\n",
      "Requirement already satisfied: grpcio>=1.8.6 in c:\\users\\jaime\\appdata\\local\\programs\\python\\python38\\lib\\site-packages (from tensorflow->-r req.txt (line 1)) (1.34.0)\n",
      "Requirement already satisfied: google-pasta>=0.1.8 in c:\\users\\jaime\\appdata\\local\\programs\\python\\python38\\lib\\site-packages (from tensorflow->-r req.txt (line 1)) (0.2.0)\n",
      "Requirement already satisfied: six>=1.12.0 in c:\\users\\jaime\\appdata\\local\\programs\\python\\python38\\lib\\site-packages (from tensorflow->-r req.txt (line 1)) (1.15.0)\n",
      "Requirement already satisfied: wheel>=0.26 in c:\\users\\jaime\\appdata\\local\\programs\\python\\python38\\lib\\site-packages (from tensorflow->-r req.txt (line 1)) (0.36.1)\n",
      "Requirement already satisfied: six>=1.12.0 in c:\\users\\jaime\\appdata\\local\\programs\\python\\python38\\lib\\site-packages (from tensorflow->-r req.txt (line 1)) (1.15.0)\n",
      "Requirement already satisfied: six>=1.12.0 in c:\\users\\jaime\\appdata\\local\\programs\\python\\python38\\lib\\site-packages (from tensorflow->-r req.txt (line 1)) (1.15.0)\n",
      "Requirement already satisfied: six>=1.12.0 in c:\\users\\jaime\\appdata\\local\\programs\\python\\python38\\lib\\site-packages (from tensorflow->-r req.txt (line 1)) (1.15.0)\n",
      "Requirement already satisfied: six>=1.12.0 in c:\\users\\jaime\\appdata\\local\\programs\\python\\python38\\lib\\site-packages (from tensorflow->-r req.txt (line 1)) (1.15.0)\n",
      "Requirement already satisfied: six>=1.12.0 in c:\\users\\jaime\\appdata\\local\\programs\\python\\python38\\lib\\site-packages (from tensorflow->-r req.txt (line 1)) (1.15.0)\n",
      "Requirement already satisfied: numpy>=1.9.1 in c:\\users\\jaime\\appdata\\local\\programs\\python\\python38\\lib\\site-packages (from keras->-r req.txt (line 5)) (1.18.5)\n",
      "Requirement already satisfied: six>=1.12.0 in c:\\users\\jaime\\appdata\\local\\programs\\python\\python38\\lib\\site-packages (from tensorflow->-r req.txt (line 1)) (1.15.0)\n",
      "Requirement already satisfied: numpy>=1.9.1 in c:\\users\\jaime\\appdata\\local\\programs\\python\\python38\\lib\\site-packages (from keras->-r req.txt (line 5)) (1.18.5)\n",
      "Requirement already satisfied: numpy>=1.9.1 in c:\\users\\jaime\\appdata\\local\\programs\\python\\python38\\lib\\site-packages (from keras->-r req.txt (line 5)) (1.18.5)\n",
      "Requirement already satisfied: six>=1.12.0 in c:\\users\\jaime\\appdata\\local\\programs\\python\\python38\\lib\\site-packages (from tensorflow->-r req.txt (line 1)) (1.15.0)\n",
      "Requirement already satisfied: six>=1.12.0 in c:\\users\\jaime\\appdata\\local\\programs\\python\\python38\\lib\\site-packages (from tensorflow->-r req.txt (line 1)) (1.15.0)\n",
      "Requirement already satisfied: numpy>=1.9.1 in c:\\users\\jaime\\appdata\\local\\programs\\python\\python38\\lib\\site-packages (from keras->-r req.txt (line 5)) (1.18.5)\n",
      "Requirement already satisfied: joblib>=0.11 in c:\\users\\jaime\\appdata\\local\\programs\\python\\python38\\lib\\site-packages (from scikit-learn->sklearn->-r req.txt (line 3)) (0.17.0)\n",
      "Requirement already satisfied: scipy>=0.14 in c:\\users\\jaime\\appdata\\local\\programs\\python\\python38\\lib\\site-packages (from keras->-r req.txt (line 5)) (1.5.4)\n",
      "Requirement already satisfied: threadpoolctl>=2.0.0 in c:\\users\\jaime\\appdata\\local\\programs\\python\\python38\\lib\\site-packages (from scikit-learn->sklearn->-r req.txt (line 3)) (2.1.0)\n",
      "Requirement already satisfied: numpy>=1.9.1 in c:\\users\\jaime\\appdata\\local\\programs\\python\\python38\\lib\\site-packages (from keras->-r req.txt (line 5)) (1.18.5)\n",
      "Requirement already satisfied: numpy>=1.9.1 in c:\\users\\jaime\\appdata\\local\\programs\\python\\python38\\lib\\site-packages (from keras->-r req.txt (line 5)) (1.18.5)\n",
      "Requirement already satisfied: protobuf>=3.9.2 in c:\\users\\jaime\\appdata\\local\\programs\\python\\python38\\lib\\site-packages (from tensorflow->-r req.txt (line 1)) (3.14.0)\n",
      "Requirement already satisfied: setuptools>=41.0.0 in c:\\users\\jaime\\appdata\\local\\programs\\python\\python38\\lib\\site-packages (from tensorboard<3,>=2.3.0->tensorflow->-r req.txt (line 1)) (49.2.1)\n",
      "Requirement already satisfied: werkzeug>=0.11.15 in c:\\users\\jaime\\appdata\\local\\programs\\python\\python38\\lib\\site-packages (from tensorboard<3,>=2.3.0->tensorflow->-r req.txt (line 1)) (1.0.1)\n",
      "Requirement already satisfied: google-auth-oauthlib<0.5,>=0.4.1 in c:\\users\\jaime\\appdata\\local\\programs\\python\\python38\\lib\\site-packages (from tensorboard<3,>=2.3.0->tensorflow->-r req.txt (line 1)) (0.4.2)\n",
      "Requirement already satisfied: google-auth<2,>=1.6.3 in c:\\users\\jaime\\appdata\\local\\programs\\python\\python38\\lib\\site-packages (from tensorboard<3,>=2.3.0->tensorflow->-r req.txt (line 1)) (1.23.0)\n",
      "Requirement already satisfied: markdown>=2.6.8 in c:\\users\\jaime\\appdata\\local\\programs\\python\\python38\\lib\\site-packages (from tensorboard<3,>=2.3.0->tensorflow->-r req.txt (line 1)) (3.3.3)\n",
      "Requirement already satisfied: six>=1.12.0 in c:\\users\\jaime\\appdata\\local\\programs\\python\\python38\\lib\\site-packages (from tensorflow->-r req.txt (line 1)) (1.15.0)\n",
      "Requirement already satisfied: grpcio>=1.8.6 in c:\\users\\jaime\\appdata\\local\\programs\\python\\python38\\lib\\site-packages (from tensorflow->-r req.txt (line 1)) (1.34.0)\n",
      "Requirement already satisfied: absl-py>=0.7.0 in c:\\users\\jaime\\appdata\\local\\programs\\python\\python38\\lib\\site-packages (from tensorflow->-r req.txt (line 1)) (0.11.0)\n",
      "Requirement already satisfied: wheel>=0.26 in c:\\users\\jaime\\appdata\\local\\programs\\python\\python38\\lib\\site-packages (from tensorflow->-r req.txt (line 1)) (0.36.1)\n",
      "Requirement already satisfied: requests<3,>=2.21.0 in c:\\users\\jaime\\appdata\\local\\programs\\python\\python38\\lib\\site-packages (from tensorboard<3,>=2.3.0->tensorflow->-r req.txt (line 1)) (2.25.0)\n",
      "Requirement already satisfied: tensorboard-plugin-wit>=1.6.0 in c:\\users\\jaime\\appdata\\local\\programs\\python\\python38\\lib\\site-packages (from tensorboard<3,>=2.3.0->tensorflow->-r req.txt (line 1)) (1.7.0)\n",
      "Requirement already satisfied: pyasn1-modules>=0.2.1 in c:\\users\\jaime\\appdata\\local\\programs\\python\\python38\\lib\\site-packages (from google-auth<2,>=1.6.3->tensorboard<3,>=2.3.0->tensorflow->-r req.txt (line 1)) (0.2.8)\n",
      "Requirement already satisfied: rsa<5,>=3.1.4 in c:\\users\\jaime\\appdata\\local\\programs\\python\\python38\\lib\\site-packages (from google-auth<2,>=1.6.3->tensorboard<3,>=2.3.0->tensorflow->-r req.txt (line 1)) (4.6)\n",
      "Requirement already satisfied: setuptools>=41.0.0 in c:\\users\\jaime\\appdata\\local\\programs\\python\\python38\\lib\\site-packages (from tensorboard<3,>=2.3.0->tensorflow->-r req.txt (line 1)) (49.2.1)\n",
      "Requirement already satisfied: cachetools<5.0,>=2.0.0 in c:\\users\\jaime\\appdata\\local\\programs\\python\\python38\\lib\\site-packages (from google-auth<2,>=1.6.3->tensorboard<3,>=2.3.0->tensorflow->-r req.txt (line 1)) (4.1.1)\n",
      "Requirement already satisfied: six>=1.12.0 in c:\\users\\jaime\\appdata\\local\\programs\\python\\python38\\lib\\site-packages (from tensorflow->-r req.txt (line 1)) (1.15.0)\n",
      "Requirement already satisfied: google-auth<2,>=1.6.3 in c:\\users\\jaime\\appdata\\local\\programs\\python\\python38\\lib\\site-packages (from tensorboard<3,>=2.3.0->tensorflow->-r req.txt (line 1)) (1.23.0)\n",
      "Requirement already satisfied: requests-oauthlib>=0.7.0 in c:\\users\\jaime\\appdata\\local\\programs\\python\\python38\\lib\\site-packages (from google-auth-oauthlib<0.5,>=0.4.1->tensorboard<3,>=2.3.0->tensorflow->-r req.txt (line 1)) (1.3.0)\n",
      "Requirement already satisfied: pyasn1<0.5.0,>=0.4.6 in c:\\users\\jaime\\appdata\\local\\programs\\python\\python38\\lib\\site-packages (from pyasn1-modules>=0.2.1->google-auth<2,>=1.6.3->tensorboard<3,>=2.3.0->tensorflow->-r req.txt (line 1)) (0.4.8)\n",
      "Requirement already satisfied: certifi>=2017.4.17 in c:\\users\\jaime\\appdata\\local\\programs\\python\\python38\\lib\\site-packages (from requests<3,>=2.21.0->tensorboard<3,>=2.3.0->tensorflow->-r req.txt (line 1)) (2020.12.5)\n",
      "Requirement already satisfied: idna<3,>=2.5 in c:\\users\\jaime\\appdata\\local\\programs\\python\\python38\\lib\\site-packages (from requests<3,>=2.21.0->tensorboard<3,>=2.3.0->tensorflow->-r req.txt (line 1)) (2.10)\n",
      "Requirement already satisfied: chardet<4,>=3.0.2 in c:\\users\\jaime\\appdata\\local\\programs\\python\\python38\\lib\\site-packages (from requests<3,>=2.21.0->tensorboard<3,>=2.3.0->tensorflow->-r req.txt (line 1)) (3.0.4)\n",
      "Requirement already satisfied: urllib3<1.27,>=1.21.1 in c:\\users\\jaime\\appdata\\local\\programs\\python\\python38\\lib\\site-packages (from requests<3,>=2.21.0->tensorboard<3,>=2.3.0->tensorflow->-r req.txt (line 1)) (1.26.2)\n",
      "Requirement already satisfied: oauthlib>=3.0.0 in c:\\users\\jaime\\appdata\\local\\programs\\python\\python38\\lib\\site-packages (from requests-oauthlib>=0.7.0->google-auth-oauthlib<0.5,>=0.4.1->tensorboard<3,>=2.3.0->tensorflow->-r req.txt (line 1)) (3.1.0)\n",
      "Requirement already satisfied: requests<3,>=2.21.0 in c:\\users\\jaime\\appdata\\local\\programs\\python\\python38\\lib\\site-packages (from tensorboard<3,>=2.3.0->tensorflow->-r req.txt (line 1)) (2.25.0)\n",
      "Requirement already satisfied: pyasn1<0.5.0,>=0.4.6 in c:\\users\\jaime\\appdata\\local\\programs\\python\\python38\\lib\\site-packages (from pyasn1-modules>=0.2.1->google-auth<2,>=1.6.3->tensorboard<3,>=2.3.0->tensorflow->-r req.txt (line 1)) (0.4.8)\n",
      "Note: you may need to restart the kernel to use updated packages.\n"
     ]
    }
   ],
   "source": [
    "pip install -r req.txt"
   ]
  },
  {
   "cell_type": "code",
   "execution_count": 58,
   "metadata": {
    "id": "gPfU3aCwx53L"
   },
   "outputs": [],
   "source": [
    "import numpy as np # linear algebra\n",
    "import pandas as pd # data processing, CSV file I/O (e.g. pd.read_csv)\n",
    "from numpy import genfromtxt\n",
    "import sklearn\n",
    "from sklearn.neural_network import MLPClassifier\n",
    "from sklearn.metrics import accuracy_score\n",
    "from sklearn.naive_bayes import MultinomialNB\n",
    "#from google.colab import files\n",
    "import io\n",
    "from sklearn.tree import DecisionTreeClassifier\n",
    "import matplotlib.pyplot as plt\n",
    "import keras\n",
    "from keras.models import Sequential\n",
    "from keras.layers import Dense, Dropout, Activation\n",
    "from keras.optimizers import SGD\n",
    "import tensorflow as tf\n",
    "from tensorflow.keras import optimizers\n",
    "from sklearn.preprocessing import  MinMaxScaler\n",
    "from sklearn.preprocessing import StandardScaler\n",
    "\n",
    "from sklearn.metrics import precision_score\n",
    "from sklearn.metrics import classification_report"
   ]
  },
  {
   "cell_type": "markdown",
   "metadata": {
    "id": "wvZlwujoPbC_"
   },
   "source": [
    "# Funciones adicionales"
   ]
  },
  {
   "cell_type": "markdown",
   "metadata": {
    "id": "Q29yy2Y1NwWt"
   },
   "source": [
    "## Plot confusion matrix multi label"
   ]
  },
  {
   "cell_type": "code",
   "execution_count": 59,
   "metadata": {
    "id": "6N5YFnZ7NTb2"
   },
   "outputs": [],
   "source": [
    "import pandas as pd\n",
    "import matplotlib.pyplot as plt\n",
    "import seaborn as sns\n",
    "\n",
    "\n",
    "def print_confusion_matrix(confusion_matrix, axes, class_label, class_names, fontsize=14):\n",
    "\n",
    "    df_cm = pd.DataFrame(\n",
    "        confusion_matrix, index=class_names, columns=class_names,\n",
    "    )\n",
    "\n",
    "    try:\n",
    "        heatmap = sns.heatmap(df_cm, annot=True, fmt=\"d\", cbar=False, ax=axes)\n",
    "    except ValueError:\n",
    "        raise ValueError(\"Confusion matrix values must be integers.\")\n",
    "    heatmap.yaxis.set_ticklabels(heatmap.yaxis.get_ticklabels(), rotation=0, ha='right', fontsize=fontsize)\n",
    "    heatmap.xaxis.set_ticklabels(heatmap.xaxis.get_ticklabels(), rotation=45, ha='right', fontsize=fontsize)\n",
    "    axes.set_xlabel('Predicted label')\n",
    "    axes.set_ylabel('True label')\n",
    "    axes.set_title(\"CM for the class - \" + class_label)"
   ]
  },
  {
   "cell_type": "code",
   "execution_count": 60,
   "metadata": {
    "id": "kuSVZkgtP8eo"
   },
   "outputs": [],
   "source": [
    "#Test\n",
    "y_b =  [1,1,4,1,1,1]\n",
    "y_b2 = [1,1,3,5,5,5]"
   ]
  },
  {
   "cell_type": "code",
   "execution_count": 61,
   "metadata": {
    "id": "-EoR9Y70N8GN"
   },
   "outputs": [],
   "source": [
    "def graficar_multi(cm,class_names):\n",
    "    fig, ax = plt.subplots(4, 3, figsize=(12, 7))\n",
    "\n",
    "    for axes, cfs_matrix, label in zip(ax.flatten(), cm, class_names):\n",
    "      print_confusion_matrix(cfs_matrix, axes, label, [\"N\", \"Y\"])\n",
    "        \n",
    "    fig.tight_layout()\n",
    "    plt.show()"
   ]
  },
  {
   "cell_type": "markdown",
   "metadata": {
    "id": "6nhHOsPVhZhj"
   },
   "source": [
    "# Importacion de los dataset y muestra de los datos"
   ]
  },
  {
   "cell_type": "markdown",
   "metadata": {
    "id": "s679voQCe0Qm"
   },
   "source": [
    "## Importamos el dataset de la libreria de keras para poder realizar su visualizacion "
   ]
  },
  {
   "cell_type": "code",
   "execution_count": 62,
   "metadata": {
    "id": "DXHH7QD4gU3Y"
   },
   "outputs": [],
   "source": [
    "fashion_mnist = keras.datasets.fashion_mnist\n",
    "(train_images, train_labels), (test_images, test_labels) = fashion_mnist.load_data()"
   ]
  },
  {
   "cell_type": "code",
   "execution_count": 63,
   "metadata": {
    "colab": {
     "base_uri": "https://localhost:8080/",
     "height": 0
    },
    "id": "pHmDZJdje94y",
    "outputId": "e9202c7c-9487-4e80-f4b4-9f6700e752b3"
   },
   "outputs": [
    {
     "data": {
      "image/png": "[encoded data removed]",
      "text/plain": [
       "<Figure size 432x288 with 2 Axes>"
      ]
     },
     "metadata": {
      "needs_background": "light"
     },
     "output_type": "display_data"
    }
   ],
   "source": [
    "plt.figure()\n",
    "plt.imshow(train_images[3])\n",
    "plt.colorbar()\n",
    "plt.grid(False)\n",
    "plt.show()"
   ]
  },
  {
   "cell_type": "code",
   "execution_count": 64,
   "metadata": {
    "id": "4HWYSuF8h-mA"
   },
   "outputs": [],
   "source": [
    "class_names = ['Camiseta', 'Pantalón', 'Suéter', 'Vestido', 'Abrigo',\n",
    "'Sandalia', 'Camisa', 'Zapatilla deportiva', 'Bolso', 'Botines']"
   ]
  },
  {
   "cell_type": "code",
   "execution_count": 65,
   "metadata": {
    "colab": {
     "base_uri": "https://localhost:8080/",
     "height": 0
    },
    "id": "Upm45Kt0iL36",
    "outputId": "6e746a15-5367-429a-f687-1da15696ccf9"
   },
   "outputs": [
    {
     "data": {
      "image/png": "[encoded data removed]",
      "text/plain": [
       "<Figure size 720x720 with 50 Axes>"
      ]
     },
     "metadata": {},
     "output_type": "display_data"
    }
   ],
   "source": [
    "plt.figure(figsize=(10,10))\n",
    "for i in range(50):\n",
    "  plt.subplot(5,10,i+1)\n",
    "  plt.xticks([])\n",
    "  plt.yticks([])\n",
    "  plt.grid(False)\n",
    "  plt.imshow(train_images[i], cmap=plt.cm.binary)\n",
    "  plt.xlabel(class_names[train_labels[i]])\n",
    "plt.show()"
   ]
  },
  {
   "cell_type": "code",
   "execution_count": 66,
   "metadata": {
    "id": "90q_GTZNmfaA"
   },
   "outputs": [],
   "source": [
    "train_images = train_images / 255"
   ]
  },
  {
   "cell_type": "code",
   "execution_count": 67,
   "metadata": {
    "id": "79sxEh-emiG9"
   },
   "outputs": [],
   "source": [
    "test_images = test_images / 255"
   ]
  },
  {
   "cell_type": "code",
   "execution_count": 68,
   "metadata": {
    "colab": {
     "base_uri": "https://localhost:8080/",
     "height": 0
    },
    "id": "e6547eicmjER",
    "outputId": "ffb49963-cc08-44bc-9a1d-18a2bc89c840"
   },
   "outputs": [
    {
     "data": {
      "image/png": "[encoded data removed]",
      "text/plain": [
       "<Figure size 432x288 with 2 Axes>"
      ]
     },
     "metadata": {
      "needs_background": "light"
     },
     "output_type": "display_data"
    }
   ],
   "source": [
    "plt.figure()\n",
    "plt.imshow(train_images[3])\n",
    "plt.colorbar()\n",
    "plt.grid(False)\n",
    "plt.show()"
   ]
  },
  {
   "cell_type": "markdown",
   "metadata": {
    "id": "x8SIrW1UhsbM"
   },
   "source": [
    "## Importamos el data set desde los archivos .csv para el entrenamiento del modelo"
   ]
  },
  {
   "cell_type": "markdown",
   "metadata": {
    "id": "y9VeLFKDimF5"
   },
   "source": [
    "### Importamos el conjunto de datos de entrenamieto"
   ]
  },
  {
   "cell_type": "code",
   "execution_count": 69,
   "metadata": {
    "id": "ntJAQ9Nux_2E"
   },
   "outputs": [],
   "source": [
    "my_data_1 = genfromtxt('fashion-mnist_train.csv', delimiter=',')"
   ]
  },
  {
   "cell_type": "code",
   "execution_count": 70,
   "metadata": {
    "id": "msJzMoJIyhX7"
   },
   "outputs": [],
   "source": [
    "my_data_1 = np.delete(my_data_1, 0, 0)"
   ]
  },
  {
   "cell_type": "code",
   "execution_count": 71,
   "metadata": {
    "colab": {
     "base_uri": "https://localhost:8080/"
    },
    "id": "QIU4TJf8yiCh",
    "outputId": "de3bd247-7405-4f69-8030-224758cbb116"
   },
   "outputs": [
    {
     "data": {
      "text/plain": [
       "array([[2., 0., 0., ..., 0., 0., 0.],\n",
       "       [9., 0., 0., ..., 0., 0., 0.],\n",
       "       [6., 0., 0., ..., 0., 0., 0.],\n",
       "       ...,\n",
       "       [8., 0., 0., ..., 0., 0., 0.],\n",
       "       [8., 0., 0., ..., 0., 0., 0.],\n",
       "       [7., 0., 0., ..., 0., 0., 0.]])"
      ]
     },
     "execution_count": 71,
     "metadata": {},
     "output_type": "execute_result"
    }
   ],
   "source": [
    "my_data_1"
   ]
  },
  {
   "cell_type": "code",
   "execution_count": 72,
   "metadata": {
    "colab": {
     "base_uri": "https://localhost:8080/"
    },
    "id": "K1jImFkBynGJ",
    "outputId": "7dd5a520-800d-4027-b733-edc8f621fa24"
   },
   "outputs": [
    {
     "data": {
      "text/plain": [
       "array([[0., 0., 0., ..., 0., 0., 0.],\n",
       "       [0., 0., 0., ..., 0., 0., 0.],\n",
       "       [0., 0., 0., ..., 0., 0., 0.],\n",
       "       ...,\n",
       "       [0., 0., 0., ..., 0., 0., 0.],\n",
       "       [0., 0., 0., ..., 0., 0., 0.],\n",
       "       [0., 0., 0., ..., 0., 0., 0.]])"
      ]
     },
     "execution_count": 72,
     "metadata": {},
     "output_type": "execute_result"
    }
   ],
   "source": [
    "X_train = np.delete(my_data_1, 0, 1)\n",
    "X_train"
   ]
  },
  {
   "cell_type": "code",
   "execution_count": 73,
   "metadata": {
    "colab": {
     "base_uri": "https://localhost:8080/"
    },
    "id": "y24Wqnf6ylqQ",
    "outputId": "f0da5e99-54be-4db8-f9a2-409698d490b3"
   },
   "outputs": [
    {
     "data": {
      "text/plain": [
       "array([2., 9., 6., ..., 8., 8., 7.])"
      ]
     },
     "execution_count": 73,
     "metadata": {},
     "output_type": "execute_result"
    }
   ],
   "source": [
    "y = my_data_1[:,0]\n",
    "y"
   ]
  },
  {
   "cell_type": "code",
   "execution_count": 74,
   "metadata": {
    "colab": {
     "base_uri": "https://localhost:8080/"
    },
    "id": "5KngeaeU71vB",
    "outputId": "5a26de24-0b51-40ca-aa3b-d1034810c6aa"
   },
   "outputs": [
    {
     "data": {
      "text/plain": [
       "array([[0., 0., 1., ..., 0., 0., 0.],\n",
       "       [0., 0., 0., ..., 0., 0., 1.],\n",
       "       [0., 0., 0., ..., 0., 0., 0.],\n",
       "       ...,\n",
       "       [0., 0., 0., ..., 0., 1., 0.],\n",
       "       [0., 0., 0., ..., 0., 1., 0.],\n",
       "       [0., 0., 0., ..., 1., 0., 0.]], dtype=float32)"
      ]
     },
     "execution_count": 74,
     "metadata": {},
     "output_type": "execute_result"
    }
   ],
   "source": [
    "y_train = keras.utils.to_categorical(y,num_classes=10)\n",
    "y_train"
   ]
  },
  {
   "cell_type": "code",
   "execution_count": 75,
   "metadata": {
    "colab": {
     "base_uri": "https://localhost:8080/"
    },
    "id": "cuLgR8BhlZyu",
    "outputId": "b0843094-c1c5-43e4-c463-8e7412238528"
   },
   "outputs": [
    {
     "data": {
      "text/plain": [
       "(60000, 784)"
      ]
     },
     "execution_count": 75,
     "metadata": {},
     "output_type": "execute_result"
    }
   ],
   "source": [
    "X_train.shape"
   ]
  },
  {
   "cell_type": "code",
   "execution_count": 76,
   "metadata": {
    "colab": {
     "base_uri": "https://localhost:8080/"
    },
    "id": "8A7BnuVRmXU2",
    "outputId": "063b0135-73e7-4b0a-e592-dba7afe0a833"
   },
   "outputs": [
    {
     "data": {
      "text/plain": [
       "(60000, 10)"
      ]
     },
     "execution_count": 76,
     "metadata": {},
     "output_type": "execute_result"
    }
   ],
   "source": [
    "y_train.shape"
   ]
  },
  {
   "cell_type": "markdown",
   "metadata": {
    "id": "9R0ueHS3is-R"
   },
   "source": [
    "### Importamos el conjunto de datos de prueba"
   ]
  },
  {
   "cell_type": "code",
   "execution_count": 77,
   "metadata": {
    "id": "Wr8PDFA2EruS"
   },
   "outputs": [],
   "source": [
    "my_data_2 = genfromtxt('fashion-mnist_test.csv', delimiter=',')"
   ]
  },
  {
   "cell_type": "code",
   "execution_count": 78,
   "metadata": {
    "id": "ZDZj7ib-E42w"
   },
   "outputs": [],
   "source": [
    "my_data_2 = np.delete(my_data_2, 0, 0)"
   ]
  },
  {
   "cell_type": "code",
   "execution_count": 79,
   "metadata": {
    "colab": {
     "base_uri": "https://localhost:8080/"
    },
    "id": "SlQ12aPnE1pM",
    "outputId": "870ceb43-e55a-4f49-b520-920d536b74f2"
   },
   "outputs": [
    {
     "data": {
      "text/plain": [
       "array([[0., 0., 0., ..., 0., 0., 0.],\n",
       "       [1., 0., 0., ..., 0., 0., 0.],\n",
       "       [2., 0., 0., ..., 0., 0., 0.],\n",
       "       ...,\n",
       "       [8., 0., 0., ..., 0., 1., 0.],\n",
       "       [8., 0., 1., ..., 0., 0., 0.],\n",
       "       [1., 0., 0., ..., 0., 0., 0.]])"
      ]
     },
     "execution_count": 79,
     "metadata": {},
     "output_type": "execute_result"
    }
   ],
   "source": [
    "my_data_2"
   ]
  },
  {
   "cell_type": "code",
   "execution_count": 80,
   "metadata": {
    "colab": {
     "base_uri": "https://localhost:8080/"
    },
    "id": "87t26L3Mn0Co",
    "outputId": "4539e405-b919-441c-b0a1-faf61c14eb22"
   },
   "outputs": [
    {
     "data": {
      "text/plain": [
       "array([[0., 0., 0., ..., 0., 0., 0.],\n",
       "       [0., 0., 0., ..., 0., 0., 0.],\n",
       "       [0., 0., 0., ..., 0., 0., 0.],\n",
       "       ...,\n",
       "       [0., 0., 0., ..., 0., 1., 0.],\n",
       "       [0., 1., 3., ..., 0., 0., 0.],\n",
       "       [0., 0., 0., ..., 0., 0., 0.]])"
      ]
     },
     "execution_count": 80,
     "metadata": {},
     "output_type": "execute_result"
    }
   ],
   "source": [
    "X_test = np.delete(my_data_2, 0, 1)\n",
    "X_test"
   ]
  },
  {
   "cell_type": "code",
   "execution_count": 81,
   "metadata": {
    "colab": {
     "base_uri": "https://localhost:8080/"
    },
    "id": "GjltP2TWn4tq",
    "outputId": "f0cc4857-bad5-4582-d45a-9153d46cdbc7"
   },
   "outputs": [
    {
     "data": {
      "text/plain": [
       "array([0., 1., 2., ..., 8., 8., 1.])"
      ]
     },
     "execution_count": 81,
     "metadata": {},
     "output_type": "execute_result"
    }
   ],
   "source": [
    "y_2 = my_data_2[:,0]\n",
    "y_2"
   ]
  },
  {
   "cell_type": "code",
   "execution_count": 82,
   "metadata": {
    "colab": {
     "base_uri": "https://localhost:8080/"
    },
    "id": "6G3EAFYPn7jN",
    "outputId": "3e0e6fcb-62bf-4227-8521-cd4c8417e4d6"
   },
   "outputs": [
    {
     "data": {
      "text/plain": [
       "array([[1., 0., 0., ..., 0., 0., 0.],\n",
       "       [0., 1., 0., ..., 0., 0., 0.],\n",
       "       [0., 0., 1., ..., 0., 0., 0.],\n",
       "       ...,\n",
       "       [0., 0., 0., ..., 0., 1., 0.],\n",
       "       [0., 0., 0., ..., 0., 1., 0.],\n",
       "       [0., 1., 0., ..., 0., 0., 0.]], dtype=float32)"
      ]
     },
     "execution_count": 82,
     "metadata": {},
     "output_type": "execute_result"
    }
   ],
   "source": [
    "y_test = keras.utils.to_categorical(y_2,num_classes=10)\n",
    "y_test"
   ]
  },
  {
   "cell_type": "code",
   "execution_count": 83,
   "metadata": {
    "colab": {
     "base_uri": "https://localhost:8080/"
    },
    "id": "42VGD8yupE0B",
    "outputId": "3fdf25a6-8f77-4ef7-9f22-71d767ba5a47"
   },
   "outputs": [
    {
     "data": {
      "text/plain": [
       "(10000, 784)"
      ]
     },
     "execution_count": 83,
     "metadata": {},
     "output_type": "execute_result"
    }
   ],
   "source": [
    "X_test.shape"
   ]
  },
  {
   "cell_type": "code",
   "execution_count": 84,
   "metadata": {
    "colab": {
     "base_uri": "https://localhost:8080/"
    },
    "id": "CdRw7JBapHCt",
    "outputId": "a6b9915d-a3c6-41f5-90b5-56c345bf8c7f"
   },
   "outputs": [
    {
     "data": {
      "text/plain": [
       "(10000, 10)"
      ]
     },
     "execution_count": 84,
     "metadata": {},
     "output_type": "execute_result"
    }
   ],
   "source": [
    "y_test.shape"
   ]
  },
  {
   "cell_type": "markdown",
   "metadata": {
    "id": "R3-DyW9Jh1U0"
   },
   "source": [
    "## Modelo inicial"
   ]
  },
  {
   "cell_type": "markdown",
   "metadata": {
    "id": "NzCaDGvinQfp"
   },
   "source": [
    "## Modelos SKlearn"
   ]
  },
  {
   "cell_type": "markdown",
   "metadata": {
    "id": "eIYBDmS5qjwB"
   },
   "source": [
    "### 1.Probando una clasificador con Navie bayes MultinomialNB"
   ]
  },
  {
   "cell_type": "markdown",
   "metadata": {
    "id": "h1shEqJuYfdI"
   },
   "source": [
    "#### Entrenamiento"
   ]
  },
  {
   "cell_type": "code",
   "execution_count": 85,
   "metadata": {
    "id": "c4RbhioVy8yO"
   },
   "outputs": [],
   "source": [
    "clf = MultinomialNB()"
   ]
  },
  {
   "cell_type": "code",
   "execution_count": 86,
   "metadata": {
    "colab": {
     "base_uri": "https://localhost:8080/"
    },
    "id": "bv9pJ9J4ytAq",
    "outputId": "348c29b5-7672-4c81-9251-9c48d727573e"
   },
   "outputs": [
    {
     "data": {
      "text/plain": [
       "MultinomialNB()"
      ]
     },
     "execution_count": 86,
     "metadata": {},
     "output_type": "execute_result"
    }
   ],
   "source": [
    "clf.fit(X_train, y)"
   ]
  },
  {
   "cell_type": "markdown",
   "metadata": {
    "id": "dihYGtnHYdTh"
   },
   "source": [
    "#### Resultados"
   ]
  },
  {
   "cell_type": "code",
   "execution_count": 87,
   "metadata": {
    "id": "8iiMzGyIVltW"
   },
   "outputs": [],
   "source": [
    "y_naive_bayes = clf.predict(X_train)\n",
    "y_naive_bayes_test = clf.predict(X_test)"
   ]
  },
  {
   "cell_type": "code",
   "execution_count": 88,
   "metadata": {
    "colab": {
     "base_uri": "https://localhost:8080/"
    },
    "id": "TihzolqEy-Ca",
    "outputId": "ca37e620-666b-4c7f-9236-83c351ccdecd"
   },
   "outputs": [
    {
     "data": {
      "text/plain": [
       "0.6653333333333333"
      ]
     },
     "execution_count": 88,
     "metadata": {},
     "output_type": "execute_result"
    }
   ],
   "source": [
    "clf.score(X_train, y)"
   ]
  },
  {
   "cell_type": "code",
   "execution_count": 89,
   "metadata": {
    "colab": {
     "base_uri": "https://localhost:8080/"
    },
    "id": "ZhV-ldx9XfD1",
    "outputId": "556321a4-dee8-4397-d5fa-07acb2f22476"
   },
   "outputs": [
    {
     "data": {
      "text/plain": [
       "0.6674"
      ]
     },
     "execution_count": 89,
     "metadata": {},
     "output_type": "execute_result"
    }
   ],
   "source": [
    "clf.score(X_test, y_2)"
   ]
  },
  {
   "cell_type": "code",
   "execution_count": 90,
   "metadata": {
    "colab": {
     "base_uri": "https://localhost:8080/"
    },
    "id": "FH23j96-UrBz",
    "outputId": "95927fa2-085d-4450-ca21-0e85d8d911b1"
   },
   "outputs": [
    {
     "name": "stdout",
     "output_type": "stream",
     "text": [
      "Naive Bayes\n",
      "\n",
      "Train:\n",
      "\n",
      "Orden de las etiquetas: \n",
      "['Camiseta', 'Pantalón', 'Suéter', 'Vestido', 'Abrigo', 'Sandalia', 'Camisa', 'Zapatilla deportiva', 'Bolso', 'Botines']\n",
      "Precision por clase: \n",
      "[0.73621252 0.98050037 0.6224794  0.65457921 0.46304935 0.66151582\n",
      " 0.33917309 0.59234162 0.88755459 0.69354839]\n",
      "Precisión micro: \n",
      "0.6653333333333333\n",
      "Precisión macro: \n",
      "0.663095434206207\n",
      "Precisión pesada: \n",
      "0.663095434206207\n",
      "\n",
      "\n",
      "Test:\n",
      "\n",
      "Orden de las etiquetas: \n",
      "['Camiseta', 'Pantalón', 'Suéter', 'Vestido', 'Abrigo', 'Sandalia', 'Camisa', 'Zapatilla deportiva', 'Bolso', 'Botines']\n",
      "Precision por clase: \n",
      "[0.73759542 0.97408207 0.62603306 0.65860806 0.46656649 0.70562771\n",
      " 0.32599119 0.58712614 0.88677249 0.68760469]\n",
      "Precisión micro: \n",
      "0.6674\n",
      "Precisión macro: \n",
      "0.6656007310886742\n",
      "Precisión pesada: \n",
      "0.6656007310886742\n"
     ]
    }
   ],
   "source": [
    "print('Naive Bayes\\n\\nTrain:\\n')\n",
    "print('Orden de las etiquetas: \\n{}'.format(class_names))\n",
    "print('Precision por clase: \\n{}'.format(precision_score(y, y_naive_bayes, average=None)))\n",
    "print('Precisión micro: \\n{}'.format(precision_score(y, y_naive_bayes, average='micro')))\n",
    "print('Precisión macro: \\n{}'.format(precision_score(y, y_naive_bayes, average='macro')))\n",
    "print('Precisión pesada: \\n{}'.format(precision_score(y, y_naive_bayes, average='weighted')))\n",
    "print('\\n\\nTest:\\n')\n",
    "print('Orden de las etiquetas: \\n{}'.format(class_names))\n",
    "print('Precision por clase: \\n{}'.format(precision_score(y_2, y_naive_bayes_test, average=None)))\n",
    "print('Precisión micro: \\n{}'.format(precision_score(y_2, y_naive_bayes_test, average='micro')))\n",
    "print('Precisión macro: \\n{}'.format(precision_score(y_2, y_naive_bayes_test, average='macro')))\n",
    "print('Precisión pesada: \\n{}'.format(precision_score(y_2, y_naive_bayes_test, average='weighted')))"
   ]
  },
  {
   "cell_type": "code",
   "execution_count": 91,
   "metadata": {
    "colab": {
     "base_uri": "https://localhost:8080/"
    },
    "id": "528K54vPZaKJ",
    "outputId": "f2b272a5-5bb4-4d00-bd2b-c9c53743b11c"
   },
   "outputs": [
    {
     "name": "stdout",
     "output_type": "stream",
     "text": [
      "Naive Bayes\n",
      "\n",
      "Train:\n",
      "\n",
      "              precision    recall  f1-score   support\n",
      "\n",
      "         0.0       0.74      0.79      0.76      6000\n",
      "         1.0       0.98      0.89      0.93      6000\n",
      "         2.0       0.62      0.59      0.61      6000\n",
      "         3.0       0.65      0.88      0.75      6000\n",
      "         4.0       0.46      0.63      0.53      6000\n",
      "         5.0       0.66      0.15      0.24      6000\n",
      "         6.0       0.34      0.16      0.22      6000\n",
      "         7.0       0.59      0.92      0.72      6000\n",
      "         8.0       0.89      0.81      0.85      6000\n",
      "         9.0       0.69      0.83      0.76      6000\n",
      "\n",
      "    accuracy                           0.67     60000\n",
      "   macro avg       0.66      0.67      0.64     60000\n",
      "weighted avg       0.66      0.67      0.64     60000\n",
      "\n",
      "\n",
      "\n",
      "Test:\n",
      "\n",
      "              precision    recall  f1-score   support\n",
      "\n",
      "         0.0       0.74      0.77      0.75      1000\n",
      "         1.0       0.97      0.90      0.94      1000\n",
      "         2.0       0.63      0.61      0.62      1000\n",
      "         3.0       0.66      0.90      0.76      1000\n",
      "         4.0       0.47      0.62      0.53      1000\n",
      "         5.0       0.71      0.16      0.26      1000\n",
      "         6.0       0.33      0.15      0.20      1000\n",
      "         7.0       0.59      0.90      0.71      1000\n",
      "         8.0       0.89      0.84      0.86      1000\n",
      "         9.0       0.69      0.82      0.75      1000\n",
      "\n",
      "    accuracy                           0.67     10000\n",
      "   macro avg       0.67      0.67      0.64     10000\n",
      "weighted avg       0.67      0.67      0.64     10000\n",
      "\n"
     ]
    }
   ],
   "source": [
    "print('Naive Bayes\\n\\nTrain:\\n')\n",
    "print(classification_report(y, y_naive_bayes))\n",
    "print('\\n\\nTest:\\n')\n",
    "print(classification_report(y_2, y_naive_bayes_test))"
   ]
  },
  {
   "cell_type": "code",
   "execution_count": 92,
   "metadata": {},
   "outputs": [
    {
     "data": {
      "image/png": "[encoded data removed]",
      "text/plain": [
       "<Figure size 864x504 with 12 Axes>"
      ]
     },
     "metadata": {
      "needs_background": "light"
     },
     "output_type": "display_data"
    }
   ],
   "source": [
    "cm = sklearn.metrics.multilabel_confusion_matrix(y_true=y_2.astype(int),y_pred=y_naive_bayes_test,labels=[0,1,2,3,4,5,6,7,8,9])\n",
    "graficar_multi(cm,class_names)"
   ]
  },
  {
   "cell_type": "markdown",
   "metadata": {
    "id": "ViZ9Vs6Pq1Bn"
   },
   "source": [
    "### 2.Probando utilizando un arbol de desicion"
   ]
  },
  {
   "cell_type": "markdown",
   "metadata": {
    "id": "wgaAKvK4bi0q"
   },
   "source": [
    "#### Entrenando"
   ]
  },
  {
   "cell_type": "code",
   "execution_count": 93,
   "metadata": {
    "id": "p2KzXzid2CKH"
   },
   "outputs": [],
   "source": [
    "dtree_model = DecisionTreeClassifier(max_depth = 10).fit(X_train, y)"
   ]
  },
  {
   "cell_type": "code",
   "execution_count": 94,
   "metadata": {
    "colab": {
     "base_uri": "https://localhost:8080/"
    },
    "id": "gh2YUxOF2U40",
    "outputId": "e14603a6-000d-477f-f6b3-d814148921a6"
   },
   "outputs": [
    {
     "data": {
      "text/plain": [
       "0.84795"
      ]
     },
     "execution_count": 94,
     "metadata": {},
     "output_type": "execute_result"
    }
   ],
   "source": [
    "dtree_model.score(X_train, y)"
   ]
  },
  {
   "cell_type": "markdown",
   "metadata": {
    "id": "tx2xtLnjbuEC"
   },
   "source": [
    "#### Resultados"
   ]
  },
  {
   "cell_type": "code",
   "execution_count": 95,
   "metadata": {
    "id": "tx3rCo95cVui"
   },
   "outputs": [],
   "source": [
    "y_dtree_train = dtree_model.predict(X_train)\n",
    "y_dtree_test = dtree_model.predict(X_test)"
   ]
  },
  {
   "cell_type": "code",
   "execution_count": 96,
   "metadata": {
    "colab": {
     "base_uri": "https://localhost:8080/"
    },
    "id": "TvGd0hFjZL3t",
    "outputId": "848b1598-e69f-4104-b7aa-5cf754739ec2"
   },
   "outputs": [
    {
     "name": "stdout",
     "output_type": "stream",
     "text": [
      "Arbol de decision\n",
      "\n",
      "Train:\n",
      "\n",
      "              precision    recall  f1-score   support\n",
      "\n",
      "         0.0       0.85      0.80      0.82      6369\n",
      "         1.0       0.94      0.99      0.97      5723\n",
      "         2.0       0.69      0.76      0.73      5476\n",
      "         3.0       0.86      0.84      0.85      6135\n",
      "         4.0       0.78      0.66      0.72      7151\n",
      "         5.0       0.93      0.97      0.95      5753\n",
      "         6.0       0.60      0.66      0.63      5386\n",
      "         7.0       0.95      0.90      0.92      6329\n",
      "         8.0       0.94      0.97      0.96      5828\n",
      "         9.0       0.93      0.95      0.94      5850\n",
      "\n",
      "    accuracy                           0.85     60000\n",
      "   macro avg       0.85      0.85      0.85     60000\n",
      "weighted avg       0.85      0.85      0.85     60000\n",
      "\n",
      "\n",
      "\n",
      "Test:\n",
      "\n",
      "              precision    recall  f1-score   support\n",
      "\n",
      "         0.0       0.79      0.74      0.76      1064\n",
      "         1.0       0.94      0.97      0.96       967\n",
      "         2.0       0.67      0.74      0.70       909\n",
      "         3.0       0.84      0.83      0.83      1023\n",
      "         4.0       0.77      0.65      0.71      1181\n",
      "         5.0       0.86      0.92      0.89       942\n",
      "         6.0       0.52      0.58      0.55       902\n",
      "         7.0       0.89      0.85      0.87      1051\n",
      "         8.0       0.91      0.93      0.92       968\n",
      "         9.0       0.89      0.90      0.89       993\n",
      "\n",
      "    accuracy                           0.81     10000\n",
      "   macro avg       0.81      0.81      0.81     10000\n",
      "weighted avg       0.81      0.81      0.81     10000\n",
      "\n"
     ]
    }
   ],
   "source": [
    "print('Arbol de decision\\n\\nTrain:\\n')\n",
    "print(classification_report(y_dtree_train,y))\n",
    "print('\\n\\nTest:\\n')\n",
    "print(classification_report(y_dtree_test,y_2))"
   ]
  },
  {
   "cell_type": "code",
   "execution_count": 97,
   "metadata": {
    "colab": {
     "base_uri": "https://localhost:8080/",
     "height": 513
    },
    "id": "IK0AXUgL5D8C",
    "outputId": "6e6d37cb-4daf-4025-93fa-827a9c772538"
   },
   "outputs": [
    {
     "data": {
      "image/png": "[encoded data removed]",
      "text/plain": [
       "<Figure size 864x504 with 12 Axes>"
      ]
     },
     "metadata": {
      "needs_background": "light"
     },
     "output_type": "display_data"
    }
   ],
   "source": [
    "cm = sklearn.metrics.multilabel_confusion_matrix(y_true=y_2.astype(int),y_pred=y_dtree_test,labels=[0,1,2,3,4,5,6,7,8,9])\n",
    "graficar_multi(cm,class_names)"
   ]
  },
  {
   "cell_type": "markdown",
   "metadata": {
    "id": "NC43G4_Fz_Zi"
   },
   "source": [
    "## 3. Red neuronal con Keras"
   ]
  },
  {
   "cell_type": "markdown",
   "metadata": {
    "id": "n-SUTwMmduGO"
   },
   "source": [
    "### Entrenamineto"
   ]
  },
  {
   "cell_type": "code",
   "execution_count": 98,
   "metadata": {
    "id": "gNv2ANZo7qQh"
   },
   "outputs": [],
   "source": [
    "keras.backend.clear_session()\n",
    "model_keras = Sequential()"
   ]
  },
  {
   "cell_type": "code",
   "execution_count": 99,
   "metadata": {
    "id": "KPPaJyBS8hwt"
   },
   "outputs": [],
   "source": [
    "model_keras.add(Dense(units=10,activation='relu',input_dim=784))\n",
    "model_keras.add(Dense(units=10,activation='softmax'))"
   ]
  },
  {
   "cell_type": "code",
   "execution_count": 100,
   "metadata": {
    "id": "3zeq2rmv9Pnj"
   },
   "outputs": [],
   "source": [
    "model_keras.compile(loss='categorical_crossentropy',metrics=['accuracy'])"
   ]
  },
  {
   "cell_type": "code",
   "execution_count": 101,
   "metadata": {
    "colab": {
     "base_uri": "https://localhost:8080/"
    },
    "id": "knq-Yjm49jgo",
    "outputId": "1403f2c5-c7d3-4989-b42f-91420f69cd88"
   },
   "outputs": [
    {
     "name": "stdout",
     "output_type": "stream",
     "text": [
      "Epoch 1/25\n",
      "59/59 [==============================] - 0s 3ms/step - loss: 9.1866 - accuracy: 0.1912\n",
      "Epoch 2/25\n",
      "59/59 [==============================] - 0s 3ms/step - loss: 1.9829 - accuracy: 0.2518\n",
      "Epoch 3/25\n",
      "59/59 [==============================] - 0s 3ms/step - loss: 1.8449 - accuracy: 0.2860\n",
      "Epoch 4/25\n",
      "59/59 [==============================] - 0s 3ms/step - loss: 1.6990 - accuracy: 0.3244\n",
      "Epoch 5/25\n",
      "59/59 [==============================] - 0s 3ms/step - loss: 1.5971 - accuracy: 0.3603\n",
      "Epoch 6/25\n",
      "59/59 [==============================] - 0s 3ms/step - loss: 1.5271 - accuracy: 0.3906\n",
      "Epoch 7/25\n",
      "59/59 [==============================] - ETA: 0s - loss: 1.4693 - accuracy: 0.42 - 0s 3ms/step - loss: 1.4687 - accuracy: 0.4241\n",
      "Epoch 8/25\n",
      "59/59 [==============================] - 0s 3ms/step - loss: 1.4066 - accuracy: 0.4695\n",
      "Epoch 9/25\n",
      "59/59 [==============================] - 0s 3ms/step - loss: 1.3631 - accuracy: 0.4815\n",
      "Epoch 10/25\n",
      "59/59 [==============================] - 0s 3ms/step - loss: 1.3242 - accuracy: 0.4966\n",
      "Epoch 11/25\n",
      "59/59 [==============================] - 0s 3ms/step - loss: 1.2917 - accuracy: 0.5107\n",
      "Epoch 12/25\n",
      "59/59 [==============================] - 0s 3ms/step - loss: 1.2761 - accuracy: 0.5203\n",
      "Epoch 13/25\n",
      "59/59 [==============================] - 0s 3ms/step - loss: 1.2421 - accuracy: 0.5303\n",
      "Epoch 14/25\n",
      "59/59 [==============================] - 0s 3ms/step - loss: 1.2193 - accuracy: 0.5336\n",
      "Epoch 15/25\n",
      "59/59 [==============================] - 0s 3ms/step - loss: 1.1943 - accuracy: 0.5416\n",
      "Epoch 16/25\n",
      "59/59 [==============================] - 0s 3ms/step - loss: 1.1765 - accuracy: 0.5438\n",
      "Epoch 17/25\n",
      "59/59 [==============================] - 0s 3ms/step - loss: 1.1583 - accuracy: 0.5485\n",
      "Epoch 18/25\n",
      "59/59 [==============================] - 0s 3ms/step - loss: 1.1310 - accuracy: 0.5533\n",
      "Epoch 19/25\n",
      "59/59 [==============================] - 0s 3ms/step - loss: 1.1235 - accuracy: 0.5585\n",
      "Epoch 20/25\n",
      "59/59 [==============================] - 0s 3ms/step - loss: 1.1090 - accuracy: 0.5607\n",
      "Epoch 21/25\n",
      "59/59 [==============================] - 0s 3ms/step - loss: 1.0969 - accuracy: 0.5666\n",
      "Epoch 22/25\n",
      "59/59 [==============================] - 0s 3ms/step - loss: 1.0804 - accuracy: 0.5694\n",
      "Epoch 23/25\n",
      "59/59 [==============================] - 0s 3ms/step - loss: 1.0654 - accuracy: 0.5753\n",
      "Epoch 24/25\n",
      "59/59 [==============================] - 0s 3ms/step - loss: 1.0597 - accuracy: 0.5777\n",
      "Epoch 25/25\n",
      "59/59 [==============================] - 0s 3ms/step - loss: 1.0453 - accuracy: 0.5817\n"
     ]
    },
    {
     "data": {
      "text/plain": [
       "<tensorflow.python.keras.callbacks.History at 0x208754ed3a0>"
      ]
     },
     "execution_count": 101,
     "metadata": {},
     "output_type": "execute_result"
    }
   ],
   "source": [
    "model_keras.fit(X_train, y_train, epochs=25, batch_size=1024)"
   ]
  },
  {
   "cell_type": "markdown",
   "metadata": {
    "id": "jtiY2UmIdw7a"
   },
   "source": [
    "### Resultados"
   ]
  },
  {
   "cell_type": "code",
   "execution_count": 102,
   "metadata": {
    "colab": {
     "base_uri": "https://localhost:8080/"
    },
    "id": "y5y9Ua7_yQy8",
    "outputId": "c9c9b328-5318-427d-ed3b-22477cc336ff"
   },
   "outputs": [
    {
     "name": "stdout",
     "output_type": "stream",
     "text": [
      "Model: \"sequential\"\n",
      "_________________________________________________________________\n",
      "Layer (type)                 Output Shape              Param #   \n",
      "=================================================================\n",
      "dense (Dense)                (None, 10)                7850      \n",
      "_________________________________________________________________\n",
      "dense_1 (Dense)              (None, 10)                110       \n",
      "=================================================================\n",
      "Total params: 7,960\n",
      "Trainable params: 7,960\n",
      "Non-trainable params: 0\n",
      "_________________________________________________________________\n"
     ]
    }
   ],
   "source": [
    "model_keras.summary()"
   ]
  },
  {
   "cell_type": "code",
   "execution_count": 103,
   "metadata": {
    "id": "BBe-rI8ZdcF5"
   },
   "outputs": [],
   "source": [
    "y_keras_train_one_hot = model_keras.predict(X_train)\n",
    "y_keras_test_one_hot = model_keras.predict(X_test)"
   ]
  },
  {
   "cell_type": "code",
   "execution_count": 104,
   "metadata": {
    "colab": {
     "base_uri": "https://localhost:8080/"
    },
    "id": "qX6zqsN3iZDJ",
    "outputId": "13815c0e-6484-47a1-f034-05653c2bd9c9"
   },
   "outputs": [
    {
     "name": "stdout",
     "output_type": "stream",
     "text": [
      "2.0\n",
      "(60000,)\n",
      "[2. 9. 6. ... 8. 8. 7.]\n",
      "[2 9 6 ... 8 8 7]\n"
     ]
    }
   ],
   "source": [
    "print(y[0])\n",
    "print(y.shape)\n",
    "print(y)\n",
    "print(np.argmax(y_train,axis=1))\n",
    "\n",
    "y_keras_train = np.argmax(y_keras_train_one_hot,axis=1)\n",
    "y_keras_test = np.argmax(y_keras_test_one_hot,axis=1)"
   ]
  },
  {
   "cell_type": "code",
   "execution_count": 105,
   "metadata": {
    "colab": {
     "base_uri": "https://localhost:8080/"
    },
    "id": "JwV8lKjniI2g",
    "outputId": "2664da5b-43e4-490a-dfa9-71933bf6bcdf"
   },
   "outputs": [
    {
     "name": "stdout",
     "output_type": "stream",
     "text": [
      "Arbol de decision\n",
      "\n",
      "Train:\n",
      "\n",
      "                     precision    recall  f1-score   support\n",
      "\n",
      "           Camiseta       0.02      0.22      0.03       457\n",
      "           Pantalón       0.94      0.78      0.85      7258\n",
      "             Suéter       0.99      0.24      0.39     24279\n",
      "            Vestido       0.52      0.76      0.62      4123\n",
      "             Abrigo       0.00      0.20      0.00        55\n",
      "           Sandalia       0.70      0.98      0.82      4283\n",
      "             Camisa       0.00      0.20      0.01       126\n",
      "Zapatilla deportiva       0.48      0.74      0.58      3858\n",
      "              Bolso       0.92      0.82      0.87      6707\n",
      "            Botines       0.85      0.58      0.69      8854\n",
      "\n",
      "           accuracy                           0.54     60000\n",
      "          macro avg       0.54      0.55      0.49     60000\n",
      "       weighted avg       0.86      0.54      0.60     60000\n",
      "\n",
      "\n",
      "\n",
      "Test:\n",
      "\n",
      "                     precision    recall  f1-score   support\n",
      "\n",
      "           Camiseta       0.02      0.28      0.04        76\n",
      "           Pantalón       0.95      0.76      0.84      1257\n",
      "             Suéter       0.99      0.25      0.39      4018\n",
      "            Vestido       0.51      0.76      0.61       662\n",
      "             Abrigo       0.00      0.00      0.00         8\n",
      "           Sandalia       0.67      0.98      0.80       688\n",
      "             Camisa       0.00      0.13      0.01        30\n",
      "Zapatilla deportiva       0.44      0.72      0.55       605\n",
      "              Bolso       0.91      0.80      0.85      1133\n",
      "            Botines       0.84      0.55      0.67      1523\n",
      "\n",
      "           accuracy                           0.53     10000\n",
      "          macro avg       0.53      0.52      0.48     10000\n",
      "       weighted avg       0.85      0.53      0.59     10000\n",
      "\n"
     ]
    }
   ],
   "source": [
    "print('Arbol de decision\\n\\nTrain:\\n')\n",
    "print(classification_report(y_keras_train,y,target_names=class_names))\n",
    "print('\\n\\nTest:\\n')\n",
    "print(classification_report(y_keras_test,y_2,target_names=class_names))"
   ]
  },
  {
   "cell_type": "code",
   "execution_count": 106,
   "metadata": {
    "colab": {
     "base_uri": "https://localhost:8080/",
     "height": 0
    },
    "id": "vgOqRu-DIDVi",
    "outputId": "05ecc9ce-8643-44d7-b057-a3bbd8cc7a96",
    "scrolled": true
   },
   "outputs": [
    {
     "data": {
      "image/png": "[encoded data removed]",
      "text/plain": [
       "<Figure size 864x504 with 12 Axes>"
      ]
     },
     "metadata": {
      "needs_background": "light"
     },
     "output_type": "display_data"
    }
   ],
   "source": [
    "cm = sklearn.metrics.multilabel_confusion_matrix(y_true=y_2.astype(int),y_pred=y_keras_test,labels=[0,1,2,3,4,5,6,7,8,9])\n",
    "graficar_multi(cm,class_names)"
   ]
  },
  {
   "cell_type": "markdown",
   "metadata": {
    "id": "6c3wZn7wiGFU"
   },
   "source": [
    "## Evaluacion del Desempeño"
   ]
  },
  {
   "cell_type": "markdown",
   "metadata": {
    "id": "E8qTpw2WiREB"
   },
   "source": [
    "probar el modelo con train\n"
   ]
  },
  {
   "cell_type": "markdown",
   "metadata": {
    "id": "v1eKew38kqXq"
   },
   "source": [
    "probar con test\n"
   ]
  },
  {
   "cell_type": "markdown",
   "metadata": {
    "id": "gRqYCxgnkt7P"
   },
   "source": [
    "graficar curva de error"
   ]
  },
  {
   "cell_type": "markdown",
   "metadata": {
    "id": "PPiH0_FwkxCj"
   },
   "source": [
    "ver bias y varianza\n"
   ]
  },
  {
   "cell_type": "markdown",
   "metadata": {
    "id": "KDuH6vSpO899"
   },
   "source": []
  },
  {
   "cell_type": "markdown",
   "metadata": {
    "id": "l8Vsk6bbpP0I"
   },
   "source": [
    "# Optimizacion"
   ]
  },
  {
   "cell_type": "markdown",
   "metadata": {
    "id": "iWOfg6WOsKUz"
   },
   "source": [
    "## Normalizacion"
   ]
  },
  {
   "cell_type": "code",
   "execution_count": 107,
   "metadata": {
    "id": "HLcLeUbOzBfj"
   },
   "outputs": [],
   "source": [
    "scaler = MinMaxScaler()\n",
    "X_train_norm = scaler.fit_transform(X_train)"
   ]
  },
  {
   "cell_type": "code",
   "execution_count": 108,
   "metadata": {
    "colab": {
     "base_uri": "https://localhost:8080/"
    },
    "id": "Y_nXBbZZsKCD",
    "outputId": "fdc71dfd-30ef-4bff-e6d3-499aaa662df3"
   },
   "outputs": [
    {
     "name": "stdout",
     "output_type": "stream",
     "text": [
      "Epoch 1/25\n",
      "1875/1875 [==============================] - 1s 594us/step - loss: 0.6377 - accuracy: 0.7875\n",
      "Epoch 2/25\n",
      "1875/1875 [==============================] - 1s 593us/step - loss: 0.4745 - accuracy: 0.8357\n",
      "Epoch 3/25\n",
      "1875/1875 [==============================] - 1s 610us/step - loss: 0.4442 - accuracy: 0.8456\n",
      "Epoch 4/25\n",
      "1875/1875 [==============================] - 1s 585us/step - loss: 0.4292 - accuracy: 0.8514\n",
      "Epoch 5/25\n",
      "1875/1875 [==============================] - 1s 587us/step - loss: 0.4185 - accuracy: 0.8552\n",
      "Epoch 6/25\n",
      "1875/1875 [==============================] - 1s 594us/step - loss: 0.4106 - accuracy: 0.8588\n",
      "Epoch 7/25\n",
      "1875/1875 [==============================] - 1s 581us/step - loss: 0.4056 - accuracy: 0.8602\n",
      "Epoch 8/25\n",
      "1875/1875 [==============================] - 1s 585us/step - loss: 0.4001 - accuracy: 0.8619\n",
      "Epoch 9/25\n",
      "1875/1875 [==============================] - 1s 621us/step - loss: 0.3953 - accuracy: 0.8638\n",
      "Epoch 10/25\n",
      "1875/1875 [==============================] - 1s 581us/step - loss: 0.3916 - accuracy: 0.8634\n",
      "Epoch 11/25\n",
      "1875/1875 [==============================] - 1s 574us/step - loss: 0.3891 - accuracy: 0.8661\n",
      "Epoch 12/25\n",
      "1875/1875 [==============================] - 1s 580us/step - loss: 0.3861 - accuracy: 0.8654\n",
      "Epoch 13/25\n",
      "1875/1875 [==============================] - 1s 590us/step - loss: 0.3837 - accuracy: 0.8657\n",
      "Epoch 14/25\n",
      "1875/1875 [==============================] - 1s 625us/step - loss: 0.3814 - accuracy: 0.8671\n",
      "Epoch 15/25\n",
      "1875/1875 [==============================] - 1s 620us/step - loss: 0.3790 - accuracy: 0.8679\n",
      "Epoch 16/25\n",
      "1875/1875 [==============================] - 1s 581us/step - loss: 0.3768 - accuracy: 0.8676\n",
      "Epoch 17/25\n",
      "1875/1875 [==============================] - 1s 589us/step - loss: 0.3760 - accuracy: 0.8678\n",
      "Epoch 18/25\n",
      "1875/1875 [==============================] - 1s 586us/step - loss: 0.3753 - accuracy: 0.8686\n",
      "Epoch 19/25\n",
      "1875/1875 [==============================] - 1s 583us/step - loss: 0.3722 - accuracy: 0.8702\n",
      "Epoch 20/25\n",
      "1875/1875 [==============================] - 1s 589us/step - loss: 0.3703 - accuracy: 0.8706\n",
      "Epoch 21/25\n",
      "1875/1875 [==============================] - 1s 582us/step - loss: 0.3705 - accuracy: 0.8695\n",
      "Epoch 22/25\n",
      "1875/1875 [==============================] - 1s 588us/step - loss: 0.3689 - accuracy: 0.8705\n",
      "Epoch 23/25\n",
      "1875/1875 [==============================] - 1s 585us/step - loss: 0.3678 - accuracy: 0.8724\n",
      "Epoch 24/25\n",
      "1875/1875 [==============================] - 1s 580us/step - loss: 0.3671 - accuracy: 0.8720\n",
      "Epoch 25/25\n",
      "1875/1875 [==============================] - 1s 585us/step - loss: 0.3646 - accuracy: 0.8723\n"
     ]
    },
    {
     "data": {
      "text/plain": [
       "<tensorflow.python.keras.callbacks.History at 0x208400f3790>"
      ]
     },
     "execution_count": 108,
     "metadata": {},
     "output_type": "execute_result"
    }
   ],
   "source": [
    "keras.backend.clear_session()\n",
    "model_norm = Sequential()\n",
    "model_norm.add(Dense(10,activation='relu',input_dim=784))\n",
    "model_norm.add(Dense(10,activation='softmax'))\n",
    "model_norm.compile(loss='categorical_crossentropy',metrics=['accuracy'])\n",
    "model_norm.fit(X_train_norm, y_train, epochs=25)"
   ]
  },
  {
   "cell_type": "markdown",
   "metadata": {
    "id": "LNBZkAQJ1rXd"
   },
   "source": [
    "## Estandariacion"
   ]
  },
  {
   "cell_type": "code",
   "execution_count": 109,
   "metadata": {
    "id": "BrOQgUz31vAf"
   },
   "outputs": [],
   "source": [
    "scaler_2 = StandardScaler()\n",
    "scaler_2.fit(X_train)\n",
    "X_train_stand = scaler.transform(X_train)\n",
    "X_test_stand = scaler.transform(X_test)"
   ]
  },
  {
   "cell_type": "code",
   "execution_count": 110,
   "metadata": {
    "colab": {
     "base_uri": "https://localhost:8080/"
    },
    "id": "RYOyN4-h2Ty3",
    "outputId": "a02b5e64-e160-4980-d945-9bbb9dd8976a"
   },
   "outputs": [
    {
     "name": "stdout",
     "output_type": "stream",
     "text": [
      "Epoch 1/25\n",
      "1875/1875 [==============================] - 1s 596us/step - loss: 0.6729 - accuracy: 0.7684\n",
      "Epoch 2/25\n",
      "1875/1875 [==============================] - 1s 589us/step - loss: 0.4788 - accuracy: 0.8338\n",
      "Epoch 3/25\n",
      "1875/1875 [==============================] - 1s 643us/step - loss: 0.4510 - accuracy: 0.8429\n",
      "Epoch 4/25\n",
      "1875/1875 [==============================] - 1s 579us/step - loss: 0.4376 - accuracy: 0.8477\n",
      "Epoch 5/25\n",
      "1875/1875 [==============================] - 1s 584us/step - loss: 0.4273 - accuracy: 0.8498\n",
      "Epoch 6/25\n",
      "1875/1875 [==============================] - 1s 602us/step - loss: 0.4201 - accuracy: 0.8535\n",
      "Epoch 7/25\n",
      "1875/1875 [==============================] - 1s 582us/step - loss: 0.4130 - accuracy: 0.8556\n",
      "Epoch 8/25\n",
      "1875/1875 [==============================] - 1s 585us/step - loss: 0.4070 - accuracy: 0.8599\n",
      "Epoch 9/25\n",
      "1875/1875 [==============================] - 1s 594us/step - loss: 0.3997 - accuracy: 0.8604\n",
      "Epoch 10/25\n",
      "1875/1875 [==============================] - 1s 582us/step - loss: 0.3936 - accuracy: 0.8633\n",
      "Epoch 11/25\n",
      "1875/1875 [==============================] - 1s 625us/step - loss: 0.3894 - accuracy: 0.8655\n",
      "Epoch 12/25\n",
      "1875/1875 [==============================] - 1s 583us/step - loss: 0.3858 - accuracy: 0.8672\n",
      "Epoch 13/25\n",
      "1875/1875 [==============================] - 1s 582us/step - loss: 0.3834 - accuracy: 0.8669\n",
      "Epoch 14/25\n",
      "1875/1875 [==============================] - 1s 586us/step - loss: 0.3807 - accuracy: 0.8689\n",
      "Epoch 15/25\n",
      "1875/1875 [==============================] - 1s 580us/step - loss: 0.3785 - accuracy: 0.8689\n",
      "Epoch 16/25\n",
      "1875/1875 [==============================] - 1s 589us/step - loss: 0.3762 - accuracy: 0.8698\n",
      "Epoch 17/25\n",
      "1875/1875 [==============================] - 1s 653us/step - loss: 0.3753 - accuracy: 0.8705\n",
      "Epoch 18/25\n",
      "1875/1875 [==============================] - 1s 638us/step - loss: 0.3733 - accuracy: 0.8706\n",
      "Epoch 19/25\n",
      "1875/1875 [==============================] - 1s 617us/step - loss: 0.3727 - accuracy: 0.8712\n",
      "Epoch 20/25\n",
      "1875/1875 [==============================] - 1s 662us/step - loss: 0.3707 - accuracy: 0.8724\n",
      "Epoch 21/25\n",
      "1875/1875 [==============================] - 1s 597us/step - loss: 0.3693 - accuracy: 0.8736\n",
      "Epoch 22/25\n",
      "1875/1875 [==============================] - 1s 603us/step - loss: 0.3692 - accuracy: 0.8734\n",
      "Epoch 23/25\n",
      "1875/1875 [==============================] - 1s 587us/step - loss: 0.3673 - accuracy: 0.8730\n",
      "Epoch 24/25\n",
      "1875/1875 [==============================] - 1s 623us/step - loss: 0.3667 - accuracy: 0.8734\n",
      "Epoch 25/25\n",
      "1875/1875 [==============================] - 1s 667us/step - loss: 0.3663 - accuracy: 0.8743\n"
     ]
    },
    {
     "data": {
      "text/plain": [
       "<tensorflow.python.keras.callbacks.History at 0x208755bb6a0>"
      ]
     },
     "execution_count": 110,
     "metadata": {},
     "output_type": "execute_result"
    }
   ],
   "source": [
    "keras.backend.clear_session()\n",
    "model_norm_std = Sequential()\n",
    "model_norm_std.add(Dense(10,activation='relu',input_dim=784))\n",
    "model_norm_std.add(Dense(10,activation='softmax'))\n",
    "model_norm_std.compile(loss='categorical_crossentropy',metrics=['accuracy'])\n",
    "model_norm_std.fit(X_train_stand, y_train, epochs=25)"
   ]
  },
  {
   "cell_type": "markdown",
   "metadata": {
    "id": "yMjJ7YLcpU8P"
   },
   "source": [
    "## Modelo con ADAM"
   ]
  },
  {
   "cell_type": "code",
   "execution_count": 111,
   "metadata": {
    "colab": {
     "base_uri": "https://localhost:8080/"
    },
    "id": "tgjv9EJjsUDi",
    "outputId": "2ebd05d0-509b-4507-bae8-971549b1e19e"
   },
   "outputs": [
    {
     "name": "stdout",
     "output_type": "stream",
     "text": [
      "Epoch 1/25\n",
      "1875/1875 [==============================] - 1s 707us/step - loss: 2.7324 - accuracy: 0.1104\n",
      "Epoch 2/25\n",
      "1875/1875 [==============================] - 1s 677us/step - loss: 2.2236 - accuracy: 0.1371\n",
      "Epoch 3/25\n",
      "1875/1875 [==============================] - 1s 695us/step - loss: 2.1450 - accuracy: 0.1629\n",
      "Epoch 4/25\n",
      "1875/1875 [==============================] - 1s 668us/step - loss: 2.0190 - accuracy: 0.2052\n",
      "Epoch 5/25\n",
      "1875/1875 [==============================] - 1s 732us/step - loss: 1.7537 - accuracy: 0.2451\n",
      "Epoch 6/25\n",
      "1875/1875 [==============================] - 1s 705us/step - loss: 1.6412 - accuracy: 0.3057\n",
      "Epoch 7/25\n",
      "1875/1875 [==============================] - 1s 670us/step - loss: 1.6029 - accuracy: 0.3186\n",
      "Epoch 8/25\n",
      "1875/1875 [==============================] - 1s 667us/step - loss: 1.5737 - accuracy: 0.3268\n",
      "Epoch 9/25\n",
      "1875/1875 [==============================] - 1s 699us/step - loss: 1.5514 - accuracy: 0.3420\n",
      "Epoch 10/25\n",
      "1875/1875 [==============================] - 1s 666us/step - loss: 1.5106 - accuracy: 0.3601\n",
      "Epoch 11/25\n",
      "1875/1875 [==============================] - 1s 684us/step - loss: 1.4902 - accuracy: 0.3635\n",
      "Epoch 12/25\n",
      "1875/1875 [==============================] - 1s 669us/step - loss: 1.4869 - accuracy: 0.3686\n",
      "Epoch 13/25\n",
      "1875/1875 [==============================] - 1s 694us/step - loss: 1.4796 - accuracy: 0.3681\n",
      "Epoch 14/25\n",
      "1875/1875 [==============================] - 1s 666us/step - loss: 1.4681 - accuracy: 0.3772\n",
      "Epoch 15/25\n",
      "1875/1875 [==============================] - 1s 676us/step - loss: 1.4526 - accuracy: 0.3934\n",
      "Epoch 16/25\n",
      "1875/1875 [==============================] - 1s 665us/step - loss: 1.3456 - accuracy: 0.4358\n",
      "Epoch 17/25\n",
      "1875/1875 [==============================] - 1s 663us/step - loss: 1.3147 - accuracy: 0.4405\n",
      "Epoch 18/25\n",
      "1875/1875 [==============================] - 1s 655us/step - loss: 1.3053 - accuracy: 0.4447\n",
      "Epoch 19/25\n",
      "1875/1875 [==============================] - 1s 657us/step - loss: 1.2840 - accuracy: 0.4485\n",
      "Epoch 20/25\n",
      "1875/1875 [==============================] - 1s 662us/step - loss: 1.2847 - accuracy: 0.4495\n",
      "Epoch 21/25\n",
      "1875/1875 [==============================] - 1s 646us/step - loss: 1.2764 - accuracy: 0.4502\n",
      "Epoch 22/25\n",
      "1875/1875 [==============================] - 1s 648us/step - loss: 1.2700 - accuracy: 0.4521\n",
      "Epoch 23/25\n",
      "1875/1875 [==============================] - 1s 648us/step - loss: 1.2630 - accuracy: 0.4533\n",
      "Epoch 24/25\n",
      "1875/1875 [==============================] - 1s 651us/step - loss: 1.2586 - accuracy: 0.4536\n",
      "Epoch 25/25\n",
      "1875/1875 [==============================] - 1s 659us/step - loss: 1.2578 - accuracy: 0.4557\n"
     ]
    },
    {
     "data": {
      "text/plain": [
       "<tensorflow.python.keras.callbacks.History at 0x2087a866550>"
      ]
     },
     "execution_count": 111,
     "metadata": {},
     "output_type": "execute_result"
    }
   ],
   "source": [
    "keras.backend.clear_session()\n",
    "model_adam = Sequential()\n",
    "model_adam.add(Dense(10,activation='relu',input_dim=784))\n",
    "model_adam.add(Dense(10,activation='softmax'))\n",
    "optimizer = optimizers.Adam(0.001)\n",
    "model_adam.compile(loss='categorical_crossentropy', optimizer=optimizer, metrics=['accuracy'])\n",
    "model_adam.fit(X_train, y_train, epochs=25)"
   ]
  },
  {
   "cell_type": "markdown",
   "metadata": {
    "id": "_UyzAFmNk0yT"
   },
   "source": [
    "## Modelo con Minibatch"
   ]
  },
  {
   "cell_type": "code",
   "execution_count": 112,
   "metadata": {
    "id": "YGvDyx-lTbGt"
   },
   "outputs": [],
   "source": [
    "def correr_modelo_mini_batch(batch_size):\n",
    "    keras.backend.clear_session()\n",
    "    model_mini_batch = Sequential()\n",
    "    model_mini_batch.add(Dense(10,activation='relu',input_dim=784))\n",
    "    model_mini_batch.add(Dense(10,activation='softmax'))\n",
    "    optimizer = optimizers.Adam(0.001)\n",
    "    model_mini_batch.compile(loss='categorical_crossentropy',optimizer=optimizer ,metrics=['accuracy'])\n",
    "    model_mini_batch.fit(X_train, y_train, epochs=25, batch_size=batch_size)\n",
    "    return model_mini_batch.evaluate(X_train, y_train)"
   ]
  },
  {
   "cell_type": "code",
   "execution_count": 113,
   "metadata": {
    "colab": {
     "base_uri": "https://localhost:8080/",
     "height": 1000
    },
    "id": "ezjNdB1SPtAo",
    "outputId": "e8f1a2a8-c5e6-459a-9581-5943b0ce280f"
   },
   "outputs": [
    {
     "name": "stdout",
     "output_type": "stream",
     "text": [
      "Epoch 1/25\n",
      "7500/7500 [==============================] - 4s 563us/step - loss: 2.1196 - accuracy: 0.2448\n",
      "Epoch 2/25\n",
      "7500/7500 [==============================] - 4s 565us/step - loss: 1.6454 - accuracy: 0.3494\n",
      "Epoch 3/25\n",
      "7500/7500 [==============================] - 4s 565us/step - loss: 1.3488 - accuracy: 0.4479\n",
      "Epoch 4/25\n",
      "7500/7500 [==============================] - 4s 575us/step - loss: 1.2291 - accuracy: 0.4770\n",
      "Epoch 5/25\n",
      "7500/7500 [==============================] - 4s 565us/step - loss: 1.1551 - accuracy: 0.5122\n",
      "Epoch 6/25\n",
      "7500/7500 [==============================] - 4s 561us/step - loss: 1.1383 - accuracy: 0.5190\n",
      "Epoch 7/25\n",
      "7500/7500 [==============================] - 4s 564us/step - loss: 1.1356 - accuracy: 0.5260\n",
      "Epoch 8/25\n",
      "7500/7500 [==============================] - 4s 562us/step - loss: 1.1527 - accuracy: 0.5228\n",
      "Epoch 9/25\n",
      "7500/7500 [==============================] - 4s 564us/step - loss: 1.1226 - accuracy: 0.5252\n",
      "Epoch 10/25\n",
      "7500/7500 [==============================] - 4s 564us/step - loss: 1.1173 - accuracy: 0.5308\n",
      "Epoch 11/25\n",
      "7500/7500 [==============================] - 4s 570us/step - loss: 1.1326 - accuracy: 0.5300\n",
      "Epoch 12/25\n",
      "7500/7500 [==============================] - 4s 565us/step - loss: 1.1195 - accuracy: 0.5328\n",
      "Epoch 13/25\n",
      "7500/7500 [==============================] - 4s 564us/step - loss: 1.1226 - accuracy: 0.5314\n",
      "Epoch 14/25\n",
      "7500/7500 [==============================] - 4s 565us/step - loss: 1.1621 - accuracy: 0.5245\n",
      "Epoch 15/25\n",
      "7500/7500 [==============================] - 4s 568us/step - loss: 1.1080 - accuracy: 0.5311\n",
      "Epoch 16/25\n",
      "7500/7500 [==============================] - 4s 565us/step - loss: 1.1472 - accuracy: 0.5292\n",
      "Epoch 17/25\n",
      "7500/7500 [==============================] - 4s 567us/step - loss: 1.3122 - accuracy: 0.4674\n",
      "Epoch 18/25\n",
      "7500/7500 [==============================] - 4s 568us/step - loss: 1.1599 - accuracy: 0.5184\n",
      "Epoch 19/25\n",
      "7500/7500 [==============================] - 4s 575us/step - loss: 1.1708 - accuracy: 0.5344\n",
      "Epoch 20/25\n",
      "7500/7500 [==============================] - 4s 556us/step - loss: 1.1329 - accuracy: 0.5332\n",
      "Epoch 21/25\n",
      "7500/7500 [==============================] - 4s 560us/step - loss: 1.1136 - accuracy: 0.5346\n",
      "Epoch 22/25\n",
      "7500/7500 [==============================] - 5s 605us/step - loss: 1.1112 - accuracy: 0.5398\n",
      "Epoch 23/25\n",
      "7500/7500 [==============================] - 4s 596us/step - loss: 1.1072 - accuracy: 0.5398\n",
      "Epoch 24/25\n",
      "7500/7500 [==============================] - 4s 581us/step - loss: 1.0921 - accuracy: 0.5421\n",
      "Epoch 25/25\n",
      "7500/7500 [==============================] - 4s 573us/step - loss: 1.0866 - accuracy: 0.5461\n",
      "1875/1875 [==============================] - 1s 428us/step - loss: 1.0834 - accuracy: 0.5531\n",
      "Epoch 1/25\n",
      "3750/3750 [==============================] - 2s 590us/step - loss: 2.3944 - accuracy: 0.1112\n",
      "Epoch 2/25\n",
      "3750/3750 [==============================] - 2s 590us/step - loss: 2.2462 - accuracy: 0.1260\n",
      "Epoch 3/25\n",
      "3750/3750 [==============================] - 2s 590us/step - loss: 2.1914 - accuracy: 0.1432\n",
      "Epoch 4/25\n",
      "3750/3750 [==============================] - 2s 589us/step - loss: 2.1392 - accuracy: 0.1504\n",
      "Epoch 5/25\n",
      "3750/3750 [==============================] - 2s 591us/step - loss: 2.1137 - accuracy: 0.1589\n",
      "Epoch 6/25\n",
      "3750/3750 [==============================] - 2s 599us/step - loss: 2.0967 - accuracy: 0.1675\n",
      "Epoch 7/25\n",
      "3750/3750 [==============================] - 2s 587us/step - loss: 2.0367 - accuracy: 0.1879\n",
      "Epoch 8/25\n",
      "3750/3750 [==============================] - 2s 598us/step - loss: 1.8069 - accuracy: 0.2307\n",
      "Epoch 9/25\n",
      "3750/3750 [==============================] - 2s 609us/step - loss: 1.7463 - accuracy: 0.2480\n",
      "Epoch 10/25\n",
      "3750/3750 [==============================] - 2s 594us/step - loss: 1.7178 - accuracy: 0.2548\n",
      "Epoch 11/25\n",
      "3750/3750 [==============================] - 2s 594us/step - loss: 1.6939 - accuracy: 0.2686\n",
      "Epoch 12/25\n",
      "3750/3750 [==============================] - 2s 600us/step - loss: 1.6778 - accuracy: 0.2731\n",
      "Epoch 13/25\n",
      "3750/3750 [==============================] - 2s 602us/step - loss: 1.6764 - accuracy: 0.2796\n",
      "Epoch 14/25\n",
      "3750/3750 [==============================] - 2s 601us/step - loss: 1.6732 - accuracy: 0.2788\n",
      "Epoch 15/25\n",
      "3750/3750 [==============================] - 2s 605us/step - loss: 1.6692 - accuracy: 0.2817\n",
      "Epoch 16/25\n",
      "3750/3750 [==============================] - 2s 606us/step - loss: 1.6609 - accuracy: 0.2888\n",
      "Epoch 17/25\n",
      "3750/3750 [==============================] - 2s 613us/step - loss: 1.6589 - accuracy: 0.2889\n",
      "Epoch 18/25\n",
      "3750/3750 [==============================] - 2s 600us/step - loss: 1.6607 - accuracy: 0.2843\n",
      "Epoch 19/25\n",
      "3750/3750 [==============================] - 2s 587us/step - loss: 1.6589 - accuracy: 0.2859\n",
      "Epoch 20/25\n",
      "3750/3750 [==============================] - 2s 655us/step - loss: 1.6467 - accuracy: 0.2921\n",
      "Epoch 21/25\n",
      "3750/3750 [==============================] - 2s 638us/step - loss: 1.6447 - accuracy: 0.2946\n",
      "Epoch 22/25\n",
      "3750/3750 [==============================] - 2s 622us/step - loss: 1.6611 - accuracy: 0.2896\n",
      "Epoch 23/25\n",
      "3750/3750 [==============================] - 2s 606us/step - loss: 1.6390 - accuracy: 0.2934\n",
      "Epoch 24/25\n",
      "3750/3750 [==============================] - 2s 611us/step - loss: 1.6544 - accuracy: 0.2921\n",
      "Epoch 25/25\n",
      "3750/3750 [==============================] - 2s 597us/step - loss: 1.6428 - accuracy: 0.2966\n",
      "1875/1875 [==============================] - 1s 431us/step - loss: 1.6474 - accuracy: 0.3151\n",
      "Epoch 1/25\n",
      "1875/1875 [==============================] - 1s 665us/step - loss: 2.3914 - accuracy: 0.2257\n",
      "Epoch 2/25\n",
      "1875/1875 [==============================] - 1s 695us/step - loss: 1.8400 - accuracy: 0.2781\n",
      "Epoch 3/25\n",
      "1875/1875 [==============================] - 1s 678us/step - loss: 1.4314 - accuracy: 0.4187\n",
      "Epoch 4/25\n",
      "1875/1875 [==============================] - 1s 665us/step - loss: 1.2191 - accuracy: 0.4851\n",
      "Epoch 5/25\n",
      "1875/1875 [==============================] - 1s 663us/step - loss: 1.1330 - accuracy: 0.5170\n",
      "Epoch 6/25\n",
      "1875/1875 [==============================] - 1s 666us/step - loss: 1.0671 - accuracy: 0.5585\n",
      "Epoch 7/25\n",
      "1875/1875 [==============================] - 1s 664us/step - loss: 1.0190 - accuracy: 0.5828\n",
      "Epoch 8/25\n",
      "1875/1875 [==============================] - 1s 666us/step - loss: 0.9973 - accuracy: 0.5879\n",
      "Epoch 9/25\n",
      "1875/1875 [==============================] - 1s 668us/step - loss: 0.9451 - accuracy: 0.6218\n",
      "Epoch 10/25\n",
      "1875/1875 [==============================] - 1s 669us/step - loss: 0.8959 - accuracy: 0.6347\n",
      "Epoch 11/25\n",
      "1875/1875 [==============================] - 1s 669us/step - loss: 0.8953 - accuracy: 0.6396\n",
      "Epoch 12/25\n",
      "1875/1875 [==============================] - 1s 670us/step - loss: 0.8620 - accuracy: 0.6500\n",
      "Epoch 13/25\n",
      "1875/1875 [==============================] - 1s 666us/step - loss: 0.8626 - accuracy: 0.6482\n",
      "Epoch 14/25\n",
      "1875/1875 [==============================] - 1s 671us/step - loss: 0.8522 - accuracy: 0.6522\n",
      "Epoch 15/25\n",
      "1875/1875 [==============================] - 1s 669us/step - loss: 0.8555 - accuracy: 0.6515\n",
      "Epoch 16/25\n",
      "1875/1875 [==============================] - 1s 676us/step - loss: 0.8404 - accuracy: 0.6532\n",
      "Epoch 17/25\n",
      "1875/1875 [==============================] - 1s 670us/step - loss: 0.8269 - accuracy: 0.6608\n",
      "Epoch 18/25\n",
      "1875/1875 [==============================] - 1s 669us/step - loss: 0.8264 - accuracy: 0.6585\n",
      "Epoch 19/25\n",
      "1875/1875 [==============================] - 1s 671us/step - loss: 0.8237 - accuracy: 0.6604\n",
      "Epoch 20/25\n",
      "1875/1875 [==============================] - 1s 671us/step - loss: 0.8230 - accuracy: 0.6612\n",
      "Epoch 21/25\n",
      "1875/1875 [==============================] - 1s 669us/step - loss: 0.8239 - accuracy: 0.6601\n",
      "Epoch 22/25\n",
      "1875/1875 [==============================] - 1s 671us/step - loss: 0.8110 - accuracy: 0.6623\n",
      "Epoch 23/25\n",
      "1875/1875 [==============================] - 1s 669us/step - loss: 0.8149 - accuracy: 0.6618\n",
      "Epoch 24/25\n",
      "1875/1875 [==============================] - 1s 675us/step - loss: 0.8102 - accuracy: 0.6656\n",
      "Epoch 25/25\n",
      "1875/1875 [==============================] - 1s 668us/step - loss: 0.8150 - accuracy: 0.6620\n",
      "1875/1875 [==============================] - 1s 440us/step - loss: 0.7829 - accuracy: 0.6657\n",
      "Epoch 1/25\n"
     ]
    },
    {
     "name": "stdout",
     "output_type": "stream",
     "text": [
      "938/938 [==============================] - 1s 783us/step - loss: 3.1156 - accuracy: 0.1054\n",
      "Epoch 2/25\n",
      "938/938 [==============================] - 1s 783us/step - loss: 2.2386 - accuracy: 0.1324\n",
      "Epoch 3/25\n",
      "938/938 [==============================] - 1s 784us/step - loss: 2.1622 - accuracy: 0.1599\n",
      "Epoch 4/25\n",
      "938/938 [==============================] - 1s 780us/step - loss: 2.1268 - accuracy: 0.1723\n",
      "Epoch 5/25\n",
      "938/938 [==============================] - 1s 786us/step - loss: 2.0391 - accuracy: 0.1982\n",
      "Epoch 6/25\n",
      "938/938 [==============================] - 1s 791us/step - loss: 1.7602 - accuracy: 0.2669\n",
      "Epoch 7/25\n",
      "938/938 [==============================] - 1s 785us/step - loss: 1.6689 - accuracy: 0.3119\n",
      "Epoch 8/25\n",
      "938/938 [==============================] - 1s 781us/step - loss: 1.5820 - accuracy: 0.3532\n",
      "Epoch 9/25\n",
      "938/938 [==============================] - 1s 786us/step - loss: 1.4859 - accuracy: 0.3979\n",
      "Epoch 10/25\n",
      "938/938 [==============================] - 1s 788us/step - loss: 1.3814 - accuracy: 0.4301\n",
      "Epoch 11/25\n",
      "938/938 [==============================] - 1s 786us/step - loss: 1.3336 - accuracy: 0.4407\n",
      "Epoch 12/25\n",
      "938/938 [==============================] - 1s 790us/step - loss: 1.2947 - accuracy: 0.4496\n",
      "Epoch 13/25\n",
      "938/938 [==============================] - 1s 792us/step - loss: 1.2646 - accuracy: 0.4544\n",
      "Epoch 14/25\n",
      "938/938 [==============================] - 1s 786us/step - loss: 1.2153 - accuracy: 0.4896\n",
      "Epoch 15/25\n",
      "938/938 [==============================] - 1s 790us/step - loss: 1.1298 - accuracy: 0.5275\n",
      "Epoch 16/25\n",
      "938/938 [==============================] - 1s 791us/step - loss: 1.0890 - accuracy: 0.5352\n",
      "Epoch 17/25\n",
      "938/938 [==============================] - 1s 784us/step - loss: 1.0682 - accuracy: 0.5388\n",
      "Epoch 18/25\n",
      "938/938 [==============================] - 1s 786us/step - loss: 1.0521 - accuracy: 0.5476\n",
      "Epoch 19/25\n",
      "938/938 [==============================] - 1s 785us/step - loss: 1.0338 - accuracy: 0.5627\n",
      "Epoch 20/25\n",
      "938/938 [==============================] - 1s 785us/step - loss: 1.0229 - accuracy: 0.5761\n",
      "Epoch 21/25\n",
      "938/938 [==============================] - 1s 784us/step - loss: 1.0106 - accuracy: 0.5838\n",
      "Epoch 22/25\n",
      "938/938 [==============================] - 1s 788us/step - loss: 0.9955 - accuracy: 0.5879\n",
      "Epoch 23/25\n",
      "938/938 [==============================] - 1s 793us/step - loss: 0.9824 - accuracy: 0.5922\n",
      "Epoch 24/25\n",
      "938/938 [==============================] - 1s 795us/step - loss: 0.9542 - accuracy: 0.6054\n",
      "Epoch 25/25\n",
      "938/938 [==============================] - 1s 799us/step - loss: 0.9394 - accuracy: 0.6178\n",
      "1875/1875 [==============================] - 1s 429us/step - loss: 0.9548 - accuracy: 0.6378\n",
      "Epoch 1/25\n",
      "469/469 [==============================] - 0s 989us/step - loss: 3.2504 - accuracy: 0.1320\n",
      "Epoch 2/25\n",
      "469/469 [==============================] - 0s 977us/step - loss: 2.0987 - accuracy: 0.1897\n",
      "Epoch 3/25\n",
      "469/469 [==============================] - 0s 981us/step - loss: 1.9846 - accuracy: 0.2294\n",
      "Epoch 4/25\n",
      "469/469 [==============================] - 0s 981us/step - loss: 1.7424 - accuracy: 0.2887\n",
      "Epoch 5/25\n",
      "469/469 [==============================] - 0s 985us/step - loss: 1.6823 - accuracy: 0.2912\n",
      "Epoch 6/25\n",
      "469/469 [==============================] - 0s 979us/step - loss: 1.6498 - accuracy: 0.2912\n",
      "Epoch 7/25\n",
      "469/469 [==============================] - 0s 983us/step - loss: 1.6214 - accuracy: 0.3002\n",
      "Epoch 8/25\n",
      "469/469 [==============================] - 0s 981us/step - loss: 1.5968 - accuracy: 0.3088\n",
      "Epoch 9/25\n",
      "469/469 [==============================] - 0s 1ms/step - loss: 1.4410 - accuracy: 0.3799\n",
      "Epoch 10/25\n",
      "469/469 [==============================] - 0s 981us/step - loss: 1.3101 - accuracy: 0.4290\n",
      "Epoch 11/25\n",
      "469/469 [==============================] - 0s 987us/step - loss: 1.2606 - accuracy: 0.4522\n",
      "Epoch 12/25\n",
      "469/469 [==============================] - 0s 977us/step - loss: 1.2184 - accuracy: 0.4746\n",
      "Epoch 13/25\n",
      "469/469 [==============================] - 0s 979us/step - loss: 1.1610 - accuracy: 0.5015\n",
      "Epoch 14/25\n",
      "469/469 [==============================] - 0s 979us/step - loss: 1.1183 - accuracy: 0.5195\n",
      "Epoch 15/25\n",
      "469/469 [==============================] - 0s 979us/step - loss: 1.0790 - accuracy: 0.5396\n",
      "Epoch 16/25\n",
      "469/469 [==============================] - 0s 977us/step - loss: 1.0477 - accuracy: 0.5477\n",
      "Epoch 17/25\n",
      "469/469 [==============================] - 0s 970us/step - loss: 1.0306 - accuracy: 0.5545\n",
      "Epoch 18/25\n",
      "469/469 [==============================] - 0s 977us/step - loss: 1.0233 - accuracy: 0.5564\n",
      "Epoch 19/25\n",
      "469/469 [==============================] - 0s 1ms/step - loss: 1.0125 - accuracy: 0.5591\n",
      "Epoch 20/25\n",
      "469/469 [==============================] - 0s 977us/step - loss: 0.9981 - accuracy: 0.5663\n",
      "Epoch 21/25\n",
      "469/469 [==============================] - 0s 977us/step - loss: 0.9949 - accuracy: 0.5671\n",
      "Epoch 22/25\n",
      "469/469 [==============================] - 0s 989us/step - loss: 0.9865 - accuracy: 0.5703\n",
      "Epoch 23/25\n",
      "469/469 [==============================] - 0s 987us/step - loss: 0.9831 - accuracy: 0.5729\n",
      "Epoch 24/25\n",
      "469/469 [==============================] - 0s 981us/step - loss: 0.9757 - accuracy: 0.5756\n",
      "Epoch 25/25\n",
      "469/469 [==============================] - 0s 987us/step - loss: 0.9767 - accuracy: 0.5771\n",
      "1875/1875 [==============================] - 1s 430us/step - loss: 0.9636 - accuracy: 0.5668\n",
      "Epoch 1/25\n",
      "235/235 [==============================] - 0s 1000us/step - loss: 3.6756 - accuracy: 0.1246\n",
      "Epoch 2/25\n",
      "235/235 [==============================] - 0s 1ms/step - loss: 2.1807 - accuracy: 0.1558\n",
      "Epoch 3/25\n",
      "235/235 [==============================] - 0s 974us/step - loss: 2.0449 - accuracy: 0.1790\n",
      "Epoch 4/25\n",
      "235/235 [==============================] - 0s 991us/step - loss: 1.8681 - accuracy: 0.2223\n",
      "Epoch 5/25\n",
      "235/235 [==============================] - 0s 1ms/step - loss: 1.7876 - accuracy: 0.2442\n",
      "Epoch 6/25\n",
      "235/235 [==============================] - 0s 991us/step - loss: 1.7346 - accuracy: 0.2609\n",
      "Epoch 7/25\n",
      "235/235 [==============================] - 0s 983us/step - loss: 1.6830 - accuracy: 0.2802\n",
      "Epoch 8/25\n",
      "235/235 [==============================] - 0s 987us/step - loss: 1.6521 - accuracy: 0.2925\n",
      "Epoch 9/25\n",
      "235/235 [==============================] - 0s 1ms/step - loss: 1.5904 - accuracy: 0.3276\n",
      "Epoch 10/25\n",
      "235/235 [==============================] - 0s 991us/step - loss: 1.4944 - accuracy: 0.3893\n",
      "Epoch 11/25\n",
      "235/235 [==============================] - 0s 991us/step - loss: 1.4383 - accuracy: 0.4124\n",
      "Epoch 12/25\n",
      "235/235 [==============================] - 0s 1ms/step - loss: 1.3960 - accuracy: 0.4253\n",
      "Epoch 13/25\n",
      "235/235 [==============================] - 0s 1ms/step - loss: 1.3673 - accuracy: 0.4356\n",
      "Epoch 14/25\n",
      "235/235 [==============================] - 0s 1000us/step - loss: 1.3332 - accuracy: 0.4447\n",
      "Epoch 15/25\n",
      "235/235 [==============================] - 0s 983us/step - loss: 1.2835 - accuracy: 0.4520\n",
      "Epoch 16/25\n",
      "235/235 [==============================] - 0s 1000us/step - loss: 1.2601 - accuracy: 0.4558\n",
      "Epoch 17/25\n",
      "235/235 [==============================] - 0s 996us/step - loss: 1.2401 - accuracy: 0.4610\n",
      "Epoch 18/25\n",
      "235/235 [==============================] - 0s 1ms/step - loss: 1.2336 - accuracy: 0.4631\n",
      "Epoch 19/25\n",
      "235/235 [==============================] - 0s 991us/step - loss: 1.2221 - accuracy: 0.4642\n",
      "Epoch 20/25\n",
      "235/235 [==============================] - 0s 1000us/step - loss: 1.1738 - accuracy: 0.4977\n",
      "Epoch 21/25\n",
      "235/235 [==============================] - 0s 996us/step - loss: 1.0836 - accuracy: 0.5397\n",
      "Epoch 22/25\n",
      "235/235 [==============================] - 0s 987us/step - loss: 1.0577 - accuracy: 0.5446\n",
      "Epoch 23/25\n",
      "235/235 [==============================] - 0s 983us/step - loss: 1.0137 - accuracy: 0.5840\n",
      "Epoch 24/25\n",
      "235/235 [==============================] - 0s 1ms/step - loss: 0.9425 - accuracy: 0.6476\n",
      "Epoch 25/25\n",
      "235/235 [==============================] - 0s 1000us/step - loss: 0.7971 - accuracy: 0.7021\n",
      "1875/1875 [==============================] - 1s 444us/step - loss: 0.7348 - accuracy: 0.7133\n",
      "Epoch 1/25\n",
      "118/118 [==============================] - 0s 2ms/step - loss: 4.6189 - accuracy: 0.1802\n",
      "Epoch 2/25\n",
      "118/118 [==============================] - 0s 2ms/step - loss: 1.9676 - accuracy: 0.2753\n",
      "Epoch 3/25\n"
     ]
    },
    {
     "name": "stdout",
     "output_type": "stream",
     "text": [
      "118/118 [==============================] - 0s 2ms/step - loss: 1.8639 - accuracy: 0.2988\n",
      "Epoch 4/25\n",
      "118/118 [==============================] - 0s 2ms/step - loss: 1.8144 - accuracy: 0.3094\n",
      "Epoch 5/25\n",
      "118/118 [==============================] - 0s 2ms/step - loss: 1.7728 - accuracy: 0.3154\n",
      "Epoch 6/25\n",
      "118/118 [==============================] - 0s 2ms/step - loss: 1.7499 - accuracy: 0.3195\n",
      "Epoch 7/25\n",
      "118/118 [==============================] - 0s 2ms/step - loss: 1.7219 - accuracy: 0.3259\n",
      "Epoch 8/25\n",
      "118/118 [==============================] - 0s 2ms/step - loss: 1.7010 - accuracy: 0.3297\n",
      "Epoch 9/25\n",
      "118/118 [==============================] - 0s 2ms/step - loss: 1.6839 - accuracy: 0.3331\n",
      "Epoch 10/25\n",
      "118/118 [==============================] - 0s 2ms/step - loss: 1.6703 - accuracy: 0.3359\n",
      "Epoch 11/25\n",
      "118/118 [==============================] - 0s 2ms/step - loss: 1.6426 - accuracy: 0.3458\n",
      "Epoch 12/25\n",
      "118/118 [==============================] - 0s 2ms/step - loss: 1.5352 - accuracy: 0.3826\n",
      "Epoch 13/25\n",
      "118/118 [==============================] - 0s 2ms/step - loss: 1.4419 - accuracy: 0.4122\n",
      "Epoch 14/25\n",
      "118/118 [==============================] - 0s 2ms/step - loss: 1.4080 - accuracy: 0.4199\n",
      "Epoch 15/25\n",
      "118/118 [==============================] - 0s 2ms/step - loss: 1.3841 - accuracy: 0.4323\n",
      "Epoch 16/25\n",
      "118/118 [==============================] - 0s 2ms/step - loss: 1.3442 - accuracy: 0.4483\n",
      "Epoch 17/25\n",
      "118/118 [==============================] - 0s 2ms/step - loss: 1.2939 - accuracy: 0.4697\n",
      "Epoch 18/25\n",
      "118/118 [==============================] - 0s 2ms/step - loss: 1.2525 - accuracy: 0.4846\n",
      "Epoch 19/25\n",
      "118/118 [==============================] - 0s 2ms/step - loss: 1.2185 - accuracy: 0.4989\n",
      "Epoch 20/25\n",
      "118/118 [==============================] - 0s 2ms/step - loss: 1.2024 - accuracy: 0.5056\n",
      "Epoch 21/25\n",
      "118/118 [==============================] - 0s 2ms/step - loss: 1.1701 - accuracy: 0.5132\n",
      "Epoch 22/25\n",
      "118/118 [==============================] - 0s 2ms/step - loss: 1.1511 - accuracy: 0.5194\n",
      "Epoch 23/25\n",
      "118/118 [==============================] - 0s 2ms/step - loss: 1.1366 - accuracy: 0.5208\n",
      "Epoch 24/25\n",
      "118/118 [==============================] - 0s 2ms/step - loss: 1.1217 - accuracy: 0.5239\n",
      "Epoch 25/25\n",
      "118/118 [==============================] - 0s 2ms/step - loss: 1.1128 - accuracy: 0.5274\n",
      "1875/1875 [==============================] - 1s 432us/step - loss: 1.1001 - accuracy: 0.5283\n",
      "Epoch 1/25\n",
      "59/59 [==============================] - 0s 3ms/step - loss: 12.1187 - accuracy: 0.1084\n",
      "Epoch 2/25\n",
      "59/59 [==============================] - 0s 3ms/step - loss: 2.3109 - accuracy: 0.1015\n",
      "Epoch 3/25\n",
      "59/59 [==============================] - 0s 3ms/step - loss: 2.3034 - accuracy: 0.1080\n",
      "Epoch 4/25\n",
      "59/59 [==============================] - 0s 3ms/step - loss: 2.2571 - accuracy: 0.1341\n",
      "Epoch 5/25\n",
      "59/59 [==============================] - 0s 3ms/step - loss: 2.2117 - accuracy: 0.1541\n",
      "Epoch 6/25\n",
      "59/59 [==============================] - 0s 3ms/step - loss: 2.1926 - accuracy: 0.1572\n",
      "Epoch 7/25\n",
      "59/59 [==============================] - 0s 3ms/step - loss: 2.1718 - accuracy: 0.1626\n",
      "Epoch 8/25\n",
      "59/59 [==============================] - 0s 3ms/step - loss: 2.1513 - accuracy: 0.1677\n",
      "Epoch 9/25\n",
      "59/59 [==============================] - 0s 3ms/step - loss: 2.1398 - accuracy: 0.1706\n",
      "Epoch 10/25\n",
      "59/59 [==============================] - 0s 3ms/step - loss: 2.1311 - accuracy: 0.1719\n",
      "Epoch 11/25\n",
      "59/59 [==============================] - 0s 3ms/step - loss: 2.1222 - accuracy: 0.1748\n",
      "Epoch 12/25\n",
      "59/59 [==============================] - 0s 3ms/step - loss: 2.1172 - accuracy: 0.1755\n",
      "Epoch 13/25\n",
      "59/59 [==============================] - 0s 3ms/step - loss: 2.1094 - accuracy: 0.1772\n",
      "Epoch 14/25\n",
      "59/59 [==============================] - 0s 3ms/step - loss: 2.0997 - accuracy: 0.1788\n",
      "Epoch 15/25\n",
      "59/59 [==============================] - 0s 3ms/step - loss: 2.0981 - accuracy: 0.1763\n",
      "Epoch 16/25\n",
      "59/59 [==============================] - 0s 3ms/step - loss: 2.0896 - accuracy: 0.1808\n",
      "Epoch 17/25\n",
      "59/59 [==============================] - 0s 3ms/step - loss: 2.0743 - accuracy: 0.1883\n",
      "Epoch 18/25\n",
      "59/59 [==============================] - 0s 3ms/step - loss: 1.9804 - accuracy: 0.2447\n",
      "Epoch 19/25\n",
      "59/59 [==============================] - 0s 3ms/step - loss: 1.9116 - accuracy: 0.2637\n",
      "Epoch 20/25\n",
      "59/59 [==============================] - 0s 3ms/step - loss: 1.8547 - accuracy: 0.2783\n",
      "Epoch 21/25\n",
      "59/59 [==============================] - 0s 3ms/step - loss: 1.8219 - accuracy: 0.2813\n",
      "Epoch 22/25\n",
      "59/59 [==============================] - 0s 3ms/step - loss: 1.7917 - accuracy: 0.2889\n",
      "Epoch 23/25\n",
      "59/59 [==============================] - 0s 3ms/step - loss: 1.7607 - accuracy: 0.2872\n",
      "Epoch 24/25\n",
      "59/59 [==============================] - 0s 3ms/step - loss: 1.7036 - accuracy: 0.2900\n",
      "Epoch 25/25\n",
      "59/59 [==============================] - 0s 3ms/step - loss: 1.6858 - accuracy: 0.2909\n",
      "1875/1875 [==============================] - 1s 434us/step - loss: 1.6726 - accuracy: 0.2943\n",
      "Epoch 1/25\n",
      "30/30 [==============================] - 0s 4ms/step - loss: 20.5905 - accuracy: 0.1289\n",
      "Epoch 2/25\n",
      "30/30 [==============================] - 0s 4ms/step - loss: 2.3165 - accuracy: 0.1040\n",
      "Epoch 3/25\n",
      "30/30 [==============================] - 0s 4ms/step - loss: 2.3087 - accuracy: 0.1041\n",
      "Epoch 4/25\n",
      "30/30 [==============================] - 0s 4ms/step - loss: 2.3049 - accuracy: 0.1049\n",
      "Epoch 5/25\n",
      "30/30 [==============================] - 0s 4ms/step - loss: 2.3005 - accuracy: 0.1069\n",
      "Epoch 6/25\n",
      "30/30 [==============================] - 0s 4ms/step - loss: 2.2960 - accuracy: 0.1089\n",
      "Epoch 7/25\n",
      "30/30 [==============================] - 0s 4ms/step - loss: 2.2919 - accuracy: 0.1111\n",
      "Epoch 8/25\n",
      "30/30 [==============================] - 0s 4ms/step - loss: 2.2863 - accuracy: 0.1158\n",
      "Epoch 9/25\n",
      "30/30 [==============================] - 0s 4ms/step - loss: 2.2811 - accuracy: 0.1184\n",
      "Epoch 10/25\n",
      "30/30 [==============================] - 0s 5ms/step - loss: 2.2759 - accuracy: 0.1200\n",
      "Epoch 11/25\n",
      "30/30 [==============================] - 0s 4ms/step - loss: 2.2707 - accuracy: 0.1217\n",
      "Epoch 12/25\n",
      "30/30 [==============================] - 0s 4ms/step - loss: 2.2658 - accuracy: 0.1239\n",
      "Epoch 13/25\n",
      "30/30 [==============================] - 0s 4ms/step - loss: 2.2614 - accuracy: 0.1246\n",
      "Epoch 14/25\n",
      "30/30 [==============================] - 0s 4ms/step - loss: 2.2567 - accuracy: 0.1267: 0s - loss: 2.2584 - accuracy: 0.12\n",
      "Epoch 15/25\n",
      "30/30 [==============================] - 0s 4ms/step - loss: 2.2513 - accuracy: 0.1296\n",
      "Epoch 16/25\n",
      "30/30 [==============================] - 0s 4ms/step - loss: 2.2460 - accuracy: 0.1318\n",
      "Epoch 17/25\n",
      "30/30 [==============================] - 0s 4ms/step - loss: 2.2393 - accuracy: 0.1334\n",
      "Epoch 18/25\n",
      "30/30 [==============================] - 0s 4ms/step - loss: 2.2340 - accuracy: 0.1364\n",
      "Epoch 19/25\n",
      "30/30 [==============================] - 0s 4ms/step - loss: 2.2292 - accuracy: 0.1377\n",
      "Epoch 20/25\n",
      "30/30 [==============================] - 0s 4ms/step - loss: 2.2243 - accuracy: 0.1386\n",
      "Epoch 21/25\n",
      "30/30 [==============================] - 0s 5ms/step - loss: 2.2198 - accuracy: 0.1386\n",
      "Epoch 22/25\n",
      "30/30 [==============================] - 0s 4ms/step - loss: 2.2151 - accuracy: 0.1426\n",
      "Epoch 23/25\n",
      "30/30 [==============================] - 0s 5ms/step - loss: 2.2108 - accuracy: 0.1442\n",
      "Epoch 24/25\n",
      "30/30 [==============================] - 0s 5ms/step - loss: 2.2056 - accuracy: 0.1459\n",
      "Epoch 25/25\n",
      "30/30 [==============================] - 0s 4ms/step - loss: 2.2020 - accuracy: 0.1460\n",
      "1875/1875 [==============================] - 1s 429us/step - loss: 2.1988 - accuracy: 0.1479\n",
      "Epoch 1/25\n",
      "15/15 [==============================] - 0s 7ms/step - loss: 31.9637 - accuracy: 0.1309\n",
      "Epoch 2/25\n",
      "15/15 [==============================] - 0s 7ms/step - loss: 2.5444 - accuracy: 0.1076\n",
      "Epoch 3/25\n",
      "15/15 [==============================] - 0s 7ms/step - loss: 2.3392 - accuracy: 0.1015\n",
      "Epoch 4/25\n",
      "15/15 [==============================] - 0s 7ms/step - loss: 2.3230 - accuracy: 0.1002\n",
      "Epoch 5/25\n",
      "15/15 [==============================] - 0s 7ms/step - loss: 2.3184 - accuracy: 0.0980\n",
      "Epoch 6/25\n",
      "15/15 [==============================] - 0s 7ms/step - loss: 2.3162 - accuracy: 0.0980\n",
      "Epoch 7/25\n"
     ]
    },
    {
     "name": "stdout",
     "output_type": "stream",
     "text": [
      "15/15 [==============================] - 0s 7ms/step - loss: 2.3144 - accuracy: 0.1001\n",
      "Epoch 8/25\n",
      "15/15 [==============================] - 0s 7ms/step - loss: 2.3124 - accuracy: 0.0979\n",
      "Epoch 9/25\n",
      "15/15 [==============================] - 0s 7ms/step - loss: 2.3102 - accuracy: 0.0983\n",
      "Epoch 10/25\n",
      "15/15 [==============================] - 0s 7ms/step - loss: 2.3073 - accuracy: 0.0984\n",
      "Epoch 11/25\n",
      "15/15 [==============================] - 0s 9ms/step - loss: 2.3030 - accuracy: 0.1003\n",
      "Epoch 12/25\n",
      "15/15 [==============================] - 0s 7ms/step - loss: 2.2959 - accuracy: 0.0988\n",
      "Epoch 13/25\n",
      "15/15 [==============================] - 0s 7ms/step - loss: 2.2780 - accuracy: 0.1016\n",
      "Epoch 14/25\n",
      "15/15 [==============================] - 0s 7ms/step - loss: 2.2226 - accuracy: 0.1399\n",
      "Epoch 15/25\n",
      "15/15 [==============================] - 0s 7ms/step - loss: 2.1693 - accuracy: 0.1815\n",
      "Epoch 16/25\n",
      "15/15 [==============================] - 0s 7ms/step - loss: 2.1537 - accuracy: 0.1812\n",
      "Epoch 17/25\n",
      "15/15 [==============================] - 0s 7ms/step - loss: 2.1459 - accuracy: 0.1809\n",
      "Epoch 18/25\n",
      "15/15 [==============================] - 0s 7ms/step - loss: 2.1394 - accuracy: 0.1821\n",
      "Epoch 19/25\n",
      "15/15 [==============================] - 0s 7ms/step - loss: 2.1337 - accuracy: 0.1821\n",
      "Epoch 20/25\n",
      "15/15 [==============================] - 0s 7ms/step - loss: 2.1288 - accuracy: 0.1826\n",
      "Epoch 21/25\n",
      "15/15 [==============================] - 0s 7ms/step - loss: 2.1244 - accuracy: 0.1835\n",
      "Epoch 22/25\n",
      "15/15 [==============================] - 0s 7ms/step - loss: 2.1204 - accuracy: 0.1839\n",
      "Epoch 23/25\n",
      "15/15 [==============================] - 0s 7ms/step - loss: 2.1170 - accuracy: 0.1834\n",
      "Epoch 24/25\n",
      "15/15 [==============================] - 0s 7ms/step - loss: 2.1136 - accuracy: 0.1839\n",
      "Epoch 25/25\n",
      "15/15 [==============================] - 0s 6ms/step - loss: 2.1106 - accuracy: 0.1839\n",
      "1875/1875 [==============================] - 1s 429us/step - loss: 2.1090 - accuracy: 0.1839\n",
      "Epoch 1/25\n",
      "8/8 [==============================] - 0s 11ms/step - loss: 65.7352 - accuracy: 0.1540\n",
      "Epoch 2/25\n",
      "8/8 [==============================] - 0s 11ms/step - loss: 3.7621 - accuracy: 0.1799\n",
      "Epoch 3/25\n",
      "8/8 [==============================] - 0s 11ms/step - loss: 2.5853 - accuracy: 0.1601\n",
      "Epoch 4/25\n",
      "8/8 [==============================] - 0s 11ms/step - loss: 2.3725 - accuracy: 0.1538\n",
      "Epoch 5/25\n",
      "8/8 [==============================] - 0s 11ms/step - loss: 2.3163 - accuracy: 0.1545\n",
      "Epoch 6/25\n",
      "8/8 [==============================] - 0s 11ms/step - loss: 2.2917 - accuracy: 0.1537\n",
      "Epoch 7/25\n",
      "8/8 [==============================] - 0s 11ms/step - loss: 2.2773 - accuracy: 0.1532\n",
      "Epoch 8/25\n",
      "8/8 [==============================] - 0s 11ms/step - loss: 2.2671 - accuracy: 0.1531\n",
      "Epoch 9/25\n",
      "8/8 [==============================] - 0s 11ms/step - loss: 2.2589 - accuracy: 0.1538\n",
      "Epoch 10/25\n",
      "8/8 [==============================] - 0s 11ms/step - loss: 2.2514 - accuracy: 0.1548\n",
      "Epoch 11/25\n",
      "8/8 [==============================] - 0s 11ms/step - loss: 2.2445 - accuracy: 0.1557\n",
      "Epoch 12/25\n",
      "8/8 [==============================] - 0s 11ms/step - loss: 2.2369 - accuracy: 0.1572\n",
      "Epoch 13/25\n",
      "8/8 [==============================] - 0s 11ms/step - loss: 2.2259 - accuracy: 0.1596\n",
      "Epoch 14/25\n",
      "8/8 [==============================] - 0s 11ms/step - loss: 2.2098 - accuracy: 0.1644\n",
      "Epoch 15/25\n",
      "8/8 [==============================] - 0s 11ms/step - loss: 2.1821 - accuracy: 0.1748\n",
      "Epoch 16/25\n",
      "8/8 [==============================] - 0s 11ms/step - loss: 2.1454 - accuracy: 0.1925\n",
      "Epoch 17/25\n",
      "8/8 [==============================] - 0s 11ms/step - loss: 2.1112 - accuracy: 0.2235\n",
      "Epoch 18/25\n",
      "8/8 [==============================] - 0s 11ms/step - loss: 2.0911 - accuracy: 0.2332\n",
      "Epoch 19/25\n",
      "8/8 [==============================] - 0s 11ms/step - loss: 2.0727 - accuracy: 0.2293\n",
      "Epoch 20/25\n",
      "8/8 [==============================] - 0s 11ms/step - loss: 2.0592 - accuracy: 0.2363\n",
      "Epoch 21/25\n",
      "8/8 [==============================] - 0s 11ms/step - loss: 2.0468 - accuracy: 0.2362\n",
      "Epoch 22/25\n",
      "8/8 [==============================] - 0s 11ms/step - loss: 2.0358 - accuracy: 0.2373\n",
      "Epoch 23/25\n",
      "8/8 [==============================] - 0s 11ms/step - loss: 2.0268 - accuracy: 0.2370\n",
      "Epoch 24/25\n",
      "8/8 [==============================] - 0s 9ms/step - loss: 2.0164 - accuracy: 0.2411\n",
      "Epoch 25/25\n",
      "8/8 [==============================] - 0s 8ms/step - loss: 2.0060 - accuracy: 0.2456\n",
      "1875/1875 [==============================] - 1s 444us/step - loss: 2.0002 - accuracy: 0.2486\n"
     ]
    },
    {
     "data": {
      "image/png": "[encoded data removed]",
      "text/plain": [
       "<Figure size 432x288 with 1 Axes>"
      ]
     },
     "metadata": {
      "needs_background": "light"
     },
     "output_type": "display_data"
    }
   ],
   "source": [
    "batch_size = []\n",
    "acc_value = []\n",
    "for i in range(3, 14):\n",
    "  batch_size.append(i)\n",
    "  acc_value.append(correr_modelo_mini_batch(2**i)[1])\n",
    "plt.scatter(batch_size,acc_value)\n",
    "plt.show()"
   ]
  },
  {
   "cell_type": "code",
   "execution_count": 114,
   "metadata": {
    "id": "ThkcuKJoeSxU"
   },
   "outputs": [],
   "source": [
    "def find_max_acc_minibatch():\n",
    "  best_batch_size = []\n",
    "  best_acc_value = []\n",
    "  for i in range(0,2):\n",
    "    batch_size = []\n",
    "    acc_value = []\n",
    "    for i in range(5, 9):\n",
    "      batch_size.append(2**i)\n",
    "      acc_value.append(correr_modelo_mini_batch(2**i)[1])\n",
    "    maxindex = acc_value.index(max(acc_value))\n",
    "    best_batch_size.append(batch_size[maxindex])\n",
    "    best_acc_value.append(acc_value[maxindex])\n",
    "  print(best_batch_size)\n",
    "  print(best_acc_value)"
   ]
  },
  {
   "cell_type": "code",
   "execution_count": 115,
   "metadata": {
    "colab": {
     "base_uri": "https://localhost:8080/"
    },
    "id": "pGQ1oejAhkzg",
    "outputId": "6139fef9-b379-4ed6-8b97-60e920488321"
   },
   "outputs": [
    {
     "name": "stdout",
     "output_type": "stream",
     "text": [
      "Epoch 1/25\n",
      "1875/1875 [==============================] - 1s 673us/step - loss: 2.5401 - accuracy: 0.0970\n",
      "Epoch 2/25\n",
      "1875/1875 [==============================] - 1s 671us/step - loss: 2.3022 - accuracy: 0.0984\n",
      "Epoch 3/25\n",
      "1875/1875 [==============================] - 1s 663us/step - loss: 2.2913 - accuracy: 0.1059\n",
      "Epoch 4/25\n",
      "1875/1875 [==============================] - 1s 674us/step - loss: 2.2556 - accuracy: 0.1211\n",
      "Epoch 5/25\n",
      "1875/1875 [==============================] - 1s 700us/step - loss: 2.1985 - accuracy: 0.1417\n",
      "Epoch 6/25\n",
      "1875/1875 [==============================] - 1s 714us/step - loss: 1.9557 - accuracy: 0.1948\n",
      "Epoch 7/25\n",
      "1875/1875 [==============================] - 1s 698us/step - loss: 1.7845 - accuracy: 0.2077\n",
      "Epoch 8/25\n",
      "1875/1875 [==============================] - 1s 722us/step - loss: 1.7304 - accuracy: 0.2410\n",
      "Epoch 9/25\n",
      "1875/1875 [==============================] - 1s 707us/step - loss: 1.6867 - accuracy: 0.2688\n",
      "Epoch 10/25\n",
      "1875/1875 [==============================] - 1s 659us/step - loss: 1.6509 - accuracy: 0.2826\n",
      "Epoch 11/25\n",
      "1875/1875 [==============================] - 1s 665us/step - loss: 1.6388 - accuracy: 0.2860\n",
      "Epoch 12/25\n",
      "1875/1875 [==============================] - 1s 668us/step - loss: 1.6253 - accuracy: 0.2870\n",
      "Epoch 13/25\n",
      "1875/1875 [==============================] - 1s 670us/step - loss: 1.6194 - accuracy: 0.2893\n",
      "Epoch 14/25\n",
      "1875/1875 [==============================] - 1s 665us/step - loss: 1.6140 - accuracy: 0.2878\n",
      "Epoch 15/25\n",
      "1875/1875 [==============================] - 1s 681us/step - loss: 1.6146 - accuracy: 0.2856\n",
      "Epoch 16/25\n",
      "1875/1875 [==============================] - 1s 686us/step - loss: 1.6037 - accuracy: 0.2892\n",
      "Epoch 17/25\n",
      "1875/1875 [==============================] - 1s 675us/step - loss: 1.6118 - accuracy: 0.2831\n",
      "Epoch 18/25\n",
      "1875/1875 [==============================] - 1s 663us/step - loss: 1.5976 - accuracy: 0.2860\n",
      "Epoch 19/25\n",
      "1875/1875 [==============================] - 1s 666us/step - loss: 1.5993 - accuracy: 0.2829\n",
      "Epoch 20/25\n",
      "1875/1875 [==============================] - 1s 672us/step - loss: 1.6002 - accuracy: 0.2857\n",
      "Epoch 21/25\n",
      "1875/1875 [==============================] - 1s 670us/step - loss: 1.5969 - accuracy: 0.2837\n",
      "Epoch 22/25\n",
      "1875/1875 [==============================] - 1s 671us/step - loss: 1.5966 - accuracy: 0.2837\n",
      "Epoch 23/25\n",
      "1875/1875 [==============================] - 1s 666us/step - loss: 1.5908 - accuracy: 0.2808\n",
      "Epoch 24/25\n",
      "1875/1875 [==============================] - 1s 667us/step - loss: 1.5977 - accuracy: 0.2785\n",
      "Epoch 25/25\n",
      "1875/1875 [==============================] - 1s 664us/step - loss: 1.6005 - accuracy: 0.2799\n",
      "1875/1875 [==============================] - 1s 440us/step - loss: 1.5789 - accuracy: 0.2822\n",
      "Epoch 1/25\n",
      "938/938 [==============================] - 1s 807us/step - loss: 2.6841 - accuracy: 0.1211\n",
      "Epoch 2/25\n",
      "938/938 [==============================] - 1s 801us/step - loss: 2.0186 - accuracy: 0.2119\n",
      "Epoch 3/25\n",
      "938/938 [==============================] - 1s 796us/step - loss: 1.5289 - accuracy: 0.3701\n",
      "Epoch 4/25\n",
      "938/938 [==============================] - 1s 826us/step - loss: 1.3052 - accuracy: 0.4510\n",
      "Epoch 5/25\n",
      "938/938 [==============================] - 1s 849us/step - loss: 1.2301 - accuracy: 0.4884\n",
      "Epoch 6/25\n",
      "938/938 [==============================] - 1s 802us/step - loss: 1.1420 - accuracy: 0.5252\n",
      "Epoch 7/25\n",
      "938/938 [==============================] - 1s 796us/step - loss: 1.0866 - accuracy: 0.5365\n",
      "Epoch 8/25\n",
      "938/938 [==============================] - 1s 797us/step - loss: 1.0588 - accuracy: 0.5436\n",
      "Epoch 9/25\n",
      "938/938 [==============================] - 1s 797us/step - loss: 1.0531 - accuracy: 0.5452\n",
      "Epoch 10/25\n",
      "938/938 [==============================] - 1s 811us/step - loss: 1.0354 - accuracy: 0.5503\n",
      "Epoch 11/25\n",
      "938/938 [==============================] - 1s 820us/step - loss: 1.0257 - accuracy: 0.5534\n",
      "Epoch 12/25\n",
      "938/938 [==============================] - 1s 792us/step - loss: 1.0243 - accuracy: 0.5560\n",
      "Epoch 13/25\n",
      "938/938 [==============================] - 1s 796us/step - loss: 1.0087 - accuracy: 0.5644\n",
      "Epoch 14/25\n",
      "938/938 [==============================] - 1s 793us/step - loss: 1.0103 - accuracy: 0.5630\n",
      "Epoch 15/25\n",
      "938/938 [==============================] - 1s 792us/step - loss: 1.0103 - accuracy: 0.5628\n",
      "Epoch 16/25\n",
      "938/938 [==============================] - 1s 801us/step - loss: 0.9996 - accuracy: 0.5679\n",
      "Epoch 17/25\n",
      "938/938 [==============================] - 1s 799us/step - loss: 0.9887 - accuracy: 0.5711\n",
      "Epoch 18/25\n",
      "938/938 [==============================] - 1s 790us/step - loss: 0.9858 - accuracy: 0.5757\n",
      "Epoch 19/25\n",
      "938/938 [==============================] - 1s 797us/step - loss: 0.9799 - accuracy: 0.5745\n",
      "Epoch 20/25\n",
      "938/938 [==============================] - 1s 797us/step - loss: 0.9824 - accuracy: 0.5786\n",
      "Epoch 21/25\n",
      "938/938 [==============================] - 1s 796us/step - loss: 0.9704 - accuracy: 0.5827\n",
      "Epoch 22/25\n",
      "938/938 [==============================] - 1s 794us/step - loss: 0.9757 - accuracy: 0.5785\n",
      "Epoch 23/25\n",
      "938/938 [==============================] - 1s 792us/step - loss: 0.9649 - accuracy: 0.5820\n",
      "Epoch 24/25\n",
      "938/938 [==============================] - 1s 793us/step - loss: 0.9496 - accuracy: 0.5975\n",
      "Epoch 25/25\n",
      "938/938 [==============================] - 1s 792us/step - loss: 0.9139 - accuracy: 0.6271\n",
      "   1/1875 [..............................] - ETA: 0s - loss: 0.8649 - accuracy: 0.5312WARNING:tensorflow:Callbacks method `on_test_batch_begin` is slow compared to the batch time (batch time: 0.0000s vs `on_test_batch_begin` time: 0.0010s). Check your callbacks.\n",
      "1875/1875 [==============================] - 1s 440us/step - loss: 0.9197 - accuracy: 0.6288\n",
      "Epoch 1/25\n",
      "469/469 [==============================] - 0s 996us/step - loss: 3.3366 - accuracy: 0.1160\n",
      "Epoch 2/25\n",
      "469/469 [==============================] - 0s 974us/step - loss: 1.9589 - accuracy: 0.2399\n",
      "Epoch 3/25\n",
      "469/469 [==============================] - 0s 1000us/step - loss: 1.5820 - accuracy: 0.3291\n",
      "Epoch 4/25\n",
      "469/469 [==============================] - 0s 987us/step - loss: 1.4894 - accuracy: 0.3731\n",
      "Epoch 5/25\n",
      "469/469 [==============================] - 0s 989us/step - loss: 1.4262 - accuracy: 0.4025\n",
      "Epoch 6/25\n",
      "469/469 [==============================] - 0s 985us/step - loss: 1.3888 - accuracy: 0.4206\n",
      "Epoch 7/25\n",
      "469/469 [==============================] - 0s 1ms/step - loss: 1.3579 - accuracy: 0.4312\n",
      "Epoch 8/25\n",
      "469/469 [==============================] - 0s 985us/step - loss: 1.3071 - accuracy: 0.4608\n",
      "Epoch 9/25\n",
      "469/469 [==============================] - 0s 1000us/step - loss: 1.2473 - accuracy: 0.4873\n",
      "Epoch 10/25\n",
      "469/469 [==============================] - 0s 996us/step - loss: 1.2214 - accuracy: 0.4947\n",
      "Epoch 11/25\n",
      "469/469 [==============================] - 0s 985us/step - loss: 1.1817 - accuracy: 0.5068\n",
      "Epoch 12/25\n",
      "469/469 [==============================] - 0s 994us/step - loss: 1.1526 - accuracy: 0.5224\n",
      "Epoch 13/25\n",
      "469/469 [==============================] - 0s 1ms/step - loss: 1.0515 - accuracy: 0.5832\n",
      "Epoch 14/25\n",
      "469/469 [==============================] - 0s 1ms/step - loss: 0.9916 - accuracy: 0.5990\n",
      "Epoch 15/25\n",
      "469/469 [==============================] - 0s 992us/step - loss: 0.9508 - accuracy: 0.6126\n",
      "Epoch 16/25\n",
      "469/469 [==============================] - 0s 991us/step - loss: 0.9290 - accuracy: 0.6203\n",
      "Epoch 17/25\n",
      "469/469 [==============================] - 0s 994us/step - loss: 0.8997 - accuracy: 0.6370\n",
      "Epoch 18/25\n",
      "469/469 [==============================] - 0s 987us/step - loss: 0.8595 - accuracy: 0.6567\n",
      "Epoch 19/25\n",
      "469/469 [==============================] - 0s 972us/step - loss: 0.8448 - accuracy: 0.6570\n",
      "Epoch 20/25\n",
      "469/469 [==============================] - 0s 987us/step - loss: 0.8271 - accuracy: 0.6603\n",
      "Epoch 21/25\n",
      "469/469 [==============================] - 0s 977us/step - loss: 0.8256 - accuracy: 0.6581\n",
      "Epoch 22/25\n",
      "469/469 [==============================] - 0s 987us/step - loss: 0.8112 - accuracy: 0.6637\n",
      "Epoch 23/25\n",
      "469/469 [==============================] - 0s 977us/step - loss: 0.8027 - accuracy: 0.6697\n",
      "Epoch 24/25\n",
      "469/469 [==============================] - 0s 983us/step - loss: 0.7938 - accuracy: 0.6716\n",
      "Epoch 25/25\n",
      "469/469 [==============================] - 0s 985us/step - loss: 0.7779 - accuracy: 0.6774\n"
     ]
    },
    {
     "name": "stdout",
     "output_type": "stream",
     "text": [
      "1875/1875 [==============================] - 1s 439us/step - loss: 0.7683 - accuracy: 0.6792\n",
      "Epoch 1/25\n",
      "235/235 [==============================] - 0s 1ms/step - loss: 4.1129 - accuracy: 0.1738\n",
      "Epoch 2/25\n",
      "235/235 [==============================] - 0s 987us/step - loss: 2.1136 - accuracy: 0.1810\n",
      "Epoch 3/25\n",
      "235/235 [==============================] - 0s 996us/step - loss: 2.0871 - accuracy: 0.1841\n",
      "Epoch 4/25\n",
      "235/235 [==============================] - 0s 1000us/step - loss: 2.0745 - accuracy: 0.1840\n",
      "Epoch 5/25\n",
      "235/235 [==============================] - 0s 1ms/step - loss: 2.0631 - accuracy: 0.1850\n",
      "Epoch 6/25\n",
      "235/235 [==============================] - 0s 996us/step - loss: 2.0534 - accuracy: 0.1875\n",
      "Epoch 7/25\n",
      "235/235 [==============================] - 0s 991us/step - loss: 2.0459 - accuracy: 0.1901\n",
      "Epoch 8/25\n",
      "235/235 [==============================] - 0s 996us/step - loss: 2.0443 - accuracy: 0.1883\n",
      "Epoch 9/25\n",
      "235/235 [==============================] - 0s 1ms/step - loss: 2.0383 - accuracy: 0.1885\n",
      "Epoch 10/25\n",
      "235/235 [==============================] - 0s 996us/step - loss: 2.0324 - accuracy: 0.1909\n",
      "Epoch 11/25\n",
      "235/235 [==============================] - 0s 1ms/step - loss: 2.0300 - accuracy: 0.1920\n",
      "Epoch 12/25\n",
      "235/235 [==============================] - 0s 979us/step - loss: 2.0249 - accuracy: 0.1938\n",
      "Epoch 13/25\n",
      "235/235 [==============================] - 0s 1ms/step - loss: 1.9848 - accuracy: 0.2183\n",
      "Epoch 14/25\n",
      "235/235 [==============================] - 0s 1000us/step - loss: 1.9519 - accuracy: 0.2294\n",
      "Epoch 15/25\n",
      "235/235 [==============================] - 0s 987us/step - loss: 1.9100 - accuracy: 0.2476\n",
      "Epoch 16/25\n",
      "235/235 [==============================] - 0s 987us/step - loss: 1.8380 - accuracy: 0.2712\n",
      "Epoch 17/25\n",
      "235/235 [==============================] - 0s 996us/step - loss: 1.7199 - accuracy: 0.3031\n",
      "Epoch 18/25\n",
      "235/235 [==============================] - 0s 996us/step - loss: 1.6102 - accuracy: 0.3293\n",
      "Epoch 19/25\n",
      "235/235 [==============================] - 0s 1000us/step - loss: 1.5609 - accuracy: 0.3313\n",
      "Epoch 20/25\n",
      "235/235 [==============================] - 0s 987us/step - loss: 1.5321 - accuracy: 0.3331\n",
      "Epoch 21/25\n",
      "235/235 [==============================] - 0s 1000us/step - loss: 1.5139 - accuracy: 0.3368\n",
      "Epoch 22/25\n",
      "235/235 [==============================] - 0s 991us/step - loss: 1.4992 - accuracy: 0.3384\n",
      "Epoch 23/25\n",
      "235/235 [==============================] - 0s 991us/step - loss: 1.4903 - accuracy: 0.3399\n",
      "Epoch 24/25\n",
      "235/235 [==============================] - 0s 992us/step - loss: 1.4773 - accuracy: 0.3388\n",
      "Epoch 25/25\n",
      "235/235 [==============================] - 0s 991us/step - loss: 1.4732 - accuracy: 0.3474\n",
      "1875/1875 [==============================] - 1s 427us/step - loss: 1.4559 - accuracy: 0.3566\n",
      "Epoch 1/25\n",
      "   1/1875 [..............................] - ETA: 0s - loss: 142.4356 - accuracy: 0.1250WARNING:tensorflow:Callbacks method `on_train_batch_end` is slow compared to the batch time (batch time: 0.0000s vs `on_train_batch_end` time: 0.0010s). Check your callbacks.\n",
      "1875/1875 [==============================] - 1s 663us/step - loss: 2.2023 - accuracy: 0.2457\n",
      "Epoch 2/25\n",
      "1875/1875 [==============================] - 1s 661us/step - loss: 1.6471 - accuracy: 0.3255\n",
      "Epoch 3/25\n",
      "1875/1875 [==============================] - 1s 666us/step - loss: 1.5389 - accuracy: 0.3637\n",
      "Epoch 4/25\n",
      "1875/1875 [==============================] - 1s 668us/step - loss: 1.3643 - accuracy: 0.4350\n",
      "Epoch 5/25\n",
      "1875/1875 [==============================] - 1s 658us/step - loss: 1.2971 - accuracy: 0.4484\n",
      "Epoch 6/25\n",
      "1875/1875 [==============================] - 1s 651us/step - loss: 1.2633 - accuracy: 0.4561\n",
      "Epoch 7/25\n",
      "1875/1875 [==============================] - 1s 650us/step - loss: 1.2563 - accuracy: 0.4572\n",
      "Epoch 8/25\n",
      "1875/1875 [==============================] - 1s 653us/step - loss: 1.2378 - accuracy: 0.4813\n",
      "Epoch 9/25\n",
      "1875/1875 [==============================] - 1s 651us/step - loss: 1.1615 - accuracy: 0.5165\n",
      "Epoch 10/25\n",
      "1875/1875 [==============================] - 1s 659us/step - loss: 1.0946 - accuracy: 0.5358\n",
      "Epoch 11/25\n",
      "1875/1875 [==============================] - 1s 660us/step - loss: 1.0672 - accuracy: 0.5431\n",
      "Epoch 12/25\n",
      "1875/1875 [==============================] - 1s 662us/step - loss: 1.0532 - accuracy: 0.5523\n",
      "Epoch 13/25\n",
      "1875/1875 [==============================] - 1s 661us/step - loss: 1.0332 - accuracy: 0.5694\n",
      "Epoch 14/25\n",
      "1875/1875 [==============================] - 1s 659us/step - loss: 1.0213 - accuracy: 0.5742\n",
      "Epoch 15/25\n",
      "1875/1875 [==============================] - 1s 651us/step - loss: 1.0227 - accuracy: 0.5780\n",
      "Epoch 16/25\n",
      "1875/1875 [==============================] - 1s 655us/step - loss: 1.0208 - accuracy: 0.5810\n",
      "Epoch 17/25\n",
      "1875/1875 [==============================] - 1s 660us/step - loss: 0.9948 - accuracy: 0.5884\n",
      "Epoch 18/25\n",
      "1875/1875 [==============================] - 1s 652us/step - loss: 0.9961 - accuracy: 0.5915\n",
      "Epoch 19/25\n",
      "1875/1875 [==============================] - 1s 653us/step - loss: 0.9948 - accuracy: 0.5925\n",
      "Epoch 20/25\n",
      "1875/1875 [==============================] - 1s 661us/step - loss: 0.9905 - accuracy: 0.5948\n",
      "Epoch 21/25\n",
      "1875/1875 [==============================] - 1s 661us/step - loss: 0.9859 - accuracy: 0.5965\n",
      "Epoch 22/25\n",
      "1875/1875 [==============================] - 1s 662us/step - loss: 0.9826 - accuracy: 0.6025\n",
      "Epoch 23/25\n",
      "1875/1875 [==============================] - 1s 657us/step - loss: 0.9754 - accuracy: 0.6038\n",
      "Epoch 24/25\n",
      "1875/1875 [==============================] - 1s 666us/step - loss: 0.9789 - accuracy: 0.6040\n",
      "Epoch 25/25\n",
      "1875/1875 [==============================] - 1s 662us/step - loss: 0.9709 - accuracy: 0.6043\n",
      "1875/1875 [==============================] - 1s 453us/step - loss: 0.9644 - accuracy: 0.5964\n",
      "Epoch 1/25\n",
      "938/938 [==============================] - 1s 802us/step - loss: 2.5055 - accuracy: 0.2208\n",
      "Epoch 2/25\n",
      "938/938 [==============================] - 1s 803us/step - loss: 1.5980 - accuracy: 0.3079\n",
      "Epoch 3/25\n",
      "938/938 [==============================] - 1s 796us/step - loss: 1.5113 - accuracy: 0.3339\n",
      "Epoch 4/25\n",
      "938/938 [==============================] - 1s 796us/step - loss: 1.4355 - accuracy: 0.3736\n",
      "Epoch 5/25\n",
      "938/938 [==============================] - 1s 801us/step - loss: 1.3290 - accuracy: 0.4286\n",
      "Epoch 6/25\n",
      "938/938 [==============================] - 1s 802us/step - loss: 1.2288 - accuracy: 0.4695\n",
      "Epoch 7/25\n",
      "938/938 [==============================] - 1s 799us/step - loss: 1.1987 - accuracy: 0.4789\n",
      "Epoch 8/25\n",
      "938/938 [==============================] - 1s 806us/step - loss: 1.1824 - accuracy: 0.4851\n",
      "Epoch 9/25\n",
      "938/938 [==============================] - 1s 799us/step - loss: 1.1232 - accuracy: 0.5189\n",
      "Epoch 10/25\n",
      "938/938 [==============================] - 1s 812us/step - loss: 1.0883 - accuracy: 0.5375\n",
      "Epoch 11/25\n",
      "938/938 [==============================] - 1s 848us/step - loss: 1.0675 - accuracy: 0.5466\n",
      "Epoch 12/25\n",
      "938/938 [==============================] - 1s 814us/step - loss: 1.0535 - accuracy: 0.5535\n",
      "Epoch 13/25\n",
      "938/938 [==============================] - 1s 803us/step - loss: 1.0433 - accuracy: 0.5542\n",
      "Epoch 14/25\n",
      "938/938 [==============================] - 1s 801us/step - loss: 1.0316 - accuracy: 0.5606\n",
      "Epoch 15/25\n",
      "938/938 [==============================] - 1s 806us/step - loss: 1.0258 - accuracy: 0.5620\n",
      "Epoch 16/25\n",
      "938/938 [==============================] - 1s 797us/step - loss: 1.0260 - accuracy: 0.5646\n",
      "Epoch 17/25\n",
      "938/938 [==============================] - 1s 802us/step - loss: 1.0165 - accuracy: 0.5649\n",
      "Epoch 18/25\n",
      "938/938 [==============================] - 1s 813us/step - loss: 1.0136 - accuracy: 0.5673\n",
      "Epoch 19/25\n",
      "938/938 [==============================] - 1s 804us/step - loss: 1.0151 - accuracy: 0.5675\n",
      "Epoch 20/25\n",
      "938/938 [==============================] - 1s 803us/step - loss: 1.0074 - accuracy: 0.5710\n",
      "Epoch 21/25\n",
      "938/938 [==============================] - 1s 803us/step - loss: 1.0051 - accuracy: 0.5707\n",
      "Epoch 22/25\n",
      "938/938 [==============================] - 1s 797us/step - loss: 1.0090 - accuracy: 0.5672\n",
      "Epoch 23/25\n",
      "938/938 [==============================] - 1s 804us/step - loss: 1.0143 - accuracy: 0.5681\n",
      "Epoch 24/25\n",
      "938/938 [==============================] - 1s 804us/step - loss: 1.0031 - accuracy: 0.5705\n",
      "Epoch 25/25\n"
     ]
    },
    {
     "name": "stdout",
     "output_type": "stream",
     "text": [
      "938/938 [==============================] - 1s 800us/step - loss: 0.9993 - accuracy: 0.5735\n",
      "1875/1875 [==============================] - 1s 434us/step - loss: 1.0133 - accuracy: 0.5789\n",
      "Epoch 1/25\n",
      "469/469 [==============================] - 0s 983us/step - loss: 2.9918 - accuracy: 0.1524\n",
      "Epoch 2/25\n",
      "469/469 [==============================] - 0s 1ms/step - loss: 1.7726 - accuracy: 0.2675\n",
      "Epoch 3/25\n",
      "469/469 [==============================] - 0s 991us/step - loss: 1.5647 - accuracy: 0.3283\n",
      "Epoch 4/25\n",
      "469/469 [==============================] - 0s 998us/step - loss: 1.4459 - accuracy: 0.3876\n",
      "Epoch 5/25\n",
      "469/469 [==============================] - 0s 991us/step - loss: 1.3578 - accuracy: 0.4380\n",
      "Epoch 6/25\n",
      "469/469 [==============================] - 0s 998us/step - loss: 1.3082 - accuracy: 0.4618\n",
      "Epoch 7/25\n",
      "469/469 [==============================] - 0s 994us/step - loss: 1.2564 - accuracy: 0.4866\n",
      "Epoch 8/25\n",
      "469/469 [==============================] - 0s 994us/step - loss: 1.2109 - accuracy: 0.5007\n",
      "Epoch 9/25\n",
      "469/469 [==============================] - 0s 998us/step - loss: 1.1571 - accuracy: 0.5265\n",
      "Epoch 10/25\n",
      "469/469 [==============================] - 0s 979us/step - loss: 1.0943 - accuracy: 0.5561\n",
      "Epoch 11/25\n",
      "469/469 [==============================] - 0s 994us/step - loss: 1.0553 - accuracy: 0.5618\n",
      "Epoch 12/25\n",
      "469/469 [==============================] - 0s 991us/step - loss: 1.0316 - accuracy: 0.5641\n",
      "Epoch 13/25\n",
      "469/469 [==============================] - 0s 998us/step - loss: 1.0181 - accuracy: 0.5650\n",
      "Epoch 14/25\n",
      "469/469 [==============================] - 0s 994us/step - loss: 1.0046 - accuracy: 0.5675\n",
      "Epoch 15/25\n",
      "469/469 [==============================] - 0s 1ms/step - loss: 0.9966 - accuracy: 0.5713\n",
      "Epoch 16/25\n",
      "469/469 [==============================] - 0s 998us/step - loss: 0.9856 - accuracy: 0.5737\n",
      "Epoch 17/25\n",
      "469/469 [==============================] - 0s 994us/step - loss: 0.9779 - accuracy: 0.5766\n",
      "Epoch 18/25\n",
      "469/469 [==============================] - 0s 1ms/step - loss: 0.9837 - accuracy: 0.5753\n",
      "Epoch 19/25\n",
      "469/469 [==============================] - 0s 994us/step - loss: 0.9685 - accuracy: 0.5814\n",
      "Epoch 20/25\n",
      "469/469 [==============================] - 0s 998us/step - loss: 0.9675 - accuracy: 0.5807\n",
      "Epoch 21/25\n",
      "469/469 [==============================] - 0s 1ms/step - loss: 0.9640 - accuracy: 0.5807\n",
      "Epoch 22/25\n",
      "469/469 [==============================] - 0s 996us/step - loss: 0.9652 - accuracy: 0.5820\n",
      "Epoch 23/25\n",
      "469/469 [==============================] - 0s 996us/step - loss: 0.9562 - accuracy: 0.5851\n",
      "Epoch 24/25\n",
      "469/469 [==============================] - 0s 998us/step - loss: 0.9578 - accuracy: 0.5845\n",
      "Epoch 25/25\n",
      "469/469 [==============================] - 0s 996us/step - loss: 0.9552 - accuracy: 0.5859\n",
      "1875/1875 [==============================] - 1s 428us/step - loss: 0.9645 - accuracy: 0.5633\n",
      "Epoch 1/25\n",
      "235/235 [==============================] - 0s 1ms/step - loss: 6.5542 - accuracy: 0.1214\n",
      "Epoch 2/25\n",
      "235/235 [==============================] - 0s 1ms/step - loss: 2.2597 - accuracy: 0.1288\n",
      "Epoch 3/25\n",
      "235/235 [==============================] - 0s 1ms/step - loss: 2.1534 - accuracy: 0.1842\n",
      "Epoch 4/25\n",
      "235/235 [==============================] - 0s 1000us/step - loss: 2.0490 - accuracy: 0.2193\n",
      "Epoch 5/25\n",
      "235/235 [==============================] - 0s 991us/step - loss: 1.9978 - accuracy: 0.2317\n",
      "Epoch 6/25\n",
      "235/235 [==============================] - 0s 996us/step - loss: 1.9429 - accuracy: 0.2435\n",
      "Epoch 7/25\n",
      "235/235 [==============================] - 0s 1ms/step - loss: 1.8589 - accuracy: 0.2659\n",
      "Epoch 8/25\n",
      "235/235 [==============================] - 0s 996us/step - loss: 1.7084 - accuracy: 0.3319\n",
      "Epoch 9/25\n",
      "235/235 [==============================] - 0s 991us/step - loss: 1.5744 - accuracy: 0.3718\n",
      "Epoch 10/25\n",
      "235/235 [==============================] - 0s 1ms/step - loss: 1.5292 - accuracy: 0.3781\n",
      "Epoch 11/25\n",
      "235/235 [==============================] - 0s 1000us/step - loss: 1.4709 - accuracy: 0.4099\n",
      "Epoch 12/25\n",
      "235/235 [==============================] - 0s 1ms/step - loss: 1.3900 - accuracy: 0.4550\n",
      "Epoch 13/25\n",
      "235/235 [==============================] - 0s 1ms/step - loss: 1.3299 - accuracy: 0.4748\n",
      "Epoch 14/25\n",
      "235/235 [==============================] - 0s 1ms/step - loss: 1.2906 - accuracy: 0.4910\n",
      "Epoch 15/25\n",
      "235/235 [==============================] - 0s 1ms/step - loss: 1.2173 - accuracy: 0.5159\n",
      "Epoch 16/25\n",
      "235/235 [==============================] - 0s 1ms/step - loss: 1.1328 - accuracy: 0.5435\n",
      "Epoch 17/25\n",
      "235/235 [==============================] - 0s 1ms/step - loss: 1.0955 - accuracy: 0.5537\n",
      "Epoch 18/25\n",
      "235/235 [==============================] - 0s 1ms/step - loss: 1.0764 - accuracy: 0.5562\n",
      "Epoch 19/25\n",
      "235/235 [==============================] - 0s 1ms/step - loss: 1.0589 - accuracy: 0.5623\n",
      "Epoch 20/25\n",
      "235/235 [==============================] - 0s 1ms/step - loss: 1.0417 - accuracy: 0.5650\n",
      "Epoch 21/25\n",
      "235/235 [==============================] - 0s 1ms/step - loss: 1.0295 - accuracy: 0.5687\n",
      "Epoch 22/25\n",
      "235/235 [==============================] - 0s 1ms/step - loss: 1.0244 - accuracy: 0.5663\n",
      "Epoch 23/25\n",
      "235/235 [==============================] - 0s 1ms/step - loss: 1.0081 - accuracy: 0.5964\n",
      "Epoch 24/25\n",
      "235/235 [==============================] - 0s 1ms/step - loss: 0.9672 - accuracy: 0.6375\n",
      "Epoch 25/25\n",
      "235/235 [==============================] - 0s 1ms/step - loss: 0.9356 - accuracy: 0.6651\n",
      "1875/1875 [==============================] - 1s 430us/step - loss: 0.9145 - accuracy: 0.6897\n",
      "[128, 256]\n",
      "[0.679183304309845, 0.6897333264350891]\n"
     ]
    }
   ],
   "source": [
    "find_max_acc_minibatch()"
   ]
  },
  {
   "cell_type": "markdown",
   "metadata": {
    "id": "Yt7CKtaswTI-"
   },
   "source": [
    "##Modelo Optimizado final"
   ]
  },
  {
   "cell_type": "code",
   "execution_count": 116,
   "metadata": {
    "colab": {
     "base_uri": "https://localhost:8080/"
    },
    "id": "9c5Is2b0weq6",
    "outputId": "ae186228-bdb0-4291-bdf2-0f6fc41c7a15"
   },
   "outputs": [
    {
     "name": "stdout",
     "output_type": "stream",
     "text": [
      "Epoch 1/25\n",
      "235/235 [==============================] - 0s 1ms/step - loss: 1.1458 - accuracy: 0.6180\n",
      "Epoch 2/25\n",
      "235/235 [==============================] - 0s 996us/step - loss: 0.6005 - accuracy: 0.8005\n",
      "Epoch 3/25\n",
      "235/235 [==============================] - 0s 987us/step - loss: 0.5242 - accuracy: 0.8202\n",
      "Epoch 4/25\n",
      "235/235 [==============================] - 0s 991us/step - loss: 0.4896 - accuracy: 0.8319\n",
      "Epoch 5/25\n",
      "235/235 [==============================] - 0s 983us/step - loss: 0.4668 - accuracy: 0.8391\n",
      "Epoch 6/25\n",
      "235/235 [==============================] - 0s 1ms/step - loss: 0.4507 - accuracy: 0.8438\n",
      "Epoch 7/25\n",
      "235/235 [==============================] - 0s 979us/step - loss: 0.4384 - accuracy: 0.8479\n",
      "Epoch 8/25\n",
      "235/235 [==============================] - 0s 1ms/step - loss: 0.4303 - accuracy: 0.8494\n",
      "Epoch 9/25\n",
      "235/235 [==============================] - 0s 974us/step - loss: 0.4230 - accuracy: 0.8537\n",
      "Epoch 10/25\n",
      "235/235 [==============================] - 0s 1ms/step - loss: 0.4161 - accuracy: 0.8558\n",
      "Epoch 11/25\n",
      "235/235 [==============================] - 0s 983us/step - loss: 0.4110 - accuracy: 0.8572\n",
      "Epoch 12/25\n",
      "235/235 [==============================] - 0s 970us/step - loss: 0.4071 - accuracy: 0.8584\n",
      "Epoch 13/25\n",
      "235/235 [==============================] - 0s 1000us/step - loss: 0.4042 - accuracy: 0.8599\n",
      "Epoch 14/25\n",
      "235/235 [==============================] - 0s 996us/step - loss: 0.4014 - accuracy: 0.8600\n",
      "Epoch 15/25\n",
      "235/235 [==============================] - 0s 979us/step - loss: 0.3976 - accuracy: 0.8616\n",
      "Epoch 16/25\n",
      "235/235 [==============================] - 0s 983us/step - loss: 0.3947 - accuracy: 0.8630\n",
      "Epoch 17/25\n",
      "235/235 [==============================] - 0s 991us/step - loss: 0.3941 - accuracy: 0.8630\n",
      "Epoch 18/25\n",
      "235/235 [==============================] - 0s 1ms/step - loss: 0.3892 - accuracy: 0.8654\n",
      "Epoch 19/25\n",
      "235/235 [==============================] - 0s 979us/step - loss: 0.3874 - accuracy: 0.8654\n",
      "Epoch 20/25\n",
      "235/235 [==============================] - 0s 1000us/step - loss: 0.3858 - accuracy: 0.8649s - loss: 0.3863 - accuracy: \n",
      "Epoch 21/25\n",
      "235/235 [==============================] - 0s 991us/step - loss: 0.3859 - accuracy: 0.8657\n",
      "Epoch 22/25\n",
      "235/235 [==============================] - 0s 983us/step - loss: 0.3819 - accuracy: 0.8678\n",
      "Epoch 23/25\n",
      "235/235 [==============================] - 0s 1ms/step - loss: 0.3800 - accuracy: 0.8681\n",
      "Epoch 24/25\n",
      "235/235 [==============================] - 0s 987us/step - loss: 0.3803 - accuracy: 0.8674\n",
      "Epoch 25/25\n",
      "235/235 [==============================] - 0s 979us/step - loss: 0.3769 - accuracy: 0.8691\n",
      "1875/1875 [==============================] - 1s 424us/step - loss: 0.3711 - accuracy: 0.8704\n"
     ]
    },
    {
     "data": {
      "text/plain": [
       "[0.3711145520210266, 0.8703833222389221]"
      ]
     },
     "execution_count": 116,
     "metadata": {},
     "output_type": "execute_result"
    }
   ],
   "source": [
    "keras.backend.clear_session()\n",
    "model_opt = Sequential()\n",
    "model_opt.add(Dense(10,activation='relu',input_dim=784))\n",
    "model_opt.add(Dense(10,activation='softmax'))\n",
    "optimizer = optimizers.Adam(0.001)\n",
    "model_opt.compile(loss='categorical_crossentropy',optimizer=optimizer ,metrics=['accuracy'])\n",
    "model_opt.fit(X_train_norm, y_train, epochs=25,  batch_size=2**8)\n",
    "model_opt.evaluate(X_train_stand, y_train)"
   ]
  },
  {
   "cell_type": "markdown",
   "metadata": {
    "id": "WcSKvZz1l3kZ"
   },
   "source": [
    "# Iniciar busqueda de hyperparametros\n"
   ]
  },
  {
   "cell_type": "markdown",
   "metadata": {
    "id": "d0saXUcgoieh"
   },
   "source": [
    "## Caso bias graficar cada mierda"
   ]
  },
  {
   "cell_type": "markdown",
   "metadata": {
    "id": "ntg5ukjanXVp"
   },
   "source": [
    "ver tasa de aprendizaje\n"
   ]
  },
  {
   "cell_type": "markdown",
   "metadata": {
    "id": "17AI9tBsnu0h"
   },
   "source": [
    "numero de capas\n"
   ]
  },
  {
   "cell_type": "markdown",
   "metadata": {
    "id": "0MFBsMj3nxQN"
   },
   "source": [
    "numero nodos"
   ]
  },
  {
   "cell_type": "markdown",
   "metadata": {
    "id": "mvQSvgVqonwq"
   },
   "source": [
    "## Caso varianza"
   ]
  },
  {
   "cell_type": "markdown",
   "metadata": {
    "id": "eWULDWdQqABH"
   },
   "source": [
    "Meterle mas datos"
   ]
  },
  {
   "cell_type": "markdown",
   "metadata": {
    "id": "Ch2eWO8WoAGn"
   },
   "source": [
    "Regularizacion"
   ]
  },
  {
   "cell_type": "markdown",
   "metadata": {
    "id": "p-PYYEOUEJ1I"
   },
   "source": [
    "# Modelo final"
   ]
  },
  {
   "cell_type": "code",
   "execution_count": 117,
   "metadata": {
    "colab": {
     "base_uri": "https://localhost:8080/"
    },
    "id": "O37fgmOn51_0",
    "outputId": "e69378e9-501e-400f-e38b-fc153245dafc"
   },
   "outputs": [
    {
     "name": "stdout",
     "output_type": "stream",
     "text": [
      "Epoch 1/55\n",
      "235/235 [==============================] - 1s 3ms/step - loss: 0.6674 - accuracy: 0.7740\n",
      "Epoch 2/55\n",
      "235/235 [==============================] - 1s 3ms/step - loss: 0.4158 - accuracy: 0.8512\n",
      "Epoch 3/55\n",
      "235/235 [==============================] - 1s 3ms/step - loss: 0.3713 - accuracy: 0.8661\n",
      "Epoch 4/55\n",
      "235/235 [==============================] - 1s 3ms/step - loss: 0.3479 - accuracy: 0.8743\n",
      "Epoch 5/55\n",
      "235/235 [==============================] - 1s 3ms/step - loss: 0.3276 - accuracy: 0.8802\n",
      "Epoch 6/55\n",
      "235/235 [==============================] - 1s 3ms/step - loss: 0.3104 - accuracy: 0.8864\n",
      "Epoch 7/55\n",
      "235/235 [==============================] - 1s 3ms/step - loss: 0.3006 - accuracy: 0.8907\n",
      "Epoch 8/55\n",
      "235/235 [==============================] - 1s 3ms/step - loss: 0.2862 - accuracy: 0.8946\n",
      "Epoch 9/55\n",
      "235/235 [==============================] - 1s 3ms/step - loss: 0.2755 - accuracy: 0.8979\n",
      "Epoch 10/55\n",
      "235/235 [==============================] - 1s 3ms/step - loss: 0.2658 - accuracy: 0.9017\n",
      "Epoch 11/55\n",
      "235/235 [==============================] - 1s 3ms/step - loss: 0.2601 - accuracy: 0.9022\n",
      "Epoch 12/55\n",
      "235/235 [==============================] - 1s 3ms/step - loss: 0.2477 - accuracy: 0.9077\n",
      "Epoch 13/55\n",
      "235/235 [==============================] - 1s 3ms/step - loss: 0.2420 - accuracy: 0.9097\n",
      "Epoch 14/55\n",
      "235/235 [==============================] - 1s 3ms/step - loss: 0.2365 - accuracy: 0.9115\n",
      "Epoch 15/55\n",
      "235/235 [==============================] - 1s 3ms/step - loss: 0.2301 - accuracy: 0.9144\n",
      "Epoch 16/55\n",
      "235/235 [==============================] - 1s 3ms/step - loss: 0.2235 - accuracy: 0.9170\n",
      "Epoch 17/55\n",
      "235/235 [==============================] - 1s 3ms/step - loss: 0.2201 - accuracy: 0.9176\n",
      "Epoch 18/55\n",
      "235/235 [==============================] - 1s 3ms/step - loss: 0.2109 - accuracy: 0.9213\n",
      "Epoch 19/55\n",
      "235/235 [==============================] - 1s 3ms/step - loss: 0.2047 - accuracy: 0.9237\n",
      "Epoch 20/55\n",
      "235/235 [==============================] - 1s 3ms/step - loss: 0.2093 - accuracy: 0.9205\n",
      "Epoch 21/55\n",
      "235/235 [==============================] - 1s 3ms/step - loss: 0.2023 - accuracy: 0.9240\n",
      "Epoch 22/55\n",
      "235/235 [==============================] - 1s 3ms/step - loss: 0.1917 - accuracy: 0.9279\n",
      "Epoch 23/55\n",
      "235/235 [==============================] - 1s 3ms/step - loss: 0.1912 - accuracy: 0.9281\n",
      "Epoch 24/55\n",
      "235/235 [==============================] - 1s 3ms/step - loss: 0.1853 - accuracy: 0.9289\n",
      "Epoch 25/55\n",
      "235/235 [==============================] - 1s 3ms/step - loss: 0.1790 - accuracy: 0.9327\n",
      "Epoch 26/55\n",
      "235/235 [==============================] - 1s 3ms/step - loss: 0.1807 - accuracy: 0.9320\n",
      "Epoch 27/55\n",
      "235/235 [==============================] - 1s 3ms/step - loss: 0.1733 - accuracy: 0.9347\n",
      "Epoch 28/55\n",
      "235/235 [==============================] - 1s 3ms/step - loss: 0.1687 - accuracy: 0.9378\n",
      "Epoch 29/55\n",
      "235/235 [==============================] - 1s 3ms/step - loss: 0.1641 - accuracy: 0.9378\n",
      "Epoch 30/55\n",
      "235/235 [==============================] - 1s 3ms/step - loss: 0.1620 - accuracy: 0.9388\n",
      "Epoch 31/55\n",
      "235/235 [==============================] - 1s 3ms/step - loss: 0.1593 - accuracy: 0.9389\n",
      "Epoch 32/55\n",
      "235/235 [==============================] - 1s 3ms/step - loss: 0.1543 - accuracy: 0.9417\n",
      "Epoch 33/55\n",
      "235/235 [==============================] - 1s 3ms/step - loss: 0.1495 - accuracy: 0.9434\n",
      "Epoch 34/55\n",
      "235/235 [==============================] - 1s 3ms/step - loss: 0.1502 - accuracy: 0.9428\n",
      "Epoch 35/55\n",
      "235/235 [==============================] - 1s 3ms/step - loss: 0.1424 - accuracy: 0.9463\n",
      "Epoch 36/55\n",
      "235/235 [==============================] - 1s 3ms/step - loss: 0.1368 - accuracy: 0.9483\n",
      "Epoch 37/55\n",
      "235/235 [==============================] - 1s 3ms/step - loss: 0.1380 - accuracy: 0.9475\n",
      "Epoch 38/55\n",
      "235/235 [==============================] - 1s 3ms/step - loss: 0.1335 - accuracy: 0.9498\n",
      "Epoch 39/55\n",
      "235/235 [==============================] - 1s 3ms/step - loss: 0.1338 - accuracy: 0.9491\n",
      "Epoch 40/55\n",
      "235/235 [==============================] - 1s 3ms/step - loss: 0.1277 - accuracy: 0.9511\n",
      "Epoch 41/55\n",
      "235/235 [==============================] - 1s 3ms/step - loss: 0.1277 - accuracy: 0.9517\n",
      "Epoch 42/55\n",
      "235/235 [==============================] - 1s 3ms/step - loss: 0.1264 - accuracy: 0.9512\n",
      "Epoch 43/55\n",
      "235/235 [==============================] - 1s 3ms/step - loss: 0.1252 - accuracy: 0.9527\n",
      "Epoch 44/55\n",
      "235/235 [==============================] - 1s 3ms/step - loss: 0.1261 - accuracy: 0.9518\n",
      "Epoch 45/55\n",
      "235/235 [==============================] - 1s 3ms/step - loss: 0.1140 - accuracy: 0.9567\n",
      "Epoch 46/55\n",
      "235/235 [==============================] - 1s 3ms/step - loss: 0.1124 - accuracy: 0.9567\n",
      "Epoch 47/55\n",
      "235/235 [==============================] - 1s 3ms/step - loss: 0.1082 - accuracy: 0.9593\n",
      "Epoch 48/55\n",
      "235/235 [==============================] - 1s 3ms/step - loss: 0.1112 - accuracy: 0.9582\n",
      "Epoch 49/55\n",
      "235/235 [==============================] - 1s 3ms/step - loss: 0.1017 - accuracy: 0.9613\n",
      "Epoch 50/55\n",
      "235/235 [==============================] - 1s 3ms/step - loss: 0.1075 - accuracy: 0.9595\n",
      "Epoch 51/55\n",
      "235/235 [==============================] - 1s 3ms/step - loss: 0.1097 - accuracy: 0.9592\n",
      "Epoch 52/55\n",
      "235/235 [==============================] - 1s 3ms/step - loss: 0.1039 - accuracy: 0.9613\n",
      "Epoch 53/55\n",
      "235/235 [==============================] - 1s 3ms/step - loss: 0.0970 - accuracy: 0.9632\n",
      "Epoch 54/55\n",
      "235/235 [==============================] - 1s 3ms/step - loss: 0.0956 - accuracy: 0.9635\n",
      "Epoch 55/55\n",
      "235/235 [==============================] - 1s 3ms/step - loss: 0.0987 - accuracy: 0.9625\n"
     ]
    },
    {
     "data": {
      "text/plain": [
       "<tensorflow.python.keras.callbacks.History at 0x20876e97f40>"
      ]
     },
     "execution_count": 117,
     "metadata": {},
     "output_type": "execute_result"
    }
   ],
   "source": [
    "keras.backend.clear_session()\n",
    "model_final = Sequential()\n",
    "model_final.add(Dense(100,activation='relu',input_dim=784))\n",
    "model_final.add(Dense(100,activation='relu'))\n",
    "model_final.add(Dense(100,activation='relu'))\n",
    "model_final.add(Dense(60,activation='relu'))\n",
    "model_final.add(Dense(30,activation='relu'))\n",
    "model_final.add(Dense(10,activation='softmax'))\n",
    "optimizer = optimizers.Adam(0.001)\n",
    "model_final.compile(loss='categorical_crossentropy',optimizer=optimizer ,metrics=['accuracy'])\n",
    "model_final.fit(X_train_stand, y_train, epochs=55,  batch_size=2**8)"
   ]
  },
  {
   "cell_type": "code",
   "execution_count": 118,
   "metadata": {
    "colab": {
     "base_uri": "https://localhost:8080/"
    },
    "id": "8o6vJoLw9K01",
    "outputId": "52c9129d-4f91-47d7-ed22-79fa066b2e59"
   },
   "outputs": [
    {
     "name": "stdout",
     "output_type": "stream",
     "text": [
      "1875/1875 [==============================] - 1s 649us/step - loss: 0.0857 - accuracy: 0.9674\n"
     ]
    },
    {
     "data": {
      "text/plain": [
       "[0.08572960644960403, 0.9673833250999451]"
      ]
     },
     "execution_count": 118,
     "metadata": {},
     "output_type": "execute_result"
    }
   ],
   "source": [
    "model_final.evaluate(X_train_stand, y_train)"
   ]
  },
  {
   "cell_type": "code",
   "execution_count": 119,
   "metadata": {
    "colab": {
     "base_uri": "https://localhost:8080/"
    },
    "id": "apRSu7GQ9OmG",
    "outputId": "a010a409-c1eb-492b-a0cd-a5006a3c7c25"
   },
   "outputs": [
    {
     "name": "stdout",
     "output_type": "stream",
     "text": [
      "313/313 [==============================] - 0s 923us/step - loss: 0.4543 - accuracy: 0.8946\n"
     ]
    },
    {
     "data": {
      "text/plain": [
       "[0.45434609055519104, 0.894599974155426]"
      ]
     },
     "execution_count": 119,
     "metadata": {},
     "output_type": "execute_result"
    }
   ],
   "source": [
    "model_final.evaluate(X_test_stand, y_test)"
   ]
  },
  {
   "cell_type": "code",
   "execution_count": 120,
   "metadata": {
    "id": "uqsAEDV_DGIU"
   },
   "outputs": [],
   "source": [
    "def correr_modelo_mini_batch_2(batch_size):\n",
    "    keras.backend.clear_session()\n",
    "    model_final = Sequential()\n",
    "    model_final.add(Dense(100,activation='relu',input_dim=784))\n",
    "    model_final.add(Dense(100,activation='relu'))\n",
    "    model_final.add(Dense(100,activation='relu'))\n",
    "    model_final.add(Dense(60,activation='relu'))\n",
    "    model_final.add(Dense(30,activation='relu'))\n",
    "    model_final.add(Dense(10,activation='softmax'))\n",
    "    optimizer = optimizers.Adam(0.001)\n",
    "    model_final.compile(loss='categorical_crossentropy',optimizer=optimizer ,metrics=['accuracy'])\n",
    "    model_final.fit(X_train_stand, y_train, epochs=25,  batch_size=batch_size)\n",
    "    print(model_final.evaluate(X_train_stand, y_train))\n",
    "    return model_final.evaluate(X_train_stand, y_train)"
   ]
  },
  {
   "cell_type": "code",
   "execution_count": 121,
   "metadata": {
    "colab": {
     "base_uri": "https://localhost:8080/",
     "height": 1000
    },
    "id": "aeR0iKAqC7JV",
    "outputId": "1ed74061-fbb4-4297-d886-f196029da4d7"
   },
   "outputs": [
    {
     "name": "stdout",
     "output_type": "stream",
     "text": [
      "Epoch 1/25\n",
      "3750/3750 [==============================] - 4s 1ms/step - loss: 0.5242 - accuracy: 0.8121\n",
      "Epoch 2/25\n",
      "3750/3750 [==============================] - 4s 1ms/step - loss: 0.3902 - accuracy: 0.8580\n",
      "Epoch 3/25\n",
      "3750/3750 [==============================] - 4s 1ms/step - loss: 0.3565 - accuracy: 0.8705\n",
      "Epoch 4/25\n",
      "3750/3750 [==============================] - 4s 1ms/step - loss: 0.3323 - accuracy: 0.8777\n",
      "Epoch 5/25\n",
      "3750/3750 [==============================] - 4s 1ms/step - loss: 0.3155 - accuracy: 0.8843\n",
      "Epoch 6/25\n",
      "3750/3750 [==============================] - 4s 1ms/step - loss: 0.3026 - accuracy: 0.8890\n",
      "Epoch 7/25\n",
      "3750/3750 [==============================] - 4s 1ms/step - loss: 0.2920 - accuracy: 0.8917\n",
      "Epoch 8/25\n",
      "3750/3750 [==============================] - 4s 1ms/step - loss: 0.2818 - accuracy: 0.8950\n",
      "Epoch 9/25\n",
      "3750/3750 [==============================] - 4s 1ms/step - loss: 0.2716 - accuracy: 0.8991\n",
      "Epoch 10/25\n",
      "3750/3750 [==============================] - 4s 1ms/step - loss: 0.2630 - accuracy: 0.9011\n",
      "Epoch 11/25\n",
      "3750/3750 [==============================] - 4s 1ms/step - loss: 0.2582 - accuracy: 0.9044\n",
      "Epoch 12/25\n",
      "3750/3750 [==============================] - 4s 1ms/step - loss: 0.2519 - accuracy: 0.9062\n",
      "Epoch 13/25\n",
      "3750/3750 [==============================] - 4s 1ms/step - loss: 0.2444 - accuracy: 0.9085\n",
      "Epoch 14/25\n",
      "3750/3750 [==============================] - 4s 1ms/step - loss: 0.2379 - accuracy: 0.9112\n",
      "Epoch 15/25\n",
      "3750/3750 [==============================] - 4s 1ms/step - loss: 0.2336 - accuracy: 0.9116\n",
      "Epoch 16/25\n",
      "3750/3750 [==============================] - 4s 1ms/step - loss: 0.2299 - accuracy: 0.9133\n",
      "Epoch 17/25\n",
      "3750/3750 [==============================] - 4s 1ms/step - loss: 0.2244 - accuracy: 0.9166\n",
      "Epoch 18/25\n",
      "3750/3750 [==============================] - 4s 1ms/step - loss: 0.2249 - accuracy: 0.9154\n",
      "Epoch 19/25\n",
      "3750/3750 [==============================] - 4s 1ms/step - loss: 0.2176 - accuracy: 0.9175\n",
      "Epoch 20/25\n",
      "3750/3750 [==============================] - 4s 1ms/step - loss: 0.2131 - accuracy: 0.9196\n",
      "Epoch 21/25\n",
      "3750/3750 [==============================] - 4s 1ms/step - loss: 0.2099 - accuracy: 0.9207\n",
      "Epoch 22/25\n",
      "3750/3750 [==============================] - 4s 1ms/step - loss: 0.2061 - accuracy: 0.9233\n",
      "Epoch 23/25\n",
      "3750/3750 [==============================] - 4s 1ms/step - loss: 0.2027 - accuracy: 0.9243\n",
      "Epoch 24/25\n",
      "3750/3750 [==============================] - 4s 1ms/step - loss: 0.1984 - accuracy: 0.9241\n",
      "Epoch 25/25\n",
      "3750/3750 [==============================] - 4s 1ms/step - loss: 0.1960 - accuracy: 0.9262\n",
      "1875/1875 [==============================] - 1s 682us/step - loss: 0.2097 - accuracy: 0.9245\n",
      "[0.20968163013458252, 0.9245166778564453]\n",
      "1875/1875 [==============================] - 1s 663us/step - loss: 0.2097 - accuracy: 0.9245\n",
      "Epoch 1/25\n",
      "1875/1875 [==============================] - 3s 1ms/step - loss: 0.5250 - accuracy: 0.8108\n",
      "Epoch 2/25\n",
      "1875/1875 [==============================] - 3s 1ms/step - loss: 0.3872 - accuracy: 0.8589\n",
      "Epoch 3/25\n",
      "1875/1875 [==============================] - 2s 1ms/step - loss: 0.3517 - accuracy: 0.8718\n",
      "Epoch 4/25\n",
      "1875/1875 [==============================] - 2s 1ms/step - loss: 0.3272 - accuracy: 0.8791\n",
      "Epoch 5/25\n",
      "1875/1875 [==============================] - 2s 1ms/step - loss: 0.3112 - accuracy: 0.8841\n",
      "Epoch 6/25\n",
      "1875/1875 [==============================] - 3s 1ms/step - loss: 0.2963 - accuracy: 0.8903\n",
      "Epoch 7/25\n",
      "1875/1875 [==============================] - 2s 1ms/step - loss: 0.2850 - accuracy: 0.8937\n",
      "Epoch 8/25\n",
      "1875/1875 [==============================] - 2s 1ms/step - loss: 0.2748 - accuracy: 0.8978\n",
      "Epoch 9/25\n",
      "1875/1875 [==============================] - 2s 1ms/step - loss: 0.2640 - accuracy: 0.9012\n",
      "Epoch 10/25\n",
      "1875/1875 [==============================] - 2s 1ms/step - loss: 0.2542 - accuracy: 0.9047\n",
      "Epoch 11/25\n",
      "1875/1875 [==============================] - 2s 1ms/step - loss: 0.2469 - accuracy: 0.9072\n",
      "Epoch 12/25\n",
      "1875/1875 [==============================] - 2s 1ms/step - loss: 0.2421 - accuracy: 0.9090\n",
      "Epoch 13/25\n",
      "1875/1875 [==============================] - 2s 1ms/step - loss: 0.2329 - accuracy: 0.9136\n",
      "Epoch 14/25\n",
      "1875/1875 [==============================] - 2s 1ms/step - loss: 0.2288 - accuracy: 0.9128\n",
      "Epoch 15/25\n",
      "1875/1875 [==============================] - 2s 1ms/step - loss: 0.2207 - accuracy: 0.9166\n",
      "Epoch 16/25\n",
      "1875/1875 [==============================] - 2s 1ms/step - loss: 0.2136 - accuracy: 0.9186\n",
      "Epoch 17/25\n",
      "1875/1875 [==============================] - 2s 1ms/step - loss: 0.2118 - accuracy: 0.9204\n",
      "Epoch 18/25\n",
      "1875/1875 [==============================] - 2s 1ms/step - loss: 0.2086 - accuracy: 0.9214\n",
      "Epoch 19/25\n",
      "1875/1875 [==============================] - 2s 1ms/step - loss: 0.2007 - accuracy: 0.9236\n",
      "Epoch 20/25\n",
      "1875/1875 [==============================] - 2s 1ms/step - loss: 0.1973 - accuracy: 0.9259\n",
      "Epoch 21/25\n",
      "1875/1875 [==============================] - 2s 1ms/step - loss: 0.1943 - accuracy: 0.9273\n",
      "Epoch 22/25\n",
      "1875/1875 [==============================] - 2s 1ms/step - loss: 0.1905 - accuracy: 0.9286\n",
      "Epoch 23/25\n",
      "1875/1875 [==============================] - 2s 1ms/step - loss: 0.1858 - accuracy: 0.9305\n",
      "Epoch 24/25\n",
      "1875/1875 [==============================] - 2s 1ms/step - loss: 0.1810 - accuracy: 0.9311\n",
      "Epoch 25/25\n",
      "1875/1875 [==============================] - 2s 1ms/step - loss: 0.1814 - accuracy: 0.9317\n",
      "1875/1875 [==============================] - 1s 635us/step - loss: 0.1615 - accuracy: 0.9384\n",
      "[0.16150593757629395, 0.9383666515350342]\n",
      "1875/1875 [==============================] - 1s 637us/step - loss: 0.1615 - accuracy: 0.9384\n",
      "Epoch 1/25\n",
      "938/938 [==============================] - 1s 1ms/step - loss: 0.5574 - accuracy: 0.7973\n",
      "Epoch 2/25\n",
      "938/938 [==============================] - 1s 1ms/step - loss: 0.3866 - accuracy: 0.8590\n",
      "Epoch 3/25\n",
      "938/938 [==============================] - 1s 1ms/step - loss: 0.3487 - accuracy: 0.8725\n",
      "Epoch 4/25\n",
      "938/938 [==============================] - 1s 1ms/step - loss: 0.3274 - accuracy: 0.8791\n",
      "Epoch 5/25\n",
      "938/938 [==============================] - 1s 1ms/step - loss: 0.3076 - accuracy: 0.8858\n",
      "Epoch 6/25\n",
      "938/938 [==============================] - 1s 1ms/step - loss: 0.2955 - accuracy: 0.8900\n",
      "Epoch 7/25\n",
      "938/938 [==============================] - 1s 1ms/step - loss: 0.2802 - accuracy: 0.8952\n",
      "Epoch 8/25\n",
      "938/938 [==============================] - 1s 1ms/step - loss: 0.2714 - accuracy: 0.8993\n",
      "Epoch 9/25\n",
      "938/938 [==============================] - 1s 1ms/step - loss: 0.2604 - accuracy: 0.9034\n",
      "Epoch 10/25\n",
      "938/938 [==============================] - 1s 2ms/step - loss: 0.2529 - accuracy: 0.9068\n",
      "Epoch 11/25\n",
      "938/938 [==============================] - 1s 2ms/step - loss: 0.2430 - accuracy: 0.9075\n",
      "Epoch 12/25\n",
      "938/938 [==============================] - 1s 2ms/step - loss: 0.2367 - accuracy: 0.9105\n",
      "Epoch 13/25\n",
      "938/938 [==============================] - 1s 1ms/step - loss: 0.2288 - accuracy: 0.9137\n",
      "Epoch 14/25\n",
      "938/938 [==============================] - 1s 1ms/step - loss: 0.2197 - accuracy: 0.9173\n",
      "Epoch 15/25\n",
      "938/938 [==============================] - 1s 1ms/step - loss: 0.2166 - accuracy: 0.9175\n",
      "Epoch 16/25\n",
      "938/938 [==============================] - 1s 1ms/step - loss: 0.2112 - accuracy: 0.9198\n",
      "Epoch 17/25\n",
      "938/938 [==============================] - 1s 1ms/step - loss: 0.2051 - accuracy: 0.9222\n",
      "Epoch 18/25\n",
      "938/938 [==============================] - 1s 1ms/step - loss: 0.1993 - accuracy: 0.9236\n",
      "Epoch 19/25\n",
      "938/938 [==============================] - 1s 1ms/step - loss: 0.1944 - accuracy: 0.9259\n",
      "Epoch 20/25\n",
      "938/938 [==============================] - 1s 1ms/step - loss: 0.1924 - accuracy: 0.9273\n",
      "Epoch 21/25\n",
      "938/938 [==============================] - 1s 1ms/step - loss: 0.1827 - accuracy: 0.9309\n",
      "Epoch 22/25\n",
      "938/938 [==============================] - 1s 1ms/step - loss: 0.1820 - accuracy: 0.9313\n",
      "Epoch 23/25\n",
      "938/938 [==============================] - 1s 1ms/step - loss: 0.1785 - accuracy: 0.9323\n",
      "Epoch 24/25\n",
      "938/938 [==============================] - 1s 1ms/step - loss: 0.1738 - accuracy: 0.9344\n",
      "Epoch 25/25\n",
      "938/938 [==============================] - 1s 1ms/step - loss: 0.1679 - accuracy: 0.9364\n",
      "1875/1875 [==============================] - 1s 638us/step - loss: 0.1549 - accuracy: 0.9404\n"
     ]
    },
    {
     "name": "stdout",
     "output_type": "stream",
     "text": [
      "[0.15492625534534454, 0.9404333233833313]\n",
      "1875/1875 [==============================] - 1s 647us/step - loss: 0.1549 - accuracy: 0.9404\n",
      "Epoch 1/25\n",
      "469/469 [==============================] - 1s 2ms/step - loss: 0.6010 - accuracy: 0.7850\n",
      "Epoch 2/25\n",
      "469/469 [==============================] - 1s 2ms/step - loss: 0.4060 - accuracy: 0.8542\n",
      "Epoch 3/25\n",
      "469/469 [==============================] - 1s 2ms/step - loss: 0.3589 - accuracy: 0.8700\n",
      "Epoch 4/25\n",
      "469/469 [==============================] - 1s 2ms/step - loss: 0.3277 - accuracy: 0.8795\n",
      "Epoch 5/25\n",
      "469/469 [==============================] - 1s 2ms/step - loss: 0.3145 - accuracy: 0.8842\n",
      "Epoch 6/25\n",
      "469/469 [==============================] - 1s 2ms/step - loss: 0.2978 - accuracy: 0.8899\n",
      "Epoch 7/25\n",
      "469/469 [==============================] - 1s 2ms/step - loss: 0.2881 - accuracy: 0.8943\n",
      "Epoch 8/25\n",
      "469/469 [==============================] - 1s 2ms/step - loss: 0.2756 - accuracy: 0.8978\n",
      "Epoch 9/25\n",
      "469/469 [==============================] - 1s 2ms/step - loss: 0.2689 - accuracy: 0.8997\n",
      "Epoch 10/25\n",
      "469/469 [==============================] - 1s 2ms/step - loss: 0.2579 - accuracy: 0.9043\n",
      "Epoch 11/25\n",
      "469/469 [==============================] - 1s 2ms/step - loss: 0.2503 - accuracy: 0.9065\n",
      "Epoch 12/25\n",
      "469/469 [==============================] - 1s 2ms/step - loss: 0.2431 - accuracy: 0.9082\n",
      "Epoch 13/25\n",
      "469/469 [==============================] - 1s 2ms/step - loss: 0.2358 - accuracy: 0.9112\n",
      "Epoch 14/25\n",
      "469/469 [==============================] - 1s 2ms/step - loss: 0.2281 - accuracy: 0.9140\n",
      "Epoch 15/25\n",
      "469/469 [==============================] - 1s 2ms/step - loss: 0.2203 - accuracy: 0.9169\n",
      "Epoch 16/25\n",
      "469/469 [==============================] - 1s 2ms/step - loss: 0.2167 - accuracy: 0.9183\n",
      "Epoch 17/25\n",
      "469/469 [==============================] - 1s 2ms/step - loss: 0.2096 - accuracy: 0.9201\n",
      "Epoch 18/25\n",
      "469/469 [==============================] - 1s 2ms/step - loss: 0.2063 - accuracy: 0.9231\n",
      "Epoch 19/25\n",
      "469/469 [==============================] - 1s 3ms/step - loss: 0.2001 - accuracy: 0.9237\n",
      "Epoch 20/25\n",
      "469/469 [==============================] - 1s 2ms/step - loss: 0.1950 - accuracy: 0.9257\n",
      "Epoch 21/25\n",
      "469/469 [==============================] - 1s 2ms/step - loss: 0.1894 - accuracy: 0.9294\n",
      "Epoch 22/25\n",
      "469/469 [==============================] - 1s 2ms/step - loss: 0.1862 - accuracy: 0.9304\n",
      "Epoch 23/25\n",
      "469/469 [==============================] - 1s 2ms/step - loss: 0.1817 - accuracy: 0.9313\n",
      "Epoch 24/25\n",
      "469/469 [==============================] - 1s 2ms/step - loss: 0.1708 - accuracy: 0.9348\n",
      "Epoch 25/25\n",
      "469/469 [==============================] - 1s 2ms/step - loss: 0.1709 - accuracy: 0.9351\n",
      "1875/1875 [==============================] - 1s 710us/step - loss: 0.1703 - accuracy: 0.9365\n",
      "[0.1702945977449417, 0.9365333318710327]\n",
      "1875/1875 [==============================] - 1s 735us/step - loss: 0.1703 - accuracy: 0.9365\n",
      "Epoch 1/25\n",
      "235/235 [==============================] - 1s 3ms/step - loss: 0.6774 - accuracy: 0.7587\n",
      "Epoch 2/25\n",
      "235/235 [==============================] - 1s 3ms/step - loss: 0.4227 - accuracy: 0.8486\n",
      "Epoch 3/25\n",
      "235/235 [==============================] - 1s 3ms/step - loss: 0.3771 - accuracy: 0.8630\n",
      "Epoch 4/25\n",
      "235/235 [==============================] - 1s 3ms/step - loss: 0.3484 - accuracy: 0.8735\n",
      "Epoch 5/25\n",
      "235/235 [==============================] - 1s 3ms/step - loss: 0.3257 - accuracy: 0.8817\n",
      "Epoch 6/25\n",
      "235/235 [==============================] - 1s 3ms/step - loss: 0.3115 - accuracy: 0.8850\n",
      "Epoch 7/25\n",
      "235/235 [==============================] - 1s 3ms/step - loss: 0.2947 - accuracy: 0.8913\n",
      "Epoch 8/25\n",
      "235/235 [==============================] - 1s 3ms/step - loss: 0.2800 - accuracy: 0.8961\n",
      "Epoch 9/25\n",
      "235/235 [==============================] - 1s 3ms/step - loss: 0.2724 - accuracy: 0.8991\n",
      "Epoch 10/25\n",
      "235/235 [==============================] - 1s 3ms/step - loss: 0.2682 - accuracy: 0.9005\n",
      "Epoch 11/25\n",
      "235/235 [==============================] - 1s 3ms/step - loss: 0.2557 - accuracy: 0.9040\n",
      "Epoch 12/25\n",
      "235/235 [==============================] - 1s 3ms/step - loss: 0.2509 - accuracy: 0.9066\n",
      "Epoch 13/25\n",
      "235/235 [==============================] - 1s 3ms/step - loss: 0.2426 - accuracy: 0.9098\n",
      "Epoch 14/25\n",
      "235/235 [==============================] - 1s 3ms/step - loss: 0.2380 - accuracy: 0.9110\n",
      "Epoch 15/25\n",
      "235/235 [==============================] - 1s 3ms/step - loss: 0.2326 - accuracy: 0.9123\n",
      "Epoch 16/25\n",
      "235/235 [==============================] - 1s 3ms/step - loss: 0.2241 - accuracy: 0.9155\n",
      "Epoch 17/25\n",
      "235/235 [==============================] - 1s 3ms/step - loss: 0.2198 - accuracy: 0.9184\n",
      "Epoch 18/25\n",
      "235/235 [==============================] - 1s 3ms/step - loss: 0.2105 - accuracy: 0.9212\n",
      "Epoch 19/25\n",
      "235/235 [==============================] - 1s 3ms/step - loss: 0.2089 - accuracy: 0.9227\n",
      "Epoch 20/25\n",
      "235/235 [==============================] - 1s 3ms/step - loss: 0.2057 - accuracy: 0.9233\n",
      "Epoch 21/25\n",
      "235/235 [==============================] - 1s 3ms/step - loss: 0.1987 - accuracy: 0.9246\n",
      "Epoch 22/25\n",
      "235/235 [==============================] - 1s 3ms/step - loss: 0.1969 - accuracy: 0.9263\n",
      "Epoch 23/25\n",
      "235/235 [==============================] - 1s 3ms/step - loss: 0.1904 - accuracy: 0.9280\n",
      "Epoch 24/25\n",
      "235/235 [==============================] - 1s 3ms/step - loss: 0.1871 - accuracy: 0.9285\n",
      "Epoch 25/25\n",
      "235/235 [==============================] - 1s 3ms/step - loss: 0.1834 - accuracy: 0.9302\n",
      "1875/1875 [==============================] - 1s 675us/step - loss: 0.1744 - accuracy: 0.9348\n",
      "[0.17438344657421112, 0.9348166584968567]\n",
      "1875/1875 [==============================] - 1s 652us/step - loss: 0.1744 - accuracy: 0.9348\n",
      "Epoch 1/25\n",
      "118/118 [==============================] - 1s 4ms/step - loss: 0.8180 - accuracy: 0.7211\n",
      "Epoch 2/25\n",
      "118/118 [==============================] - 1s 5ms/step - loss: 0.4517 - accuracy: 0.8415\n",
      "Epoch 3/25\n",
      "118/118 [==============================] - 1s 5ms/step - loss: 0.4049 - accuracy: 0.8562\n",
      "Epoch 4/25\n",
      "118/118 [==============================] - 1s 5ms/step - loss: 0.3854 - accuracy: 0.8628\n",
      "Epoch 5/25\n",
      "118/118 [==============================] - 1s 5ms/step - loss: 0.3571 - accuracy: 0.8723\n",
      "Epoch 6/25\n",
      "118/118 [==============================] - 1s 5ms/step - loss: 0.3406 - accuracy: 0.8775\n",
      "Epoch 7/25\n",
      "118/118 [==============================] - 1s 5ms/step - loss: 0.3214 - accuracy: 0.8835\n",
      "Epoch 8/25\n",
      "118/118 [==============================] - 1s 5ms/step - loss: 0.3128 - accuracy: 0.8861\n",
      "Epoch 9/25\n",
      "118/118 [==============================] - 1s 5ms/step - loss: 0.3048 - accuracy: 0.8882\n",
      "Epoch 10/25\n",
      "118/118 [==============================] - 1s 5ms/step - loss: 0.2925 - accuracy: 0.8937\n",
      "Epoch 11/25\n",
      "118/118 [==============================] - 1s 5ms/step - loss: 0.2839 - accuracy: 0.8956\n",
      "Epoch 12/25\n",
      "118/118 [==============================] - 1s 5ms/step - loss: 0.2782 - accuracy: 0.8969\n",
      "Epoch 13/25\n",
      "118/118 [==============================] - 1s 5ms/step - loss: 0.2702 - accuracy: 0.8995\n",
      "Epoch 14/25\n",
      "118/118 [==============================] - 1s 5ms/step - loss: 0.2616 - accuracy: 0.9026\n",
      "Epoch 15/25\n",
      "118/118 [==============================] - 1s 5ms/step - loss: 0.2553 - accuracy: 0.9047\n",
      "Epoch 16/25\n",
      "118/118 [==============================] - 1s 5ms/step - loss: 0.2531 - accuracy: 0.9058\n",
      "Epoch 17/25\n",
      "118/118 [==============================] - 1s 5ms/step - loss: 0.2389 - accuracy: 0.9108\n",
      "Epoch 18/25\n",
      "118/118 [==============================] - 1s 5ms/step - loss: 0.2356 - accuracy: 0.9118\n",
      "Epoch 19/25\n",
      "118/118 [==============================] - 1s 5ms/step - loss: 0.2301 - accuracy: 0.9142\n",
      "Epoch 20/25\n",
      "118/118 [==============================] - 1s 5ms/step - loss: 0.2261 - accuracy: 0.9152\n",
      "Epoch 21/25\n",
      "118/118 [==============================] - 1s 5ms/step - loss: 0.2207 - accuracy: 0.9171\n",
      "Epoch 22/25\n",
      "118/118 [==============================] - 1s 5ms/step - loss: 0.2171 - accuracy: 0.9186\n",
      "Epoch 23/25\n",
      "118/118 [==============================] - 1s 5ms/step - loss: 0.2104 - accuracy: 0.9207\n",
      "Epoch 24/25\n",
      "118/118 [==============================] - 1s 5ms/step - loss: 0.2073 - accuracy: 0.9229\n",
      "Epoch 25/25\n",
      "118/118 [==============================] - 1s 5ms/step - loss: 0.2074 - accuracy: 0.9231\n"
     ]
    },
    {
     "name": "stdout",
     "output_type": "stream",
     "text": [
      "1875/1875 [==============================] - 1s 671us/step - loss: 0.1987 - accuracy: 0.9248\n",
      "[0.19865372776985168, 0.9247666597366333]\n",
      "1875/1875 [==============================] - 1s 635us/step - loss: 0.1987 - accuracy: 0.9248\n",
      "Epoch 1/25\n",
      "59/59 [==============================] - 0s 8ms/step - loss: 1.0297 - accuracy: 0.6400\n",
      "Epoch 2/25\n",
      "59/59 [==============================] - 0s 7ms/step - loss: 0.5076 - accuracy: 0.8199\n",
      "Epoch 3/25\n",
      "59/59 [==============================] - 0s 7ms/step - loss: 0.4472 - accuracy: 0.8433\n",
      "Epoch 4/25\n",
      "59/59 [==============================] - 0s 7ms/step - loss: 0.4067 - accuracy: 0.8564\n",
      "Epoch 5/25\n",
      "59/59 [==============================] - 0s 7ms/step - loss: 0.3842 - accuracy: 0.8633\n",
      "Epoch 6/25\n",
      "59/59 [==============================] - 0s 7ms/step - loss: 0.3683 - accuracy: 0.8689\n",
      "Epoch 7/25\n",
      "59/59 [==============================] - 0s 7ms/step - loss: 0.3507 - accuracy: 0.8750\n",
      "Epoch 8/25\n",
      "59/59 [==============================] - 0s 7ms/step - loss: 0.3411 - accuracy: 0.8789\n",
      "Epoch 9/25\n",
      "59/59 [==============================] - 0s 8ms/step - loss: 0.3315 - accuracy: 0.8789\n",
      "Epoch 10/25\n",
      "59/59 [==============================] - 0s 7ms/step - loss: 0.3191 - accuracy: 0.8845\n",
      "Epoch 11/25\n",
      "59/59 [==============================] - 0s 7ms/step - loss: 0.3059 - accuracy: 0.8891: 0s - loss: 0.3001 - ac\n",
      "Epoch 12/25\n",
      "59/59 [==============================] - 0s 8ms/step - loss: 0.3030 - accuracy: 0.8903\n",
      "Epoch 13/25\n",
      "59/59 [==============================] - 0s 7ms/step - loss: 0.2957 - accuracy: 0.8923\n",
      "Epoch 14/25\n",
      "59/59 [==============================] - 0s 7ms/step - loss: 0.2876 - accuracy: 0.8955\n",
      "Epoch 15/25\n",
      "59/59 [==============================] - 0s 8ms/step - loss: 0.2761 - accuracy: 0.8985\n",
      "Epoch 16/25\n",
      "59/59 [==============================] - 0s 7ms/step - loss: 0.2704 - accuracy: 0.9017\n",
      "Epoch 17/25\n",
      "59/59 [==============================] - 0s 7ms/step - loss: 0.2651 - accuracy: 0.9036\n",
      "Epoch 18/25\n",
      "59/59 [==============================] - 0s 7ms/step - loss: 0.2596 - accuracy: 0.9047\n",
      "Epoch 19/25\n",
      "59/59 [==============================] - 0s 7ms/step - loss: 0.2591 - accuracy: 0.9044\n",
      "Epoch 20/25\n",
      "59/59 [==============================] - 0s 7ms/step - loss: 0.2544 - accuracy: 0.9068\n",
      "Epoch 21/25\n",
      "59/59 [==============================] - 0s 7ms/step - loss: 0.2477 - accuracy: 0.9085\n",
      "Epoch 22/25\n",
      "59/59 [==============================] - 0s 7ms/step - loss: 0.2432 - accuracy: 0.9091\n",
      "Epoch 23/25\n",
      "59/59 [==============================] - 0s 7ms/step - loss: 0.2395 - accuracy: 0.9105\n",
      "Epoch 24/25\n",
      "59/59 [==============================] - 0s 7ms/step - loss: 0.2380 - accuracy: 0.9125\n",
      "Epoch 25/25\n",
      "59/59 [==============================] - 0s 7ms/step - loss: 0.2314 - accuracy: 0.9155\n",
      "1875/1875 [==============================] - 1s 666us/step - loss: 0.2184 - accuracy: 0.9197\n",
      "[0.21838709712028503, 0.9197499752044678]\n",
      "1875/1875 [==============================] - 1s 660us/step - loss: 0.2184 - accuracy: 0.9197\n",
      "Epoch 1/25\n",
      "30/30 [==============================] - 0s 11ms/step - loss: 1.4728 - accuracy: 0.5346\n",
      "Epoch 2/25\n",
      "30/30 [==============================] - 0s 11ms/step - loss: 0.6372 - accuracy: 0.7785\n",
      "Epoch 3/25\n",
      "30/30 [==============================] - 0s 11ms/step - loss: 0.5087 - accuracy: 0.8245\n",
      "Epoch 4/25\n",
      "30/30 [==============================] - 0s 11ms/step - loss: 0.4617 - accuracy: 0.8395\n",
      "Epoch 5/25\n",
      "30/30 [==============================] - 0s 12ms/step - loss: 0.4265 - accuracy: 0.8523\n",
      "Epoch 6/25\n",
      "30/30 [==============================] - 0s 12ms/step - loss: 0.4091 - accuracy: 0.8561\n",
      "Epoch 7/25\n",
      "30/30 [==============================] - 0s 12ms/step - loss: 0.3894 - accuracy: 0.8628\n",
      "Epoch 8/25\n",
      "30/30 [==============================] - 0s 12ms/step - loss: 0.3680 - accuracy: 0.8718\n",
      "Epoch 9/25\n",
      "30/30 [==============================] - 0s 12ms/step - loss: 0.3581 - accuracy: 0.8735\n",
      "Epoch 10/25\n",
      "30/30 [==============================] - 0s 13ms/step - loss: 0.3533 - accuracy: 0.8748\n",
      "Epoch 11/25\n",
      "30/30 [==============================] - 0s 12ms/step - loss: 0.3361 - accuracy: 0.8806\n",
      "Epoch 12/25\n",
      "30/30 [==============================] - 0s 12ms/step - loss: 0.3292 - accuracy: 0.8827\n",
      "Epoch 13/25\n",
      "30/30 [==============================] - 0s 11ms/step - loss: 0.3202 - accuracy: 0.8850\n",
      "Epoch 14/25\n",
      "30/30 [==============================] - 0s 12ms/step - loss: 0.3151 - accuracy: 0.8867\n",
      "Epoch 15/25\n",
      "30/30 [==============================] - 0s 11ms/step - loss: 0.3054 - accuracy: 0.8891\n",
      "Epoch 16/25\n",
      "30/30 [==============================] - 0s 12ms/step - loss: 0.2997 - accuracy: 0.8921\n",
      "Epoch 17/25\n",
      "30/30 [==============================] - 0s 11ms/step - loss: 0.2947 - accuracy: 0.8937\n",
      "Epoch 18/25\n",
      "30/30 [==============================] - 0s 11ms/step - loss: 0.2931 - accuracy: 0.8935\n",
      "Epoch 19/25\n",
      "30/30 [==============================] - 0s 12ms/step - loss: 0.2898 - accuracy: 0.8950\n",
      "Epoch 20/25\n",
      "30/30 [==============================] - 0s 11ms/step - loss: 0.2792 - accuracy: 0.8995\n",
      "Epoch 21/25\n",
      "30/30 [==============================] - 0s 11ms/step - loss: 0.2819 - accuracy: 0.8966\n",
      "Epoch 22/25\n",
      "30/30 [==============================] - 0s 11ms/step - loss: 0.2709 - accuracy: 0.9024\n",
      "Epoch 23/25\n",
      "30/30 [==============================] - 0s 11ms/step - loss: 0.2668 - accuracy: 0.9026\n",
      "Epoch 24/25\n",
      "30/30 [==============================] - 0s 11ms/step - loss: 0.2622 - accuracy: 0.9046\n",
      "Epoch 25/25\n",
      "30/30 [==============================] - 0s 11ms/step - loss: 0.2647 - accuracy: 0.9030\n",
      "1875/1875 [==============================] - 1s 668us/step - loss: 0.2529 - accuracy: 0.9075\n",
      "[0.252876341342926, 0.9074666500091553]\n",
      "1875/1875 [==============================] - 1s 667us/step - loss: 0.2529 - accuracy: 0.9075\n",
      "Epoch 1/25\n",
      "15/15 [==============================] - 0s 19ms/step - loss: 1.8238 - accuracy: 0.3884\n",
      "Epoch 2/25\n",
      "15/15 [==============================] - 0s 19ms/step - loss: 0.8841 - accuracy: 0.7001\n",
      "Epoch 3/25\n",
      "15/15 [==============================] - 0s 19ms/step - loss: 0.6373 - accuracy: 0.7770\n",
      "Epoch 4/25\n",
      "15/15 [==============================] - 0s 19ms/step - loss: 0.5442 - accuracy: 0.8106\n",
      "Epoch 5/25\n",
      "15/15 [==============================] - 0s 21ms/step - loss: 0.4961 - accuracy: 0.8256\n",
      "Epoch 6/25\n",
      "15/15 [==============================] - 0s 19ms/step - loss: 0.4674 - accuracy: 0.8345\n",
      "Epoch 7/25\n",
      "15/15 [==============================] - 0s 19ms/step - loss: 0.4462 - accuracy: 0.8424\n",
      "Epoch 8/25\n",
      "15/15 [==============================] - 0s 20ms/step - loss: 0.4389 - accuracy: 0.8433\n",
      "Epoch 9/25\n",
      "15/15 [==============================] - 0s 19ms/step - loss: 0.4220 - accuracy: 0.8493\n",
      "Epoch 10/25\n",
      "15/15 [==============================] - 0s 20ms/step - loss: 0.4079 - accuracy: 0.8564\n",
      "Epoch 11/25\n",
      "15/15 [==============================] - 0s 21ms/step - loss: 0.3967 - accuracy: 0.8593\n",
      "Epoch 12/25\n",
      "15/15 [==============================] - 0s 21ms/step - loss: 0.3850 - accuracy: 0.8640\n",
      "Epoch 13/25\n",
      "15/15 [==============================] - 0s 19ms/step - loss: 0.3869 - accuracy: 0.8619\n",
      "Epoch 14/25\n",
      "15/15 [==============================] - 0s 22ms/step - loss: 0.3743 - accuracy: 0.8671\n",
      "Epoch 15/25\n",
      "15/15 [==============================] - 0s 20ms/step - loss: 0.3634 - accuracy: 0.8706\n",
      "Epoch 16/25\n",
      "15/15 [==============================] - 0s 20ms/step - loss: 0.3551 - accuracy: 0.8745\n",
      "Epoch 17/25\n",
      "15/15 [==============================] - 0s 19ms/step - loss: 0.3500 - accuracy: 0.8759\n",
      "Epoch 18/25\n",
      "15/15 [==============================] - 0s 19ms/step - loss: 0.3464 - accuracy: 0.8761\n",
      "Epoch 19/25\n",
      "15/15 [==============================] - 0s 19ms/step - loss: 0.3393 - accuracy: 0.8790\n",
      "Epoch 20/25\n",
      "15/15 [==============================] - 0s 19ms/step - loss: 0.3337 - accuracy: 0.8813\n",
      "Epoch 21/25\n",
      "15/15 [==============================] - 0s 19ms/step - loss: 0.3298 - accuracy: 0.8815\n",
      "Epoch 22/25\n",
      "15/15 [==============================] - 0s 21ms/step - loss: 0.3266 - accuracy: 0.8832\n",
      "Epoch 23/25\n",
      "15/15 [==============================] - 0s 19ms/step - loss: 0.3206 - accuracy: 0.8854\n",
      "Epoch 24/25\n",
      "15/15 [==============================] - 0s 20ms/step - loss: 0.3176 - accuracy: 0.8856\n",
      "Epoch 25/25\n",
      "15/15 [==============================] - 0s 18ms/step - loss: 0.3178 - accuracy: 0.8858\n"
     ]
    },
    {
     "name": "stdout",
     "output_type": "stream",
     "text": [
      "1875/1875 [==============================] - 1s 669us/step - loss: 0.3067 - accuracy: 0.8905\n",
      "[0.30674922466278076, 0.8904500007629395]\n",
      "1875/1875 [==============================] - 1s 654us/step - loss: 0.3067 - accuracy: 0.8905\n",
      "Epoch 1/25\n",
      "8/8 [==============================] - 0s 30ms/step - loss: 2.0471 - accuracy: 0.2615\n",
      "Epoch 2/25\n",
      "8/8 [==============================] - 0s 36ms/step - loss: 1.4166 - accuracy: 0.5773\n",
      "Epoch 3/25\n",
      "8/8 [==============================] - 0s 33ms/step - loss: 0.9584 - accuracy: 0.7111\n",
      "Epoch 4/25\n",
      "8/8 [==============================] - 0s 32ms/step - loss: 0.7646 - accuracy: 0.7462\n",
      "Epoch 5/25\n",
      "8/8 [==============================] - 0s 33ms/step - loss: 0.6656 - accuracy: 0.7766\n",
      "Epoch 6/25\n",
      "8/8 [==============================] - 0s 32ms/step - loss: 0.5821 - accuracy: 0.8022\n",
      "Epoch 7/25\n",
      "8/8 [==============================] - 0s 31ms/step - loss: 0.5313 - accuracy: 0.8182\n",
      "Epoch 8/25\n",
      "8/8 [==============================] - 0s 31ms/step - loss: 0.5061 - accuracy: 0.8231\n",
      "Epoch 9/25\n",
      "8/8 [==============================] - 0s 31ms/step - loss: 0.4793 - accuracy: 0.8328\n",
      "Epoch 10/25\n",
      "8/8 [==============================] - 0s 32ms/step - loss: 0.4637 - accuracy: 0.8385\n",
      "Epoch 11/25\n",
      "8/8 [==============================] - 0s 31ms/step - loss: 0.4496 - accuracy: 0.8428\n",
      "Epoch 12/25\n",
      "8/8 [==============================] - 0s 30ms/step - loss: 0.4363 - accuracy: 0.8473\n",
      "Epoch 13/25\n",
      "8/8 [==============================] - 0s 31ms/step - loss: 0.4239 - accuracy: 0.8508\n",
      "Epoch 14/25\n",
      "8/8 [==============================] - 0s 31ms/step - loss: 0.4165 - accuracy: 0.8537\n",
      "Epoch 15/25\n",
      "8/8 [==============================] - 0s 31ms/step - loss: 0.4118 - accuracy: 0.8538\n",
      "Epoch 16/25\n",
      "8/8 [==============================] - 0s 31ms/step - loss: 0.4153 - accuracy: 0.8515\n",
      "Epoch 17/25\n",
      "8/8 [==============================] - 0s 31ms/step - loss: 0.4070 - accuracy: 0.8561\n",
      "Epoch 18/25\n",
      "8/8 [==============================] - 0s 31ms/step - loss: 0.3972 - accuracy: 0.8585\n",
      "Epoch 19/25\n",
      "8/8 [==============================] - 0s 32ms/step - loss: 0.3929 - accuracy: 0.8620\n",
      "Epoch 20/25\n",
      "8/8 [==============================] - 0s 32ms/step - loss: 0.3837 - accuracy: 0.8643\n",
      "Epoch 21/25\n",
      "8/8 [==============================] - 0s 30ms/step - loss: 0.3740 - accuracy: 0.8683\n",
      "Epoch 22/25\n",
      "8/8 [==============================] - 0s 31ms/step - loss: 0.3665 - accuracy: 0.8713\n",
      "Epoch 23/25\n",
      "8/8 [==============================] - 0s 32ms/step - loss: 0.3634 - accuracy: 0.8712\n",
      "Epoch 24/25\n",
      "8/8 [==============================] - 0s 30ms/step - loss: 0.3591 - accuracy: 0.8732\n",
      "Epoch 25/25\n",
      "8/8 [==============================] - 0s 28ms/step - loss: 0.3562 - accuracy: 0.8744\n",
      "1875/1875 [==============================] - 1s 656us/step - loss: 0.3543 - accuracy: 0.8757\n",
      "[0.35431262850761414, 0.8756999969482422]\n",
      "1875/1875 [==============================] - 1s 718us/step - loss: 0.3543 - accuracy: 0.8757\n"
     ]
    },
    {
     "data": {
      "image/png": "[encoded data removed]",
      "text/plain": [
       "<Figure size 432x288 with 1 Axes>"
      ]
     },
     "metadata": {
      "needs_background": "light"
     },
     "output_type": "display_data"
    }
   ],
   "source": [
    "batch_size = []\n",
    "acc_value = []\n",
    "for i in range(4, 14):\n",
    "  batch_size.append(i)\n",
    "  acc_value.append(correr_modelo_mini_batch_2(2**i)[1])\n",
    "plt.scatter(batch_size,acc_value)\n",
    "plt.show()"
   ]
  }
 ],
 "metadata": {
  "colab": {
   "collapsed_sections": [
    "wvZlwujoPbC_",
    "Q29yy2Y1NwWt",
    "6nhHOsPVhZhj",
    "s679voQCe0Qm",
    "x8SIrW1UhsbM",
    "y9VeLFKDimF5",
    "9R0ueHS3is-R",
    "NzCaDGvinQfp",
    "eIYBDmS5qjwB",
    "h1shEqJuYfdI",
    "dihYGtnHYdTh",
    "ViZ9Vs6Pq1Bn",
    "wgaAKvK4bi0q",
    "tx2xtLnjbuEC",
    "n-SUTwMmduGO",
    "6c3wZn7wiGFU",
    "l8Vsk6bbpP0I",
    "_UyzAFmNk0yT",
    "InhOT_v-odc3",
    "yMjJ7YLcpU8P",
    "WcSKvZz1l3kZ",
    "d0saXUcgoieh",
    "mvQSvgVqonwq",
    "p-PYYEOUEJ1I"
   ],
   "name": "Proyecto 222.ipynb",
   "provenance": [],
   "toc_visible": true
  },
  "kernelspec": {
   "display_name": "Python 3",
   "language": "python",
   "name": "python3"
  },
  "language_info": {
   "codemirror_mode": {
    "name": "ipython",
    "version": 3
   },
   "file_extension": ".py",
   "mimetype": "text/x-python",
   "name": "python",
   "nbconvert_exporter": "python",
   "pygments_lexer": "ipython3",
   "version": "3.8.6"
  }
 },
 "nbformat": 4,
 "nbformat_minor": 1
}
