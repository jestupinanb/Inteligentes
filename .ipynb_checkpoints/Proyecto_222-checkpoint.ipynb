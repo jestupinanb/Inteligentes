{
 "cells": [
  {
   "cell_type": "markdown",
   "metadata": {
    "id": "cJBvbQRXhQjT"
   },
   "source": [
    "# Importar librerias y el dataset\n",
    "\n"
   ]
  },
  {
   "cell_type": "code",
   "execution_count": 1,
   "metadata": {
    "scrolled": true
   },
   "outputs": [
    {
     "name": "stdout",
     "output_type": "stream",
     "text": [
      "Collecting keras\n",
      "Note: you may need to restart the kernel to use updated packages.  Using cached Keras-2.4.3-py2.py3-none-any.whl (36 kB)\n",
      "Collecting matplotlib\n",
      "  Downloading matplotlib-3.3.3-cp38-cp38-win_amd64.whl (8.5 MB)\n",
      "Requirement already satisfied: pyparsing!=2.0.4,!=2.1.2,!=2.1.6,>=2.0.3 in d:\\sdk\\python\\lib\\site-packages (from matplotlib->-r req.txt (line 4)) (2.4.7)\n",
      "Requirement already satisfied: python-dateutil>=2.1 in d:\\sdk\\python\\lib\\site-packages (from matplotlib->-r req.txt (line 4)) (2.8.1)\n",
      "Collecting pandas\n",
      "  Downloading pandas-1.1.4-cp38-cp38-win_amd64.whl (8.9 MB)\n",
      "Requirement already satisfied: python-dateutil>=2.1 in d:\\sdk\\python\\lib\\site-packages (from matplotlib->-r req.txt (line 4)) (2.8.1)\n",
      "Collecting seaborn\n",
      "  Using cached seaborn-0.11.0-py3-none-any.whl (283 kB)\n",
      "Collecting sklearn\n",
      "  Using cached sklearn-0.0.tar.gz (1.1 kB)\n",
      "Collecting tensorflow\n",
      "  Downloading tensorflow-2.3.1-cp38-cp38-win_amd64.whl (342.5 MB)\n",
      "Requirement already satisfied: six>=1.12.0 in d:\\sdk\\python\\lib\\site-packages (from tensorflow->-r req.txt (line 1)) (1.15.0)\n",
      "Collecting absl-py>=0.7.0\n",
      "  Using cached absl_py-0.11.0-py3-none-any.whl (127 kB)\n",
      "Requirement already satisfied: six>=1.12.0 in d:\\sdk\\python\\lib\\site-packages (from tensorflow->-r req.txt (line 1)) (1.15.0)\n",
      "Collecting astunparse==1.6.3\n",
      "  Downloading astunparse-1.6.3-py2.py3-none-any.whl (12 kB)\n",
      "Requirement already satisfied: six>=1.12.0 in d:\\sdk\\python\\lib\\site-packages (from tensorflow->-r req.txt (line 1)) (1.15.0)\n",
      "Collecting cycler>=0.10\n",
      "  Using cached cycler-0.10.0-py2.py3-none-any.whl (6.5 kB)\n",
      "Requirement already satisfied: six>=1.12.0 in d:\\sdk\\python\\lib\\site-packages (from tensorflow->-r req.txt (line 1)) (1.15.0)\n",
      "Collecting gast==0.3.3\n",
      "  Downloading gast-0.3.3-py2.py3-none-any.whl (9.7 kB)\n",
      "\n",
      "Collecting google-pasta>=0.1.8\n",
      "  Downloading google_pasta-0.2.0-py3-none-any.whl (57 kB)\n",
      "Requirement already satisfied: six>=1.12.0 in d:\\sdk\\python\\lib\\site-packages (from tensorflow->-r req.txt (line 1)) (1.15.0)\n",
      "Collecting grpcio>=1.8.6\n",
      "  Downloading grpcio-1.34.0-cp38-cp38-win_amd64.whl (2.9 MB)\n",
      "Requirement already satisfied: six>=1.12.0 in d:\\sdk\\python\\lib\\site-packages (from tensorflow->-r req.txt (line 1)) (1.15.0)\n",
      "Collecting h5py\n",
      "  Downloading h5py-2.10.0-cp38-cp38-win_amd64.whl (2.5 MB)\n",
      "Requirement already satisfied: six>=1.12.0 in d:\\sdk\\python\\lib\\site-packages (from tensorflow->-r req.txt (line 1)) (1.15.0)\n",
      "Collecting keras-preprocessing<1.2,>=1.1.1\n",
      "  Using cached Keras_Preprocessing-1.1.2-py2.py3-none-any.whl (42 kB)\n",
      "Requirement already satisfied: six>=1.12.0 in d:\\sdk\\python\\lib\\site-packages (from tensorflow->-r req.txt (line 1)) (1.15.0)\n",
      "Collecting kiwisolver>=1.0.1\n",
      "  Downloading kiwisolver-1.3.1-cp38-cp38-win_amd64.whl (51 kB)\n",
      "Collecting numpy>=1.9.1\n",
      "  Downloading numpy-1.18.5-cp38-cp38-win_amd64.whl (12.8 MB)\n",
      "Collecting opt-einsum>=2.3.2\n",
      "  Downloading opt_einsum-3.3.0-py3-none-any.whl (65 kB)\n",
      "Collecting pillow>=6.2.0\n",
      "  Downloading Pillow-8.0.1-cp38-cp38-win_amd64.whl (2.1 MB)\n",
      "Collecting protobuf>=3.9.2\n",
      "  Using cached protobuf-3.14.0-py2.py3-none-any.whl (173 kB)\n",
      "Requirement already satisfied: six>=1.12.0 in d:\\sdk\\python\\lib\\site-packages (from tensorflow->-r req.txt (line 1)) (1.15.0)\n",
      "Requirement already satisfied: six>=1.12.0 in d:\\sdk\\python\\lib\\site-packages (from tensorflow->-r req.txt (line 1)) (1.15.0)\n",
      "Collecting pytz>=2017.2\n",
      "  Using cached pytz-2020.4-py2.py3-none-any.whl (509 kB)\n",
      "Collecting pyyaml\n",
      "  Downloading PyYAML-5.3.1-cp38-cp38-win_amd64.whl (219 kB)\n",
      "Collecting scikit-learn\n",
      "  Downloading scikit_learn-0.23.2-cp38-cp38-win_amd64.whl (6.8 MB)\n",
      "Collecting joblib>=0.11\n",
      "  Using cached joblib-0.17.0-py3-none-any.whl (301 kB)\n",
      "Collecting scipy>=0.14\n",
      "  Downloading scipy-1.5.4-cp38-cp38-win_amd64.whl (31.4 MB)\n",
      "Collecting tensorboard<3,>=2.3.0\n",
      "  Downloading tensorboard-2.4.0-py3-none-any.whl (10.6 MB)\n",
      "Requirement already satisfied: setuptools>=41.0.0 in d:\\sdk\\python\\lib\\site-packages (from tensorboard<3,>=2.3.0->tensorflow->-r req.txt (line 1)) (49.2.1)\n",
      "Requirement already satisfied: requests<3,>=2.21.0 in d:\\sdk\\python\\lib\\site-packages (from tensorboard<3,>=2.3.0->tensorflow->-r req.txt (line 1)) (2.25.0)\n",
      "Requirement already satisfied: six>=1.12.0 in d:\\sdk\\python\\lib\\site-packages (from tensorflow->-r req.txt (line 1)) (1.15.0)\n",
      "Collecting google-auth<2,>=1.6.3\n",
      "  Downloading google_auth-1.23.0-py2.py3-none-any.whl (114 kB)\n",
      "Requirement already satisfied: setuptools>=41.0.0 in d:\\sdk\\python\\lib\\site-packages (from tensorboard<3,>=2.3.0->tensorflow->-r req.txt (line 1)) (49.2.1)\n",
      "Requirement already satisfied: six>=1.12.0 in d:\\sdk\\python\\lib\\site-packages (from tensorflow->-r req.txt (line 1)) (1.15.0)\n",
      "Collecting cachetools<5.0,>=2.0.0\n",
      "  Downloading cachetools-4.1.1-py3-none-any.whl (10 kB)\n",
      "Collecting google-auth-oauthlib<0.5,>=0.4.1\n",
      "  Downloading google_auth_oauthlib-0.4.2-py2.py3-none-any.whl (18 kB)\n",
      "Collecting markdown>=2.6.8\n",
      "  Using cached Markdown-3.3.3-py3-none-any.whl (96 kB)\n",
      "Collecting pyasn1-modules>=0.2.1\n",
      "  Downloading pyasn1_modules-0.2.8-py2.py3-none-any.whl (155 kB)\n",
      "Collecting pyasn1<0.5.0,>=0.4.6\n",
      "  Downloading pyasn1-0.4.8-py2.py3-none-any.whl (77 kB)\n",
      "Requirement already satisfied: certifi>=2017.4.17 in d:\\sdk\\python\\lib\\site-packages (from requests<3,>=2.21.0->tensorboard<3,>=2.3.0->tensorflow->-r req.txt (line 1)) (2020.12.5)\n",
      "Requirement already satisfied: idna<3,>=2.5 in d:\\sdk\\python\\lib\\site-packages (from requests<3,>=2.21.0->tensorboard<3,>=2.3.0->tensorflow->-r req.txt (line 1)) (2.10)\n",
      "Requirement already satisfied: urllib3<1.27,>=1.21.1 in d:\\sdk\\python\\lib\\site-packages (from requests<3,>=2.21.0->tensorboard<3,>=2.3.0->tensorflow->-r req.txt (line 1)) (1.26.2)\n",
      "Requirement already satisfied: chardet<4,>=3.0.2 in d:\\sdk\\python\\lib\\site-packages (from requests<3,>=2.21.0->tensorboard<3,>=2.3.0->tensorflow->-r req.txt (line 1)) (3.0.4)\n",
      "Collecting requests-oauthlib>=0.7.0\n",
      "  Downloading requests_oauthlib-1.3.0-py2.py3-none-any.whl (23 kB)\n",
      "Requirement already satisfied: requests<3,>=2.21.0 in d:\\sdk\\python\\lib\\site-packages (from tensorboard<3,>=2.3.0->tensorflow->-r req.txt (line 1)) (2.25.0)\n",
      "Collecting oauthlib>=3.0.0\n",
      "  Downloading oauthlib-3.1.0-py2.py3-none-any.whl (147 kB)\n",
      "Collecting rsa<5,>=3.1.4\n",
      "  Downloading rsa-4.6-py3-none-any.whl (47 kB)\n",
      "Collecting tensorboard-plugin-wit>=1.6.0\n",
      "  Downloading tensorboard_plugin_wit-1.7.0-py3-none-any.whl (779 kB)\n",
      "Collecting tensorflow-estimator<2.4.0,>=2.3.0\n",
      "  Downloading tensorflow_estimator-2.3.0-py2.py3-none-any.whl (459 kB)\n",
      "Collecting termcolor>=1.1.0\n",
      "  Using cached termcolor-1.1.0.tar.gz (3.9 kB)\n",
      "Collecting threadpoolctl>=2.0.0\n",
      "  Using cached threadpoolctl-2.1.0-py3-none-any.whl (12 kB)\n",
      "Collecting werkzeug>=0.11.15\n",
      "  Using cached Werkzeug-1.0.1-py2.py3-none-any.whl (298 kB)\n",
      "Collecting wheel>=0.26\n",
      "  Using cached wheel-0.36.1-py2.py3-none-any.whl (34 kB)\n",
      "Collecting wrapt>=1.11.1\n",
      "  Downloading wrapt-1.12.1.tar.gz (27 kB)\n",
      "Using legacy 'setup.py install' for sklearn, since package 'wheel' is not installed.\n",
      "Using legacy 'setup.py install' for termcolor, since package 'wheel' is not installed.\n",
      "Using legacy 'setup.py install' for wrapt, since package 'wheel' is not installed.\n",
      "Installing collected packages: pyasn1, rsa, pyasn1-modules, oauthlib, cachetools, requests-oauthlib, numpy, google-auth, wheel, werkzeug, threadpoolctl, tensorboard-plugin-wit, scipy, pytz, protobuf, pillow, markdown, kiwisolver, joblib, grpcio, google-auth-oauthlib, cycler, absl-py, wrapt, termcolor, tensorflow-estimator, tensorboard, scikit-learn, pyyaml, pandas, opt-einsum, matplotlib, keras-preprocessing, h5py, google-pasta, gast, astunparse, tensorflow, sklearn, seaborn, keras\n",
      "    Running setup.py install for wrapt: started\n",
      "    Running setup.py install for wrapt: finished with status 'done'\n",
      "    Running setup.py install for termcolor: started\n",
      "    Running setup.py install for termcolor: finished with status 'done'\n",
      "    Running setup.py install for sklearn: started\n",
      "    Running setup.py install for sklearn: finished with status 'done'\n",
      "Successfully installed absl-py-0.11.0 astunparse-1.6.3 cachetools-4.1.1 cycler-0.10.0 gast-0.3.3 google-auth-1.23.0 google-auth-oauthlib-0.4.2 google-pasta-0.2.0 grpcio-1.34.0 h5py-2.10.0 joblib-0.17.0 keras-2.4.3 keras-preprocessing-1.1.2 kiwisolver-1.3.1 markdown-3.3.3 matplotlib-3.3.3 numpy-1.18.5 oauthlib-3.1.0 opt-einsum-3.3.0 pandas-1.1.4 pillow-8.0.1 protobuf-3.14.0 pyasn1-0.4.8 pyasn1-modules-0.2.8 pytz-2020.4 pyyaml-5.3.1 requests-oauthlib-1.3.0 rsa-4.6 scikit-learn-0.23.2 scipy-1.5.4 seaborn-0.11.0 sklearn-0.0 tensorboard-2.4.0 tensorboard-plugin-wit-1.7.0 tensorflow-2.3.1 tensorflow-estimator-2.3.0 termcolor-1.1.0 threadpoolctl-2.1.0 werkzeug-1.0.1 wheel-0.36.1 wrapt-1.12.1\n"
     ]
    }
   ],
   "source": [
    "pip install -r req.txt"
   ]
  },
  {
   "cell_type": "code",
   "execution_count": 2,
   "metadata": {
    "id": "gPfU3aCwx53L"
   },
   "outputs": [],
   "source": [
    "import numpy as np # linear algebra\n",
    "import pandas as pd # data processing, CSV file I/O (e.g. pd.read_csv)\n",
    "from numpy import genfromtxt\n",
    "import sklearn\n",
    "from sklearn.neural_network import MLPClassifier\n",
    "from sklearn.metrics import accuracy_score\n",
    "from sklearn.naive_bayes import MultinomialNB\n",
    "#from google.colab import files\n",
    "import io\n",
    "from sklearn.tree import DecisionTreeClassifier\n",
    "import matplotlib.pyplot as plt\n",
    "import keras\n",
    "from keras.models import Sequential\n",
    "from keras.layers import Dense, Dropout, Activation\n",
    "from keras.optimizers import SGD\n",
    "import tensorflow as tf\n",
    "from tensorflow.keras import optimizers\n",
    "from sklearn.preprocessing import  MinMaxScaler\n",
    "from sklearn.preprocessing import StandardScaler\n",
    "\n",
    "from sklearn.metrics import precision_score\n",
    "from sklearn.metrics import classification_report"
   ]
  },
  {
   "cell_type": "markdown",
   "metadata": {
    "id": "wvZlwujoPbC_"
   },
   "source": [
    "# Funciones adicionales"
   ]
  },
  {
   "cell_type": "markdown",
   "metadata": {
    "id": "Q29yy2Y1NwWt"
   },
   "source": [
    "## Plot confusion matrix multi label"
   ]
  },
  {
   "cell_type": "code",
   "execution_count": 3,
   "metadata": {
    "id": "6N5YFnZ7NTb2"
   },
   "outputs": [],
   "source": [
    "import pandas as pd\n",
    "import matplotlib.pyplot as plt\n",
    "import seaborn as sns\n",
    "\n",
    "\n",
    "def print_confusion_matrix(confusion_matrix, axes, class_label, class_names, fontsize=14):\n",
    "\n",
    "    df_cm = pd.DataFrame(\n",
    "        confusion_matrix, index=class_names, columns=class_names,\n",
    "    )\n",
    "\n",
    "    try:\n",
    "        heatmap = sns.heatmap(df_cm, annot=True, fmt=\"d\", cbar=False, ax=axes)\n",
    "    except ValueError:\n",
    "        raise ValueError(\"Confusion matrix values must be integers.\")\n",
    "    heatmap.yaxis.set_ticklabels(heatmap.yaxis.get_ticklabels(), rotation=0, ha='right', fontsize=fontsize)\n",
    "    heatmap.xaxis.set_ticklabels(heatmap.xaxis.get_ticklabels(), rotation=45, ha='right', fontsize=fontsize)\n",
    "    axes.set_xlabel('Predicted label')\n",
    "    axes.set_ylabel('True label')\n",
    "    axes.set_title(\"CM for the class - \" + class_label)"
   ]
  },
  {
   "cell_type": "code",
   "execution_count": 4,
   "metadata": {
    "id": "kuSVZkgtP8eo"
   },
   "outputs": [],
   "source": [
    "#Test\n",
    "y_b =  [1,1,4,1,1,1]\n",
    "y_b2 = [1,1,3,5,5,5]"
   ]
  },
  {
   "cell_type": "code",
   "execution_count": 5,
   "metadata": {
    "id": "-EoR9Y70N8GN"
   },
   "outputs": [],
   "source": [
    "def graficar_multi(cm,class_names):\n",
    "    fig, ax = plt.subplots(4, 3, figsize=(12, 7))\n",
    "\n",
    "    for axes, cfs_matrix, label in zip(ax.flatten(), cm, class_names):\n",
    "      print_confusion_matrix(cfs_matrix, axes, label, [\"N\", \"Y\"])\n",
    "        \n",
    "    fig.tight_layout()\n",
    "    plt.show()"
   ]
  },
  {
   "cell_type": "markdown",
   "metadata": {
    "id": "6nhHOsPVhZhj"
   },
   "source": [
    "# Importacion de los dataset y muestra de los datos"
   ]
  },
  {
   "cell_type": "markdown",
   "metadata": {
    "id": "s679voQCe0Qm"
   },
   "source": [
    "## Importamos el dataset de la libreria de keras para poder realizar su visualizacion "
   ]
  },
  {
   "cell_type": "code",
   "execution_count": 6,
   "metadata": {
    "id": "DXHH7QD4gU3Y"
   },
   "outputs": [
    {
     "name": "stdout",
     "output_type": "stream",
     "text": [
      "Downloading data from https://storage.googleapis.com/tensorflow/tf-keras-datasets/train-labels-idx1-ubyte.gz\n",
      "32768/29515 [=================================] - 0s 0us/step\n",
      "Downloading data from https://storage.googleapis.com/tensorflow/tf-keras-datasets/train-images-idx3-ubyte.gz\n",
      "26427392/26421880 [==============================] - 2s 0us/step\n",
      "Downloading data from https://storage.googleapis.com/tensorflow/tf-keras-datasets/t10k-labels-idx1-ubyte.gz\n",
      "8192/5148 [===============================================] - 0s 0us/step\n",
      "Downloading data from https://storage.googleapis.com/tensorflow/tf-keras-datasets/t10k-images-idx3-ubyte.gz\n",
      "4423680/4422102 [==============================] - 0s 0us/step\n"
     ]
    }
   ],
   "source": [
    "fashion_mnist = keras.datasets.fashion_mnist\n",
    "(train_images, train_labels), (test_images, test_labels) = fashion_mnist.load_data()"
   ]
  },
  {
   "cell_type": "code",
   "execution_count": 61,
   "metadata": {
    "colab": {
     "base_uri": "https://localhost:8080/",
     "height": 0
    },
    "id": "pHmDZJdje94y",
    "outputId": "e9202c7c-9487-4e80-f4b4-9f6700e752b3"
   },
   "outputs": [
    {
     "data": {
      "image/png": "[encoded data removed]",
      "text/plain": [
       "<Figure size 432x288 with 2 Axes>"
      ]
     },
     "metadata": {
      "needs_background": "light"
     },
     "output_type": "display_data"
    }
   ],
   "source": [
    "plt.figure()\n",
    "plt.imshow(train_images[3], cmap=plt.cm.binary)\n",
    "plt.colorbar()\n",
    "plt.grid(False)\n",
    "plt.show()"
   ]
  },
  {
   "cell_type": "code",
   "execution_count": 8,
   "metadata": {
    "id": "4HWYSuF8h-mA"
   },
   "outputs": [],
   "source": [
    "class_names = ['Camiseta', 'Pantalón', 'Suéter', 'Vestido', 'Abrigo',\n",
    "'Sandalia', 'Camisa', 'Zapatilla deportiva', 'Bolso', 'Botines']"
   ]
  },
  {
   "cell_type": "code",
   "execution_count": 9,
   "metadata": {
    "colab": {
     "base_uri": "https://localhost:8080/",
     "height": 0
    },
    "id": "Upm45Kt0iL36",
    "outputId": "6e746a15-5367-429a-f687-1da15696ccf9"
   },
   "outputs": [
    {
     "data": {
      "image/png": "[encoded data removed]",
      "text/plain": [
       "<Figure size 720x720 with 50 Axes>"
      ]
     },
     "metadata": {},
     "output_type": "display_data"
    }
   ],
   "source": [
    "plt.figure(figsize=(10,10))\n",
    "for i in range(50):\n",
    "  plt.subplot(5,10,i+1)\n",
    "  plt.xticks([])\n",
    "  plt.yticks([])\n",
    "  plt.grid(False)\n",
    "  plt.imshow(train_images[i], cmap=plt.cm.binary)\n",
    "  plt.xlabel(class_names[train_labels[i]])\n",
    "plt.show()"
   ]
  },
  {
   "cell_type": "code",
   "execution_count": 10,
   "metadata": {
    "id": "90q_GTZNmfaA"
   },
   "outputs": [],
   "source": [
    "train_images = train_images / 255"
   ]
  },
  {
   "cell_type": "code",
   "execution_count": 11,
   "metadata": {
    "id": "79sxEh-emiG9"
   },
   "outputs": [],
   "source": [
    "test_images = test_images / 255"
   ]
  },
  {
   "cell_type": "code",
   "execution_count": 62,
   "metadata": {
    "colab": {
     "base_uri": "https://localhost:8080/",
     "height": 0
    },
    "id": "e6547eicmjER",
    "outputId": "ffb49963-cc08-44bc-9a1d-18a2bc89c840"
   },
   "outputs": [
    {
     "data": {
      "image/png": "[encoded data removed]",
      "text/plain": [
       "<Figure size 432x288 with 2 Axes>"
      ]
     },
     "metadata": {
      "needs_background": "light"
     },
     "output_type": "display_data"
    }
   ],
   "source": [
    "plt.figure()\n",
    "plt.imshow(train_images[3], cmap=plt.cm.binary)\n",
    "plt.colorbar()\n",
    "plt.grid(False)\n",
    "plt.show()"
   ]
  },
  {
   "cell_type": "markdown",
   "metadata": {
    "id": "x8SIrW1UhsbM"
   },
   "source": [
    "## Importamos el data set desde los archivos .csv para el entrenamiento del modelo"
   ]
  },
  {
   "cell_type": "markdown",
   "metadata": {
    "id": "y9VeLFKDimF5"
   },
   "source": [
    "### Importamos el conjunto de datos de entrenamieto"
   ]
  },
  {
   "cell_type": "code",
   "execution_count": 14,
   "metadata": {
    "id": "ntJAQ9Nux_2E"
   },
   "outputs": [],
   "source": [
    "my_data_1 = genfromtxt('fashion-mnist_train.csv', delimiter=',')"
   ]
  },
  {
   "cell_type": "code",
   "execution_count": 15,
   "metadata": {
    "id": "msJzMoJIyhX7"
   },
   "outputs": [],
   "source": [
    "my_data_1 = np.delete(my_data_1, 0, 0)"
   ]
  },
  {
   "cell_type": "code",
   "execution_count": 16,
   "metadata": {
    "colab": {
     "base_uri": "https://localhost:8080/"
    },
    "id": "QIU4TJf8yiCh",
    "outputId": "de3bd247-7405-4f69-8030-224758cbb116"
   },
   "outputs": [
    {
     "data": {
      "text/plain": [
       "array([[2., 0., 0., ..., 0., 0., 0.],\n",
       "       [9., 0., 0., ..., 0., 0., 0.],\n",
       "       [6., 0., 0., ..., 0., 0., 0.],\n",
       "       ...,\n",
       "       [8., 0., 0., ..., 0., 0., 0.],\n",
       "       [8., 0., 0., ..., 0., 0., 0.],\n",
       "       [7., 0., 0., ..., 0., 0., 0.]])"
      ]
     },
     "execution_count": 16,
     "metadata": {},
     "output_type": "execute_result"
    }
   ],
   "source": [
    "my_data_1"
   ]
  },
  {
   "cell_type": "code",
   "execution_count": 17,
   "metadata": {
    "colab": {
     "base_uri": "https://localhost:8080/"
    },
    "id": "K1jImFkBynGJ",
    "outputId": "7dd5a520-800d-4027-b733-edc8f621fa24"
   },
   "outputs": [
    {
     "data": {
      "text/plain": [
       "array([[0., 0., 0., ..., 0., 0., 0.],\n",
       "       [0., 0., 0., ..., 0., 0., 0.],\n",
       "       [0., 0., 0., ..., 0., 0., 0.],\n",
       "       ...,\n",
       "       [0., 0., 0., ..., 0., 0., 0.],\n",
       "       [0., 0., 0., ..., 0., 0., 0.],\n",
       "       [0., 0., 0., ..., 0., 0., 0.]])"
      ]
     },
     "execution_count": 17,
     "metadata": {},
     "output_type": "execute_result"
    }
   ],
   "source": [
    "X_train = np.delete(my_data_1, 0, 1)\n",
    "X_train"
   ]
  },
  {
   "cell_type": "code",
   "execution_count": 18,
   "metadata": {
    "colab": {
     "base_uri": "https://localhost:8080/"
    },
    "id": "y24Wqnf6ylqQ",
    "outputId": "f0da5e99-54be-4db8-f9a2-409698d490b3"
   },
   "outputs": [
    {
     "data": {
      "text/plain": [
       "array([2., 9., 6., ..., 8., 8., 7.])"
      ]
     },
     "execution_count": 18,
     "metadata": {},
     "output_type": "execute_result"
    }
   ],
   "source": [
    "y = my_data_1[:,0]\n",
    "y"
   ]
  },
  {
   "cell_type": "code",
   "execution_count": 19,
   "metadata": {
    "colab": {
     "base_uri": "https://localhost:8080/"
    },
    "id": "5KngeaeU71vB",
    "outputId": "5a26de24-0b51-40ca-aa3b-d1034810c6aa"
   },
   "outputs": [
    {
     "data": {
      "text/plain": [
       "array([[0., 0., 1., ..., 0., 0., 0.],\n",
       "       [0., 0., 0., ..., 0., 0., 1.],\n",
       "       [0., 0., 0., ..., 0., 0., 0.],\n",
       "       ...,\n",
       "       [0., 0., 0., ..., 0., 1., 0.],\n",
       "       [0., 0., 0., ..., 0., 1., 0.],\n",
       "       [0., 0., 0., ..., 1., 0., 0.]], dtype=float32)"
      ]
     },
     "execution_count": 19,
     "metadata": {},
     "output_type": "execute_result"
    }
   ],
   "source": [
    "y_train = keras.utils.to_categorical(y,num_classes=10)\n",
    "y_train"
   ]
  },
  {
   "cell_type": "code",
   "execution_count": 20,
   "metadata": {
    "colab": {
     "base_uri": "https://localhost:8080/"
    },
    "id": "cuLgR8BhlZyu",
    "outputId": "b0843094-c1c5-43e4-c463-8e7412238528"
   },
   "outputs": [
    {
     "data": {
      "text/plain": [
       "(60000, 784)"
      ]
     },
     "execution_count": 20,
     "metadata": {},
     "output_type": "execute_result"
    }
   ],
   "source": [
    "X_train.shape"
   ]
  },
  {
   "cell_type": "code",
   "execution_count": 21,
   "metadata": {
    "colab": {
     "base_uri": "https://localhost:8080/"
    },
    "id": "8A7BnuVRmXU2",
    "outputId": "063b0135-73e7-4b0a-e592-dba7afe0a833"
   },
   "outputs": [
    {
     "data": {
      "text/plain": [
       "(60000, 10)"
      ]
     },
     "execution_count": 21,
     "metadata": {},
     "output_type": "execute_result"
    }
   ],
   "source": [
    "y_train.shape"
   ]
  },
  {
   "cell_type": "markdown",
   "metadata": {
    "id": "9R0ueHS3is-R"
   },
   "source": [
    "### Importamos el conjunto de datos de prueba"
   ]
  },
  {
   "cell_type": "code",
   "execution_count": 22,
   "metadata": {
    "id": "Wr8PDFA2EruS"
   },
   "outputs": [],
   "source": [
    "my_data_2 = genfromtxt('fashion-mnist_test.csv', delimiter=',')"
   ]
  },
  {
   "cell_type": "code",
   "execution_count": 23,
   "metadata": {
    "id": "ZDZj7ib-E42w"
   },
   "outputs": [],
   "source": [
    "my_data_2 = np.delete(my_data_2, 0, 0)"
   ]
  },
  {
   "cell_type": "code",
   "execution_count": 24,
   "metadata": {
    "colab": {
     "base_uri": "https://localhost:8080/"
    },
    "id": "SlQ12aPnE1pM",
    "outputId": "870ceb43-e55a-4f49-b520-920d536b74f2"
   },
   "outputs": [
    {
     "data": {
      "text/plain": [
       "array([[0., 0., 0., ..., 0., 0., 0.],\n",
       "       [1., 0., 0., ..., 0., 0., 0.],\n",
       "       [2., 0., 0., ..., 0., 0., 0.],\n",
       "       ...,\n",
       "       [8., 0., 0., ..., 0., 1., 0.],\n",
       "       [8., 0., 1., ..., 0., 0., 0.],\n",
       "       [1., 0., 0., ..., 0., 0., 0.]])"
      ]
     },
     "execution_count": 24,
     "metadata": {},
     "output_type": "execute_result"
    }
   ],
   "source": [
    "my_data_2"
   ]
  },
  {
   "cell_type": "code",
   "execution_count": 25,
   "metadata": {
    "colab": {
     "base_uri": "https://localhost:8080/"
    },
    "id": "87t26L3Mn0Co",
    "outputId": "4539e405-b919-441c-b0a1-faf61c14eb22"
   },
   "outputs": [
    {
     "data": {
      "text/plain": [
       "array([[0., 0., 0., ..., 0., 0., 0.],\n",
       "       [0., 0., 0., ..., 0., 0., 0.],\n",
       "       [0., 0., 0., ..., 0., 0., 0.],\n",
       "       ...,\n",
       "       [0., 0., 0., ..., 0., 1., 0.],\n",
       "       [0., 1., 3., ..., 0., 0., 0.],\n",
       "       [0., 0., 0., ..., 0., 0., 0.]])"
      ]
     },
     "execution_count": 25,
     "metadata": {},
     "output_type": "execute_result"
    }
   ],
   "source": [
    "X_test = np.delete(my_data_2, 0, 1)\n",
    "X_test"
   ]
  },
  {
   "cell_type": "code",
   "execution_count": 26,
   "metadata": {
    "colab": {
     "base_uri": "https://localhost:8080/"
    },
    "id": "GjltP2TWn4tq",
    "outputId": "f0cc4857-bad5-4582-d45a-9153d46cdbc7"
   },
   "outputs": [
    {
     "data": {
      "text/plain": [
       "array([0., 1., 2., ..., 8., 8., 1.])"
      ]
     },
     "execution_count": 26,
     "metadata": {},
     "output_type": "execute_result"
    }
   ],
   "source": [
    "y_2 = my_data_2[:,0]\n",
    "y_2"
   ]
  },
  {
   "cell_type": "code",
   "execution_count": 27,
   "metadata": {
    "colab": {
     "base_uri": "https://localhost:8080/"
    },
    "id": "6G3EAFYPn7jN",
    "outputId": "3e0e6fcb-62bf-4227-8521-cd4c8417e4d6"
   },
   "outputs": [
    {
     "data": {
      "text/plain": [
       "array([[1., 0., 0., ..., 0., 0., 0.],\n",
       "       [0., 1., 0., ..., 0., 0., 0.],\n",
       "       [0., 0., 1., ..., 0., 0., 0.],\n",
       "       ...,\n",
       "       [0., 0., 0., ..., 0., 1., 0.],\n",
       "       [0., 0., 0., ..., 0., 1., 0.],\n",
       "       [0., 1., 0., ..., 0., 0., 0.]], dtype=float32)"
      ]
     },
     "execution_count": 27,
     "metadata": {},
     "output_type": "execute_result"
    }
   ],
   "source": [
    "y_test = keras.utils.to_categorical(y_2,num_classes=10)\n",
    "y_test"
   ]
  },
  {
   "cell_type": "code",
   "execution_count": 28,
   "metadata": {
    "colab": {
     "base_uri": "https://localhost:8080/"
    },
    "id": "42VGD8yupE0B",
    "outputId": "3fdf25a6-8f77-4ef7-9f22-71d767ba5a47"
   },
   "outputs": [
    {
     "data": {
      "text/plain": [
       "(10000, 784)"
      ]
     },
     "execution_count": 28,
     "metadata": {},
     "output_type": "execute_result"
    }
   ],
   "source": [
    "X_test.shape"
   ]
  },
  {
   "cell_type": "code",
   "execution_count": 29,
   "metadata": {
    "colab": {
     "base_uri": "https://localhost:8080/"
    },
    "id": "CdRw7JBapHCt",
    "outputId": "a6b9915d-a3c6-41f5-90b5-56c345bf8c7f"
   },
   "outputs": [
    {
     "data": {
      "text/plain": [
       "(10000, 10)"
      ]
     },
     "execution_count": 29,
     "metadata": {},
     "output_type": "execute_result"
    }
   ],
   "source": [
    "y_test.shape"
   ]
  },
  {
   "cell_type": "markdown",
   "metadata": {
    "id": "R3-DyW9Jh1U0"
   },
   "source": [
    "## Modelo inicial"
   ]
  },
  {
   "cell_type": "markdown",
   "metadata": {
    "id": "NzCaDGvinQfp"
   },
   "source": [
    "## Modelos SKlearn"
   ]
  },
  {
   "cell_type": "markdown",
   "metadata": {
    "id": "eIYBDmS5qjwB"
   },
   "source": [
    "### 1.Probando una clasificador con Navie bayes MultinomialNB"
   ]
  },
  {
   "cell_type": "markdown",
   "metadata": {
    "id": "h1shEqJuYfdI"
   },
   "source": [
    "#### Entrenamiento"
   ]
  },
  {
   "cell_type": "code",
   "execution_count": 30,
   "metadata": {
    "id": "c4RbhioVy8yO"
   },
   "outputs": [],
   "source": [
    "clf = MultinomialNB()"
   ]
  },
  {
   "cell_type": "code",
   "execution_count": 31,
   "metadata": {
    "colab": {
     "base_uri": "https://localhost:8080/"
    },
    "id": "bv9pJ9J4ytAq",
    "outputId": "348c29b5-7672-4c81-9251-9c48d727573e"
   },
   "outputs": [
    {
     "data": {
      "text/plain": [
       "MultinomialNB()"
      ]
     },
     "execution_count": 31,
     "metadata": {},
     "output_type": "execute_result"
    }
   ],
   "source": [
    "clf.fit(X_train, y)"
   ]
  },
  {
   "cell_type": "markdown",
   "metadata": {
    "id": "dihYGtnHYdTh"
   },
   "source": [
    "#### Resultados"
   ]
  },
  {
   "cell_type": "code",
   "execution_count": 32,
   "metadata": {
    "id": "8iiMzGyIVltW"
   },
   "outputs": [],
   "source": [
    "y_naive_bayes = clf.predict(X_train)\n",
    "y_naive_bayes_test = clf.predict(X_test)"
   ]
  },
  {
   "cell_type": "code",
   "execution_count": 33,
   "metadata": {
    "colab": {
     "base_uri": "https://localhost:8080/"
    },
    "id": "TihzolqEy-Ca",
    "outputId": "ca37e620-666b-4c7f-9236-83c351ccdecd"
   },
   "outputs": [
    {
     "data": {
      "text/plain": [
       "0.6653333333333333"
      ]
     },
     "execution_count": 33,
     "metadata": {},
     "output_type": "execute_result"
    }
   ],
   "source": [
    "clf.score(X_train, y)"
   ]
  },
  {
   "cell_type": "code",
   "execution_count": 34,
   "metadata": {
    "colab": {
     "base_uri": "https://localhost:8080/"
    },
    "id": "ZhV-ldx9XfD1",
    "outputId": "556321a4-dee8-4397-d5fa-07acb2f22476"
   },
   "outputs": [
    {
     "data": {
      "text/plain": [
       "0.6674"
      ]
     },
     "execution_count": 34,
     "metadata": {},
     "output_type": "execute_result"
    }
   ],
   "source": [
    "clf.score(X_test, y_2)"
   ]
  },
  {
   "cell_type": "code",
   "execution_count": 35,
   "metadata": {
    "colab": {
     "base_uri": "https://localhost:8080/"
    },
    "id": "FH23j96-UrBz",
    "outputId": "95927fa2-085d-4450-ca21-0e85d8d911b1"
   },
   "outputs": [
    {
     "name": "stdout",
     "output_type": "stream",
     "text": [
      "Naive Bayes\n",
      "\n",
      "Train:\n",
      "\n",
      "Orden de las etiquetas: \n",
      "['Camiseta', 'Pantalón', 'Suéter', 'Vestido', 'Abrigo', 'Sandalia', 'Camisa', 'Zapatilla deportiva', 'Bolso', 'Botines']\n",
      "Precision por clase: \n",
      "[0.73621252 0.98050037 0.6224794  0.65457921 0.46304935 0.66151582\n",
      " 0.33917309 0.59234162 0.88755459 0.69354839]\n",
      "Precisión micro: \n",
      "0.6653333333333333\n",
      "Precisión macro: \n",
      "0.663095434206207\n",
      "Precisión pesada: \n",
      "0.663095434206207\n",
      "\n",
      "\n",
      "Test:\n",
      "\n",
      "Orden de las etiquetas: \n",
      "['Camiseta', 'Pantalón', 'Suéter', 'Vestido', 'Abrigo', 'Sandalia', 'Camisa', 'Zapatilla deportiva', 'Bolso', 'Botines']\n",
      "Precision por clase: \n",
      "[0.73759542 0.97408207 0.62603306 0.65860806 0.46656649 0.70562771\n",
      " 0.32599119 0.58712614 0.88677249 0.68760469]\n",
      "Precisión micro: \n",
      "0.6674\n",
      "Precisión macro: \n",
      "0.6656007310886742\n",
      "Precisión pesada: \n",
      "0.6656007310886742\n"
     ]
    }
   ],
   "source": [
    "print('Naive Bayes\\n\\nTrain:\\n')\n",
    "print('Orden de las etiquetas: \\n{}'.format(class_names))\n",
    "print('Precision por clase: \\n{}'.format(precision_score(y, y_naive_bayes, average=None)))\n",
    "print('Precisión micro: \\n{}'.format(precision_score(y, y_naive_bayes, average='micro')))\n",
    "print('Precisión macro: \\n{}'.format(precision_score(y, y_naive_bayes, average='macro')))\n",
    "print('Precisión pesada: \\n{}'.format(precision_score(y, y_naive_bayes, average='weighted')))\n",
    "print('\\n\\nTest:\\n')\n",
    "print('Orden de las etiquetas: \\n{}'.format(class_names))\n",
    "print('Precision por clase: \\n{}'.format(precision_score(y_2, y_naive_bayes_test, average=None)))\n",
    "print('Precisión micro: \\n{}'.format(precision_score(y_2, y_naive_bayes_test, average='micro')))\n",
    "print('Precisión macro: \\n{}'.format(precision_score(y_2, y_naive_bayes_test, average='macro')))\n",
    "print('Precisión pesada: \\n{}'.format(precision_score(y_2, y_naive_bayes_test, average='weighted')))"
   ]
  },
  {
   "cell_type": "code",
   "execution_count": 36,
   "metadata": {
    "colab": {
     "base_uri": "https://localhost:8080/"
    },
    "id": "528K54vPZaKJ",
    "outputId": "f2b272a5-5bb4-4d00-bd2b-c9c53743b11c"
   },
   "outputs": [
    {
     "name": "stdout",
     "output_type": "stream",
     "text": [
      "Naive Bayes\n",
      "\n",
      "Train:\n",
      "\n",
      "              precision    recall  f1-score   support\n",
      "\n",
      "         0.0       0.74      0.79      0.76      6000\n",
      "         1.0       0.98      0.89      0.93      6000\n",
      "         2.0       0.62      0.59      0.61      6000\n",
      "         3.0       0.65      0.88      0.75      6000\n",
      "         4.0       0.46      0.63      0.53      6000\n",
      "         5.0       0.66      0.15      0.24      6000\n",
      "         6.0       0.34      0.16      0.22      6000\n",
      "         7.0       0.59      0.92      0.72      6000\n",
      "         8.0       0.89      0.81      0.85      6000\n",
      "         9.0       0.69      0.83      0.76      6000\n",
      "\n",
      "    accuracy                           0.67     60000\n",
      "   macro avg       0.66      0.67      0.64     60000\n",
      "weighted avg       0.66      0.67      0.64     60000\n",
      "\n",
      "\n",
      "\n",
      "Test:\n",
      "\n",
      "              precision    recall  f1-score   support\n",
      "\n",
      "         0.0       0.74      0.77      0.75      1000\n",
      "         1.0       0.97      0.90      0.94      1000\n",
      "         2.0       0.63      0.61      0.62      1000\n",
      "         3.0       0.66      0.90      0.76      1000\n",
      "         4.0       0.47      0.62      0.53      1000\n",
      "         5.0       0.71      0.16      0.26      1000\n",
      "         6.0       0.33      0.15      0.20      1000\n",
      "         7.0       0.59      0.90      0.71      1000\n",
      "         8.0       0.89      0.84      0.86      1000\n",
      "         9.0       0.69      0.82      0.75      1000\n",
      "\n",
      "    accuracy                           0.67     10000\n",
      "   macro avg       0.67      0.67      0.64     10000\n",
      "weighted avg       0.67      0.67      0.64     10000\n",
      "\n"
     ]
    }
   ],
   "source": [
    "print('Naive Bayes\\n\\nTrain:\\n')\n",
    "print(classification_report(y, y_naive_bayes))\n",
    "print('\\n\\nTest:\\n')\n",
    "print(classification_report(y_2, y_naive_bayes_test))"
   ]
  },
  {
   "cell_type": "code",
   "execution_count": 37,
   "metadata": {},
   "outputs": [
    {
     "data": {
      "image/png": "[encoded data removed]",
      "text/plain": [
       "<Figure size 864x504 with 12 Axes>"
      ]
     },
     "metadata": {
      "needs_background": "light"
     },
     "output_type": "display_data"
    }
   ],
   "source": [
    "cm = sklearn.metrics.multilabel_confusion_matrix(y_true=y_2.astype(int),y_pred=y_naive_bayes_test,labels=[0,1,2,3,4,5,6,7,8,9])\n",
    "graficar_multi(cm,class_names)"
   ]
  },
  {
   "cell_type": "markdown",
   "metadata": {
    "id": "ViZ9Vs6Pq1Bn"
   },
   "source": [
    "### 2.Probando utilizando un arbol de desicion"
   ]
  },
  {
   "cell_type": "markdown",
   "metadata": {
    "id": "wgaAKvK4bi0q"
   },
   "source": [
    "#### Entrenando"
   ]
  },
  {
   "cell_type": "code",
   "execution_count": 38,
   "metadata": {
    "id": "p2KzXzid2CKH"
   },
   "outputs": [],
   "source": [
    "dtree_model = DecisionTreeClassifier(max_depth = 10).fit(X_train, y)"
   ]
  },
  {
   "cell_type": "code",
   "execution_count": 39,
   "metadata": {
    "colab": {
     "base_uri": "https://localhost:8080/"
    },
    "id": "gh2YUxOF2U40",
    "outputId": "e14603a6-000d-477f-f6b3-d814148921a6"
   },
   "outputs": [
    {
     "data": {
      "text/plain": [
       "0.8479333333333333"
      ]
     },
     "execution_count": 39,
     "metadata": {},
     "output_type": "execute_result"
    }
   ],
   "source": [
    "dtree_model.score(X_train, y)"
   ]
  },
  {
   "cell_type": "markdown",
   "metadata": {
    "id": "tx2xtLnjbuEC"
   },
   "source": [
    "#### Resultados"
   ]
  },
  {
   "cell_type": "code",
   "execution_count": 40,
   "metadata": {
    "id": "tx3rCo95cVui"
   },
   "outputs": [],
   "source": [
    "y_dtree_train = dtree_model.predict(X_train)\n",
    "y_dtree_test = dtree_model.predict(X_test)"
   ]
  },
  {
   "cell_type": "code",
   "execution_count": 41,
   "metadata": {
    "colab": {
     "base_uri": "https://localhost:8080/"
    },
    "id": "TvGd0hFjZL3t",
    "outputId": "848b1598-e69f-4104-b7aa-5cf754739ec2"
   },
   "outputs": [
    {
     "name": "stdout",
     "output_type": "stream",
     "text": [
      "Arbol de decision\n",
      "\n",
      "Train:\n",
      "\n",
      "              precision    recall  f1-score   support\n",
      "\n",
      "         0.0       0.85      0.80      0.82      6370\n",
      "         1.0       0.94      0.99      0.97      5723\n",
      "         2.0       0.69      0.76      0.73      5481\n",
      "         3.0       0.86      0.84      0.85      6132\n",
      "         4.0       0.78      0.66      0.72      7151\n",
      "         5.0       0.93      0.97      0.95      5755\n",
      "         6.0       0.60      0.66      0.63      5382\n",
      "         7.0       0.95      0.90      0.92      6328\n",
      "         8.0       0.94      0.97      0.96      5830\n",
      "         9.0       0.93      0.95      0.94      5848\n",
      "\n",
      "    accuracy                           0.85     60000\n",
      "   macro avg       0.85      0.85      0.85     60000\n",
      "weighted avg       0.85      0.85      0.85     60000\n",
      "\n",
      "\n",
      "\n",
      "Test:\n",
      "\n",
      "              precision    recall  f1-score   support\n",
      "\n",
      "         0.0       0.79      0.74      0.76      1070\n",
      "         1.0       0.94      0.97      0.96       966\n",
      "         2.0       0.67      0.73      0.70       910\n",
      "         3.0       0.84      0.83      0.84      1017\n",
      "         4.0       0.77      0.65      0.71      1179\n",
      "         5.0       0.87      0.91      0.89       950\n",
      "         6.0       0.52      0.58      0.55       908\n",
      "         7.0       0.89      0.85      0.87      1048\n",
      "         8.0       0.90      0.94      0.92       964\n",
      "         9.0       0.89      0.90      0.89       988\n",
      "\n",
      "    accuracy                           0.81     10000\n",
      "   macro avg       0.81      0.81      0.81     10000\n",
      "weighted avg       0.81      0.81      0.81     10000\n",
      "\n"
     ]
    }
   ],
   "source": [
    "print('Arbol de decision\\n\\nTrain:\\n')\n",
    "print(classification_report(y_dtree_train,y))\n",
    "print('\\n\\nTest:\\n')\n",
    "print(classification_report(y_dtree_test,y_2))"
   ]
  },
  {
   "cell_type": "code",
   "execution_count": 42,
   "metadata": {
    "colab": {
     "base_uri": "https://localhost:8080/",
     "height": 513
    },
    "id": "IK0AXUgL5D8C",
    "outputId": "6e6d37cb-4daf-4025-93fa-827a9c772538"
   },
   "outputs": [
    {
     "data": {
      "image/png": "[encoded data removed]",
      "text/plain": [
       "<Figure size 864x504 with 12 Axes>"
      ]
     },
     "metadata": {
      "needs_background": "light"
     },
     "output_type": "display_data"
    }
   ],
   "source": [
    "cm = sklearn.metrics.multilabel_confusion_matrix(y_true=y_2.astype(int),y_pred=y_dtree_test,labels=[0,1,2,3,4,5,6,7,8,9])\n",
    "graficar_multi(cm,class_names)"
   ]
  },
  {
   "cell_type": "markdown",
   "metadata": {
    "id": "NC43G4_Fz_Zi"
   },
   "source": [
    "## 3. Red neuronal con Keras"
   ]
  },
  {
   "cell_type": "markdown",
   "metadata": {
    "id": "n-SUTwMmduGO"
   },
   "source": [
    "### Entrenamineto"
   ]
  },
  {
   "cell_type": "code",
   "execution_count": 43,
   "metadata": {
    "id": "gNv2ANZo7qQh"
   },
   "outputs": [],
   "source": [
    "keras.backend.clear_session()\n",
    "model_keras = Sequential()"
   ]
  },
  {
   "cell_type": "code",
   "execution_count": 44,
   "metadata": {
    "id": "KPPaJyBS8hwt"
   },
   "outputs": [],
   "source": [
    "model_keras.add(Dense(units=10,activation='relu',input_dim=784))\n",
    "model_keras.add(Dense(units=10,activation='softmax'))"
   ]
  },
  {
   "cell_type": "code",
   "execution_count": 45,
   "metadata": {
    "id": "3zeq2rmv9Pnj"
   },
   "outputs": [],
   "source": [
    "model_keras.compile(loss='categorical_crossentropy',metrics=['accuracy'])"
   ]
  },
  {
   "cell_type": "code",
   "execution_count": 46,
   "metadata": {
    "colab": {
     "base_uri": "https://localhost:8080/"
    },
    "id": "knq-Yjm49jgo",
    "outputId": "1403f2c5-c7d3-4989-b42f-91420f69cd88"
   },
   "outputs": [
    {
     "name": "stdout",
     "output_type": "stream",
     "text": [
      "Epoch 1/25\n",
      "59/59 [==============================] - 0s 2ms/step - loss: 8.0689 - accuracy: 0.1047\n",
      "Epoch 2/25\n",
      "59/59 [==============================] - 0s 2ms/step - loss: 2.2885 - accuracy: 0.1182\n",
      "Epoch 3/25\n",
      "59/59 [==============================] - 0s 2ms/step - loss: 2.2426 - accuracy: 0.1305\n",
      "Epoch 4/25\n",
      "59/59 [==============================] - 0s 2ms/step - loss: 2.1931 - accuracy: 0.1509\n",
      "Epoch 5/25\n",
      "59/59 [==============================] - 0s 2ms/step - loss: 1.9742 - accuracy: 0.2512\n",
      "Epoch 6/25\n",
      "59/59 [==============================] - 0s 2ms/step - loss: 1.8532 - accuracy: 0.3060\n",
      "Epoch 7/25\n",
      "59/59 [==============================] - 0s 2ms/step - loss: 1.7703 - accuracy: 0.3372\n",
      "Epoch 8/25\n",
      "59/59 [==============================] - 0s 2ms/step - loss: 1.7194 - accuracy: 0.3469\n",
      "Epoch 9/25\n",
      "59/59 [==============================] - 0s 2ms/step - loss: 1.6911 - accuracy: 0.3532\n",
      "Epoch 10/25\n",
      "59/59 [==============================] - 0s 2ms/step - loss: 1.6153 - accuracy: 0.3895\n",
      "Epoch 11/25\n",
      "59/59 [==============================] - 0s 2ms/step - loss: 1.5549 - accuracy: 0.4170\n",
      "Epoch 12/25\n",
      "59/59 [==============================] - 0s 2ms/step - loss: 1.5089 - accuracy: 0.4279\n",
      "Epoch 13/25\n",
      "59/59 [==============================] - 0s 2ms/step - loss: 1.4596 - accuracy: 0.4444\n",
      "Epoch 14/25\n",
      "59/59 [==============================] - 0s 3ms/step - loss: 1.3661 - accuracy: 0.4751\n",
      "Epoch 15/25\n",
      "59/59 [==============================] - 0s 3ms/step - loss: 1.3194 - accuracy: 0.4857\n",
      "Epoch 16/25\n",
      "59/59 [==============================] - 0s 3ms/step - loss: 1.3026 - accuracy: 0.4924\n",
      "Epoch 17/25\n",
      "59/59 [==============================] - 0s 3ms/step - loss: 1.2597 - accuracy: 0.5033\n",
      "Epoch 18/25\n",
      "59/59 [==============================] - 0s 3ms/step - loss: 1.2503 - accuracy: 0.5094\n",
      "Epoch 19/25\n",
      "59/59 [==============================] - 0s 3ms/step - loss: 1.2273 - accuracy: 0.5114\n",
      "Epoch 20/25\n",
      "59/59 [==============================] - 0s 3ms/step - loss: 1.2105 - accuracy: 0.5200\n",
      "Epoch 21/25\n",
      "59/59 [==============================] - 0s 3ms/step - loss: 1.1847 - accuracy: 0.5213\n",
      "Epoch 22/25\n",
      "59/59 [==============================] - 0s 3ms/step - loss: 1.1732 - accuracy: 0.5276\n",
      "Epoch 23/25\n",
      "59/59 [==============================] - 0s 3ms/step - loss: 1.1578 - accuracy: 0.5337\n",
      "Epoch 24/25\n",
      "59/59 [==============================] - 0s 3ms/step - loss: 1.1432 - accuracy: 0.5390\n",
      "Epoch 25/25\n",
      "59/59 [==============================] - 0s 3ms/step - loss: 1.1299 - accuracy: 0.5451\n"
     ]
    },
    {
     "data": {
      "text/plain": [
       "<tensorflow.python.keras.callbacks.History at 0x25cdef295e0>"
      ]
     },
     "execution_count": 46,
     "metadata": {},
     "output_type": "execute_result"
    }
   ],
   "source": [
    "model_keras.fit(X_train, y_train, epochs=25, batch_size=1024)"
   ]
  },
  {
   "cell_type": "markdown",
   "metadata": {
    "id": "jtiY2UmIdw7a"
   },
   "source": [
    "### Resultados"
   ]
  },
  {
   "cell_type": "code",
   "execution_count": 47,
   "metadata": {
    "colab": {
     "base_uri": "https://localhost:8080/"
    },
    "id": "y5y9Ua7_yQy8",
    "outputId": "c9c9b328-5318-427d-ed3b-22477cc336ff"
   },
   "outputs": [
    {
     "name": "stdout",
     "output_type": "stream",
     "text": [
      "Model: \"sequential\"\n",
      "_________________________________________________________________\n",
      "Layer (type)                 Output Shape              Param #   \n",
      "=================================================================\n",
      "dense (Dense)                (None, 10)                7850      \n",
      "_________________________________________________________________\n",
      "dense_1 (Dense)              (None, 10)                110       \n",
      "=================================================================\n",
      "Total params: 7,960\n",
      "Trainable params: 7,960\n",
      "Non-trainable params: 0\n",
      "_________________________________________________________________\n"
     ]
    }
   ],
   "source": [
    "model_keras.summary()"
   ]
  },
  {
   "cell_type": "code",
   "execution_count": 48,
   "metadata": {
    "id": "BBe-rI8ZdcF5"
   },
   "outputs": [],
   "source": [
    "y_keras_train_one_hot = model_keras.predict(X_train)\n",
    "y_keras_test_one_hot = model_keras.predict(X_test)"
   ]
  },
  {
   "cell_type": "code",
   "execution_count": 49,
   "metadata": {
    "colab": {
     "base_uri": "https://localhost:8080/"
    },
    "id": "qX6zqsN3iZDJ",
    "outputId": "13815c0e-6484-47a1-f034-05653c2bd9c9"
   },
   "outputs": [
    {
     "name": "stdout",
     "output_type": "stream",
     "text": [
      "2.0\n",
      "(60000,)\n",
      "[2. 9. 6. ... 8. 8. 7.]\n",
      "[2 9 6 ... 8 8 7]\n"
     ]
    }
   ],
   "source": [
    "print(y[0])\n",
    "print(y.shape)\n",
    "print(y)\n",
    "print(np.argmax(y_train,axis=1))\n",
    "\n",
    "y_keras_train = np.argmax(y_keras_train_one_hot,axis=1)\n",
    "y_keras_test = np.argmax(y_keras_test_one_hot,axis=1)"
   ]
  },
  {
   "cell_type": "code",
   "execution_count": 50,
   "metadata": {
    "colab": {
     "base_uri": "https://localhost:8080/"
    },
    "id": "JwV8lKjniI2g",
    "outputId": "2664da5b-43e4-490a-dfa9-71933bf6bcdf"
   },
   "outputs": [
    {
     "name": "stdout",
     "output_type": "stream",
     "text": [
      "Arbol de decision\n",
      "\n",
      "Train:\n",
      "\n",
      "                     precision    recall  f1-score   support\n",
      "\n",
      "           Camiseta       0.68      0.86      0.76      4751\n",
      "           Pantalón       0.89      0.98      0.93      5463\n",
      "             Suéter       0.00      0.06      0.00        18\n",
      "            Vestido       0.75      0.75      0.75      6048\n",
      "             Abrigo       0.98      0.23      0.38     25328\n",
      "           Sandalia       0.85      0.97      0.90      5225\n",
      "             Camisa       0.10      0.42      0.16      1369\n",
      "Zapatilla deportiva       0.88      0.82      0.85      6428\n",
      "              Bolso       0.00      0.09      0.01       253\n",
      "            Botines       0.72      0.84      0.78      5117\n",
      "\n",
      "           accuracy                           0.59     60000\n",
      "          macro avg       0.59      0.60      0.55     60000\n",
      "       weighted avg       0.86      0.59      0.62     60000\n",
      "\n",
      "\n",
      "\n",
      "Test:\n",
      "\n",
      "                     precision    recall  f1-score   support\n",
      "\n",
      "           Camiseta       0.66      0.86      0.75       771\n",
      "           Pantalón       0.91      0.97      0.94       936\n",
      "             Suéter       0.00      0.00      0.00         6\n",
      "            Vestido       0.75      0.75      0.75      1011\n",
      "             Abrigo       0.98      0.23      0.38      4214\n",
      "           Sandalia       0.82      0.96      0.88       855\n",
      "             Camisa       0.10      0.41      0.15       229\n",
      "Zapatilla deportiva       0.87      0.81      0.84      1081\n",
      "              Bolso       0.00      0.09      0.01        43\n",
      "            Botines       0.70      0.82      0.76       854\n",
      "\n",
      "           accuracy                           0.58     10000\n",
      "          macro avg       0.58      0.59      0.55     10000\n",
      "       weighted avg       0.85      0.58      0.61     10000\n",
      "\n"
     ]
    }
   ],
   "source": [
    "print('Arbol de decision\\n\\nTrain:\\n')\n",
    "print(classification_report(y_keras_train,y,target_names=class_names))\n",
    "print('\\n\\nTest:\\n')\n",
    "print(classification_report(y_keras_test,y_2,target_names=class_names))"
   ]
  },
  {
   "cell_type": "code",
   "execution_count": 51,
   "metadata": {
    "colab": {
     "base_uri": "https://localhost:8080/",
     "height": 0
    },
    "id": "vgOqRu-DIDVi",
    "outputId": "05ecc9ce-8643-44d7-b057-a3bbd8cc7a96",
    "scrolled": true
   },
   "outputs": [
    {
     "data": {
      "image/png": "[encoded data removed]",
      "text/plain": [
       "<Figure size 864x504 with 12 Axes>"
      ]
     },
     "metadata": {
      "needs_background": "light"
     },
     "output_type": "display_data"
    }
   ],
   "source": [
    "cm = sklearn.metrics.multilabel_confusion_matrix(y_true=y_2.astype(int),y_pred=y_keras_test,labels=[0,1,2,3,4,5,6,7,8,9])\n",
    "graficar_multi(cm,class_names)"
   ]
  },
  {
   "cell_type": "markdown",
   "metadata": {
    "id": "6c3wZn7wiGFU"
   },
   "source": [
    "## Evaluacion del Desempeño"
   ]
  },
  {
   "cell_type": "markdown",
   "metadata": {
    "id": "E8qTpw2WiREB"
   },
   "source": [
    "probar el modelo con train\n"
   ]
  },
  {
   "cell_type": "markdown",
   "metadata": {
    "id": "v1eKew38kqXq"
   },
   "source": [
    "probar con test\n"
   ]
  },
  {
   "cell_type": "markdown",
   "metadata": {
    "id": "gRqYCxgnkt7P"
   },
   "source": [
    "graficar curva de error"
   ]
  },
  {
   "cell_type": "markdown",
   "metadata": {
    "id": "PPiH0_FwkxCj"
   },
   "source": [
    "ver bias y varianza\n"
   ]
  },
  {
   "cell_type": "markdown",
   "metadata": {
    "id": "KDuH6vSpO899"
   },
   "source": []
  },
  {
   "cell_type": "markdown",
   "metadata": {
    "id": "l8Vsk6bbpP0I"
   },
   "source": [
    "# Optimizacion"
   ]
  },
  {
   "cell_type": "markdown",
   "metadata": {
    "id": "iWOfg6WOsKUz"
   },
   "source": [
    "## Normalizacion"
   ]
  },
  {
   "cell_type": "code",
   "execution_count": 52,
   "metadata": {
    "id": "HLcLeUbOzBfj"
   },
   "outputs": [],
   "source": [
    "scaler = MinMaxScaler()\n",
    "X_train_norm = scaler.fit_transform(X_train)"
   ]
  },
  {
   "cell_type": "code",
   "execution_count": 53,
   "metadata": {
    "colab": {
     "base_uri": "https://localhost:8080/"
    },
    "id": "Y_nXBbZZsKCD",
    "outputId": "fdc71dfd-30ef-4bff-e6d3-499aaa662df3"
   },
   "outputs": [
    {
     "name": "stdout",
     "output_type": "stream",
     "text": [
      "Epoch 1/25\n",
      "1875/1875 [==============================] - 1s 555us/step - loss: 0.6495 - accuracy: 0.7835\n",
      "Epoch 2/25\n",
      "1875/1875 [==============================] - 1s 537us/step - loss: 0.4635 - accuracy: 0.8389\n",
      "Epoch 3/25\n",
      "1875/1875 [==============================] - 1s 541us/step - loss: 0.4342 - accuracy: 0.8478\n",
      "Epoch 4/25\n",
      "1875/1875 [==============================] - 1s 542us/step - loss: 0.4207 - accuracy: 0.8529\n",
      "Epoch 5/25\n",
      "1875/1875 [==============================] - 1s 540us/step - loss: 0.4099 - accuracy: 0.8577\n",
      "Epoch 6/25\n",
      "1875/1875 [==============================] - 1s 544us/step - loss: 0.4038 - accuracy: 0.8593\n",
      "Epoch 7/25\n",
      "1875/1875 [==============================] - 1s 551us/step - loss: 0.3988 - accuracy: 0.8617\n",
      "Epoch 8/25\n",
      "1875/1875 [==============================] - 1s 549us/step - loss: 0.3946 - accuracy: 0.8644\n",
      "Epoch 9/25\n",
      "1875/1875 [==============================] - 1s 588us/step - loss: 0.3916 - accuracy: 0.8634\n",
      "Epoch 10/25\n",
      "1875/1875 [==============================] - 1s 643us/step - loss: 0.3885 - accuracy: 0.8651\n",
      "Epoch 11/25\n",
      "1875/1875 [==============================] - 1s 669us/step - loss: 0.3849 - accuracy: 0.8672\n",
      "Epoch 12/25\n",
      "1875/1875 [==============================] - 1s 606us/step - loss: 0.3822 - accuracy: 0.8671\n",
      "Epoch 13/25\n",
      "1875/1875 [==============================] - 1s 687us/step - loss: 0.3803 - accuracy: 0.8687\n",
      "Epoch 14/25\n",
      "1875/1875 [==============================] - 1s 712us/step - loss: 0.3781 - accuracy: 0.8687\n",
      "Epoch 15/25\n",
      "1875/1875 [==============================] - 1s 628us/step - loss: 0.3762 - accuracy: 0.8702\n",
      "Epoch 16/25\n",
      "1875/1875 [==============================] - 1s 640us/step - loss: 0.3748 - accuracy: 0.8701\n",
      "Epoch 17/25\n",
      "1875/1875 [==============================] - 1s 657us/step - loss: 0.3739 - accuracy: 0.8706\n",
      "Epoch 18/25\n",
      "1875/1875 [==============================] - 1s 633us/step - loss: 0.3718 - accuracy: 0.8716\n",
      "Epoch 19/25\n",
      "1875/1875 [==============================] - 1s 673us/step - loss: 0.3699 - accuracy: 0.8708\n",
      "Epoch 20/25\n",
      "1875/1875 [==============================] - 1s 634us/step - loss: 0.3692 - accuracy: 0.8718\n",
      "Epoch 21/25\n",
      "1875/1875 [==============================] - 1s 658us/step - loss: 0.3686 - accuracy: 0.8702\n",
      "Epoch 22/25\n",
      "1875/1875 [==============================] - 1s 628us/step - loss: 0.3678 - accuracy: 0.8728\n",
      "Epoch 23/25\n",
      "1875/1875 [==============================] - 1s 617us/step - loss: 0.3679 - accuracy: 0.8738\n",
      "Epoch 24/25\n",
      "1875/1875 [==============================] - 1s 634us/step - loss: 0.3648 - accuracy: 0.8731\n",
      "Epoch 25/25\n",
      "1875/1875 [==============================] - 1s 611us/step - loss: 0.3648 - accuracy: 0.8740\n"
     ]
    },
    {
     "data": {
      "text/plain": [
       "<tensorflow.python.keras.callbacks.History at 0x25cdf120370>"
      ]
     },
     "execution_count": 53,
     "metadata": {},
     "output_type": "execute_result"
    }
   ],
   "source": [
    "keras.backend.clear_session()\n",
    "model_norm = Sequential()\n",
    "model_norm.add(Dense(10,activation='relu',input_dim=784))\n",
    "model_norm.add(Dense(10,activation='softmax'))\n",
    "model_norm.compile(loss='categorical_crossentropy',metrics=['accuracy'])\n",
    "model_norm.fit(X_train_norm, y_train, epochs=25)"
   ]
  },
  {
   "cell_type": "markdown",
   "metadata": {
    "id": "LNBZkAQJ1rXd"
   },
   "source": [
    "## Estandariacion"
   ]
  },
  {
   "cell_type": "code",
   "execution_count": 54,
   "metadata": {
    "id": "BrOQgUz31vAf"
   },
   "outputs": [],
   "source": [
    "scaler_2 = StandardScaler()\n",
    "scaler_2.fit(X_train)\n",
    "X_train_stand = scaler.transform(X_train)\n",
    "X_test_stand = scaler.transform(X_test)"
   ]
  },
  {
   "cell_type": "code",
   "execution_count": 55,
   "metadata": {
    "colab": {
     "base_uri": "https://localhost:8080/"
    },
    "id": "RYOyN4-h2Ty3",
    "outputId": "a02b5e64-e160-4980-d945-9bbb9dd8976a"
   },
   "outputs": [
    {
     "name": "stdout",
     "output_type": "stream",
     "text": [
      "Epoch 1/25\n",
      "1875/1875 [==============================] - 1s 539us/step - loss: 0.6767 - accuracy: 0.7692\n",
      "Epoch 2/25\n",
      "1875/1875 [==============================] - 1s 534us/step - loss: 0.4721 - accuracy: 0.8371\n",
      "Epoch 3/25\n",
      "1875/1875 [==============================] - 1s 533us/step - loss: 0.4397 - accuracy: 0.8480\n",
      "Epoch 4/25\n",
      "1875/1875 [==============================] - 1s 526us/step - loss: 0.4223 - accuracy: 0.8553\n",
      "Epoch 5/25\n",
      "1875/1875 [==============================] - 1s 580us/step - loss: 0.4116 - accuracy: 0.8587\n",
      "Epoch 6/25\n",
      "1875/1875 [==============================] - 1s 534us/step - loss: 0.4040 - accuracy: 0.8611\n",
      "Epoch 7/25\n",
      "1875/1875 [==============================] - 1s 537us/step - loss: 0.3990 - accuracy: 0.8632\n",
      "Epoch 8/25\n",
      "1875/1875 [==============================] - 1s 586us/step - loss: 0.3945 - accuracy: 0.8649\n",
      "Epoch 9/25\n",
      "1875/1875 [==============================] - 1s 579us/step - loss: 0.3892 - accuracy: 0.8648\n",
      "Epoch 10/25\n",
      "1875/1875 [==============================] - 1s 575us/step - loss: 0.3861 - accuracy: 0.8673\n",
      "Epoch 11/25\n",
      "1875/1875 [==============================] - 1s 575us/step - loss: 0.3846 - accuracy: 0.8678\n",
      "Epoch 12/25\n",
      "1875/1875 [==============================] - 1s 569us/step - loss: 0.3804 - accuracy: 0.8690\n",
      "Epoch 13/25\n",
      "1875/1875 [==============================] - 1s 552us/step - loss: 0.3792 - accuracy: 0.8687\n",
      "Epoch 14/25\n",
      "1875/1875 [==============================] - 1s 547us/step - loss: 0.3772 - accuracy: 0.8702\n",
      "Epoch 15/25\n",
      "1875/1875 [==============================] - 1s 555us/step - loss: 0.3747 - accuracy: 0.8714\n",
      "Epoch 16/25\n",
      "1875/1875 [==============================] - 1s 591us/step - loss: 0.3728 - accuracy: 0.8718\n",
      "Epoch 17/25\n",
      "1875/1875 [==============================] - 1s 584us/step - loss: 0.3710 - accuracy: 0.8711\n",
      "Epoch 18/25\n",
      "1875/1875 [==============================] - 1s 548us/step - loss: 0.3708 - accuracy: 0.8721\n",
      "Epoch 19/25\n",
      "1875/1875 [==============================] - 1s 559us/step - loss: 0.3682 - accuracy: 0.8724\n",
      "Epoch 20/25\n",
      "1875/1875 [==============================] - 1s 527us/step - loss: 0.3669 - accuracy: 0.8738\n",
      "Epoch 21/25\n",
      "1875/1875 [==============================] - 1s 538us/step - loss: 0.3663 - accuracy: 0.8744\n",
      "Epoch 22/25\n",
      "1875/1875 [==============================] - 1s 537us/step - loss: 0.3659 - accuracy: 0.8749\n",
      "Epoch 23/25\n",
      "1875/1875 [==============================] - 1s 558us/step - loss: 0.3649 - accuracy: 0.8737\n",
      "Epoch 24/25\n",
      "1875/1875 [==============================] - 1s 525us/step - loss: 0.3637 - accuracy: 0.8748\n",
      "Epoch 25/25\n",
      "1875/1875 [==============================] - 1s 538us/step - loss: 0.3630 - accuracy: 0.8749\n"
     ]
    },
    {
     "data": {
      "text/plain": [
       "<tensorflow.python.keras.callbacks.History at 0x25cded632e0>"
      ]
     },
     "execution_count": 55,
     "metadata": {},
     "output_type": "execute_result"
    }
   ],
   "source": [
    "keras.backend.clear_session()\n",
    "model_norm_std = Sequential()\n",
    "model_norm_std.add(Dense(10,activation='relu',input_dim=784))\n",
    "model_norm_std.add(Dense(10,activation='softmax'))\n",
    "model_norm_std.compile(loss='categorical_crossentropy',metrics=['accuracy'])\n",
    "model_norm_std.fit(X_train_stand, y_train, epochs=25)"
   ]
  },
  {
   "cell_type": "markdown",
   "metadata": {
    "id": "yMjJ7YLcpU8P"
   },
   "source": [
    "## Modelo con ADAM"
   ]
  },
  {
   "cell_type": "code",
   "execution_count": 56,
   "metadata": {
    "colab": {
     "base_uri": "https://localhost:8080/"
    },
    "id": "tgjv9EJjsUDi",
    "outputId": "2ebd05d0-509b-4507-bae8-971549b1e19e"
   },
   "outputs": [
    {
     "name": "stdout",
     "output_type": "stream",
     "text": [
      "Epoch 1/25\n",
      "1875/1875 [==============================] - 1s 571us/step - loss: 2.5445 - accuracy: 0.0977\n",
      "Epoch 2/25\n",
      "1875/1875 [==============================] - 1s 569us/step - loss: 2.3027 - accuracy: 0.0993\n",
      "Epoch 3/25\n",
      "1875/1875 [==============================] - 1s 569us/step - loss: 2.3027 - accuracy: 0.0983\n",
      "Epoch 4/25\n",
      "1875/1875 [==============================] - 1s 614us/step - loss: 2.3027 - accuracy: 0.0999\n",
      "Epoch 5/25\n",
      "1875/1875 [==============================] - 1s 595us/step - loss: 2.3027 - accuracy: 0.0987\n",
      "Epoch 6/25\n",
      "1875/1875 [==============================] - 1s 589us/step - loss: 2.3027 - accuracy: 0.0995\n",
      "Epoch 7/25\n",
      "1875/1875 [==============================] - 1s 582us/step - loss: 2.3028 - accuracy: 0.0980\n",
      "Epoch 8/25\n",
      "1875/1875 [==============================] - 1s 586us/step - loss: 2.3027 - accuracy: 0.0976\n",
      "Epoch 9/25\n",
      "1875/1875 [==============================] - 1s 590us/step - loss: 2.3028 - accuracy: 0.0974\n",
      "Epoch 10/25\n",
      "1875/1875 [==============================] - 1s 586us/step - loss: 2.3038 - accuracy: 0.0986\n",
      "Epoch 11/25\n",
      "1875/1875 [==============================] - 1s 567us/step - loss: 2.3028 - accuracy: 0.0991\n",
      "Epoch 12/25\n",
      "1875/1875 [==============================] - 1s 569us/step - loss: 2.3027 - accuracy: 0.0992\n",
      "Epoch 13/25\n",
      "1875/1875 [==============================] - 1s 565us/step - loss: 2.3028 - accuracy: 0.1001\n",
      "Epoch 14/25\n",
      "1875/1875 [==============================] - 1s 563us/step - loss: 2.3028 - accuracy: 0.0988\n",
      "Epoch 15/25\n",
      "1875/1875 [==============================] - 1s 591us/step - loss: 2.3028 - accuracy: 0.0976\n",
      "Epoch 16/25\n",
      "1875/1875 [==============================] - 1s 594us/step - loss: 2.3028 - accuracy: 0.0997\n",
      "Epoch 17/25\n",
      "1875/1875 [==============================] - 1s 632us/step - loss: 2.3028 - accuracy: 0.0980\n",
      "Epoch 18/25\n",
      "1875/1875 [==============================] - 1s 617us/step - loss: 2.3028 - accuracy: 0.0969\n",
      "Epoch 19/25\n",
      "1875/1875 [==============================] - 1s 578us/step - loss: 2.3027 - accuracy: 0.0987\n",
      "Epoch 20/25\n",
      "1875/1875 [==============================] - 1s 595us/step - loss: 2.3028 - accuracy: 0.0996\n",
      "Epoch 21/25\n",
      "1875/1875 [==============================] - 1s 607us/step - loss: 2.3027 - accuracy: 0.0984\n",
      "Epoch 22/25\n",
      "1875/1875 [==============================] - 1s 592us/step - loss: 2.3028 - accuracy: 0.0988\n",
      "Epoch 23/25\n",
      "1875/1875 [==============================] - 1s 579us/step - loss: 2.3028 - accuracy: 0.0990\n",
      "Epoch 24/25\n",
      "1875/1875 [==============================] - 1s 569us/step - loss: 2.3028 - accuracy: 0.0987\n",
      "Epoch 25/25\n",
      "1875/1875 [==============================] - 1s 588us/step - loss: 2.3027 - accuracy: 0.0993\n"
     ]
    },
    {
     "data": {
      "text/plain": [
       "<tensorflow.python.keras.callbacks.History at 0x25cfc455c70>"
      ]
     },
     "execution_count": 56,
     "metadata": {},
     "output_type": "execute_result"
    }
   ],
   "source": [
    "keras.backend.clear_session()\n",
    "model_adam = Sequential()\n",
    "model_adam.add(Dense(10,activation='relu',input_dim=784))\n",
    "model_adam.add(Dense(10,activation='softmax'))\n",
    "optimizer = optimizers.Adam(0.001)\n",
    "model_adam.compile(loss='categorical_crossentropy', optimizer=optimizer, metrics=['accuracy'])\n",
    "model_adam.fit(X_train, y_train, epochs=25)"
   ]
  },
  {
   "cell_type": "markdown",
   "metadata": {
    "id": "_UyzAFmNk0yT"
   },
   "source": [
    "## Modelo con Minibatch"
   ]
  },
  {
   "cell_type": "code",
   "execution_count": 57,
   "metadata": {
    "id": "YGvDyx-lTbGt"
   },
   "outputs": [],
   "source": [
    "def correr_modelo_mini_batch(batch_size):\n",
    "    keras.backend.clear_session()\n",
    "    model_mini_batch = Sequential()\n",
    "    model_mini_batch.add(Dense(10,activation='relu',input_dim=784))\n",
    "    model_mini_batch.add(Dense(10,activation='softmax'))\n",
    "    optimizer = optimizers.Adam(0.001)\n",
    "    model_mini_batch.compile(loss='categorical_crossentropy',optimizer=optimizer ,metrics=['accuracy'])\n",
    "    model_mini_batch.fit(X_train, y_train, epochs=25, batch_size=batch_size)\n",
    "    return model_mini_batch.evaluate(X_train, y_train)"
   ]
  },
  {
   "cell_type": "code",
   "execution_count": 58,
   "metadata": {
    "colab": {
     "base_uri": "https://localhost:8080/",
     "height": 1000
    },
    "id": "ezjNdB1SPtAo",
    "outputId": "e8f1a2a8-c5e6-459a-9581-5943b0ce280f"
   },
   "outputs": [
    {
     "name": "stdout",
     "output_type": "stream",
     "text": [
      "Epoch 1/25\n",
      "7500/7500 [==============================] - 4s 503us/step - loss: 2.4917 - accuracy: 0.0983\n",
      "Epoch 2/25\n",
      "7500/7500 [==============================] - 4s 533us/step - loss: 2.3039 - accuracy: 0.0969\n",
      "Epoch 3/25\n",
      "7500/7500 [==============================] - 4s 505us/step - loss: 2.3029 - accuracy: 0.0961\n",
      "Epoch 4/25\n",
      "7500/7500 [==============================] - 4s 495us/step - loss: 2.3029 - accuracy: 0.0989\n",
      "Epoch 5/25\n",
      "7500/7500 [==============================] - 4s 495us/step - loss: 2.3029 - accuracy: 0.0991\n",
      "Epoch 6/25\n",
      "7500/7500 [==============================] - 4s 494us/step - loss: 2.3028 - accuracy: 0.1002\n",
      "Epoch 7/25\n",
      "7500/7500 [==============================] - 4s 490us/step - loss: 2.3029 - accuracy: 0.0989\n",
      "Epoch 8/25\n",
      "7500/7500 [==============================] - 4s 494us/step - loss: 2.3029 - accuracy: 0.0993\n",
      "Epoch 9/25\n",
      "7500/7500 [==============================] - 4s 506us/step - loss: 2.3029 - accuracy: 0.0992\n",
      "Epoch 10/25\n",
      "7500/7500 [==============================] - 4s 510us/step - loss: 2.3029 - accuracy: 0.0971\n",
      "Epoch 11/25\n",
      "7500/7500 [==============================] - 4s 515us/step - loss: 2.3029 - accuracy: 0.0971\n",
      "Epoch 12/25\n",
      "7500/7500 [==============================] - 4s 521us/step - loss: 2.3029 - accuracy: 0.0987\n",
      "Epoch 13/25\n",
      "7500/7500 [==============================] - 4s 511us/step - loss: 2.3028 - accuracy: 0.0998\n",
      "Epoch 14/25\n",
      "7500/7500 [==============================] - 4s 512us/step - loss: 2.3029 - accuracy: 0.0981\n",
      "Epoch 15/25\n",
      "7500/7500 [==============================] - 4s 511us/step - loss: 2.3028 - accuracy: 0.0991\n",
      "Epoch 16/25\n",
      "7500/7500 [==============================] - 4s 509us/step - loss: 2.3029 - accuracy: 0.0997\n",
      "Epoch 17/25\n",
      "7500/7500 [==============================] - 4s 504us/step - loss: 2.3028 - accuracy: 0.1008\n",
      "Epoch 18/25\n",
      "7500/7500 [==============================] - 4s 503us/step - loss: 2.3029 - accuracy: 0.1007\n",
      "Epoch 19/25\n",
      "7500/7500 [==============================] - 4s 532us/step - loss: 2.3029 - accuracy: 0.1001\n",
      "Epoch 20/25\n",
      "7500/7500 [==============================] - 4s 506us/step - loss: 2.3029 - accuracy: 0.0963\n",
      "Epoch 21/25\n",
      "7500/7500 [==============================] - 4s 491us/step - loss: 2.3029 - accuracy: 0.0988\n",
      "Epoch 22/25\n",
      "7500/7500 [==============================] - 4s 496us/step - loss: 2.3029 - accuracy: 0.0981\n",
      "Epoch 23/25\n",
      "7500/7500 [==============================] - 4s 538us/step - loss: 2.3029 - accuracy: 0.1006\n",
      "Epoch 24/25\n",
      "7500/7500 [==============================] - 4s 579us/step - loss: 2.3028 - accuracy: 0.1001\n",
      "Epoch 25/25\n",
      "7500/7500 [==============================] - 4s 506us/step - loss: 2.3029 - accuracy: 0.0976\n",
      "1875/1875 [==============================] - 1s 429us/step - loss: 2.3028 - accuracy: 0.1000\n",
      "Epoch 1/25\n",
      "3750/3750 [==============================] - 2s 550us/step - loss: 2.3251 - accuracy: 0.2124\n",
      "Epoch 2/25\n",
      "3750/3750 [==============================] - 2s 634us/step - loss: 1.8567 - accuracy: 0.2783\n",
      "Epoch 3/25\n",
      "3750/3750 [==============================] - 2s 612us/step - loss: 1.4166 - accuracy: 0.4168\n",
      "Epoch 4/25\n",
      "3750/3750 [==============================] - 2s 595us/step - loss: 1.2124 - accuracy: 0.4818\n",
      "Epoch 5/25\n",
      "3750/3750 [==============================] - 2s 598us/step - loss: 1.1545 - accuracy: 0.4947\n",
      "Epoch 6/25\n",
      "3750/3750 [==============================] - 2s 606us/step - loss: 1.1037 - accuracy: 0.5183\n",
      "Epoch 7/25\n",
      "3750/3750 [==============================] - 2s 578us/step - loss: 1.0720 - accuracy: 0.5386\n",
      "Epoch 8/25\n",
      "3750/3750 [==============================] - 2s 594us/step - loss: 1.0479 - accuracy: 0.5495\n",
      "Epoch 9/25\n",
      "3750/3750 [==============================] - 2s 565us/step - loss: 1.0461 - accuracy: 0.5552\n",
      "Epoch 10/25\n",
      "3750/3750 [==============================] - 2s 522us/step - loss: 1.0385 - accuracy: 0.5573\n",
      "Epoch 11/25\n",
      "3750/3750 [==============================] - 2s 562us/step - loss: 1.0241 - accuracy: 0.5577\n",
      "Epoch 12/25\n",
      "3750/3750 [==============================] - 2s 523us/step - loss: 1.0248 - accuracy: 0.5602\n",
      "Epoch 13/25\n",
      "3750/3750 [==============================] - 2s 523us/step - loss: 1.0148 - accuracy: 0.5644\n",
      "Epoch 14/25\n",
      "3750/3750 [==============================] - 2s 521us/step - loss: 1.0250 - accuracy: 0.5620\n",
      "Epoch 15/25\n",
      "3750/3750 [==============================] - 2s 527us/step - loss: 1.0091 - accuracy: 0.5630\n",
      "Epoch 16/25\n",
      "3750/3750 [==============================] - 2s 552us/step - loss: 1.0136 - accuracy: 0.5637\n",
      "Epoch 17/25\n",
      "3750/3750 [==============================] - 2s 543us/step - loss: 1.0142 - accuracy: 0.5652\n",
      "Epoch 18/25\n",
      "3750/3750 [==============================] - 2s 518us/step - loss: 1.0185 - accuracy: 0.5649\n",
      "Epoch 19/25\n",
      "3750/3750 [==============================] - 2s 545us/step - loss: 1.0129 - accuracy: 0.5629\n",
      "Epoch 20/25\n",
      "3750/3750 [==============================] - 2s 521us/step - loss: 1.0074 - accuracy: 0.5662\n",
      "Epoch 21/25\n",
      "3750/3750 [==============================] - 2s 535us/step - loss: 1.0092 - accuracy: 0.5660\n",
      "Epoch 22/25\n",
      "3750/3750 [==============================] - 2s 618us/step - loss: 1.0039 - accuracy: 0.5677\n",
      "Epoch 23/25\n",
      "3750/3750 [==============================] - 2s 634us/step - loss: 1.0068 - accuracy: 0.5673\n",
      "Epoch 24/25\n",
      "3750/3750 [==============================] - 2s 586us/step - loss: 1.0069 - accuracy: 0.5669\n",
      "Epoch 25/25\n",
      "3750/3750 [==============================] - 2s 583us/step - loss: 0.9994 - accuracy: 0.5680\n",
      "1875/1875 [==============================] - 1s 468us/step - loss: 0.9836 - accuracy: 0.5679\n",
      "Epoch 1/25\n",
      "1875/1875 [==============================] - 1s 632us/step - loss: 2.5632 - accuracy: 0.1152\n",
      "Epoch 2/25\n",
      "1875/1875 [==============================] - 1s 645us/step - loss: 1.8631 - accuracy: 0.2325\n",
      "Epoch 3/25\n",
      "1875/1875 [==============================] - 1s 614us/step - loss: 1.6738 - accuracy: 0.2932\n",
      "Epoch 4/25\n",
      "1875/1875 [==============================] - 1s 629us/step - loss: 1.6219 - accuracy: 0.3122\n",
      "Epoch 5/25\n",
      "1875/1875 [==============================] - 1s 637us/step - loss: 1.5816 - accuracy: 0.3325\n",
      "Epoch 6/25\n",
      "1875/1875 [==============================] - 1s 677us/step - loss: 1.5089 - accuracy: 0.3668\n",
      "Epoch 7/25\n",
      "1875/1875 [==============================] - 1s 575us/step - loss: 1.3521 - accuracy: 0.4357\n",
      "Epoch 8/25\n",
      "1875/1875 [==============================] - 1s 586us/step - loss: 1.3087 - accuracy: 0.4441\n",
      "Epoch 9/25\n",
      "1875/1875 [==============================] - 1s 583us/step - loss: 1.2820 - accuracy: 0.4493\n",
      "Epoch 10/25\n",
      "1875/1875 [==============================] - 1s 576us/step - loss: 1.2754 - accuracy: 0.4520\n",
      "Epoch 11/25\n",
      "1875/1875 [==============================] - 1s 578us/step - loss: 1.2627 - accuracy: 0.4545\n",
      "Epoch 12/25\n",
      "1875/1875 [==============================] - 1s 571us/step - loss: 1.2557 - accuracy: 0.4582\n",
      "Epoch 13/25\n",
      "1875/1875 [==============================] - 1s 560us/step - loss: 1.2241 - accuracy: 0.4817\n",
      "Epoch 14/25\n",
      "1875/1875 [==============================] - 1s 570us/step - loss: 1.1378 - accuracy: 0.5240\n",
      "Epoch 15/25\n",
      "1875/1875 [==============================] - 1s 561us/step - loss: 1.1029 - accuracy: 0.5279\n",
      "Epoch 16/25\n",
      "1875/1875 [==============================] - 1s 559us/step - loss: 1.0809 - accuracy: 0.5349\n",
      "Epoch 17/25\n",
      "1875/1875 [==============================] - 1s 586us/step - loss: 1.0748 - accuracy: 0.5376\n",
      "Epoch 18/25\n",
      "1875/1875 [==============================] - 1s 573us/step - loss: 1.0604 - accuracy: 0.5460\n",
      "Epoch 19/25\n",
      "1875/1875 [==============================] - 1s 609us/step - loss: 1.0527 - accuracy: 0.5542\n",
      "Epoch 20/25\n",
      "1875/1875 [==============================] - 1s 668us/step - loss: 1.0429 - accuracy: 0.5686\n",
      "Epoch 21/25\n",
      "1875/1875 [==============================] - 1s 663us/step - loss: 1.0278 - accuracy: 0.5743\n",
      "Epoch 22/25\n",
      "1875/1875 [==============================] - 1s 662us/step - loss: 1.0269 - accuracy: 0.5759\n",
      "Epoch 23/25\n",
      "1875/1875 [==============================] - 1s 640us/step - loss: 1.0228 - accuracy: 0.5809\n",
      "Epoch 24/25\n",
      "1875/1875 [==============================] - 1s 638us/step - loss: 1.0139 - accuracy: 0.5842\n",
      "Epoch 25/25\n",
      "1875/1875 [==============================] - 1s 660us/step - loss: 1.0150 - accuracy: 0.5801\n",
      "1875/1875 [==============================] - 1s 477us/step - loss: 1.0204 - accuracy: 0.5629\n",
      "Epoch 1/25\n"
     ]
    },
    {
     "name": "stdout",
     "output_type": "stream",
     "text": [
      "938/938 [==============================] - 1s 691us/step - loss: 2.9608 - accuracy: 0.1212\n",
      "Epoch 2/25\n",
      "938/938 [==============================] - 1s 691us/step - loss: 2.1529 - accuracy: 0.1570\n",
      "Epoch 3/25\n",
      "938/938 [==============================] - 1s 674us/step - loss: 1.8472 - accuracy: 0.2083\n",
      "Epoch 4/25\n",
      "938/938 [==============================] - 1s 676us/step - loss: 1.7659 - accuracy: 0.2372\n",
      "Epoch 5/25\n",
      "938/938 [==============================] - 1s 745us/step - loss: 1.6877 - accuracy: 0.2845\n",
      "Epoch 6/25\n",
      "938/938 [==============================] - 1s 798us/step - loss: 1.6459 - accuracy: 0.3019\n",
      "Epoch 7/25\n",
      "938/938 [==============================] - 1s 771us/step - loss: 1.6087 - accuracy: 0.3196\n",
      "Epoch 8/25\n",
      "938/938 [==============================] - 1s 783us/step - loss: 1.5603 - accuracy: 0.3423\n",
      "Epoch 9/25\n",
      "938/938 [==============================] - 1s 799us/step - loss: 1.4605 - accuracy: 0.3904\n",
      "Epoch 10/25\n",
      "938/938 [==============================] - 1s 756us/step - loss: 1.3323 - accuracy: 0.4365\n",
      "Epoch 11/25\n",
      "938/938 [==============================] - 1s 798us/step - loss: 1.3177 - accuracy: 0.4400\n",
      "Epoch 12/25\n",
      "938/938 [==============================] - 1s 905us/step - loss: 1.3014 - accuracy: 0.4433\n",
      "Epoch 13/25\n",
      "938/938 [==============================] - 1s 852us/step - loss: 1.2900 - accuracy: 0.4445\n",
      "Epoch 14/25\n",
      "938/938 [==============================] - 1s 870us/step - loss: 1.2850 - accuracy: 0.4472\n",
      "Epoch 15/25\n",
      "938/938 [==============================] - 1s 852us/step - loss: 1.2762 - accuracy: 0.4476\n",
      "Epoch 16/25\n",
      "938/938 [==============================] - 1s 850us/step - loss: 1.2694 - accuracy: 0.4495\n",
      "Epoch 17/25\n",
      "938/938 [==============================] - 1s 814us/step - loss: 1.2677 - accuracy: 0.4508\n",
      "Epoch 18/25\n",
      "938/938 [==============================] - 1s 807us/step - loss: 1.2600 - accuracy: 0.4527\n",
      "Epoch 19/25\n",
      "938/938 [==============================] - 1s 781us/step - loss: 1.2379 - accuracy: 0.4745\n",
      "Epoch 20/25\n",
      "938/938 [==============================] - 1s 774us/step - loss: 1.1789 - accuracy: 0.5121\n",
      "Epoch 21/25\n",
      "938/938 [==============================] - 1s 775us/step - loss: 1.1244 - accuracy: 0.5307\n",
      "Epoch 22/25\n",
      "938/938 [==============================] - 1s 778us/step - loss: 1.0884 - accuracy: 0.5384\n",
      "Epoch 23/25\n",
      "938/938 [==============================] - 1s 807us/step - loss: 1.0737 - accuracy: 0.5390\n",
      "Epoch 24/25\n",
      "938/938 [==============================] - 1s 846us/step - loss: 1.0641 - accuracy: 0.5432\n",
      "Epoch 25/25\n",
      "938/938 [==============================] - 1s 825us/step - loss: 1.0540 - accuracy: 0.5455\n",
      "1875/1875 [==============================] - 1s 441us/step - loss: 1.0850 - accuracy: 0.5148\n",
      "Epoch 1/25\n",
      "469/469 [==============================] - 0s 868us/step - loss: 3.7170 - accuracy: 0.1721\n",
      "Epoch 2/25\n",
      "469/469 [==============================] - 0s 862us/step - loss: 1.8589 - accuracy: 0.2873\n",
      "Epoch 3/25\n",
      "469/469 [==============================] - 0s 906us/step - loss: 1.6487 - accuracy: 0.3285\n",
      "Epoch 4/25\n",
      "469/469 [==============================] - 0s 975us/step - loss: 1.5834 - accuracy: 0.3372\n",
      "Epoch 5/25\n",
      "469/469 [==============================] - 0s 934us/step - loss: 1.5449 - accuracy: 0.3475\n",
      "Epoch 6/25\n",
      "469/469 [==============================] - 0s 913us/step - loss: 1.3101 - accuracy: 0.4534\n",
      "Epoch 7/25\n",
      "469/469 [==============================] - 0s 955us/step - loss: 1.1893 - accuracy: 0.5020\n",
      "Epoch 8/25\n",
      "469/469 [==============================] - 0s 1ms/step - loss: 1.1021 - accuracy: 0.5296\n",
      "Epoch 9/25\n",
      "469/469 [==============================] - 0s 885us/step - loss: 1.0511 - accuracy: 0.5486\n",
      "Epoch 10/25\n",
      "469/469 [==============================] - 0s 1ms/step - loss: 0.9455 - accuracy: 0.6178\n",
      "Epoch 11/25\n",
      "469/469 [==============================] - 1s 1ms/step - loss: 0.8660 - accuracy: 0.6439\n",
      "Epoch 12/25\n",
      "469/469 [==============================] - 1s 1ms/step - loss: 0.8354 - accuracy: 0.6519\n",
      "Epoch 13/25\n",
      "469/469 [==============================] - 0s 1ms/step - loss: 0.8144 - accuracy: 0.6576\n",
      "Epoch 14/25\n",
      "469/469 [==============================] - 0s 1ms/step - loss: 0.7988 - accuracy: 0.6614\n",
      "Epoch 15/25\n",
      "469/469 [==============================] - 1s 1ms/step - loss: 0.7947 - accuracy: 0.6635\n",
      "Epoch 16/25\n",
      "469/469 [==============================] - 0s 1ms/step - loss: 0.7848 - accuracy: 0.6668\n",
      "Epoch 17/25\n",
      "469/469 [==============================] - 0s 987us/step - loss: 0.7762 - accuracy: 0.6700\n",
      "Epoch 18/25\n",
      "469/469 [==============================] - 0s 1ms/step - loss: 0.7701 - accuracy: 0.6719\n",
      "Epoch 19/25\n",
      "469/469 [==============================] - 0s 989us/step - loss: 0.7651 - accuracy: 0.6742\n",
      "Epoch 20/25\n",
      "469/469 [==============================] - 0s 998us/step - loss: 0.7571 - accuracy: 0.6756\n",
      "Epoch 21/25\n",
      "469/469 [==============================] - 0s 968us/step - loss: 0.7177 - accuracy: 0.7114\n",
      "Epoch 22/25\n",
      "469/469 [==============================] - 0s 904us/step - loss: 0.6824 - accuracy: 0.7307\n",
      "Epoch 23/25\n",
      "469/469 [==============================] - 0s 1ms/step - loss: 0.6705 - accuracy: 0.7332\n",
      "Epoch 24/25\n",
      "469/469 [==============================] - 1s 1ms/step - loss: 0.6723 - accuracy: 0.7349\n",
      "Epoch 25/25\n",
      "469/469 [==============================] - 0s 1ms/step - loss: 0.6670 - accuracy: 0.7371\n",
      "1875/1875 [==============================] - 1s 451us/step - loss: 0.6633 - accuracy: 0.7357\n",
      "Epoch 1/25\n",
      "235/235 [==============================] - 0s 1ms/step - loss: 2.9006 - accuracy: 0.1468\n",
      "Epoch 2/25\n",
      "235/235 [==============================] - 0s 1ms/step - loss: 1.9536 - accuracy: 0.2103\n",
      "Epoch 3/25\n",
      "235/235 [==============================] - 0s 1ms/step - loss: 1.8508 - accuracy: 0.2150\n",
      "Epoch 4/25\n",
      "235/235 [==============================] - 0s 1ms/step - loss: 1.7964 - accuracy: 0.2273\n",
      "Epoch 5/25\n",
      "235/235 [==============================] - 0s 1ms/step - loss: 1.7654 - accuracy: 0.2385\n",
      "Epoch 6/25\n",
      "235/235 [==============================] - 0s 1ms/step - loss: 1.7397 - accuracy: 0.2491\n",
      "Epoch 7/25\n",
      "235/235 [==============================] - 0s 975us/step - loss: 1.7220 - accuracy: 0.2577\n",
      "Epoch 8/25\n",
      "235/235 [==============================] - 0s 987us/step - loss: 1.7071 - accuracy: 0.2617\n",
      "Epoch 9/25\n",
      "235/235 [==============================] - 0s 987us/step - loss: 1.6903 - accuracy: 0.2702\n",
      "Epoch 10/25\n",
      "235/235 [==============================] - 0s 984us/step - loss: 1.6799 - accuracy: 0.2729\n",
      "Epoch 11/25\n",
      "235/235 [==============================] - 0s 992us/step - loss: 1.6704 - accuracy: 0.2794\n",
      "Epoch 12/25\n",
      "235/235 [==============================] - 0s 983us/step - loss: 1.6627 - accuracy: 0.2783\n",
      "Epoch 13/25\n",
      "235/235 [==============================] - 0s 992us/step - loss: 1.6553 - accuracy: 0.2790\n",
      "Epoch 14/25\n",
      "235/235 [==============================] - 0s 983us/step - loss: 1.6481 - accuracy: 0.2839\n",
      "Epoch 15/25\n",
      "235/235 [==============================] - 0s 992us/step - loss: 1.6388 - accuracy: 0.2849\n",
      "Epoch 16/25\n",
      "235/235 [==============================] - 0s 987us/step - loss: 1.6307 - accuracy: 0.2852\n",
      "Epoch 17/25\n",
      "235/235 [==============================] - 0s 983us/step - loss: 1.6253 - accuracy: 0.2861\n",
      "Epoch 18/25\n",
      "235/235 [==============================] - 0s 1ms/step - loss: 1.6242 - accuracy: 0.2868\n",
      "Epoch 19/25\n",
      "235/235 [==============================] - 0s 1ms/step - loss: 1.6201 - accuracy: 0.2850\n",
      "Epoch 20/25\n",
      "235/235 [==============================] - 0s 992us/step - loss: 1.6186 - accuracy: 0.2878\n",
      "Epoch 21/25\n",
      "235/235 [==============================] - 0s 975us/step - loss: 1.6120 - accuracy: 0.2894\n",
      "Epoch 22/25\n",
      "235/235 [==============================] - 0s 970us/step - loss: 1.6087 - accuracy: 0.2907\n",
      "Epoch 23/25\n",
      "235/235 [==============================] - 0s 945us/step - loss: 1.6084 - accuracy: 0.2890\n",
      "Epoch 24/25\n",
      "235/235 [==============================] - 0s 936us/step - loss: 1.6051 - accuracy: 0.2874\n",
      "Epoch 25/25\n",
      "235/235 [==============================] - 0s 975us/step - loss: 1.6038 - accuracy: 0.2896\n",
      "1875/1875 [==============================] - 1s 436us/step - loss: 1.6029 - accuracy: 0.2927\n",
      "Epoch 1/25\n",
      "118/118 [==============================] - 0s 2ms/step - loss: 4.5727 - accuracy: 0.1014\n",
      "Epoch 2/25\n",
      "118/118 [==============================] - 0s 2ms/step - loss: 2.3048 - accuracy: 0.1007\n",
      "Epoch 3/25\n"
     ]
    },
    {
     "name": "stdout",
     "output_type": "stream",
     "text": [
      "118/118 [==============================] - 0s 2ms/step - loss: 2.2663 - accuracy: 0.1199\n",
      "Epoch 4/25\n",
      "118/118 [==============================] - 0s 2ms/step - loss: 2.1589 - accuracy: 0.1710\n",
      "Epoch 5/25\n",
      "118/118 [==============================] - 0s 2ms/step - loss: 2.1173 - accuracy: 0.1738\n",
      "Epoch 6/25\n",
      "118/118 [==============================] - 0s 2ms/step - loss: 2.0962 - accuracy: 0.1781\n",
      "Epoch 7/25\n",
      "118/118 [==============================] - 0s 2ms/step - loss: 2.0765 - accuracy: 0.1802\n",
      "Epoch 8/25\n",
      "118/118 [==============================] - 0s 2ms/step - loss: 2.0624 - accuracy: 0.1850\n",
      "Epoch 9/25\n",
      "118/118 [==============================] - 0s 2ms/step - loss: 2.0448 - accuracy: 0.1892\n",
      "Epoch 10/25\n",
      "118/118 [==============================] - 0s 2ms/step - loss: 2.0330 - accuracy: 0.1916\n",
      "Epoch 11/25\n",
      "118/118 [==============================] - 0s 2ms/step - loss: 2.0192 - accuracy: 0.1943\n",
      "Epoch 12/25\n",
      "118/118 [==============================] - 0s 2ms/step - loss: 2.0009 - accuracy: 0.1981\n",
      "Epoch 13/25\n",
      "118/118 [==============================] - 0s 2ms/step - loss: 1.9839 - accuracy: 0.2029\n",
      "Epoch 14/25\n",
      "118/118 [==============================] - 0s 2ms/step - loss: 1.9275 - accuracy: 0.2163\n",
      "Epoch 15/25\n",
      "118/118 [==============================] - 0s 2ms/step - loss: 1.8354 - accuracy: 0.2336\n",
      "Epoch 16/25\n",
      "118/118 [==============================] - 0s 2ms/step - loss: 1.7965 - accuracy: 0.2386\n",
      "Epoch 17/25\n",
      "118/118 [==============================] - 0s 2ms/step - loss: 1.7696 - accuracy: 0.2428\n",
      "Epoch 18/25\n",
      "118/118 [==============================] - 0s 2ms/step - loss: 1.7463 - accuracy: 0.2494\n",
      "Epoch 19/25\n",
      "118/118 [==============================] - 0s 2ms/step - loss: 1.7342 - accuracy: 0.2546\n",
      "Epoch 20/25\n",
      "118/118 [==============================] - 0s 2ms/step - loss: 1.7194 - accuracy: 0.2600\n",
      "Epoch 21/25\n",
      "118/118 [==============================] - 0s 2ms/step - loss: 1.7076 - accuracy: 0.2627\n",
      "Epoch 22/25\n",
      "118/118 [==============================] - 0s 2ms/step - loss: 1.6983 - accuracy: 0.2630\n",
      "Epoch 23/25\n",
      "118/118 [==============================] - 0s 2ms/step - loss: 1.6813 - accuracy: 0.2743\n",
      "Epoch 24/25\n",
      "118/118 [==============================] - 0s 2ms/step - loss: 1.6585 - accuracy: 0.2819\n",
      "Epoch 25/25\n",
      "118/118 [==============================] - 0s 2ms/step - loss: 1.6410 - accuracy: 0.2871\n",
      "1875/1875 [==============================] - 1s 422us/step - loss: 1.6350 - accuracy: 0.2954\n",
      "Epoch 1/25\n",
      "59/59 [==============================] - 0s 3ms/step - loss: 13.5169 - accuracy: 0.1100\n",
      "Epoch 2/25\n",
      "59/59 [==============================] - 0s 3ms/step - loss: 2.2512 - accuracy: 0.1357\n",
      "Epoch 3/25\n",
      "59/59 [==============================] - 0s 3ms/step - loss: 2.1080 - accuracy: 0.2092\n",
      "Epoch 4/25\n",
      "59/59 [==============================] - 0s 3ms/step - loss: 1.9923 - accuracy: 0.2447\n",
      "Epoch 5/25\n",
      "59/59 [==============================] - 0s 3ms/step - loss: 1.9539 - accuracy: 0.2492\n",
      "Epoch 6/25\n",
      "59/59 [==============================] - 0s 3ms/step - loss: 1.9154 - accuracy: 0.2603\n",
      "Epoch 7/25\n",
      "59/59 [==============================] - 0s 3ms/step - loss: 1.8919 - accuracy: 0.2641\n",
      "Epoch 8/25\n",
      "59/59 [==============================] - 0s 3ms/step - loss: 1.8735 - accuracy: 0.2686\n",
      "Epoch 9/25\n",
      "59/59 [==============================] - 0s 3ms/step - loss: 1.8598 - accuracy: 0.2726\n",
      "Epoch 10/25\n",
      "59/59 [==============================] - 0s 3ms/step - loss: 1.8348 - accuracy: 0.2791\n",
      "Epoch 11/25\n",
      "59/59 [==============================] - 0s 3ms/step - loss: 1.8232 - accuracy: 0.2827\n",
      "Epoch 12/25\n",
      "59/59 [==============================] - 0s 3ms/step - loss: 1.8038 - accuracy: 0.2879\n",
      "Epoch 13/25\n",
      "59/59 [==============================] - 0s 3ms/step - loss: 1.7928 - accuracy: 0.2908\n",
      "Epoch 14/25\n",
      "59/59 [==============================] - 0s 3ms/step - loss: 1.7796 - accuracy: 0.2963\n",
      "Epoch 15/25\n",
      "59/59 [==============================] - 0s 3ms/step - loss: 1.7699 - accuracy: 0.2988\n",
      "Epoch 16/25\n",
      "59/59 [==============================] - 0s 3ms/step - loss: 1.7515 - accuracy: 0.3064\n",
      "Epoch 17/25\n",
      "59/59 [==============================] - 0s 3ms/step - loss: 1.6967 - accuracy: 0.3269\n",
      "Epoch 18/25\n",
      "59/59 [==============================] - 0s 3ms/step - loss: 1.5854 - accuracy: 0.3523\n",
      "Epoch 19/25\n",
      "59/59 [==============================] - 0s 3ms/step - loss: 1.5146 - accuracy: 0.3578\n",
      "Epoch 20/25\n",
      "59/59 [==============================] - 0s 3ms/step - loss: 1.4833 - accuracy: 0.3641\n",
      "Epoch 21/25\n",
      "59/59 [==============================] - 0s 3ms/step - loss: 1.4576 - accuracy: 0.3728\n",
      "Epoch 22/25\n",
      "59/59 [==============================] - 0s 3ms/step - loss: 1.4372 - accuracy: 0.3814\n",
      "Epoch 23/25\n",
      "59/59 [==============================] - 0s 3ms/step - loss: 1.4194 - accuracy: 0.3944\n",
      "Epoch 24/25\n",
      "59/59 [==============================] - 0s 3ms/step - loss: 1.4009 - accuracy: 0.4066\n",
      "Epoch 25/25\n",
      "59/59 [==============================] - 0s 3ms/step - loss: 1.3834 - accuracy: 0.4190\n",
      "1875/1875 [==============================] - 1s 425us/step - loss: 1.3600 - accuracy: 0.4443\n",
      "Epoch 1/25\n",
      "30/30 [==============================] - 0s 4ms/step - loss: 11.3099 - accuracy: 0.1040\n",
      "Epoch 2/25\n",
      "30/30 [==============================] - 0s 4ms/step - loss: 2.2871 - accuracy: 0.1087\n",
      "Epoch 3/25\n",
      "30/30 [==============================] - 0s 4ms/step - loss: 2.2593 - accuracy: 0.1243\n",
      "Epoch 4/25\n",
      "30/30 [==============================] - 0s 4ms/step - loss: 2.2443 - accuracy: 0.1332\n",
      "Epoch 5/25\n",
      "30/30 [==============================] - 0s 4ms/step - loss: 2.2231 - accuracy: 0.1414\n",
      "Epoch 6/25\n",
      "30/30 [==============================] - 0s 4ms/step - loss: 2.1982 - accuracy: 0.1517\n",
      "Epoch 7/25\n",
      "30/30 [==============================] - 0s 4ms/step - loss: 2.1557 - accuracy: 0.1671\n",
      "Epoch 8/25\n",
      "30/30 [==============================] - 0s 4ms/step - loss: 2.0913 - accuracy: 0.1813\n",
      "Epoch 9/25\n",
      "30/30 [==============================] - 0s 4ms/step - loss: 2.0610 - accuracy: 0.1867\n",
      "Epoch 10/25\n",
      "30/30 [==============================] - 0s 4ms/step - loss: 2.0458 - accuracy: 0.1909\n",
      "Epoch 11/25\n",
      "30/30 [==============================] - 0s 4ms/step - loss: 2.0350 - accuracy: 0.1944\n",
      "Epoch 12/25\n",
      "30/30 [==============================] - 0s 5ms/step - loss: 2.0220 - accuracy: 0.1962\n",
      "Epoch 13/25\n",
      "30/30 [==============================] - 0s 4ms/step - loss: 2.0138 - accuracy: 0.1981\n",
      "Epoch 14/25\n",
      "30/30 [==============================] - 0s 4ms/step - loss: 2.0118 - accuracy: 0.1997\n",
      "Epoch 15/25\n",
      "30/30 [==============================] - 0s 4ms/step - loss: 2.0000 - accuracy: 0.2019\n",
      "Epoch 16/25\n",
      "30/30 [==============================] - 0s 5ms/step - loss: 1.9950 - accuracy: 0.2039\n",
      "Epoch 17/25\n",
      "30/30 [==============================] - 0s 4ms/step - loss: 1.9861 - accuracy: 0.2079\n",
      "Epoch 18/25\n",
      "30/30 [==============================] - 0s 4ms/step - loss: 1.9756 - accuracy: 0.2101\n",
      "Epoch 19/25\n",
      "30/30 [==============================] - 0s 4ms/step - loss: 1.9723 - accuracy: 0.2114\n",
      "Epoch 20/25\n",
      "30/30 [==============================] - 0s 4ms/step - loss: 1.9634 - accuracy: 0.2156\n",
      "Epoch 21/25\n",
      "30/30 [==============================] - 0s 4ms/step - loss: 1.9592 - accuracy: 0.2159\n",
      "Epoch 22/25\n",
      "30/30 [==============================] - 0s 4ms/step - loss: 1.9483 - accuracy: 0.2198\n",
      "Epoch 23/25\n",
      "30/30 [==============================] - 0s 4ms/step - loss: 1.9471 - accuracy: 0.2232\n",
      "Epoch 24/25\n",
      "30/30 [==============================] - 0s 4ms/step - loss: 1.9335 - accuracy: 0.2260\n",
      "Epoch 25/25\n",
      "30/30 [==============================] - 0s 4ms/step - loss: 1.9211 - accuracy: 0.2307\n",
      "   1/1875 [..............................] - ETA: 0s - loss: 1.9250 - accuracy: 0.1562WARNING:tensorflow:Callbacks method `on_test_batch_end` is slow compared to the batch time (batch time: 0.0000s vs `on_test_batch_end` time: 0.0010s). Check your callbacks.\n",
      "1875/1875 [==============================] - 1s 442us/step - loss: 1.9147 - accuracy: 0.2306\n",
      "Epoch 1/25\n",
      "15/15 [==============================] - 0s 7ms/step - loss: 46.4015 - accuracy: 0.1150\n",
      "Epoch 2/25\n",
      "15/15 [==============================] - 0s 7ms/step - loss: 2.3302 - accuracy: 0.1167\n",
      "Epoch 3/25\n",
      "15/15 [==============================] - 0s 7ms/step - loss: 2.2885 - accuracy: 0.1145\n",
      "Epoch 4/25\n",
      "15/15 [==============================] - 0s 8ms/step - loss: 2.2855 - accuracy: 0.1159\n",
      "Epoch 5/25\n"
     ]
    },
    {
     "name": "stdout",
     "output_type": "stream",
     "text": [
      "15/15 [==============================] - 0s 8ms/step - loss: 2.2835 - accuracy: 0.1165\n",
      "Epoch 6/25\n",
      "15/15 [==============================] - 0s 7ms/step - loss: 2.2818 - accuracy: 0.1172\n",
      "Epoch 7/25\n",
      "15/15 [==============================] - 0s 7ms/step - loss: 2.2800 - accuracy: 0.1183\n",
      "Epoch 8/25\n",
      "15/15 [==============================] - 0s 7ms/step - loss: 2.2770 - accuracy: 0.1203\n",
      "Epoch 9/25\n",
      "15/15 [==============================] - 0s 7ms/step - loss: 2.2738 - accuracy: 0.1221\n",
      "Epoch 10/25\n",
      "15/15 [==============================] - 0s 7ms/step - loss: 2.2706 - accuracy: 0.1243\n",
      "Epoch 11/25\n",
      "15/15 [==============================] - 0s 7ms/step - loss: 2.2675 - accuracy: 0.1263\n",
      "Epoch 12/25\n",
      "15/15 [==============================] - 0s 7ms/step - loss: 2.2647 - accuracy: 0.1286\n",
      "Epoch 13/25\n",
      "15/15 [==============================] - 0s 7ms/step - loss: 2.2613 - accuracy: 0.1291\n",
      "Epoch 14/25\n",
      "15/15 [==============================] - 0s 7ms/step - loss: 2.2586 - accuracy: 0.1313\n",
      "Epoch 15/25\n",
      "15/15 [==============================] - 0s 7ms/step - loss: 2.2560 - accuracy: 0.1320\n",
      "Epoch 16/25\n",
      "15/15 [==============================] - 0s 7ms/step - loss: 2.2535 - accuracy: 0.1328\n",
      "Epoch 17/25\n",
      "15/15 [==============================] - 0s 7ms/step - loss: 2.2506 - accuracy: 0.1341\n",
      "Epoch 18/25\n",
      "15/15 [==============================] - 0s 7ms/step - loss: 2.2480 - accuracy: 0.1358\n",
      "Epoch 19/25\n",
      "15/15 [==============================] - 0s 7ms/step - loss: 2.2447 - accuracy: 0.1370\n",
      "Epoch 20/25\n",
      "15/15 [==============================] - 0s 7ms/step - loss: 2.2415 - accuracy: 0.1372\n",
      "Epoch 21/25\n",
      "15/15 [==============================] - 0s 7ms/step - loss: 2.2371 - accuracy: 0.1393\n",
      "Epoch 22/25\n",
      "15/15 [==============================] - 0s 7ms/step - loss: 2.2292 - accuracy: 0.1422\n",
      "Epoch 23/25\n",
      "15/15 [==============================] - 0s 7ms/step - loss: 2.2175 - accuracy: 0.1450\n",
      "Epoch 24/25\n",
      "15/15 [==============================] - 0s 7ms/step - loss: 2.2059 - accuracy: 0.1478\n",
      "Epoch 25/25\n",
      "15/15 [==============================] - 0s 5ms/step - loss: 2.1942 - accuracy: 0.1484\n",
      "1875/1875 [==============================] - 1s 419us/step - loss: 2.1884 - accuracy: 0.1486\n",
      "Epoch 1/25\n",
      "8/8 [==============================] - 0s 12ms/step - loss: 26.6534 - accuracy: 0.1277\n",
      "Epoch 2/25\n",
      "8/8 [==============================] - 0s 12ms/step - loss: 2.5325 - accuracy: 0.1246\n",
      "Epoch 3/25\n",
      "8/8 [==============================] - 0s 12ms/step - loss: 2.3139 - accuracy: 0.1119\n",
      "Epoch 4/25\n",
      "8/8 [==============================] - 0s 11ms/step - loss: 2.2869 - accuracy: 0.1137\n",
      "Epoch 5/25\n",
      "8/8 [==============================] - 0s 11ms/step - loss: 2.2711 - accuracy: 0.1206\n",
      "Epoch 6/25\n",
      "8/8 [==============================] - 0s 11ms/step - loss: 2.2623 - accuracy: 0.1295\n",
      "Epoch 7/25\n",
      "8/8 [==============================] - 0s 12ms/step - loss: 2.2551 - accuracy: 0.1286\n",
      "Epoch 8/25\n",
      "8/8 [==============================] - 0s 12ms/step - loss: 2.2493 - accuracy: 0.1316\n",
      "Epoch 9/25\n",
      "8/8 [==============================] - 0s 11ms/step - loss: 2.2442 - accuracy: 0.1339\n",
      "Epoch 10/25\n",
      "8/8 [==============================] - 0s 11ms/step - loss: 2.2388 - accuracy: 0.1325\n",
      "Epoch 11/25\n",
      "8/8 [==============================] - 0s 10ms/step - loss: 2.2327 - accuracy: 0.1388\n",
      "Epoch 12/25\n",
      "8/8 [==============================] - 0s 11ms/step - loss: 2.2262 - accuracy: 0.1408\n",
      "Epoch 13/25\n",
      "8/8 [==============================] - 0s 11ms/step - loss: 2.2199 - accuracy: 0.1423\n",
      "Epoch 14/25\n",
      "8/8 [==============================] - 0s 11ms/step - loss: 2.2146 - accuracy: 0.1483\n",
      "Epoch 15/25\n",
      "8/8 [==============================] - 0s 10ms/step - loss: 2.2066 - accuracy: 0.1476\n",
      "Epoch 16/25\n",
      "8/8 [==============================] - 0s 11ms/step - loss: 2.1990 - accuracy: 0.1519\n",
      "Epoch 17/25\n",
      "8/8 [==============================] - 0s 11ms/step - loss: 2.1932 - accuracy: 0.1533\n",
      "Epoch 18/25\n",
      "8/8 [==============================] - 0s 11ms/step - loss: 2.1871 - accuracy: 0.1551\n",
      "Epoch 19/25\n",
      "8/8 [==============================] - 0s 11ms/step - loss: 2.1805 - accuracy: 0.1601\n",
      "Epoch 20/25\n",
      "8/8 [==============================] - 0s 11ms/step - loss: 2.1738 - accuracy: 0.1609\n",
      "Epoch 21/25\n",
      "8/8 [==============================] - 0s 11ms/step - loss: 2.1684 - accuracy: 0.1625\n",
      "Epoch 22/25\n",
      "8/8 [==============================] - 0s 11ms/step - loss: 2.1633 - accuracy: 0.1641\n",
      "Epoch 23/25\n",
      "8/8 [==============================] - 0s 11ms/step - loss: 2.1592 - accuracy: 0.1661\n",
      "Epoch 24/25\n",
      "8/8 [==============================] - 0s 9ms/step - loss: 2.1550 - accuracy: 0.1675\n",
      "Epoch 25/25\n",
      "8/8 [==============================] - 0s 8ms/step - loss: 2.1518 - accuracy: 0.1692\n",
      "1875/1875 [==============================] - 1s 424us/step - loss: 2.1503 - accuracy: 0.1674\n"
     ]
    }
   ],
   "source": [
    "batch_size = []\n",
    "acc_value = []\n",
    "for i in range(3, 14):\n",
    "  batch_size.append(i)\n",
    "  acc_value.append(correr_modelo_mini_batch(2**i)[1])"
   ]
  },
  {
   "cell_type": "code",
   "execution_count": 59,
   "metadata": {},
   "outputs": [
    {
     "data": {
      "image/png": "[encoded data removed]",
      "text/plain": [
       "<Figure size 432x288 with 1 Axes>"
      ]
     },
     "metadata": {
      "needs_background": "light"
     },
     "output_type": "display_data"
    }
   ],
   "source": [
    "plt.scatter(batch_size,acc_value)\n",
    "plt.show()"
   ]
  },
  {
   "cell_type": "code",
   "execution_count": 114,
   "metadata": {
    "id": "ThkcuKJoeSxU"
   },
   "outputs": [],
   "source": [
    "def find_max_acc_minibatch():\n",
    "  best_batch_size = []\n",
    "  best_acc_value = []\n",
    "  for i in range(0,2):\n",
    "    batch_size = []\n",
    "    acc_value = []\n",
    "    for i in range(5, 9):\n",
    "      batch_size.append(2**i)\n",
    "      acc_value.append(correr_modelo_mini_batch(2**i)[1])\n",
    "    maxindex = acc_value.index(max(acc_value))\n",
    "    best_batch_size.append(batch_size[maxindex])\n",
    "    best_acc_value.append(acc_value[maxindex])\n",
    "  print(best_batch_size)\n",
    "  print(best_acc_value)"
   ]
  },
  {
   "cell_type": "code",
   "execution_count": 115,
   "metadata": {
    "colab": {
     "base_uri": "https://localhost:8080/"
    },
    "id": "pGQ1oejAhkzg",
    "outputId": "6139fef9-b379-4ed6-8b97-60e920488321"
   },
   "outputs": [
    {
     "name": "stdout",
     "output_type": "stream",
     "text": [
      "Epoch 1/25\n",
      "1875/1875 [==============================] - 1s 673us/step - loss: 2.5401 - accuracy: 0.0970\n",
      "Epoch 2/25\n",
      "1875/1875 [==============================] - 1s 671us/step - loss: 2.3022 - accuracy: 0.0984\n",
      "Epoch 3/25\n",
      "1875/1875 [==============================] - 1s 663us/step - loss: 2.2913 - accuracy: 0.1059\n",
      "Epoch 4/25\n",
      "1875/1875 [==============================] - 1s 674us/step - loss: 2.2556 - accuracy: 0.1211\n",
      "Epoch 5/25\n",
      "1875/1875 [==============================] - 1s 700us/step - loss: 2.1985 - accuracy: 0.1417\n",
      "Epoch 6/25\n",
      "1875/1875 [==============================] - 1s 714us/step - loss: 1.9557 - accuracy: 0.1948\n",
      "Epoch 7/25\n",
      "1875/1875 [==============================] - 1s 698us/step - loss: 1.7845 - accuracy: 0.2077\n",
      "Epoch 8/25\n",
      "1875/1875 [==============================] - 1s 722us/step - loss: 1.7304 - accuracy: 0.2410\n",
      "Epoch 9/25\n",
      "1875/1875 [==============================] - 1s 707us/step - loss: 1.6867 - accuracy: 0.2688\n",
      "Epoch 10/25\n",
      "1875/1875 [==============================] - 1s 659us/step - loss: 1.6509 - accuracy: 0.2826\n",
      "Epoch 11/25\n",
      "1875/1875 [==============================] - 1s 665us/step - loss: 1.6388 - accuracy: 0.2860\n",
      "Epoch 12/25\n",
      "1875/1875 [==============================] - 1s 668us/step - loss: 1.6253 - accuracy: 0.2870\n",
      "Epoch 13/25\n",
      "1875/1875 [==============================] - 1s 670us/step - loss: 1.6194 - accuracy: 0.2893\n",
      "Epoch 14/25\n",
      "1875/1875 [==============================] - 1s 665us/step - loss: 1.6140 - accuracy: 0.2878\n",
      "Epoch 15/25\n",
      "1875/1875 [==============================] - 1s 681us/step - loss: 1.6146 - accuracy: 0.2856\n",
      "Epoch 16/25\n",
      "1875/1875 [==============================] - 1s 686us/step - loss: 1.6037 - accuracy: 0.2892\n",
      "Epoch 17/25\n",
      "1875/1875 [==============================] - 1s 675us/step - loss: 1.6118 - accuracy: 0.2831\n",
      "Epoch 18/25\n",
      "1875/1875 [==============================] - 1s 663us/step - loss: 1.5976 - accuracy: 0.2860\n",
      "Epoch 19/25\n",
      "1875/1875 [==============================] - 1s 666us/step - loss: 1.5993 - accuracy: 0.2829\n",
      "Epoch 20/25\n",
      "1875/1875 [==============================] - 1s 672us/step - loss: 1.6002 - accuracy: 0.2857\n",
      "Epoch 21/25\n",
      "1875/1875 [==============================] - 1s 670us/step - loss: 1.5969 - accuracy: 0.2837\n",
      "Epoch 22/25\n",
      "1875/1875 [==============================] - 1s 671us/step - loss: 1.5966 - accuracy: 0.2837\n",
      "Epoch 23/25\n",
      "1875/1875 [==============================] - 1s 666us/step - loss: 1.5908 - accuracy: 0.2808\n",
      "Epoch 24/25\n",
      "1875/1875 [==============================] - 1s 667us/step - loss: 1.5977 - accuracy: 0.2785\n",
      "Epoch 25/25\n",
      "1875/1875 [==============================] - 1s 664us/step - loss: 1.6005 - accuracy: 0.2799\n",
      "1875/1875 [==============================] - 1s 440us/step - loss: 1.5789 - accuracy: 0.2822\n",
      "Epoch 1/25\n",
      "938/938 [==============================] - 1s 807us/step - loss: 2.6841 - accuracy: 0.1211\n",
      "Epoch 2/25\n",
      "938/938 [==============================] - 1s 801us/step - loss: 2.0186 - accuracy: 0.2119\n",
      "Epoch 3/25\n",
      "938/938 [==============================] - 1s 796us/step - loss: 1.5289 - accuracy: 0.3701\n",
      "Epoch 4/25\n",
      "938/938 [==============================] - 1s 826us/step - loss: 1.3052 - accuracy: 0.4510\n",
      "Epoch 5/25\n",
      "938/938 [==============================] - 1s 849us/step - loss: 1.2301 - accuracy: 0.4884\n",
      "Epoch 6/25\n",
      "938/938 [==============================] - 1s 802us/step - loss: 1.1420 - accuracy: 0.5252\n",
      "Epoch 7/25\n",
      "938/938 [==============================] - 1s 796us/step - loss: 1.0866 - accuracy: 0.5365\n",
      "Epoch 8/25\n",
      "938/938 [==============================] - 1s 797us/step - loss: 1.0588 - accuracy: 0.5436\n",
      "Epoch 9/25\n",
      "938/938 [==============================] - 1s 797us/step - loss: 1.0531 - accuracy: 0.5452\n",
      "Epoch 10/25\n",
      "938/938 [==============================] - 1s 811us/step - loss: 1.0354 - accuracy: 0.5503\n",
      "Epoch 11/25\n",
      "938/938 [==============================] - 1s 820us/step - loss: 1.0257 - accuracy: 0.5534\n",
      "Epoch 12/25\n",
      "938/938 [==============================] - 1s 792us/step - loss: 1.0243 - accuracy: 0.5560\n",
      "Epoch 13/25\n",
      "938/938 [==============================] - 1s 796us/step - loss: 1.0087 - accuracy: 0.5644\n",
      "Epoch 14/25\n",
      "938/938 [==============================] - 1s 793us/step - loss: 1.0103 - accuracy: 0.5630\n",
      "Epoch 15/25\n",
      "938/938 [==============================] - 1s 792us/step - loss: 1.0103 - accuracy: 0.5628\n",
      "Epoch 16/25\n",
      "938/938 [==============================] - 1s 801us/step - loss: 0.9996 - accuracy: 0.5679\n",
      "Epoch 17/25\n",
      "938/938 [==============================] - 1s 799us/step - loss: 0.9887 - accuracy: 0.5711\n",
      "Epoch 18/25\n",
      "938/938 [==============================] - 1s 790us/step - loss: 0.9858 - accuracy: 0.5757\n",
      "Epoch 19/25\n",
      "938/938 [==============================] - 1s 797us/step - loss: 0.9799 - accuracy: 0.5745\n",
      "Epoch 20/25\n",
      "938/938 [==============================] - 1s 797us/step - loss: 0.9824 - accuracy: 0.5786\n",
      "Epoch 21/25\n",
      "938/938 [==============================] - 1s 796us/step - loss: 0.9704 - accuracy: 0.5827\n",
      "Epoch 22/25\n",
      "938/938 [==============================] - 1s 794us/step - loss: 0.9757 - accuracy: 0.5785\n",
      "Epoch 23/25\n",
      "938/938 [==============================] - 1s 792us/step - loss: 0.9649 - accuracy: 0.5820\n",
      "Epoch 24/25\n",
      "938/938 [==============================] - 1s 793us/step - loss: 0.9496 - accuracy: 0.5975\n",
      "Epoch 25/25\n",
      "938/938 [==============================] - 1s 792us/step - loss: 0.9139 - accuracy: 0.6271\n",
      "   1/1875 [..............................] - ETA: 0s - loss: 0.8649 - accuracy: 0.5312WARNING:tensorflow:Callbacks method `on_test_batch_begin` is slow compared to the batch time (batch time: 0.0000s vs `on_test_batch_begin` time: 0.0010s). Check your callbacks.\n",
      "1875/1875 [==============================] - 1s 440us/step - loss: 0.9197 - accuracy: 0.6288\n",
      "Epoch 1/25\n",
      "469/469 [==============================] - 0s 996us/step - loss: 3.3366 - accuracy: 0.1160\n",
      "Epoch 2/25\n",
      "469/469 [==============================] - 0s 974us/step - loss: 1.9589 - accuracy: 0.2399\n",
      "Epoch 3/25\n",
      "469/469 [==============================] - 0s 1000us/step - loss: 1.5820 - accuracy: 0.3291\n",
      "Epoch 4/25\n",
      "469/469 [==============================] - 0s 987us/step - loss: 1.4894 - accuracy: 0.3731\n",
      "Epoch 5/25\n",
      "469/469 [==============================] - 0s 989us/step - loss: 1.4262 - accuracy: 0.4025\n",
      "Epoch 6/25\n",
      "469/469 [==============================] - 0s 985us/step - loss: 1.3888 - accuracy: 0.4206\n",
      "Epoch 7/25\n",
      "469/469 [==============================] - 0s 1ms/step - loss: 1.3579 - accuracy: 0.4312\n",
      "Epoch 8/25\n",
      "469/469 [==============================] - 0s 985us/step - loss: 1.3071 - accuracy: 0.4608\n",
      "Epoch 9/25\n",
      "469/469 [==============================] - 0s 1000us/step - loss: 1.2473 - accuracy: 0.4873\n",
      "Epoch 10/25\n",
      "469/469 [==============================] - 0s 996us/step - loss: 1.2214 - accuracy: 0.4947\n",
      "Epoch 11/25\n",
      "469/469 [==============================] - 0s 985us/step - loss: 1.1817 - accuracy: 0.5068\n",
      "Epoch 12/25\n",
      "469/469 [==============================] - 0s 994us/step - loss: 1.1526 - accuracy: 0.5224\n",
      "Epoch 13/25\n",
      "469/469 [==============================] - 0s 1ms/step - loss: 1.0515 - accuracy: 0.5832\n",
      "Epoch 14/25\n",
      "469/469 [==============================] - 0s 1ms/step - loss: 0.9916 - accuracy: 0.5990\n",
      "Epoch 15/25\n",
      "469/469 [==============================] - 0s 992us/step - loss: 0.9508 - accuracy: 0.6126\n",
      "Epoch 16/25\n",
      "469/469 [==============================] - 0s 991us/step - loss: 0.9290 - accuracy: 0.6203\n",
      "Epoch 17/25\n",
      "469/469 [==============================] - 0s 994us/step - loss: 0.8997 - accuracy: 0.6370\n",
      "Epoch 18/25\n",
      "469/469 [==============================] - 0s 987us/step - loss: 0.8595 - accuracy: 0.6567\n",
      "Epoch 19/25\n",
      "469/469 [==============================] - 0s 972us/step - loss: 0.8448 - accuracy: 0.6570\n",
      "Epoch 20/25\n",
      "469/469 [==============================] - 0s 987us/step - loss: 0.8271 - accuracy: 0.6603\n",
      "Epoch 21/25\n",
      "469/469 [==============================] - 0s 977us/step - loss: 0.8256 - accuracy: 0.6581\n",
      "Epoch 22/25\n",
      "469/469 [==============================] - 0s 987us/step - loss: 0.8112 - accuracy: 0.6637\n",
      "Epoch 23/25\n",
      "469/469 [==============================] - 0s 977us/step - loss: 0.8027 - accuracy: 0.6697\n",
      "Epoch 24/25\n",
      "469/469 [==============================] - 0s 983us/step - loss: 0.7938 - accuracy: 0.6716\n",
      "Epoch 25/25\n",
      "469/469 [==============================] - 0s 985us/step - loss: 0.7779 - accuracy: 0.6774\n"
     ]
    },
    {
     "name": "stdout",
     "output_type": "stream",
     "text": [
      "1875/1875 [==============================] - 1s 439us/step - loss: 0.7683 - accuracy: 0.6792\n",
      "Epoch 1/25\n",
      "235/235 [==============================] - 0s 1ms/step - loss: 4.1129 - accuracy: 0.1738\n",
      "Epoch 2/25\n",
      "235/235 [==============================] - 0s 987us/step - loss: 2.1136 - accuracy: 0.1810\n",
      "Epoch 3/25\n",
      "235/235 [==============================] - 0s 996us/step - loss: 2.0871 - accuracy: 0.1841\n",
      "Epoch 4/25\n",
      "235/235 [==============================] - 0s 1000us/step - loss: 2.0745 - accuracy: 0.1840\n",
      "Epoch 5/25\n",
      "235/235 [==============================] - 0s 1ms/step - loss: 2.0631 - accuracy: 0.1850\n",
      "Epoch 6/25\n",
      "235/235 [==============================] - 0s 996us/step - loss: 2.0534 - accuracy: 0.1875\n",
      "Epoch 7/25\n",
      "235/235 [==============================] - 0s 991us/step - loss: 2.0459 - accuracy: 0.1901\n",
      "Epoch 8/25\n",
      "235/235 [==============================] - 0s 996us/step - loss: 2.0443 - accuracy: 0.1883\n",
      "Epoch 9/25\n",
      "235/235 [==============================] - 0s 1ms/step - loss: 2.0383 - accuracy: 0.1885\n",
      "Epoch 10/25\n",
      "235/235 [==============================] - 0s 996us/step - loss: 2.0324 - accuracy: 0.1909\n",
      "Epoch 11/25\n",
      "235/235 [==============================] - 0s 1ms/step - loss: 2.0300 - accuracy: 0.1920\n",
      "Epoch 12/25\n",
      "235/235 [==============================] - 0s 979us/step - loss: 2.0249 - accuracy: 0.1938\n",
      "Epoch 13/25\n",
      "235/235 [==============================] - 0s 1ms/step - loss: 1.9848 - accuracy: 0.2183\n",
      "Epoch 14/25\n",
      "235/235 [==============================] - 0s 1000us/step - loss: 1.9519 - accuracy: 0.2294\n",
      "Epoch 15/25\n",
      "235/235 [==============================] - 0s 987us/step - loss: 1.9100 - accuracy: 0.2476\n",
      "Epoch 16/25\n",
      "235/235 [==============================] - 0s 987us/step - loss: 1.8380 - accuracy: 0.2712\n",
      "Epoch 17/25\n",
      "235/235 [==============================] - 0s 996us/step - loss: 1.7199 - accuracy: 0.3031\n",
      "Epoch 18/25\n",
      "235/235 [==============================] - 0s 996us/step - loss: 1.6102 - accuracy: 0.3293\n",
      "Epoch 19/25\n",
      "235/235 [==============================] - 0s 1000us/step - loss: 1.5609 - accuracy: 0.3313\n",
      "Epoch 20/25\n",
      "235/235 [==============================] - 0s 987us/step - loss: 1.5321 - accuracy: 0.3331\n",
      "Epoch 21/25\n",
      "235/235 [==============================] - 0s 1000us/step - loss: 1.5139 - accuracy: 0.3368\n",
      "Epoch 22/25\n",
      "235/235 [==============================] - 0s 991us/step - loss: 1.4992 - accuracy: 0.3384\n",
      "Epoch 23/25\n",
      "235/235 [==============================] - 0s 991us/step - loss: 1.4903 - accuracy: 0.3399\n",
      "Epoch 24/25\n",
      "235/235 [==============================] - 0s 992us/step - loss: 1.4773 - accuracy: 0.3388\n",
      "Epoch 25/25\n",
      "235/235 [==============================] - 0s 991us/step - loss: 1.4732 - accuracy: 0.3474\n",
      "1875/1875 [==============================] - 1s 427us/step - loss: 1.4559 - accuracy: 0.3566\n",
      "Epoch 1/25\n",
      "   1/1875 [..............................] - ETA: 0s - loss: 142.4356 - accuracy: 0.1250WARNING:tensorflow:Callbacks method `on_train_batch_end` is slow compared to the batch time (batch time: 0.0000s vs `on_train_batch_end` time: 0.0010s). Check your callbacks.\n",
      "1875/1875 [==============================] - 1s 663us/step - loss: 2.2023 - accuracy: 0.2457\n",
      "Epoch 2/25\n",
      "1875/1875 [==============================] - 1s 661us/step - loss: 1.6471 - accuracy: 0.3255\n",
      "Epoch 3/25\n",
      "1875/1875 [==============================] - 1s 666us/step - loss: 1.5389 - accuracy: 0.3637\n",
      "Epoch 4/25\n",
      "1875/1875 [==============================] - 1s 668us/step - loss: 1.3643 - accuracy: 0.4350\n",
      "Epoch 5/25\n",
      "1875/1875 [==============================] - 1s 658us/step - loss: 1.2971 - accuracy: 0.4484\n",
      "Epoch 6/25\n",
      "1875/1875 [==============================] - 1s 651us/step - loss: 1.2633 - accuracy: 0.4561\n",
      "Epoch 7/25\n",
      "1875/1875 [==============================] - 1s 650us/step - loss: 1.2563 - accuracy: 0.4572\n",
      "Epoch 8/25\n",
      "1875/1875 [==============================] - 1s 653us/step - loss: 1.2378 - accuracy: 0.4813\n",
      "Epoch 9/25\n",
      "1875/1875 [==============================] - 1s 651us/step - loss: 1.1615 - accuracy: 0.5165\n",
      "Epoch 10/25\n",
      "1875/1875 [==============================] - 1s 659us/step - loss: 1.0946 - accuracy: 0.5358\n",
      "Epoch 11/25\n",
      "1875/1875 [==============================] - 1s 660us/step - loss: 1.0672 - accuracy: 0.5431\n",
      "Epoch 12/25\n",
      "1875/1875 [==============================] - 1s 662us/step - loss: 1.0532 - accuracy: 0.5523\n",
      "Epoch 13/25\n",
      "1875/1875 [==============================] - 1s 661us/step - loss: 1.0332 - accuracy: 0.5694\n",
      "Epoch 14/25\n",
      "1875/1875 [==============================] - 1s 659us/step - loss: 1.0213 - accuracy: 0.5742\n",
      "Epoch 15/25\n",
      "1875/1875 [==============================] - 1s 651us/step - loss: 1.0227 - accuracy: 0.5780\n",
      "Epoch 16/25\n",
      "1875/1875 [==============================] - 1s 655us/step - loss: 1.0208 - accuracy: 0.5810\n",
      "Epoch 17/25\n",
      "1875/1875 [==============================] - 1s 660us/step - loss: 0.9948 - accuracy: 0.5884\n",
      "Epoch 18/25\n",
      "1875/1875 [==============================] - 1s 652us/step - loss: 0.9961 - accuracy: 0.5915\n",
      "Epoch 19/25\n",
      "1875/1875 [==============================] - 1s 653us/step - loss: 0.9948 - accuracy: 0.5925\n",
      "Epoch 20/25\n",
      "1875/1875 [==============================] - 1s 661us/step - loss: 0.9905 - accuracy: 0.5948\n",
      "Epoch 21/25\n",
      "1875/1875 [==============================] - 1s 661us/step - loss: 0.9859 - accuracy: 0.5965\n",
      "Epoch 22/25\n",
      "1875/1875 [==============================] - 1s 662us/step - loss: 0.9826 - accuracy: 0.6025\n",
      "Epoch 23/25\n",
      "1875/1875 [==============================] - 1s 657us/step - loss: 0.9754 - accuracy: 0.6038\n",
      "Epoch 24/25\n",
      "1875/1875 [==============================] - 1s 666us/step - loss: 0.9789 - accuracy: 0.6040\n",
      "Epoch 25/25\n",
      "1875/1875 [==============================] - 1s 662us/step - loss: 0.9709 - accuracy: 0.6043\n",
      "1875/1875 [==============================] - 1s 453us/step - loss: 0.9644 - accuracy: 0.5964\n",
      "Epoch 1/25\n",
      "938/938 [==============================] - 1s 802us/step - loss: 2.5055 - accuracy: 0.2208\n",
      "Epoch 2/25\n",
      "938/938 [==============================] - 1s 803us/step - loss: 1.5980 - accuracy: 0.3079\n",
      "Epoch 3/25\n",
      "938/938 [==============================] - 1s 796us/step - loss: 1.5113 - accuracy: 0.3339\n",
      "Epoch 4/25\n",
      "938/938 [==============================] - 1s 796us/step - loss: 1.4355 - accuracy: 0.3736\n",
      "Epoch 5/25\n",
      "938/938 [==============================] - 1s 801us/step - loss: 1.3290 - accuracy: 0.4286\n",
      "Epoch 6/25\n",
      "938/938 [==============================] - 1s 802us/step - loss: 1.2288 - accuracy: 0.4695\n",
      "Epoch 7/25\n",
      "938/938 [==============================] - 1s 799us/step - loss: 1.1987 - accuracy: 0.4789\n",
      "Epoch 8/25\n",
      "938/938 [==============================] - 1s 806us/step - loss: 1.1824 - accuracy: 0.4851\n",
      "Epoch 9/25\n",
      "938/938 [==============================] - 1s 799us/step - loss: 1.1232 - accuracy: 0.5189\n",
      "Epoch 10/25\n",
      "938/938 [==============================] - 1s 812us/step - loss: 1.0883 - accuracy: 0.5375\n",
      "Epoch 11/25\n",
      "938/938 [==============================] - 1s 848us/step - loss: 1.0675 - accuracy: 0.5466\n",
      "Epoch 12/25\n",
      "938/938 [==============================] - 1s 814us/step - loss: 1.0535 - accuracy: 0.5535\n",
      "Epoch 13/25\n",
      "938/938 [==============================] - 1s 803us/step - loss: 1.0433 - accuracy: 0.5542\n",
      "Epoch 14/25\n",
      "938/938 [==============================] - 1s 801us/step - loss: 1.0316 - accuracy: 0.5606\n",
      "Epoch 15/25\n",
      "938/938 [==============================] - 1s 806us/step - loss: 1.0258 - accuracy: 0.5620\n",
      "Epoch 16/25\n",
      "938/938 [==============================] - 1s 797us/step - loss: 1.0260 - accuracy: 0.5646\n",
      "Epoch 17/25\n",
      "938/938 [==============================] - 1s 802us/step - loss: 1.0165 - accuracy: 0.5649\n",
      "Epoch 18/25\n",
      "938/938 [==============================] - 1s 813us/step - loss: 1.0136 - accuracy: 0.5673\n",
      "Epoch 19/25\n",
      "938/938 [==============================] - 1s 804us/step - loss: 1.0151 - accuracy: 0.5675\n",
      "Epoch 20/25\n",
      "938/938 [==============================] - 1s 803us/step - loss: 1.0074 - accuracy: 0.5710\n",
      "Epoch 21/25\n",
      "938/938 [==============================] - 1s 803us/step - loss: 1.0051 - accuracy: 0.5707\n",
      "Epoch 22/25\n",
      "938/938 [==============================] - 1s 797us/step - loss: 1.0090 - accuracy: 0.5672\n",
      "Epoch 23/25\n",
      "938/938 [==============================] - 1s 804us/step - loss: 1.0143 - accuracy: 0.5681\n",
      "Epoch 24/25\n",
      "938/938 [==============================] - 1s 804us/step - loss: 1.0031 - accuracy: 0.5705\n",
      "Epoch 25/25\n"
     ]
    },
    {
     "name": "stdout",
     "output_type": "stream",
     "text": [
      "938/938 [==============================] - 1s 800us/step - loss: 0.9993 - accuracy: 0.5735\n",
      "1875/1875 [==============================] - 1s 434us/step - loss: 1.0133 - accuracy: 0.5789\n",
      "Epoch 1/25\n",
      "469/469 [==============================] - 0s 983us/step - loss: 2.9918 - accuracy: 0.1524\n",
      "Epoch 2/25\n",
      "469/469 [==============================] - 0s 1ms/step - loss: 1.7726 - accuracy: 0.2675\n",
      "Epoch 3/25\n",
      "469/469 [==============================] - 0s 991us/step - loss: 1.5647 - accuracy: 0.3283\n",
      "Epoch 4/25\n",
      "469/469 [==============================] - 0s 998us/step - loss: 1.4459 - accuracy: 0.3876\n",
      "Epoch 5/25\n",
      "469/469 [==============================] - 0s 991us/step - loss: 1.3578 - accuracy: 0.4380\n",
      "Epoch 6/25\n",
      "469/469 [==============================] - 0s 998us/step - loss: 1.3082 - accuracy: 0.4618\n",
      "Epoch 7/25\n",
      "469/469 [==============================] - 0s 994us/step - loss: 1.2564 - accuracy: 0.4866\n",
      "Epoch 8/25\n",
      "469/469 [==============================] - 0s 994us/step - loss: 1.2109 - accuracy: 0.5007\n",
      "Epoch 9/25\n",
      "469/469 [==============================] - 0s 998us/step - loss: 1.1571 - accuracy: 0.5265\n",
      "Epoch 10/25\n",
      "469/469 [==============================] - 0s 979us/step - loss: 1.0943 - accuracy: 0.5561\n",
      "Epoch 11/25\n",
      "469/469 [==============================] - 0s 994us/step - loss: 1.0553 - accuracy: 0.5618\n",
      "Epoch 12/25\n",
      "469/469 [==============================] - 0s 991us/step - loss: 1.0316 - accuracy: 0.5641\n",
      "Epoch 13/25\n",
      "469/469 [==============================] - 0s 998us/step - loss: 1.0181 - accuracy: 0.5650\n",
      "Epoch 14/25\n",
      "469/469 [==============================] - 0s 994us/step - loss: 1.0046 - accuracy: 0.5675\n",
      "Epoch 15/25\n",
      "469/469 [==============================] - 0s 1ms/step - loss: 0.9966 - accuracy: 0.5713\n",
      "Epoch 16/25\n",
      "469/469 [==============================] - 0s 998us/step - loss: 0.9856 - accuracy: 0.5737\n",
      "Epoch 17/25\n",
      "469/469 [==============================] - 0s 994us/step - loss: 0.9779 - accuracy: 0.5766\n",
      "Epoch 18/25\n",
      "469/469 [==============================] - 0s 1ms/step - loss: 0.9837 - accuracy: 0.5753\n",
      "Epoch 19/25\n",
      "469/469 [==============================] - 0s 994us/step - loss: 0.9685 - accuracy: 0.5814\n",
      "Epoch 20/25\n",
      "469/469 [==============================] - 0s 998us/step - loss: 0.9675 - accuracy: 0.5807\n",
      "Epoch 21/25\n",
      "469/469 [==============================] - 0s 1ms/step - loss: 0.9640 - accuracy: 0.5807\n",
      "Epoch 22/25\n",
      "469/469 [==============================] - 0s 996us/step - loss: 0.9652 - accuracy: 0.5820\n",
      "Epoch 23/25\n",
      "469/469 [==============================] - 0s 996us/step - loss: 0.9562 - accuracy: 0.5851\n",
      "Epoch 24/25\n",
      "469/469 [==============================] - 0s 998us/step - loss: 0.9578 - accuracy: 0.5845\n",
      "Epoch 25/25\n",
      "469/469 [==============================] - 0s 996us/step - loss: 0.9552 - accuracy: 0.5859\n",
      "1875/1875 [==============================] - 1s 428us/step - loss: 0.9645 - accuracy: 0.5633\n",
      "Epoch 1/25\n",
      "235/235 [==============================] - 0s 1ms/step - loss: 6.5542 - accuracy: 0.1214\n",
      "Epoch 2/25\n",
      "235/235 [==============================] - 0s 1ms/step - loss: 2.2597 - accuracy: 0.1288\n",
      "Epoch 3/25\n",
      "235/235 [==============================] - 0s 1ms/step - loss: 2.1534 - accuracy: 0.1842\n",
      "Epoch 4/25\n",
      "235/235 [==============================] - 0s 1000us/step - loss: 2.0490 - accuracy: 0.2193\n",
      "Epoch 5/25\n",
      "235/235 [==============================] - 0s 991us/step - loss: 1.9978 - accuracy: 0.2317\n",
      "Epoch 6/25\n",
      "235/235 [==============================] - 0s 996us/step - loss: 1.9429 - accuracy: 0.2435\n",
      "Epoch 7/25\n",
      "235/235 [==============================] - 0s 1ms/step - loss: 1.8589 - accuracy: 0.2659\n",
      "Epoch 8/25\n",
      "235/235 [==============================] - 0s 996us/step - loss: 1.7084 - accuracy: 0.3319\n",
      "Epoch 9/25\n",
      "235/235 [==============================] - 0s 991us/step - loss: 1.5744 - accuracy: 0.3718\n",
      "Epoch 10/25\n",
      "235/235 [==============================] - 0s 1ms/step - loss: 1.5292 - accuracy: 0.3781\n",
      "Epoch 11/25\n",
      "235/235 [==============================] - 0s 1000us/step - loss: 1.4709 - accuracy: 0.4099\n",
      "Epoch 12/25\n",
      "235/235 [==============================] - 0s 1ms/step - loss: 1.3900 - accuracy: 0.4550\n",
      "Epoch 13/25\n",
      "235/235 [==============================] - 0s 1ms/step - loss: 1.3299 - accuracy: 0.4748\n",
      "Epoch 14/25\n",
      "235/235 [==============================] - 0s 1ms/step - loss: 1.2906 - accuracy: 0.4910\n",
      "Epoch 15/25\n",
      "235/235 [==============================] - 0s 1ms/step - loss: 1.2173 - accuracy: 0.5159\n",
      "Epoch 16/25\n",
      "235/235 [==============================] - 0s 1ms/step - loss: 1.1328 - accuracy: 0.5435\n",
      "Epoch 17/25\n",
      "235/235 [==============================] - 0s 1ms/step - loss: 1.0955 - accuracy: 0.5537\n",
      "Epoch 18/25\n",
      "235/235 [==============================] - 0s 1ms/step - loss: 1.0764 - accuracy: 0.5562\n",
      "Epoch 19/25\n",
      "235/235 [==============================] - 0s 1ms/step - loss: 1.0589 - accuracy: 0.5623\n",
      "Epoch 20/25\n",
      "235/235 [==============================] - 0s 1ms/step - loss: 1.0417 - accuracy: 0.5650\n",
      "Epoch 21/25\n",
      "235/235 [==============================] - 0s 1ms/step - loss: 1.0295 - accuracy: 0.5687\n",
      "Epoch 22/25\n",
      "235/235 [==============================] - 0s 1ms/step - loss: 1.0244 - accuracy: 0.5663\n",
      "Epoch 23/25\n",
      "235/235 [==============================] - 0s 1ms/step - loss: 1.0081 - accuracy: 0.5964\n",
      "Epoch 24/25\n",
      "235/235 [==============================] - 0s 1ms/step - loss: 0.9672 - accuracy: 0.6375\n",
      "Epoch 25/25\n",
      "235/235 [==============================] - 0s 1ms/step - loss: 0.9356 - accuracy: 0.6651\n",
      "1875/1875 [==============================] - 1s 430us/step - loss: 0.9145 - accuracy: 0.6897\n",
      "[128, 256]\n",
      "[0.679183304309845, 0.6897333264350891]\n"
     ]
    }
   ],
   "source": [
    "find_max_acc_minibatch()"
   ]
  },
  {
   "cell_type": "markdown",
   "metadata": {
    "id": "Yt7CKtaswTI-"
   },
   "source": [
    "##Modelo Optimizado final"
   ]
  },
  {
   "cell_type": "code",
   "execution_count": 116,
   "metadata": {
    "colab": {
     "base_uri": "https://localhost:8080/"
    },
    "id": "9c5Is2b0weq6",
    "outputId": "ae186228-bdb0-4291-bdf2-0f6fc41c7a15"
   },
   "outputs": [
    {
     "name": "stdout",
     "output_type": "stream",
     "text": [
      "Epoch 1/25\n",
      "235/235 [==============================] - 0s 1ms/step - loss: 1.1458 - accuracy: 0.6180\n",
      "Epoch 2/25\n",
      "235/235 [==============================] - 0s 996us/step - loss: 0.6005 - accuracy: 0.8005\n",
      "Epoch 3/25\n",
      "235/235 [==============================] - 0s 987us/step - loss: 0.5242 - accuracy: 0.8202\n",
      "Epoch 4/25\n",
      "235/235 [==============================] - 0s 991us/step - loss: 0.4896 - accuracy: 0.8319\n",
      "Epoch 5/25\n",
      "235/235 [==============================] - 0s 983us/step - loss: 0.4668 - accuracy: 0.8391\n",
      "Epoch 6/25\n",
      "235/235 [==============================] - 0s 1ms/step - loss: 0.4507 - accuracy: 0.8438\n",
      "Epoch 7/25\n",
      "235/235 [==============================] - 0s 979us/step - loss: 0.4384 - accuracy: 0.8479\n",
      "Epoch 8/25\n",
      "235/235 [==============================] - 0s 1ms/step - loss: 0.4303 - accuracy: 0.8494\n",
      "Epoch 9/25\n",
      "235/235 [==============================] - 0s 974us/step - loss: 0.4230 - accuracy: 0.8537\n",
      "Epoch 10/25\n",
      "235/235 [==============================] - 0s 1ms/step - loss: 0.4161 - accuracy: 0.8558\n",
      "Epoch 11/25\n",
      "235/235 [==============================] - 0s 983us/step - loss: 0.4110 - accuracy: 0.8572\n",
      "Epoch 12/25\n",
      "235/235 [==============================] - 0s 970us/step - loss: 0.4071 - accuracy: 0.8584\n",
      "Epoch 13/25\n",
      "235/235 [==============================] - 0s 1000us/step - loss: 0.4042 - accuracy: 0.8599\n",
      "Epoch 14/25\n",
      "235/235 [==============================] - 0s 996us/step - loss: 0.4014 - accuracy: 0.8600\n",
      "Epoch 15/25\n",
      "235/235 [==============================] - 0s 979us/step - loss: 0.3976 - accuracy: 0.8616\n",
      "Epoch 16/25\n",
      "235/235 [==============================] - 0s 983us/step - loss: 0.3947 - accuracy: 0.8630\n",
      "Epoch 17/25\n",
      "235/235 [==============================] - 0s 991us/step - loss: 0.3941 - accuracy: 0.8630\n",
      "Epoch 18/25\n",
      "235/235 [==============================] - 0s 1ms/step - loss: 0.3892 - accuracy: 0.8654\n",
      "Epoch 19/25\n",
      "235/235 [==============================] - 0s 979us/step - loss: 0.3874 - accuracy: 0.8654\n",
      "Epoch 20/25\n",
      "235/235 [==============================] - 0s 1000us/step - loss: 0.3858 - accuracy: 0.8649s - loss: 0.3863 - accuracy: \n",
      "Epoch 21/25\n",
      "235/235 [==============================] - 0s 991us/step - loss: 0.3859 - accuracy: 0.8657\n",
      "Epoch 22/25\n",
      "235/235 [==============================] - 0s 983us/step - loss: 0.3819 - accuracy: 0.8678\n",
      "Epoch 23/25\n",
      "235/235 [==============================] - 0s 1ms/step - loss: 0.3800 - accuracy: 0.8681\n",
      "Epoch 24/25\n",
      "235/235 [==============================] - 0s 987us/step - loss: 0.3803 - accuracy: 0.8674\n",
      "Epoch 25/25\n",
      "235/235 [==============================] - 0s 979us/step - loss: 0.3769 - accuracy: 0.8691\n",
      "1875/1875 [==============================] - 1s 424us/step - loss: 0.3711 - accuracy: 0.8704\n"
     ]
    },
    {
     "data": {
      "text/plain": [
       "[0.3711145520210266, 0.8703833222389221]"
      ]
     },
     "execution_count": 116,
     "metadata": {},
     "output_type": "execute_result"
    }
   ],
   "source": [
    "keras.backend.clear_session()\n",
    "model_opt = Sequential()\n",
    "model_opt.add(Dense(10,activation='relu',input_dim=784))\n",
    "model_opt.add(Dense(10,activation='softmax'))\n",
    "optimizer = optimizers.Adam(0.001)\n",
    "model_opt.compile(loss='categorical_crossentropy',optimizer=optimizer ,metrics=['accuracy'])\n",
    "model_opt.fit(X_train_norm, y_train, epochs=25,  batch_size=2**8)\n",
    "model_opt.evaluate(X_train_stand, y_train)"
   ]
  },
  {
   "cell_type": "markdown",
   "metadata": {
    "id": "WcSKvZz1l3kZ"
   },
   "source": [
    "# Iniciar busqueda de hyperparametros\n"
   ]
  },
  {
   "cell_type": "markdown",
   "metadata": {
    "id": "d0saXUcgoieh"
   },
   "source": [
    "## Caso bias graficar cada mierda"
   ]
  },
  {
   "cell_type": "markdown",
   "metadata": {
    "id": "ntg5ukjanXVp"
   },
   "source": [
    "ver tasa de aprendizaje\n"
   ]
  },
  {
   "cell_type": "markdown",
   "metadata": {
    "id": "17AI9tBsnu0h"
   },
   "source": [
    "numero de capas\n"
   ]
  },
  {
   "cell_type": "markdown",
   "metadata": {
    "id": "0MFBsMj3nxQN"
   },
   "source": [
    "numero nodos"
   ]
  },
  {
   "cell_type": "markdown",
   "metadata": {
    "id": "mvQSvgVqonwq"
   },
   "source": [
    "## Caso varianza"
   ]
  },
  {
   "cell_type": "markdown",
   "metadata": {
    "id": "eWULDWdQqABH"
   },
   "source": [
    "Meterle mas datos"
   ]
  },
  {
   "cell_type": "markdown",
   "metadata": {
    "id": "Ch2eWO8WoAGn"
   },
   "source": [
    "Regularizacion"
   ]
  },
  {
   "cell_type": "markdown",
   "metadata": {
    "id": "p-PYYEOUEJ1I"
   },
   "source": [
    "# Modelo final"
   ]
  },
  {
   "cell_type": "code",
   "execution_count": 60,
   "metadata": {
    "colab": {
     "base_uri": "https://localhost:8080/"
    },
    "id": "O37fgmOn51_0",
    "outputId": "e69378e9-501e-400f-e38b-fc153245dafc"
   },
   "outputs": [
    {
     "name": "stdout",
     "output_type": "stream",
     "text": [
      "Epoch 1/55\n",
      "235/235 [==============================] - 1s 2ms/step - loss: 0.6650 - accuracy: 0.7731\n",
      "Epoch 2/55\n",
      "235/235 [==============================] - 1s 3ms/step - loss: 0.4251 - accuracy: 0.8480\n",
      "Epoch 3/55\n",
      "235/235 [==============================] - 1s 2ms/step - loss: 0.3701 - accuracy: 0.8666\n",
      "Epoch 4/55\n",
      "235/235 [==============================] - 1s 2ms/step - loss: 0.3490 - accuracy: 0.8736\n",
      "Epoch 5/55\n",
      "235/235 [==============================] - 1s 2ms/step - loss: 0.3254 - accuracy: 0.8812\n",
      "Epoch 6/55\n",
      "235/235 [==============================] - 1s 2ms/step - loss: 0.3108 - accuracy: 0.8865\n",
      "Epoch 7/55\n",
      "235/235 [==============================] - 1s 2ms/step - loss: 0.3001 - accuracy: 0.8895\n",
      "Epoch 8/55\n",
      "235/235 [==============================] - 1s 3ms/step - loss: 0.2857 - accuracy: 0.8939\n",
      "Epoch 9/55\n",
      "235/235 [==============================] - 1s 2ms/step - loss: 0.2761 - accuracy: 0.8978\n",
      "Epoch 10/55\n",
      "235/235 [==============================] - 1s 2ms/step - loss: 0.2667 - accuracy: 0.9010\n",
      "Epoch 11/55\n",
      "235/235 [==============================] - 1s 2ms/step - loss: 0.2616 - accuracy: 0.9021\n",
      "Epoch 12/55\n",
      "235/235 [==============================] - 1s 2ms/step - loss: 0.2558 - accuracy: 0.9043\n",
      "Epoch 13/55\n",
      "235/235 [==============================] - 1s 3ms/step - loss: 0.2408 - accuracy: 0.9105\n",
      "Epoch 14/55\n",
      "235/235 [==============================] - 1s 2ms/step - loss: 0.2353 - accuracy: 0.9123\n",
      "Epoch 15/55\n",
      "235/235 [==============================] - 1s 2ms/step - loss: 0.2315 - accuracy: 0.9133\n",
      "Epoch 16/55\n",
      "235/235 [==============================] - 1s 2ms/step - loss: 0.2208 - accuracy: 0.9153\n",
      "Epoch 17/55\n",
      "235/235 [==============================] - 1s 3ms/step - loss: 0.2172 - accuracy: 0.9186\n",
      "Epoch 18/55\n",
      "235/235 [==============================] - 1s 3ms/step - loss: 0.2142 - accuracy: 0.9189\n",
      "Epoch 19/55\n",
      "235/235 [==============================] - 1s 3ms/step - loss: 0.2070 - accuracy: 0.9223\n",
      "Epoch 20/55\n",
      "235/235 [==============================] - 1s 2ms/step - loss: 0.2049 - accuracy: 0.9225\n",
      "Epoch 21/55\n",
      "235/235 [==============================] - 1s 3ms/step - loss: 0.1973 - accuracy: 0.9258\n",
      "Epoch 22/55\n",
      "235/235 [==============================] - 1s 3ms/step - loss: 0.1914 - accuracy: 0.9280\n",
      "Epoch 23/55\n",
      "235/235 [==============================] - 1s 3ms/step - loss: 0.1849 - accuracy: 0.9304\n",
      "Epoch 24/55\n",
      "235/235 [==============================] - 1s 3ms/step - loss: 0.1835 - accuracy: 0.9304\n",
      "Epoch 25/55\n",
      "235/235 [==============================] - 1s 3ms/step - loss: 0.1766 - accuracy: 0.9324\n",
      "Epoch 26/55\n",
      "235/235 [==============================] - 1s 3ms/step - loss: 0.1730 - accuracy: 0.9343\n",
      "Epoch 27/55\n",
      "235/235 [==============================] - 1s 3ms/step - loss: 0.1673 - accuracy: 0.9359\n",
      "Epoch 28/55\n",
      "235/235 [==============================] - 1s 3ms/step - loss: 0.1710 - accuracy: 0.9352\n",
      "Epoch 29/55\n",
      "235/235 [==============================] - 1s 3ms/step - loss: 0.1630 - accuracy: 0.9379\n",
      "Epoch 30/55\n",
      "235/235 [==============================] - 1s 3ms/step - loss: 0.1600 - accuracy: 0.9397\n",
      "Epoch 31/55\n",
      "235/235 [==============================] - 1s 2ms/step - loss: 0.1512 - accuracy: 0.9434\n",
      "Epoch 32/55\n",
      "235/235 [==============================] - 1s 3ms/step - loss: 0.1515 - accuracy: 0.9423\n",
      "Epoch 33/55\n",
      "235/235 [==============================] - 1s 3ms/step - loss: 0.1467 - accuracy: 0.9442\n",
      "Epoch 34/55\n",
      "235/235 [==============================] - 1s 2ms/step - loss: 0.1436 - accuracy: 0.9456\n",
      "Epoch 35/55\n",
      "235/235 [==============================] - 1s 3ms/step - loss: 0.1423 - accuracy: 0.9463\n",
      "Epoch 36/55\n",
      "235/235 [==============================] - 1s 3ms/step - loss: 0.1415 - accuracy: 0.9461\n",
      "Epoch 37/55\n",
      "235/235 [==============================] - 1s 3ms/step - loss: 0.1326 - accuracy: 0.9500\n",
      "Epoch 38/55\n",
      "235/235 [==============================] - 1s 3ms/step - loss: 0.1288 - accuracy: 0.9510\n",
      "Epoch 39/55\n",
      "235/235 [==============================] - 1s 3ms/step - loss: 0.1309 - accuracy: 0.9500\n",
      "Epoch 40/55\n",
      "235/235 [==============================] - 1s 3ms/step - loss: 0.1269 - accuracy: 0.9520\n",
      "Epoch 41/55\n",
      "235/235 [==============================] - 1s 3ms/step - loss: 0.1209 - accuracy: 0.9538\n",
      "Epoch 42/55\n",
      "235/235 [==============================] - 1s 3ms/step - loss: 0.1198 - accuracy: 0.9550\n",
      "Epoch 43/55\n",
      "235/235 [==============================] - 1s 3ms/step - loss: 0.1233 - accuracy: 0.9531\n",
      "Epoch 44/55\n",
      "235/235 [==============================] - 1s 3ms/step - loss: 0.1194 - accuracy: 0.9550\n",
      "Epoch 45/55\n",
      "235/235 [==============================] - 1s 3ms/step - loss: 0.1166 - accuracy: 0.9561\n",
      "Epoch 46/55\n",
      "235/235 [==============================] - 1s 3ms/step - loss: 0.1109 - accuracy: 0.9575\n",
      "Epoch 47/55\n",
      "235/235 [==============================] - 1s 3ms/step - loss: 0.1094 - accuracy: 0.9591\n",
      "Epoch 48/55\n",
      "235/235 [==============================] - 1s 3ms/step - loss: 0.1085 - accuracy: 0.9585\n",
      "Epoch 49/55\n",
      "235/235 [==============================] - 1s 3ms/step - loss: 0.1027 - accuracy: 0.9608\n",
      "Epoch 50/55\n",
      "235/235 [==============================] - 1s 3ms/step - loss: 0.1029 - accuracy: 0.9614\n",
      "Epoch 51/55\n",
      "235/235 [==============================] - 1s 3ms/step - loss: 0.0983 - accuracy: 0.9627\n",
      "Epoch 52/55\n",
      "235/235 [==============================] - 1s 3ms/step - loss: 0.1011 - accuracy: 0.9614\n",
      "Epoch 53/55\n",
      "235/235 [==============================] - 1s 3ms/step - loss: 0.0959 - accuracy: 0.9634\n",
      "Epoch 54/55\n",
      "235/235 [==============================] - 1s 3ms/step - loss: 0.0958 - accuracy: 0.9636\n",
      "Epoch 55/55\n",
      "235/235 [==============================] - 1s 3ms/step - loss: 0.0961 - accuracy: 0.9641\n"
     ]
    },
    {
     "data": {
      "text/plain": [
       "<tensorflow.python.keras.callbacks.History at 0x25cfc147130>"
      ]
     },
     "execution_count": 60,
     "metadata": {},
     "output_type": "execute_result"
    }
   ],
   "source": [
    "keras.backend.clear_session()\n",
    "model_final = Sequential()\n",
    "model_final.add(Dense(100,activation='relu',input_dim=784))\n",
    "model_final.add(Dense(100,activation='relu'))\n",
    "model_final.add(Dense(100,activation='relu'))\n",
    "model_final.add(Dense(60,activation='relu'))\n",
    "model_final.add(Dense(30,activation='relu'))\n",
    "model_final.add(Dense(10,activation='softmax'))\n",
    "optimizer = optimizers.Adam(0.001)\n",
    "model_final.compile(loss='categorical_crossentropy',optimizer=optimizer ,metrics=['accuracy'])\n",
    "model_final.fit(X_train_stand, y_train, epochs=55,  batch_size=2**8)"
   ]
  },
  {
   "cell_type": "code",
   "execution_count": 118,
   "metadata": {
    "colab": {
     "base_uri": "https://localhost:8080/"
    },
    "id": "8o6vJoLw9K01",
    "outputId": "52c9129d-4f91-47d7-ed22-79fa066b2e59"
   },
   "outputs": [
    {
     "name": "stdout",
     "output_type": "stream",
     "text": [
      "1875/1875 [==============================] - 1s 649us/step - loss: 0.0857 - accuracy: 0.9674\n"
     ]
    },
    {
     "data": {
      "text/plain": [
       "[0.08572960644960403, 0.9673833250999451]"
      ]
     },
     "execution_count": 118,
     "metadata": {},
     "output_type": "execute_result"
    }
   ],
   "source": [
    "model_final.evaluate(X_train_stand, y_train)"
   ]
  },
  {
   "cell_type": "code",
   "execution_count": 119,
   "metadata": {
    "colab": {
     "base_uri": "https://localhost:8080/"
    },
    "id": "apRSu7GQ9OmG",
    "outputId": "a010a409-c1eb-492b-a0cd-a5006a3c7c25"
   },
   "outputs": [
    {
     "name": "stdout",
     "output_type": "stream",
     "text": [
      "313/313 [==============================] - 0s 923us/step - loss: 0.4543 - accuracy: 0.8946\n"
     ]
    },
    {
     "data": {
      "text/plain": [
       "[0.45434609055519104, 0.894599974155426]"
      ]
     },
     "execution_count": 119,
     "metadata": {},
     "output_type": "execute_result"
    }
   ],
   "source": [
    "model_final.evaluate(X_test_stand, y_test)"
   ]
  },
  {
   "cell_type": "code",
   "execution_count": 120,
   "metadata": {
    "id": "uqsAEDV_DGIU"
   },
   "outputs": [],
   "source": [
    "def correr_modelo_mini_batch_2(batch_size):\n",
    "    keras.backend.clear_session()\n",
    "    model_final = Sequential()\n",
    "    model_final.add(Dense(100,activation='relu',input_dim=784))\n",
    "    model_final.add(Dense(100,activation='relu'))\n",
    "    model_final.add(Dense(100,activation='relu'))\n",
    "    model_final.add(Dense(60,activation='relu'))\n",
    "    model_final.add(Dense(30,activation='relu'))\n",
    "    model_final.add(Dense(10,activation='softmax'))\n",
    "    optimizer = optimizers.Adam(0.001)\n",
    "    model_final.compile(loss='categorical_crossentropy',optimizer=optimizer ,metrics=['accuracy'])\n",
    "    model_final.fit(X_train_stand, y_train, epochs=25,  batch_size=batch_size)\n",
    "    print(model_final.evaluate(X_train_stand, y_train))\n",
    "    return model_final.evaluate(X_train_stand, y_train)"
   ]
  },
  {
   "cell_type": "code",
   "execution_count": 121,
   "metadata": {
    "colab": {
     "base_uri": "https://localhost:8080/",
     "height": 1000
    },
    "id": "aeR0iKAqC7JV",
    "outputId": "1ed74061-fbb4-4297-d886-f196029da4d7"
   },
   "outputs": [
    {
     "name": "stdout",
     "output_type": "stream",
     "text": [
      "Epoch 1/25\n",
      "3750/3750 [==============================] - 4s 1ms/step - loss: 0.5242 - accuracy: 0.8121\n",
      "Epoch 2/25\n",
      "3750/3750 [==============================] - 4s 1ms/step - loss: 0.3902 - accuracy: 0.8580\n",
      "Epoch 3/25\n",
      "3750/3750 [==============================] - 4s 1ms/step - loss: 0.3565 - accuracy: 0.8705\n",
      "Epoch 4/25\n",
      "3750/3750 [==============================] - 4s 1ms/step - loss: 0.3323 - accuracy: 0.8777\n",
      "Epoch 5/25\n",
      "3750/3750 [==============================] - 4s 1ms/step - loss: 0.3155 - accuracy: 0.8843\n",
      "Epoch 6/25\n",
      "3750/3750 [==============================] - 4s 1ms/step - loss: 0.3026 - accuracy: 0.8890\n",
      "Epoch 7/25\n",
      "3750/3750 [==============================] - 4s 1ms/step - loss: 0.2920 - accuracy: 0.8917\n",
      "Epoch 8/25\n",
      "3750/3750 [==============================] - 4s 1ms/step - loss: 0.2818 - accuracy: 0.8950\n",
      "Epoch 9/25\n",
      "3750/3750 [==============================] - 4s 1ms/step - loss: 0.2716 - accuracy: 0.8991\n",
      "Epoch 10/25\n",
      "3750/3750 [==============================] - 4s 1ms/step - loss: 0.2630 - accuracy: 0.9011\n",
      "Epoch 11/25\n",
      "3750/3750 [==============================] - 4s 1ms/step - loss: 0.2582 - accuracy: 0.9044\n",
      "Epoch 12/25\n",
      "3750/3750 [==============================] - 4s 1ms/step - loss: 0.2519 - accuracy: 0.9062\n",
      "Epoch 13/25\n",
      "3750/3750 [==============================] - 4s 1ms/step - loss: 0.2444 - accuracy: 0.9085\n",
      "Epoch 14/25\n",
      "3750/3750 [==============================] - 4s 1ms/step - loss: 0.2379 - accuracy: 0.9112\n",
      "Epoch 15/25\n",
      "3750/3750 [==============================] - 4s 1ms/step - loss: 0.2336 - accuracy: 0.9116\n",
      "Epoch 16/25\n",
      "3750/3750 [==============================] - 4s 1ms/step - loss: 0.2299 - accuracy: 0.9133\n",
      "Epoch 17/25\n",
      "3750/3750 [==============================] - 4s 1ms/step - loss: 0.2244 - accuracy: 0.9166\n",
      "Epoch 18/25\n",
      "3750/3750 [==============================] - 4s 1ms/step - loss: 0.2249 - accuracy: 0.9154\n",
      "Epoch 19/25\n",
      "3750/3750 [==============================] - 4s 1ms/step - loss: 0.2176 - accuracy: 0.9175\n",
      "Epoch 20/25\n",
      "3750/3750 [==============================] - 4s 1ms/step - loss: 0.2131 - accuracy: 0.9196\n",
      "Epoch 21/25\n",
      "3750/3750 [==============================] - 4s 1ms/step - loss: 0.2099 - accuracy: 0.9207\n",
      "Epoch 22/25\n",
      "3750/3750 [==============================] - 4s 1ms/step - loss: 0.2061 - accuracy: 0.9233\n",
      "Epoch 23/25\n",
      "3750/3750 [==============================] - 4s 1ms/step - loss: 0.2027 - accuracy: 0.9243\n",
      "Epoch 24/25\n",
      "3750/3750 [==============================] - 4s 1ms/step - loss: 0.1984 - accuracy: 0.9241\n",
      "Epoch 25/25\n",
      "3750/3750 [==============================] - 4s 1ms/step - loss: 0.1960 - accuracy: 0.9262\n",
      "1875/1875 [==============================] - 1s 682us/step - loss: 0.2097 - accuracy: 0.9245\n",
      "[0.20968163013458252, 0.9245166778564453]\n",
      "1875/1875 [==============================] - 1s 663us/step - loss: 0.2097 - accuracy: 0.9245\n",
      "Epoch 1/25\n",
      "1875/1875 [==============================] - 3s 1ms/step - loss: 0.5250 - accuracy: 0.8108\n",
      "Epoch 2/25\n",
      "1875/1875 [==============================] - 3s 1ms/step - loss: 0.3872 - accuracy: 0.8589\n",
      "Epoch 3/25\n",
      "1875/1875 [==============================] - 2s 1ms/step - loss: 0.3517 - accuracy: 0.8718\n",
      "Epoch 4/25\n",
      "1875/1875 [==============================] - 2s 1ms/step - loss: 0.3272 - accuracy: 0.8791\n",
      "Epoch 5/25\n",
      "1875/1875 [==============================] - 2s 1ms/step - loss: 0.3112 - accuracy: 0.8841\n",
      "Epoch 6/25\n",
      "1875/1875 [==============================] - 3s 1ms/step - loss: 0.2963 - accuracy: 0.8903\n",
      "Epoch 7/25\n",
      "1875/1875 [==============================] - 2s 1ms/step - loss: 0.2850 - accuracy: 0.8937\n",
      "Epoch 8/25\n",
      "1875/1875 [==============================] - 2s 1ms/step - loss: 0.2748 - accuracy: 0.8978\n",
      "Epoch 9/25\n",
      "1875/1875 [==============================] - 2s 1ms/step - loss: 0.2640 - accuracy: 0.9012\n",
      "Epoch 10/25\n",
      "1875/1875 [==============================] - 2s 1ms/step - loss: 0.2542 - accuracy: 0.9047\n",
      "Epoch 11/25\n",
      "1875/1875 [==============================] - 2s 1ms/step - loss: 0.2469 - accuracy: 0.9072\n",
      "Epoch 12/25\n",
      "1875/1875 [==============================] - 2s 1ms/step - loss: 0.2421 - accuracy: 0.9090\n",
      "Epoch 13/25\n",
      "1875/1875 [==============================] - 2s 1ms/step - loss: 0.2329 - accuracy: 0.9136\n",
      "Epoch 14/25\n",
      "1875/1875 [==============================] - 2s 1ms/step - loss: 0.2288 - accuracy: 0.9128\n",
      "Epoch 15/25\n",
      "1875/1875 [==============================] - 2s 1ms/step - loss: 0.2207 - accuracy: 0.9166\n",
      "Epoch 16/25\n",
      "1875/1875 [==============================] - 2s 1ms/step - loss: 0.2136 - accuracy: 0.9186\n",
      "Epoch 17/25\n",
      "1875/1875 [==============================] - 2s 1ms/step - loss: 0.2118 - accuracy: 0.9204\n",
      "Epoch 18/25\n",
      "1875/1875 [==============================] - 2s 1ms/step - loss: 0.2086 - accuracy: 0.9214\n",
      "Epoch 19/25\n",
      "1875/1875 [==============================] - 2s 1ms/step - loss: 0.2007 - accuracy: 0.9236\n",
      "Epoch 20/25\n",
      "1875/1875 [==============================] - 2s 1ms/step - loss: 0.1973 - accuracy: 0.9259\n",
      "Epoch 21/25\n",
      "1875/1875 [==============================] - 2s 1ms/step - loss: 0.1943 - accuracy: 0.9273\n",
      "Epoch 22/25\n",
      "1875/1875 [==============================] - 2s 1ms/step - loss: 0.1905 - accuracy: 0.9286\n",
      "Epoch 23/25\n",
      "1875/1875 [==============================] - 2s 1ms/step - loss: 0.1858 - accuracy: 0.9305\n",
      "Epoch 24/25\n",
      "1875/1875 [==============================] - 2s 1ms/step - loss: 0.1810 - accuracy: 0.9311\n",
      "Epoch 25/25\n",
      "1875/1875 [==============================] - 2s 1ms/step - loss: 0.1814 - accuracy: 0.9317\n",
      "1875/1875 [==============================] - 1s 635us/step - loss: 0.1615 - accuracy: 0.9384\n",
      "[0.16150593757629395, 0.9383666515350342]\n",
      "1875/1875 [==============================] - 1s 637us/step - loss: 0.1615 - accuracy: 0.9384\n",
      "Epoch 1/25\n",
      "938/938 [==============================] - 1s 1ms/step - loss: 0.5574 - accuracy: 0.7973\n",
      "Epoch 2/25\n",
      "938/938 [==============================] - 1s 1ms/step - loss: 0.3866 - accuracy: 0.8590\n",
      "Epoch 3/25\n",
      "938/938 [==============================] - 1s 1ms/step - loss: 0.3487 - accuracy: 0.8725\n",
      "Epoch 4/25\n",
      "938/938 [==============================] - 1s 1ms/step - loss: 0.3274 - accuracy: 0.8791\n",
      "Epoch 5/25\n",
      "938/938 [==============================] - 1s 1ms/step - loss: 0.3076 - accuracy: 0.8858\n",
      "Epoch 6/25\n",
      "938/938 [==============================] - 1s 1ms/step - loss: 0.2955 - accuracy: 0.8900\n",
      "Epoch 7/25\n",
      "938/938 [==============================] - 1s 1ms/step - loss: 0.2802 - accuracy: 0.8952\n",
      "Epoch 8/25\n",
      "938/938 [==============================] - 1s 1ms/step - loss: 0.2714 - accuracy: 0.8993\n",
      "Epoch 9/25\n",
      "938/938 [==============================] - 1s 1ms/step - loss: 0.2604 - accuracy: 0.9034\n",
      "Epoch 10/25\n",
      "938/938 [==============================] - 1s 2ms/step - loss: 0.2529 - accuracy: 0.9068\n",
      "Epoch 11/25\n",
      "938/938 [==============================] - 1s 2ms/step - loss: 0.2430 - accuracy: 0.9075\n",
      "Epoch 12/25\n",
      "938/938 [==============================] - 1s 2ms/step - loss: 0.2367 - accuracy: 0.9105\n",
      "Epoch 13/25\n",
      "938/938 [==============================] - 1s 1ms/step - loss: 0.2288 - accuracy: 0.9137\n",
      "Epoch 14/25\n",
      "938/938 [==============================] - 1s 1ms/step - loss: 0.2197 - accuracy: 0.9173\n",
      "Epoch 15/25\n",
      "938/938 [==============================] - 1s 1ms/step - loss: 0.2166 - accuracy: 0.9175\n",
      "Epoch 16/25\n",
      "938/938 [==============================] - 1s 1ms/step - loss: 0.2112 - accuracy: 0.9198\n",
      "Epoch 17/25\n",
      "938/938 [==============================] - 1s 1ms/step - loss: 0.2051 - accuracy: 0.9222\n",
      "Epoch 18/25\n",
      "938/938 [==============================] - 1s 1ms/step - loss: 0.1993 - accuracy: 0.9236\n",
      "Epoch 19/25\n",
      "938/938 [==============================] - 1s 1ms/step - loss: 0.1944 - accuracy: 0.9259\n",
      "Epoch 20/25\n",
      "938/938 [==============================] - 1s 1ms/step - loss: 0.1924 - accuracy: 0.9273\n",
      "Epoch 21/25\n",
      "938/938 [==============================] - 1s 1ms/step - loss: 0.1827 - accuracy: 0.9309\n",
      "Epoch 22/25\n",
      "938/938 [==============================] - 1s 1ms/step - loss: 0.1820 - accuracy: 0.9313\n",
      "Epoch 23/25\n",
      "938/938 [==============================] - 1s 1ms/step - loss: 0.1785 - accuracy: 0.9323\n",
      "Epoch 24/25\n",
      "938/938 [==============================] - 1s 1ms/step - loss: 0.1738 - accuracy: 0.9344\n",
      "Epoch 25/25\n",
      "938/938 [==============================] - 1s 1ms/step - loss: 0.1679 - accuracy: 0.9364\n",
      "1875/1875 [==============================] - 1s 638us/step - loss: 0.1549 - accuracy: 0.9404\n"
     ]
    },
    {
     "name": "stdout",
     "output_type": "stream",
     "text": [
      "[0.15492625534534454, 0.9404333233833313]\n",
      "1875/1875 [==============================] - 1s 647us/step - loss: 0.1549 - accuracy: 0.9404\n",
      "Epoch 1/25\n",
      "469/469 [==============================] - 1s 2ms/step - loss: 0.6010 - accuracy: 0.7850\n",
      "Epoch 2/25\n",
      "469/469 [==============================] - 1s 2ms/step - loss: 0.4060 - accuracy: 0.8542\n",
      "Epoch 3/25\n",
      "469/469 [==============================] - 1s 2ms/step - loss: 0.3589 - accuracy: 0.8700\n",
      "Epoch 4/25\n",
      "469/469 [==============================] - 1s 2ms/step - loss: 0.3277 - accuracy: 0.8795\n",
      "Epoch 5/25\n",
      "469/469 [==============================] - 1s 2ms/step - loss: 0.3145 - accuracy: 0.8842\n",
      "Epoch 6/25\n",
      "469/469 [==============================] - 1s 2ms/step - loss: 0.2978 - accuracy: 0.8899\n",
      "Epoch 7/25\n",
      "469/469 [==============================] - 1s 2ms/step - loss: 0.2881 - accuracy: 0.8943\n",
      "Epoch 8/25\n",
      "469/469 [==============================] - 1s 2ms/step - loss: 0.2756 - accuracy: 0.8978\n",
      "Epoch 9/25\n",
      "469/469 [==============================] - 1s 2ms/step - loss: 0.2689 - accuracy: 0.8997\n",
      "Epoch 10/25\n",
      "469/469 [==============================] - 1s 2ms/step - loss: 0.2579 - accuracy: 0.9043\n",
      "Epoch 11/25\n",
      "469/469 [==============================] - 1s 2ms/step - loss: 0.2503 - accuracy: 0.9065\n",
      "Epoch 12/25\n",
      "469/469 [==============================] - 1s 2ms/step - loss: 0.2431 - accuracy: 0.9082\n",
      "Epoch 13/25\n",
      "469/469 [==============================] - 1s 2ms/step - loss: 0.2358 - accuracy: 0.9112\n",
      "Epoch 14/25\n",
      "469/469 [==============================] - 1s 2ms/step - loss: 0.2281 - accuracy: 0.9140\n",
      "Epoch 15/25\n",
      "469/469 [==============================] - 1s 2ms/step - loss: 0.2203 - accuracy: 0.9169\n",
      "Epoch 16/25\n",
      "469/469 [==============================] - 1s 2ms/step - loss: 0.2167 - accuracy: 0.9183\n",
      "Epoch 17/25\n",
      "469/469 [==============================] - 1s 2ms/step - loss: 0.2096 - accuracy: 0.9201\n",
      "Epoch 18/25\n",
      "469/469 [==============================] - 1s 2ms/step - loss: 0.2063 - accuracy: 0.9231\n",
      "Epoch 19/25\n",
      "469/469 [==============================] - 1s 3ms/step - loss: 0.2001 - accuracy: 0.9237\n",
      "Epoch 20/25\n",
      "469/469 [==============================] - 1s 2ms/step - loss: 0.1950 - accuracy: 0.9257\n",
      "Epoch 21/25\n",
      "469/469 [==============================] - 1s 2ms/step - loss: 0.1894 - accuracy: 0.9294\n",
      "Epoch 22/25\n",
      "469/469 [==============================] - 1s 2ms/step - loss: 0.1862 - accuracy: 0.9304\n",
      "Epoch 23/25\n",
      "469/469 [==============================] - 1s 2ms/step - loss: 0.1817 - accuracy: 0.9313\n",
      "Epoch 24/25\n",
      "469/469 [==============================] - 1s 2ms/step - loss: 0.1708 - accuracy: 0.9348\n",
      "Epoch 25/25\n",
      "469/469 [==============================] - 1s 2ms/step - loss: 0.1709 - accuracy: 0.9351\n",
      "1875/1875 [==============================] - 1s 710us/step - loss: 0.1703 - accuracy: 0.9365\n",
      "[0.1702945977449417, 0.9365333318710327]\n",
      "1875/1875 [==============================] - 1s 735us/step - loss: 0.1703 - accuracy: 0.9365\n",
      "Epoch 1/25\n",
      "235/235 [==============================] - 1s 3ms/step - loss: 0.6774 - accuracy: 0.7587\n",
      "Epoch 2/25\n",
      "235/235 [==============================] - 1s 3ms/step - loss: 0.4227 - accuracy: 0.8486\n",
      "Epoch 3/25\n",
      "235/235 [==============================] - 1s 3ms/step - loss: 0.3771 - accuracy: 0.8630\n",
      "Epoch 4/25\n",
      "235/235 [==============================] - 1s 3ms/step - loss: 0.3484 - accuracy: 0.8735\n",
      "Epoch 5/25\n",
      "235/235 [==============================] - 1s 3ms/step - loss: 0.3257 - accuracy: 0.8817\n",
      "Epoch 6/25\n",
      "235/235 [==============================] - 1s 3ms/step - loss: 0.3115 - accuracy: 0.8850\n",
      "Epoch 7/25\n",
      "235/235 [==============================] - 1s 3ms/step - loss: 0.2947 - accuracy: 0.8913\n",
      "Epoch 8/25\n",
      "235/235 [==============================] - 1s 3ms/step - loss: 0.2800 - accuracy: 0.8961\n",
      "Epoch 9/25\n",
      "235/235 [==============================] - 1s 3ms/step - loss: 0.2724 - accuracy: 0.8991\n",
      "Epoch 10/25\n",
      "235/235 [==============================] - 1s 3ms/step - loss: 0.2682 - accuracy: 0.9005\n",
      "Epoch 11/25\n",
      "235/235 [==============================] - 1s 3ms/step - loss: 0.2557 - accuracy: 0.9040\n",
      "Epoch 12/25\n",
      "235/235 [==============================] - 1s 3ms/step - loss: 0.2509 - accuracy: 0.9066\n",
      "Epoch 13/25\n",
      "235/235 [==============================] - 1s 3ms/step - loss: 0.2426 - accuracy: 0.9098\n",
      "Epoch 14/25\n",
      "235/235 [==============================] - 1s 3ms/step - loss: 0.2380 - accuracy: 0.9110\n",
      "Epoch 15/25\n",
      "235/235 [==============================] - 1s 3ms/step - loss: 0.2326 - accuracy: 0.9123\n",
      "Epoch 16/25\n",
      "235/235 [==============================] - 1s 3ms/step - loss: 0.2241 - accuracy: 0.9155\n",
      "Epoch 17/25\n",
      "235/235 [==============================] - 1s 3ms/step - loss: 0.2198 - accuracy: 0.9184\n",
      "Epoch 18/25\n",
      "235/235 [==============================] - 1s 3ms/step - loss: 0.2105 - accuracy: 0.9212\n",
      "Epoch 19/25\n",
      "235/235 [==============================] - 1s 3ms/step - loss: 0.2089 - accuracy: 0.9227\n",
      "Epoch 20/25\n",
      "235/235 [==============================] - 1s 3ms/step - loss: 0.2057 - accuracy: 0.9233\n",
      "Epoch 21/25\n",
      "235/235 [==============================] - 1s 3ms/step - loss: 0.1987 - accuracy: 0.9246\n",
      "Epoch 22/25\n",
      "235/235 [==============================] - 1s 3ms/step - loss: 0.1969 - accuracy: 0.9263\n",
      "Epoch 23/25\n",
      "235/235 [==============================] - 1s 3ms/step - loss: 0.1904 - accuracy: 0.9280\n",
      "Epoch 24/25\n",
      "235/235 [==============================] - 1s 3ms/step - loss: 0.1871 - accuracy: 0.9285\n",
      "Epoch 25/25\n",
      "235/235 [==============================] - 1s 3ms/step - loss: 0.1834 - accuracy: 0.9302\n",
      "1875/1875 [==============================] - 1s 675us/step - loss: 0.1744 - accuracy: 0.9348\n",
      "[0.17438344657421112, 0.9348166584968567]\n",
      "1875/1875 [==============================] - 1s 652us/step - loss: 0.1744 - accuracy: 0.9348\n",
      "Epoch 1/25\n",
      "118/118 [==============================] - 1s 4ms/step - loss: 0.8180 - accuracy: 0.7211\n",
      "Epoch 2/25\n",
      "118/118 [==============================] - 1s 5ms/step - loss: 0.4517 - accuracy: 0.8415\n",
      "Epoch 3/25\n",
      "118/118 [==============================] - 1s 5ms/step - loss: 0.4049 - accuracy: 0.8562\n",
      "Epoch 4/25\n",
      "118/118 [==============================] - 1s 5ms/step - loss: 0.3854 - accuracy: 0.8628\n",
      "Epoch 5/25\n",
      "118/118 [==============================] - 1s 5ms/step - loss: 0.3571 - accuracy: 0.8723\n",
      "Epoch 6/25\n",
      "118/118 [==============================] - 1s 5ms/step - loss: 0.3406 - accuracy: 0.8775\n",
      "Epoch 7/25\n",
      "118/118 [==============================] - 1s 5ms/step - loss: 0.3214 - accuracy: 0.8835\n",
      "Epoch 8/25\n",
      "118/118 [==============================] - 1s 5ms/step - loss: 0.3128 - accuracy: 0.8861\n",
      "Epoch 9/25\n",
      "118/118 [==============================] - 1s 5ms/step - loss: 0.3048 - accuracy: 0.8882\n",
      "Epoch 10/25\n",
      "118/118 [==============================] - 1s 5ms/step - loss: 0.2925 - accuracy: 0.8937\n",
      "Epoch 11/25\n",
      "118/118 [==============================] - 1s 5ms/step - loss: 0.2839 - accuracy: 0.8956\n",
      "Epoch 12/25\n",
      "118/118 [==============================] - 1s 5ms/step - loss: 0.2782 - accuracy: 0.8969\n",
      "Epoch 13/25\n",
      "118/118 [==============================] - 1s 5ms/step - loss: 0.2702 - accuracy: 0.8995\n",
      "Epoch 14/25\n",
      "118/118 [==============================] - 1s 5ms/step - loss: 0.2616 - accuracy: 0.9026\n",
      "Epoch 15/25\n",
      "118/118 [==============================] - 1s 5ms/step - loss: 0.2553 - accuracy: 0.9047\n",
      "Epoch 16/25\n",
      "118/118 [==============================] - 1s 5ms/step - loss: 0.2531 - accuracy: 0.9058\n",
      "Epoch 17/25\n",
      "118/118 [==============================] - 1s 5ms/step - loss: 0.2389 - accuracy: 0.9108\n",
      "Epoch 18/25\n",
      "118/118 [==============================] - 1s 5ms/step - loss: 0.2356 - accuracy: 0.9118\n",
      "Epoch 19/25\n",
      "118/118 [==============================] - 1s 5ms/step - loss: 0.2301 - accuracy: 0.9142\n",
      "Epoch 20/25\n",
      "118/118 [==============================] - 1s 5ms/step - loss: 0.2261 - accuracy: 0.9152\n",
      "Epoch 21/25\n",
      "118/118 [==============================] - 1s 5ms/step - loss: 0.2207 - accuracy: 0.9171\n",
      "Epoch 22/25\n",
      "118/118 [==============================] - 1s 5ms/step - loss: 0.2171 - accuracy: 0.9186\n",
      "Epoch 23/25\n",
      "118/118 [==============================] - 1s 5ms/step - loss: 0.2104 - accuracy: 0.9207\n",
      "Epoch 24/25\n",
      "118/118 [==============================] - 1s 5ms/step - loss: 0.2073 - accuracy: 0.9229\n",
      "Epoch 25/25\n",
      "118/118 [==============================] - 1s 5ms/step - loss: 0.2074 - accuracy: 0.9231\n",
      "1875/1875 [==============================] - 1s 671us/step - loss: 0.1987 - accuracy: 0.9248\n",
      "[0.19865372776985168, 0.9247666597366333]\n",
      "1875/1875 [==============================] - 1s 635us/step - loss: 0.1987 - accuracy: 0.9248\n",
      "Epoch 1/25\n",
      "59/59 [==============================] - 0s 8ms/step - loss: 1.0297 - accuracy: 0.6400\n",
      "Epoch 2/25\n",
      "59/59 [==============================] - 0s 7ms/step - loss: 0.5076 - accuracy: 0.8199\n",
      "Epoch 3/25\n",
      "59/59 [==============================] - 0s 7ms/step - loss: 0.4472 - accuracy: 0.8433\n",
      "Epoch 4/25\n",
      "59/59 [==============================] - 0s 7ms/step - loss: 0.4067 - accuracy: 0.8564\n",
      "Epoch 5/25\n",
      "59/59 [==============================] - 0s 7ms/step - loss: 0.3842 - accuracy: 0.8633\n",
      "Epoch 6/25\n",
      "59/59 [==============================] - 0s 7ms/step - loss: 0.3683 - accuracy: 0.8689\n",
      "Epoch 7/25\n",
      "59/59 [==============================] - 0s 7ms/step - loss: 0.3507 - accuracy: 0.8750\n",
      "Epoch 8/25\n",
      "59/59 [==============================] - 0s 7ms/step - loss: 0.3411 - accuracy: 0.8789\n",
      "Epoch 9/25\n",
      "59/59 [==============================] - 0s 8ms/step - loss: 0.3315 - accuracy: 0.8789\n",
      "Epoch 10/25\n",
      "59/59 [==============================] - 0s 7ms/step - loss: 0.3191 - accuracy: 0.8845\n",
      "Epoch 11/25\n",
      "59/59 [==============================] - 0s 7ms/step - loss: 0.3059 - accuracy: 0.8891: 0s - loss: 0.3001 - ac\n",
      "Epoch 12/25\n",
      "59/59 [==============================] - 0s 8ms/step - loss: 0.3030 - accuracy: 0.8903\n",
      "Epoch 13/25\n",
      "59/59 [==============================] - 0s 7ms/step - loss: 0.2957 - accuracy: 0.8923\n",
      "Epoch 14/25\n",
      "59/59 [==============================] - 0s 7ms/step - loss: 0.2876 - accuracy: 0.8955\n",
      "Epoch 15/25\n",
      "59/59 [==============================] - 0s 8ms/step - loss: 0.2761 - accuracy: 0.8985\n",
      "Epoch 16/25\n",
      "59/59 [==============================] - 0s 7ms/step - loss: 0.2704 - accuracy: 0.9017\n",
      "Epoch 17/25\n",
      "59/59 [==============================] - 0s 7ms/step - loss: 0.2651 - accuracy: 0.9036\n",
      "Epoch 18/25\n",
      "59/59 [==============================] - 0s 7ms/step - loss: 0.2596 - accuracy: 0.9047\n",
      "Epoch 19/25\n",
      "59/59 [==============================] - 0s 7ms/step - loss: 0.2591 - accuracy: 0.9044\n",
      "Epoch 20/25\n",
      "59/59 [==============================] - 0s 7ms/step - loss: 0.2544 - accuracy: 0.9068\n",
      "Epoch 21/25\n",
      "59/59 [==============================] - 0s 7ms/step - loss: 0.2477 - accuracy: 0.9085\n",
      "Epoch 22/25\n",
      "59/59 [==============================] - 0s 7ms/step - loss: 0.2432 - accuracy: 0.9091\n",
      "Epoch 23/25\n",
      "59/59 [==============================] - 0s 7ms/step - loss: 0.2395 - accuracy: 0.9105\n",
      "Epoch 24/25\n",
      "59/59 [==============================] - 0s 7ms/step - loss: 0.2380 - accuracy: 0.9125\n",
      "Epoch 25/25\n",
      "59/59 [==============================] - 0s 7ms/step - loss: 0.2314 - accuracy: 0.9155\n",
      "1875/1875 [==============================] - 1s 666us/step - loss: 0.2184 - accuracy: 0.9197\n",
      "[0.21838709712028503, 0.9197499752044678]\n",
      "1875/1875 [==============================] - 1s 660us/step - loss: 0.2184 - accuracy: 0.9197\n",
      "Epoch 1/25\n",
      "30/30 [==============================] - 0s 11ms/step - loss: 1.4728 - accuracy: 0.5346\n",
      "Epoch 2/25\n",
      "30/30 [==============================] - 0s 11ms/step - loss: 0.6372 - accuracy: 0.7785\n",
      "Epoch 3/25\n",
      "30/30 [==============================] - 0s 11ms/step - loss: 0.5087 - accuracy: 0.8245\n",
      "Epoch 4/25\n",
      "30/30 [==============================] - 0s 11ms/step - loss: 0.4617 - accuracy: 0.8395\n",
      "Epoch 5/25\n",
      "30/30 [==============================] - 0s 12ms/step - loss: 0.4265 - accuracy: 0.8523\n",
      "Epoch 6/25\n",
      "30/30 [==============================] - 0s 12ms/step - loss: 0.4091 - accuracy: 0.8561\n",
      "Epoch 7/25\n",
      "30/30 [==============================] - 0s 12ms/step - loss: 0.3894 - accuracy: 0.8628\n",
      "Epoch 8/25\n",
      "30/30 [==============================] - 0s 12ms/step - loss: 0.3680 - accuracy: 0.8718\n",
      "Epoch 9/25\n",
      "30/30 [==============================] - 0s 12ms/step - loss: 0.3581 - accuracy: 0.8735\n",
      "Epoch 10/25\n",
      "30/30 [==============================] - 0s 13ms/step - loss: 0.3533 - accuracy: 0.8748\n",
      "Epoch 11/25\n",
      "30/30 [==============================] - 0s 12ms/step - loss: 0.3361 - accuracy: 0.8806\n",
      "Epoch 12/25\n",
      "30/30 [==============================] - 0s 12ms/step - loss: 0.3292 - accuracy: 0.8827\n",
      "Epoch 13/25\n",
      "30/30 [==============================] - 0s 11ms/step - loss: 0.3202 - accuracy: 0.8850\n",
      "Epoch 14/25\n",
      "30/30 [==============================] - 0s 12ms/step - loss: 0.3151 - accuracy: 0.8867\n",
      "Epoch 15/25\n",
      "30/30 [==============================] - 0s 11ms/step - loss: 0.3054 - accuracy: 0.8891\n",
      "Epoch 16/25\n",
      "30/30 [==============================] - 0s 12ms/step - loss: 0.2997 - accuracy: 0.8921\n",
      "Epoch 17/25\n",
      "30/30 [==============================] - 0s 11ms/step - loss: 0.2947 - accuracy: 0.8937\n",
      "Epoch 18/25\n",
      "30/30 [==============================] - 0s 11ms/step - loss: 0.2931 - accuracy: 0.8935\n",
      "Epoch 19/25\n",
      "30/30 [==============================] - 0s 12ms/step - loss: 0.2898 - accuracy: 0.8950\n",
      "Epoch 20/25\n",
      "30/30 [==============================] - 0s 11ms/step - loss: 0.2792 - accuracy: 0.8995\n",
      "Epoch 21/25\n",
      "30/30 [==============================] - 0s 11ms/step - loss: 0.2819 - accuracy: 0.8966\n",
      "Epoch 22/25\n",
      "30/30 [==============================] - 0s 11ms/step - loss: 0.2709 - accuracy: 0.9024\n",
      "Epoch 23/25\n",
      "30/30 [==============================] - 0s 11ms/step - loss: 0.2668 - accuracy: 0.9026\n",
      "Epoch 24/25\n",
      "30/30 [==============================] - 0s 11ms/step - loss: 0.2622 - accuracy: 0.9046\n",
      "Epoch 25/25\n",
      "30/30 [==============================] - 0s 11ms/step - loss: 0.2647 - accuracy: 0.9030\n",
      "1875/1875 [==============================] - 1s 668us/step - loss: 0.2529 - accuracy: 0.9075\n",
      "[0.252876341342926, 0.9074666500091553]\n",
      "1875/1875 [==============================] - 1s 667us/step - loss: 0.2529 - accuracy: 0.9075\n",
      "Epoch 1/25\n",
      "15/15 [==============================] - 0s 19ms/step - loss: 1.8238 - accuracy: 0.3884\n",
      "Epoch 2/25\n",
      "15/15 [==============================] - 0s 19ms/step - loss: 0.8841 - accuracy: 0.7001\n",
      "Epoch 3/25\n",
      "15/15 [==============================] - 0s 19ms/step - loss: 0.6373 - accuracy: 0.7770\n",
      "Epoch 4/25\n",
      "15/15 [==============================] - 0s 19ms/step - loss: 0.5442 - accuracy: 0.8106\n",
      "Epoch 5/25\n",
      "15/15 [==============================] - 0s 21ms/step - loss: 0.4961 - accuracy: 0.8256\n",
      "Epoch 6/25\n",
      "15/15 [==============================] - 0s 19ms/step - loss: 0.4674 - accuracy: 0.8345\n",
      "Epoch 7/25\n",
      "15/15 [==============================] - 0s 19ms/step - loss: 0.4462 - accuracy: 0.8424\n",
      "Epoch 8/25\n",
      "15/15 [==============================] - 0s 20ms/step - loss: 0.4389 - accuracy: 0.8433\n",
      "Epoch 9/25\n",
      "15/15 [==============================] - 0s 19ms/step - loss: 0.4220 - accuracy: 0.8493\n",
      "Epoch 10/25\n",
      "15/15 [==============================] - 0s 20ms/step - loss: 0.4079 - accuracy: 0.8564\n",
      "Epoch 11/25\n",
      "15/15 [==============================] - 0s 21ms/step - loss: 0.3967 - accuracy: 0.8593\n",
      "Epoch 12/25\n",
      "15/15 [==============================] - 0s 21ms/step - loss: 0.3850 - accuracy: 0.8640\n",
      "Epoch 13/25\n",
      "15/15 [==============================] - 0s 19ms/step - loss: 0.3869 - accuracy: 0.8619\n",
      "Epoch 14/25\n",
      "15/15 [==============================] - 0s 22ms/step - loss: 0.3743 - accuracy: 0.8671\n",
      "Epoch 15/25\n",
      "15/15 [==============================] - 0s 20ms/step - loss: 0.3634 - accuracy: 0.8706\n",
      "Epoch 16/25\n",
      "15/15 [==============================] - 0s 20ms/step - loss: 0.3551 - accuracy: 0.8745\n",
      "Epoch 17/25\n",
      "15/15 [==============================] - 0s 19ms/step - loss: 0.3500 - accuracy: 0.8759\n",
      "Epoch 18/25\n",
      "15/15 [==============================] - 0s 19ms/step - loss: 0.3464 - accuracy: 0.8761\n",
      "Epoch 19/25\n",
      "15/15 [==============================] - 0s 19ms/step - loss: 0.3393 - accuracy: 0.8790\n",
      "Epoch 20/25\n",
      "15/15 [==============================] - 0s 19ms/step - loss: 0.3337 - accuracy: 0.8813\n",
      "Epoch 21/25\n",
      "15/15 [==============================] - 0s 19ms/step - loss: 0.3298 - accuracy: 0.8815\n",
      "Epoch 22/25\n",
      "15/15 [==============================] - 0s 21ms/step - loss: 0.3266 - accuracy: 0.8832\n",
      "Epoch 23/25\n",
      "15/15 [==============================] - 0s 19ms/step - loss: 0.3206 - accuracy: 0.8854\n",
      "Epoch 24/25\n",
      "15/15 [==============================] - 0s 20ms/step - loss: 0.3176 - accuracy: 0.8856\n",
      "Epoch 25/25\n",
      "15/15 [==============================] - 0s 18ms/step - loss: 0.3178 - accuracy: 0.8858\n"
     ]
    },
    {
     "name": "stdout",
     "output_type": "stream",
     "text": [
      "1875/1875 [==============================] - 1s 669us/step - loss: 0.3067 - accuracy: 0.8905\n",
      "[0.30674922466278076, 0.8904500007629395]\n",
      "1875/1875 [==============================] - 1s 654us/step - loss: 0.3067 - accuracy: 0.8905\n",
      "Epoch 1/25\n",
      "8/8 [==============================] - 0s 30ms/step - loss: 2.0471 - accuracy: 0.2615\n",
      "Epoch 2/25\n",
      "8/8 [==============================] - 0s 36ms/step - loss: 1.4166 - accuracy: 0.5773\n",
      "Epoch 3/25\n",
      "8/8 [==============================] - 0s 33ms/step - loss: 0.9584 - accuracy: 0.7111\n",
      "Epoch 4/25\n",
      "8/8 [==============================] - 0s 32ms/step - loss: 0.7646 - accuracy: 0.7462\n",
      "Epoch 5/25\n",
      "8/8 [==============================] - 0s 33ms/step - loss: 0.6656 - accuracy: 0.7766\n",
      "Epoch 6/25\n",
      "8/8 [==============================] - 0s 32ms/step - loss: 0.5821 - accuracy: 0.8022\n",
      "Epoch 7/25\n",
      "8/8 [==============================] - 0s 31ms/step - loss: 0.5313 - accuracy: 0.8182\n",
      "Epoch 8/25\n",
      "8/8 [==============================] - 0s 31ms/step - loss: 0.5061 - accuracy: 0.8231\n",
      "Epoch 9/25\n",
      "8/8 [==============================] - 0s 31ms/step - loss: 0.4793 - accuracy: 0.8328\n",
      "Epoch 10/25\n",
      "8/8 [==============================] - 0s 32ms/step - loss: 0.4637 - accuracy: 0.8385\n",
      "Epoch 11/25\n",
      "8/8 [==============================] - 0s 31ms/step - loss: 0.4496 - accuracy: 0.8428\n",
      "Epoch 12/25\n",
      "8/8 [==============================] - 0s 30ms/step - loss: 0.4363 - accuracy: 0.8473\n",
      "Epoch 13/25\n",
      "8/8 [==============================] - 0s 31ms/step - loss: 0.4239 - accuracy: 0.8508\n",
      "Epoch 14/25\n",
      "8/8 [==============================] - 0s 31ms/step - loss: 0.4165 - accuracy: 0.8537\n",
      "Epoch 15/25\n",
      "8/8 [==============================] - 0s 31ms/step - loss: 0.4118 - accuracy: 0.8538\n",
      "Epoch 16/25\n",
      "8/8 [==============================] - 0s 31ms/step - loss: 0.4153 - accuracy: 0.8515\n",
      "Epoch 17/25\n",
      "8/8 [==============================] - 0s 31ms/step - loss: 0.4070 - accuracy: 0.8561\n",
      "Epoch 18/25\n",
      "8/8 [==============================] - 0s 31ms/step - loss: 0.3972 - accuracy: 0.8585\n",
      "Epoch 19/25\n",
      "8/8 [==============================] - 0s 32ms/step - loss: 0.3929 - accuracy: 0.8620\n",
      "Epoch 20/25\n",
      "8/8 [==============================] - 0s 32ms/step - loss: 0.3837 - accuracy: 0.8643\n",
      "Epoch 21/25\n",
      "8/8 [==============================] - 0s 30ms/step - loss: 0.3740 - accuracy: 0.8683\n",
      "Epoch 22/25\n",
      "8/8 [==============================] - 0s 31ms/step - loss: 0.3665 - accuracy: 0.8713\n",
      "Epoch 23/25\n",
      "8/8 [==============================] - 0s 32ms/step - loss: 0.3634 - accuracy: 0.8712\n",
      "Epoch 24/25\n",
      "8/8 [==============================] - 0s 30ms/step - loss: 0.3591 - accuracy: 0.8732\n",
      "Epoch 25/25\n",
      "8/8 [==============================] - 0s 28ms/step - loss: 0.3562 - accuracy: 0.8744\n",
      "1875/1875 [==============================] - 1s 656us/step - loss: 0.3543 - accuracy: 0.8757\n",
      "[0.35431262850761414, 0.8756999969482422]\n",
      "1875/1875 [==============================] - 1s 718us/step - loss: 0.3543 - accuracy: 0.8757\n"
     ]
    },
    {
     "data": {
      "image/png": "[encoded data removed]",
      "text/plain": [
       "<Figure size 432x288 with 1 Axes>"
      ]
     },
     "metadata": {
      "needs_background": "light"
     },
     "output_type": "display_data"
    }
   ],
   "source": [
    "batch_size = []\n",
    "acc_value = []\n",
    "for i in range(4, 14):\n",
    "  batch_size.append(i)\n",
    "  acc_value.append(correr_modelo_mini_batch_2(2**i)[1])"
   ]
  },
  {
   "cell_type": "code",
   "execution_count": null,
   "metadata": {},
   "outputs": [],
   "source": [
    "plt.scatter(batch_size,acc_value)\n",
    "plt.show()"
   ]
  }
 ],
 "metadata": {
  "colab": {
   "collapsed_sections": [
    "wvZlwujoPbC_",
    "Q29yy2Y1NwWt",
    "6nhHOsPVhZhj",
    "s679voQCe0Qm",
    "x8SIrW1UhsbM",
    "y9VeLFKDimF5",
    "9R0ueHS3is-R",
    "NzCaDGvinQfp",
    "eIYBDmS5qjwB",
    "h1shEqJuYfdI",
    "dihYGtnHYdTh",
    "ViZ9Vs6Pq1Bn",
    "wgaAKvK4bi0q",
    "tx2xtLnjbuEC",
    "n-SUTwMmduGO",
    "6c3wZn7wiGFU",
    "l8Vsk6bbpP0I",
    "_UyzAFmNk0yT",
    "InhOT_v-odc3",
    "yMjJ7YLcpU8P",
    "WcSKvZz1l3kZ",
    "d0saXUcgoieh",
    "mvQSvgVqonwq",
    "p-PYYEOUEJ1I"
   ],
   "name": "Proyecto 222.ipynb",
   "provenance": [],
   "toc_visible": true
  },
  "kernelspec": {
   "display_name": "Python 3",
   "language": "python",
   "name": "python3"
  },
  "language_info": {
   "codemirror_mode": {
    "name": "ipython",
    "version": 3
   },
   "file_extension": ".py",
   "mimetype": "text/x-python",
   "name": "python",
   "nbconvert_exporter": "python",
   "pygments_lexer": "ipython3",
   "version": "3.8.6"
  }
 },
 "nbformat": 4,
 "nbformat_minor": 1
}
